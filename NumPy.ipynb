{
 "cells": [
  {
   "cell_type": "code",
   "execution_count": 4,
   "id": "cd12a4bb",
   "metadata": {},
   "outputs": [],
   "source": [
    "import numpy as np"
   ]
  },
  {
   "cell_type": "code",
   "execution_count": 5,
   "id": "6adf9c92",
   "metadata": {},
   "outputs": [
    {
     "name": "stdout",
     "output_type": "stream",
     "text": [
      "-1.0\n",
      "1.1\n",
      "5.2\n"
     ]
    }
   ],
   "source": [
    "print(np.cos(np.pi))\n",
    "print(np.sqrt(1.21))\n",
    "print(np.log(np.exp(5.2)))"
   ]
  },
  {
   "cell_type": "code",
   "execution_count": 6,
   "id": "5b4cd17e",
   "metadata": {},
   "outputs": [
    {
     "name": "stdout",
     "output_type": "stream",
     "text": [
      "[1 2 3]\n",
      "-----\n",
      "[[1 2 3]\n",
      " [4 5 6]\n",
      " [7 8 9]]\n",
      "-----\n",
      "[[1 4 7]\n",
      " [2 5 8]\n",
      " [3 6 9]]\n"
     ]
    }
   ],
   "source": [
    "#vector from list\n",
    "vec=np.array([1,2,3])\n",
    "print(vec)\n",
    "#matrices for list \n",
    "mat = np.array([[1,2,3],[4,5,6],[7,8,9]])\n",
    "print('-----')\n",
    "print(mat)\n",
    "print('-----')\n",
    "print(mat.T)"
   ]
  },
  {
   "cell_type": "code",
   "execution_count": 7,
   "id": "0c61d47a",
   "metadata": {},
   "outputs": [
    {
     "name": "stdout",
     "output_type": "stream",
     "text": [
      "[ 0  1  2  3  4  5  6  7  8  9 10 11 12 13 14]\n",
      "[ 3  9 15 21]\n"
     ]
    }
   ],
   "source": [
    "# Creating vector another method arange ( start , end, step) end is not included \n",
    "vec2=np.arange(0,15)\n",
    "print(vec2)\n",
    "#specifying step size in arange\n",
    "vec3=np.arange(3,27,6)\n",
    "print(vec3)"
   ]
  },
  {
   "cell_type": "code",
   "execution_count": 8,
   "id": "2dc60d23",
   "metadata": {},
   "outputs": [
    {
     "name": "stdout",
     "output_type": "stream",
     "text": [
      "[0.         0.55555556 1.11111111 1.66666667 2.22222222 2.77777778\n",
      " 3.33333333 3.88888889 4.44444444 5.        ]\n",
      "[[0.         0.55555556]\n",
      " [1.11111111 1.66666667]\n",
      " [2.22222222 2.77777778]\n",
      " [3.33333333 3.88888889]\n",
      " [4.44444444 5.        ]]\n"
     ]
    }
   ],
   "source": [
    "#linspace inclusive start and end create equal interval ( start, end, number of items between start and end)\n",
    "vec4=np.linspace(0,5,10)\n",
    "print(vec4)\n",
    "#reshape(row, column)\n",
    "print(vec4.reshape(5,2))"
   ]
  },
  {
   "cell_type": "code",
   "execution_count": 9,
   "id": "5027d4f3",
   "metadata": {},
   "outputs": [
    {
     "name": "stdout",
     "output_type": "stream",
     "text": [
      "[[0. 0. 0.]\n",
      " [0. 0. 0.]\n",
      " [0. 0. 0.]\n",
      " [0. 0. 0.]\n",
      " [0. 0. 0.]]\n",
      "[[1. 1. 1.]\n",
      " [1. 1. 1.]\n",
      " [1. 1. 1.]\n",
      " [1. 1. 1.]\n",
      " [1. 1. 1.]]\n",
      "[[1. 0. 0. 0. 0.]\n",
      " [0. 1. 0. 0. 0.]\n",
      " [0. 0. 1. 0. 0.]\n",
      " [0. 0. 0. 1. 0.]\n",
      " [0. 0. 0. 0. 1.]]\n"
     ]
    }
   ],
   "source": [
    "#zero matrix\n",
    "mat2=np.zeros([5,3])\n",
    "print(mat2)\n",
    "#ones matrix\n",
    "mat3=np.ones([5,3])\n",
    "print(mat3)\n",
    "#identity matrix since its a square matrix only one column is required\n",
    "mat4=np.eye(5)\n",
    "print(mat4)"
   ]
  },
  {
   "cell_type": "code",
   "execution_count": 10,
   "id": "c1f1aad6",
   "metadata": {},
   "outputs": [
    {
     "name": "stdout",
     "output_type": "stream",
     "text": [
      "[1 2 3 4 5 6 7]\n",
      "[3 4 5 6 7 8 9]\n",
      "[ 4  6  8 10 12 14 16]\n",
      "[ 3  8 15 24 35 48 63]\n",
      "[1.         0.5        0.33333333 0.25       0.2        0.16666667\n",
      " 0.14285714]\n",
      "[1.73205081 2.         2.23606798 2.44948974 2.64575131 2.82842712\n",
      " 3.        ]\n"
     ]
    }
   ],
   "source": [
    "#addion and subrtraction of arrays\n",
    "vec5=np.arange(1,8)\n",
    "vec6=np.arange(3,10)\n",
    "print(vec5)\n",
    "print(vec6)\n",
    "print(vec5+vec6)\n",
    "print(vec5*vec6)\n",
    "print(1/vec5)\n",
    "print(np.sqrt(vec6))"
   ]
  },
  {
   "cell_type": "code",
   "execution_count": 11,
   "id": "36f95fbe",
   "metadata": {},
   "outputs": [
    {
     "name": "stdout",
     "output_type": "stream",
     "text": [
      "[[1 2 3]\n",
      " [4 5 6]\n",
      " [7 8 9]]\n",
      "[1 2 3]\n",
      "[14 32 50]\n"
     ]
    }
   ],
   "source": [
    "#matrix multiplication\n",
    "print(mat)\n",
    "print(vec)\n",
    "product=np.matmul(mat,vec)\n",
    "print(product)"
   ]
  },
  {
   "cell_type": "code",
   "execution_count": 12,
   "id": "c1277949",
   "metadata": {},
   "outputs": [
    {
     "name": "stdout",
     "output_type": "stream",
     "text": [
      "[-0.8  5.6  1.2]\n"
     ]
    }
   ],
   "source": [
    "print(np.linalg.solve(mat,product))"
   ]
  },
  {
   "cell_type": "code",
   "execution_count": 13,
   "id": "77058614",
   "metadata": {},
   "outputs": [],
   "source": [
    "vecsol=np.array([-0.8 , 5.6,  1.2])"
   ]
  },
  {
   "cell_type": "code",
   "execution_count": 14,
   "id": "98532c85",
   "metadata": {},
   "outputs": [
    {
     "name": "stdout",
     "output_type": "stream",
     "text": [
      "[14. 32. 50.]\n"
     ]
    }
   ],
   "source": [
    "product2=np.matmul(mat,vecsol)\n",
    "print(product2)"
   ]
  },
  {
   "cell_type": "code",
   "execution_count": 15,
   "id": "a2ea4d23",
   "metadata": {},
   "outputs": [
    {
     "name": "stdout",
     "output_type": "stream",
     "text": [
      "[[ 3.15251974e+15 -6.30503948e+15  3.15251974e+15]\n",
      " [-6.30503948e+15  1.26100790e+16 -6.30503948e+15]\n",
      " [ 3.15251974e+15 -6.30503948e+15  3.15251974e+15]]\n"
     ]
    }
   ],
   "source": [
    "#invesrse of a matrix\n",
    "print(np.linalg.inv(mat))"
   ]
  },
  {
   "cell_type": "code",
   "execution_count": 16,
   "id": "dadfd00d",
   "metadata": {},
   "outputs": [
    {
     "name": "stdout",
     "output_type": "stream",
     "text": [
      "[[ 12.   16.   12. ]\n",
      " [-10.  -16.   -6. ]\n",
      " [  1.5   4.    2.5]]\n"
     ]
    }
   ],
   "source": [
    "print(np.matmul(np.linalg.inv(mat),mat))"
   ]
  },
  {
   "cell_type": "code",
   "execution_count": 17,
   "id": "433abb70",
   "metadata": {},
   "outputs": [
    {
     "name": "stdout",
     "output_type": "stream",
     "text": [
      "['blue' 'red' 'orange' 'purple' 'purple' 'orange' 'Red' '6']\n"
     ]
    }
   ],
   "source": [
    "#find out unique values in an array\n",
    "vec7=np.array(['blue','red','orange','purple','purple','orange','Red',6])\n",
    "print(vec7)\n",
    "#every entry in the array for numpy has to be same data type auto converts "
   ]
  },
  {
   "cell_type": "code",
   "execution_count": 18,
   "id": "b16d8eb4",
   "metadata": {},
   "outputs": [
    {
     "name": "stdout",
     "output_type": "stream",
     "text": [
      "['6' 'Red' 'blue' 'orange' 'purple' 'red']\n"
     ]
    }
   ],
   "source": [
    "print(np.unique(vec7))"
   ]
  },
  {
   "cell_type": "code",
   "execution_count": 19,
   "id": "c0ba0e67",
   "metadata": {},
   "outputs": [
    {
     "name": "stdout",
     "output_type": "stream",
     "text": [
      "[6. 7. 8.]\n"
     ]
    }
   ],
   "source": [
    "vec7_e=np.array([6,7,8.0])\n",
    "print(vec7_e)"
   ]
  },
  {
   "cell_type": "code",
   "execution_count": 32,
   "id": "ef03ab1c",
   "metadata": {},
   "outputs": [
    {
     "name": "stdout",
     "output_type": "stream",
     "text": [
      "[[0.21241286 0.95638616 0.83771219 0.62448201 0.11537589]\n",
      " [0.58815589 0.49815423 0.05200061 0.53909279 0.46463918]\n",
      " [0.73770866 0.25816512 0.67987598 0.07889392 0.05923796]\n",
      " [0.88233058 0.32615171 0.97756927 0.77333598 0.35425282]\n",
      " [0.25243221 0.19559491 0.47533804 0.369212   0.3922028 ]]\n",
      "\n",
      "[[-1.47299477  0.51112034  0.53637127  0.12547953 -1.36202641]\n",
      " [ 0.67730878  1.801253    0.9936483   0.14372381  1.82818462]\n",
      " [ 0.37868084  2.0258247   0.97490817 -1.3476588   1.56702633]\n",
      " [-0.8272471   0.1613421   2.3825726  -0.78461779 -1.42792125]\n",
      " [ 1.99087676  0.50278713 -0.17341499  1.13097518  0.72734424]\n",
      " [-0.82541982  0.83768007  1.14085648  1.05183597  2.22127305]\n",
      " [-0.37376319  2.04260505 -0.06964045  0.06647203 -3.85037542]\n",
      " [-2.20294041  1.31026636  0.93357573 -1.36456805 -0.44488865]\n",
      " [-1.66062131  0.14552951  0.58750342  0.19836348  0.05690711]\n",
      " [ 1.10981388 -0.45205893 -1.11302527  1.48177205 -0.26029078]]\n"
     ]
    }
   ],
   "source": [
    "#random matrix\n",
    "rand_mat=np.random.rand(5,5) #uniform random variable \n",
    "print(rand_mat)\n",
    "print('')\n",
    "rand_mat2=np.random.randn(10,5) #standard normal random\n",
    "print(rand_mat2)"
   ]
  },
  {
   "cell_type": "code",
   "execution_count": 34,
   "id": "7e7b1b6e",
   "metadata": {},
   "outputs": [
    {
     "name": "stdout",
     "output_type": "stream",
     "text": [
      "0.4680285505486285\n",
      "0.2326081701212533\n",
      "1.2647623061495046\n"
     ]
    }
   ],
   "source": [
    "#mean , std. deviation\n",
    "print(np.mean(rand_mat))\n",
    "print(np.mean(rand_mat2))\n",
    "print(np.std(rand_mat2))"
   ]
  },
  {
   "cell_type": "code",
   "execution_count": 35,
   "id": "8bc51e5e",
   "metadata": {},
   "outputs": [
    {
     "name": "stdout",
     "output_type": "stream",
     "text": [
      "-3.850375421048534\n",
      "2.3825725998931255\n"
     ]
    }
   ],
   "source": [
    "#Minimum and Maximum\n",
    "print(np.min(rand_mat2))\n",
    "print(np.max(rand_mat2))"
   ]
  },
  {
   "cell_type": "code",
   "execution_count": 38,
   "id": "3848613d",
   "metadata": {},
   "outputs": [
    {
     "name": "stdout",
     "output_type": "stream",
     "text": [
      "[-1.04031547 -0.2490956  -1.13725653 -0.21146442  0.80616397  0.02453691\n",
      " -1.14375397  0.17348999  0.0769856  -0.23762321  2.06988242 -0.21291156\n",
      "  1.19846212 -0.36085721  1.24106994  0.64675993  0.74620413  1.00572722\n",
      " -1.2927079 ]\n",
      "-1.1437539658043692\n"
     ]
    }
   ],
   "source": [
    "#how to access entries in numpy vector\n",
    "rand_vec=np.random.randn(19)\n",
    "print(rand_vec)\n",
    "print(rand_vec[6])"
   ]
  },
  {
   "cell_type": "code",
   "execution_count": 40,
   "id": "53d17de5",
   "metadata": {},
   "outputs": [
    {
     "name": "stdout",
     "output_type": "stream",
     "text": [
      "[ 0.80616397  0.02453691 -1.14375397  0.17348999  0.0769856 ]\n"
     ]
    }
   ],
   "source": [
    "# we can access multiple entries at once using:\n",
    "print(rand_vec[4:9]) # number to the right of : is exclusive"
   ]
  },
  {
   "cell_type": "code",
   "execution_count": 42,
   "id": "7987d324",
   "metadata": {},
   "outputs": [
    {
     "name": "stdout",
     "output_type": "stream",
     "text": [
      "[ 0  3  6  9 12]\n",
      "[-1.04031547 -0.21146442 -1.14375397 -0.23762321  1.19846212]\n"
     ]
    }
   ],
   "source": [
    "# we can also access non-consequtive entries using np.arange\n",
    "print(np.arange(0,15,3))\n",
    "print(rand_vec[np.arange(0,15,3)])"
   ]
  },
  {
   "cell_type": "code",
   "execution_count": 45,
   "id": "cbec382d",
   "metadata": {},
   "outputs": [
    {
     "name": "stdout",
     "output_type": "stream",
     "text": [
      "[[0.21241286 0.95638616 0.83771219 0.62448201 0.11537589]\n",
      " [0.58815589 0.49815423 0.05200061 0.53909279 0.46463918]\n",
      " [0.73770866 0.25816512 0.67987598 0.07889392 0.05923796]\n",
      " [0.88233058 0.32615171 0.97756927 0.77333598 0.35425282]\n",
      " [0.25243221 0.19559491 0.47533804 0.369212   0.3922028 ]]\n",
      "0.052000614275849344\n",
      "0.052000614275849344\n"
     ]
    }
   ],
   "source": [
    "print(rand_mat)\n",
    "print(rand_mat[1][2])\n",
    "print(rand_mat[1,2])#row index, column index "
   ]
  },
  {
   "cell_type": "code",
   "execution_count": 46,
   "id": "42ec8e96",
   "metadata": {},
   "outputs": [
    {
     "name": "stdout",
     "output_type": "stream",
     "text": [
      "[[0.95638616 0.83771219]\n",
      " [0.49815423 0.05200061]]\n"
     ]
    }
   ],
   "source": [
    "print(rand_mat[0:2,1:3])"
   ]
  },
  {
   "cell_type": "code",
   "execution_count": 51,
   "id": "0395648a",
   "metadata": {},
   "outputs": [
    {
     "name": "stdout",
     "output_type": "stream",
     "text": [
      "[-1.04031547 -0.2490956  -1.13725653  1.          2.          0.02453691\n",
      " -1.14375397  0.17348999  0.0769856  -0.23762321  2.06988242 -0.21291156\n",
      "  1.19846212 -0.36085721  1.24106994  0.64675993  0.74620413  1.00572722\n",
      " -1.2927079 ]\n",
      "[-1.04031547 -0.2490956  -1.13725653  4.          4.          0.02453691\n",
      " -1.14375397  0.17348999  0.0769856  -0.23762321  2.06988242 -0.21291156\n",
      "  1.19846212 -0.36085721  1.24106994  0.64675993  0.74620413  1.00572722\n",
      " -1.2927079 ]\n",
      "[-1.04031547 -0.2490956  -1.13725653  1.          2.          0.02453691\n",
      " -1.14375397  0.17348999  0.0769856  -0.23762321  2.06988242 -0.21291156\n",
      "  1.19846212 -0.36085721  1.24106994  0.64675993  0.74620413  1.00572722\n",
      " -1.2927079 ]\n"
     ]
    }
   ],
   "source": [
    "#lets change some values in array!\n",
    "print(rand_vec)\n",
    "rand_vec[3:5]=4\n",
    "print(rand_vec)\n",
    "rand_vec[3:5]=[1,2]\n",
    "print(rand_vec)"
   ]
  },
  {
   "cell_type": "code",
   "execution_count": 55,
   "id": "93a0570a",
   "metadata": {},
   "outputs": [
    {
     "name": "stdout",
     "output_type": "stream",
     "text": [
      "[[0.21241286 0.95638616 0.83771219 0.62448201 0.11537589]\n",
      " [0.58815589 0.49815423 0.05200061 0.         0.        ]\n",
      " [0.73770866 0.25816512 0.67987598 0.         0.        ]\n",
      " [0.88233058 0.32615171 0.97756927 0.77333598 0.35425282]\n",
      " [0.25243221 0.19559491 0.47533804 0.369212   0.3922028 ]]\n",
      "[[0.21241286 0.95638616 0.83771219 0.62448201 0.11537589]\n",
      " [0.58815589 0.49815423 0.05200061 0.         0.        ]\n",
      " [0.73770866 0.25816512 0.67987598 0.         0.        ]\n",
      " [0.88233058 0.32615171 0.97756927 0.         0.        ]\n",
      " [0.25243221 0.19559491 0.47533804 0.369212   0.3922028 ]]\n"
     ]
    }
   ],
   "source": [
    "print(rand_mat)\n",
    "rand_mat[1:4,3:5]=0\n",
    "print(rand_mat)"
   ]
  },
  {
   "cell_type": "code",
   "execution_count": 56,
   "id": "807da8fa",
   "metadata": {},
   "outputs": [
    {
     "name": "stdout",
     "output_type": "stream",
     "text": [
      "[[0.21241286 0.95638616 0.83771219]\n",
      " [0.58815589 0.49815423 0.05200061]]\n",
      "[[3.         3.         3.         0.62448201 0.11537589]\n",
      " [3.         3.         3.         0.         0.        ]\n",
      " [0.73770866 0.25816512 0.67987598 0.         0.        ]\n",
      " [0.88233058 0.32615171 0.97756927 0.         0.        ]\n",
      " [0.25243221 0.19559491 0.47533804 0.369212   0.3922028 ]]\n"
     ]
    }
   ],
   "source": [
    "sub_mat=rand_mat[0:2,0:3]\n",
    "print(sub_mat)\n",
    "sub_mat[:]=3\n",
    "print(rand_mat)"
   ]
  },
  {
   "cell_type": "code",
   "execution_count": 57,
   "id": "f5ac78cc",
   "metadata": {},
   "outputs": [
    {
     "name": "stdout",
     "output_type": "stream",
     "text": [
      "[[3. 3. 3.]\n",
      " [3. 3. 3.]]\n"
     ]
    }
   ],
   "source": [
    "print(sub_mat)"
   ]
  },
  {
   "cell_type": "code",
   "execution_count": 61,
   "id": "9de00af8",
   "metadata": {},
   "outputs": [
    {
     "name": "stdout",
     "output_type": "stream",
     "text": [
      "[[3. 3. 3.]\n",
      " [3. 3. 3.]]\n",
      "[[3. 3. 3.]\n",
      " [3. 3. 3.]]\n",
      "[[99. 99. 99.]\n",
      " [99. 99. 99.]]\n",
      "[[3.         3.         3.         0.62448201 0.11537589]\n",
      " [3.         3.         3.         0.         0.        ]\n",
      " [0.73770866 0.25816512 0.67987598 0.         0.        ]\n",
      " [0.88233058 0.32615171 0.97756927 0.         0.        ]\n",
      " [0.25243221 0.19559491 0.47533804 0.369212   0.3922028 ]]\n"
     ]
    }
   ],
   "source": [
    "sub_mat2=rand_mat[0:2,0:3].copy()\n",
    "print(sub_mat2)\n",
    "sub_mat2[:]=99\n",
    "print(sub_mat)\n",
    "print(sub_mat2)\n",
    "print(rand_mat)\n"
   ]
  },
  {
   "cell_type": "code",
   "execution_count": 64,
   "id": "93b4bcb1",
   "metadata": {},
   "outputs": [
    {
     "name": "stdout",
     "output_type": "stream",
     "text": [
      "[ 0.56594558  0.06277426 -0.94090112 -0.19227318 -2.06241706 -0.63061843\n",
      " -0.20372553 -1.46982045 -0.20158221  0.00213349 -0.32827739  0.03137264\n",
      "  1.07887974  1.04961296  0.2296209 ]\n",
      "[ True  True False False False False False False False  True False  True\n",
      "  True  True  True]\n",
      "[0.56594558 0.06277426 0.00213349 0.03137264 1.07887974 1.04961296\n",
      " 0.2296209 ]\n"
     ]
    }
   ],
   "source": [
    "#indexing with logicals \n",
    "rand_vec=np.random.randn(15)\n",
    "print(rand_vec)\n",
    "print(rand_vec>0)\n",
    "print(rand_vec[rand_vec>0])"
   ]
  },
  {
   "cell_type": "code",
   "execution_count": 65,
   "id": "10492f87",
   "metadata": {},
   "outputs": [
    {
     "name": "stdout",
     "output_type": "stream",
     "text": [
      "[[-1.47299477  0.51112034  0.53637127  0.12547953 -1.36202641]\n",
      " [ 0.67730878  1.801253    0.9936483   0.14372381  1.82818462]\n",
      " [ 0.37868084  2.0258247   0.97490817 -1.3476588   1.56702633]\n",
      " [-0.8272471   0.1613421   2.3825726  -0.78461779 -1.42792125]\n",
      " [ 1.99087676  0.50278713 -0.17341499  1.13097518  0.72734424]\n",
      " [-0.82541982  0.83768007  1.14085648  1.05183597  2.22127305]\n",
      " [-0.37376319  2.04260505 -0.06964045  0.06647203 -3.85037542]\n",
      " [-2.20294041  1.31026636  0.93357573 -1.36456805 -0.44488865]\n",
      " [-1.66062131  0.14552951  0.58750342  0.19836348  0.05690711]\n",
      " [ 1.10981388 -0.45205893 -1.11302527  1.48177205 -0.26029078]]\n"
     ]
    }
   ],
   "source": [
    "print(rand_mat2)"
   ]
  },
  {
   "cell_type": "code",
   "execution_count": 66,
   "id": "a60e6cd1",
   "metadata": {},
   "outputs": [
    {
     "name": "stdout",
     "output_type": "stream",
     "text": [
      "[0.51112034 0.53637127 0.12547953 0.67730878 1.801253   0.9936483\n",
      " 0.14372381 1.82818462 0.37868084 2.0258247  0.97490817 1.56702633\n",
      " 0.1613421  2.3825726  1.99087676 0.50278713 1.13097518 0.72734424\n",
      " 0.83768007 1.14085648 1.05183597 2.22127305 2.04260505 0.06647203\n",
      " 1.31026636 0.93357573 0.14552951 0.58750342 0.19836348 0.05690711\n",
      " 1.10981388 1.48177205]\n"
     ]
    }
   ],
   "source": [
    "print(rand_mat2[rand_mat2>0])"
   ]
  },
  {
   "cell_type": "code",
   "execution_count": 68,
   "id": "485425ea",
   "metadata": {},
   "outputs": [
    {
     "name": "stdout",
     "output_type": "stream",
     "text": [
      "[-5.00000000e+00  6.27742588e-02 -9.40901122e-01 -1.92273182e-01\n",
      " -2.06241706e+00 -6.30618429e-01 -2.03725529e-01 -1.46982045e+00\n",
      " -2.01582205e-01  2.13349479e-03 -3.28277393e-01  3.13726418e-02\n",
      " -5.00000000e+00 -5.00000000e+00  2.29620900e-01]\n",
      "\n",
      "[-5.00000000e+00  6.27742588e-02 -9.40901122e-01 -1.92273182e-01\n",
      " -2.06241706e+00 -6.30618429e-01 -2.03725529e-01 -1.46982045e+00\n",
      " -2.01582205e-01  2.13349479e-03 -3.28277393e-01  3.13726418e-02\n",
      " -5.00000000e+00 -5.00000000e+00  2.29620900e-01]\n"
     ]
    }
   ],
   "source": [
    "print(rand_vec)\n",
    "print('')\n",
    "rand_vec[rand_vec>0.5]=-5\n",
    "print(rand_vec)"
   ]
  },
  {
   "cell_type": "code",
   "execution_count": 69,
   "id": "44f94c52",
   "metadata": {},
   "outputs": [],
   "source": [
    "#just one np array npy ext\n",
    "np.save('saved_file_name',rand_mat2)"
   ]
  },
  {
   "cell_type": "code",
   "execution_count": 70,
   "id": "296342a1",
   "metadata": {},
   "outputs": [],
   "source": [
    "#more than one array you need to zip it in format given below\n",
    "np.savez('zipped_saved_file_name',rand_mat2=rand_mat2,rand_mat=rand_mat)"
   ]
  },
  {
   "cell_type": "code",
   "execution_count": 76,
   "id": "70a808d4",
   "metadata": {},
   "outputs": [
    {
     "name": "stdout",
     "output_type": "stream",
     "text": [
      "[[-1.47299477  0.51112034  0.53637127  0.12547953 -1.36202641]\n",
      " [ 0.67730878  1.801253    0.9936483   0.14372381  1.82818462]\n",
      " [ 0.37868084  2.0258247   0.97490817 -1.3476588   1.56702633]\n",
      " [-0.8272471   0.1613421   2.3825726  -0.78461779 -1.42792125]\n",
      " [ 1.99087676  0.50278713 -0.17341499  1.13097518  0.72734424]\n",
      " [-0.82541982  0.83768007  1.14085648  1.05183597  2.22127305]\n",
      " [-0.37376319  2.04260505 -0.06964045  0.06647203 -3.85037542]\n",
      " [-2.20294041  1.31026636  0.93357573 -1.36456805 -0.44488865]\n",
      " [-1.66062131  0.14552951  0.58750342  0.19836348  0.05690711]\n",
      " [ 1.10981388 -0.45205893 -1.11302527  1.48177205 -0.26029078]]\n",
      "\n",
      "<numpy.lib.npyio.NpzFile object at 0x7fe22779f250>\n"
     ]
    }
   ],
   "source": [
    "loaded_vec = np.load('saved_file_name.npy')\n",
    "loaded_zip = np.load('zipped_saved_file_name.npz')\n",
    "print(loaded_vec)\n",
    "print('')\n",
    "print(loaded_zip)"
   ]
  },
  {
   "cell_type": "code",
   "execution_count": 77,
   "id": "edd510eb",
   "metadata": {},
   "outputs": [
    {
     "name": "stdout",
     "output_type": "stream",
     "text": [
      "[[3.         3.         3.         0.62448201 0.11537589]\n",
      " [3.         3.         3.         0.         0.        ]\n",
      " [0.73770866 0.25816512 0.67987598 0.         0.        ]\n",
      " [0.88233058 0.32615171 0.97756927 0.         0.        ]\n",
      " [0.25243221 0.19559491 0.47533804 0.369212   0.3922028 ]]\n",
      "\n",
      "[[-1.47299477  0.51112034  0.53637127  0.12547953 -1.36202641]\n",
      " [ 0.67730878  1.801253    0.9936483   0.14372381  1.82818462]\n",
      " [ 0.37868084  2.0258247   0.97490817 -1.3476588   1.56702633]\n",
      " [-0.8272471   0.1613421   2.3825726  -0.78461779 -1.42792125]\n",
      " [ 1.99087676  0.50278713 -0.17341499  1.13097518  0.72734424]\n",
      " [-0.82541982  0.83768007  1.14085648  1.05183597  2.22127305]\n",
      " [-0.37376319  2.04260505 -0.06964045  0.06647203 -3.85037542]\n",
      " [-2.20294041  1.31026636  0.93357573 -1.36456805 -0.44488865]\n",
      " [-1.66062131  0.14552951  0.58750342  0.19836348  0.05690711]\n",
      " [ 1.10981388 -0.45205893 -1.11302527  1.48177205 -0.26029078]]\n"
     ]
    }
   ],
   "source": [
    "print(loaded_zip['rand_mat'])\n",
    "print('')\n",
    "print(loaded_zip['rand_mat2'])"
   ]
  },
  {
   "cell_type": "code",
   "execution_count": 78,
   "id": "2cec437f",
   "metadata": {},
   "outputs": [
    {
     "name": "stdout",
     "output_type": "stream",
     "text": [
      "[[3.         3.         3.         0.62448201 0.11537589]\n",
      " [3.         3.         3.         0.         0.        ]\n",
      " [0.73770866 0.25816512 0.67987598 0.         0.        ]\n",
      " [0.88233058 0.32615171 0.97756927 0.         0.        ]\n",
      " [0.25243221 0.19559491 0.47533804 0.369212   0.3922028 ]]\n",
      "\n",
      "[[3.         3.         3.         0.62448201 0.11537589]\n",
      " [3.         3.         3.         0.         0.        ]\n",
      " [0.73770866 0.25816512 0.67987598 0.         0.        ]\n",
      " [0.88233058 0.32615171 0.97756927 0.         0.        ]\n",
      " [0.25243221 0.19559491 0.47533804 0.369212   0.3922028 ]]\n"
     ]
    }
   ],
   "source": [
    "# we can also save/load as text files ... but only single variables \n",
    "np.savetxt('text_file_name.txt',rand_mat,delimiter=',')\n",
    "rand_mat_txt=np.loadtxt('text_file_name.txt',delimiter=',')\n",
    "print(rand_mat)\n",
    "print('')\n",
    "print(rand_mat_txt)"
   ]
  },
  {
   "cell_type": "code",
   "execution_count": null,
   "id": "c0219034",
   "metadata": {},
   "outputs": [],
   "source": []
  }
 ],
 "metadata": {
  "kernelspec": {
   "display_name": "Python 3",
   "language": "python",
   "name": "python3"
  },
  "language_info": {
   "codemirror_mode": {
    "name": "ipython",
    "version": 3
   },
   "file_extension": ".py",
   "mimetype": "text/x-python",
   "name": "python",
   "nbconvert_exporter": "python",
   "pygments_lexer": "ipython3",
   "version": "3.8.8"
  }
 },
 "nbformat": 4,
 "nbformat_minor": 5
}
