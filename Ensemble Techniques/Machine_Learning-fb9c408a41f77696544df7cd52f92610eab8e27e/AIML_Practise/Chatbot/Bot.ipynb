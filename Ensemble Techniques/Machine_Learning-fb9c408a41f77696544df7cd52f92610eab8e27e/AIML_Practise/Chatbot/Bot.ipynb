{
 "cells": [
  {
   "cell_type": "code",
   "execution_count": 2,
   "metadata": {},
   "outputs": [
    {
     "name": "stdout",
     "output_type": "stream",
     "text": [
      "[nltk_data] Downloading package punkt to\n",
      "[nltk_data]     /Users/barindersingh/nltk_data...\n",
      "[nltk_data]   Package punkt is already up-to-date!\n"
     ]
    }
   ],
   "source": [
    "import nltk\n",
    "from nltk.stem.lancaster import LancasterStemmer\n",
    "import numpy as np\n",
    "import tensorflow as tf\n",
    "import random\n",
    "import json\n",
    "nltk.download('punkt')\n",
    "\n",
    "stemmer = LancasterStemmer()"
   ]
  },
  {
   "cell_type": "code",
   "execution_count": 3,
   "metadata": {
    "collapsed": true
   },
   "outputs": [],
   "source": [
    "bot_file='GL Bot.json'\n",
    "with open(bot_file) as file:\n",
    "    data = json.load(file)"
   ]
  },
  {
   "cell_type": "code",
   "execution_count": 7,
   "metadata": {},
   "outputs": [
    {
     "data": {
      "text/plain": [
       "dict"
      ]
     },
     "execution_count": 7,
     "metadata": {},
     "output_type": "execute_result"
    }
   ],
   "source": [
    "type(data)"
   ]
  },
  {
   "cell_type": "code",
   "execution_count": 11,
   "metadata": {},
   "outputs": [
    {
     "data": {
      "text/plain": [
       "dict_keys(['intents'])"
      ]
     },
     "execution_count": 11,
     "metadata": {},
     "output_type": "execute_result"
    }
   ],
   "source": [
    "data.keys()"
   ]
  },
  {
   "cell_type": "code",
   "execution_count": 14,
   "metadata": {},
   "outputs": [
    {
     "data": {
      "text/plain": [
       "[{'context_set': '',\n",
       "  'patterns': ['hi',\n",
       "   'how are you',\n",
       "   'is anyone there',\n",
       "   'hello',\n",
       "   'whats up',\n",
       "   'hey',\n",
       "   'yo',\n",
       "   'listen',\n",
       "   'please help me',\n",
       "   'i am learner from',\n",
       "   'i belong to',\n",
       "   'aiml batch',\n",
       "   'aifl batch',\n",
       "   'i am from',\n",
       "   'my pm is',\n",
       "   'blended',\n",
       "   'online',\n",
       "   'i am from',\n",
       "   'hey ya',\n",
       "   'talking to you for first time'],\n",
       "  'responses': ['Hello! how can i help you ?'],\n",
       "  'tag': 'Intro'},\n",
       " {'context_set': '',\n",
       "  'patterns': ['thank you',\n",
       "   'thanks',\n",
       "   'cya',\n",
       "   'see you',\n",
       "   'later',\n",
       "   'see you later',\n",
       "   'goodbye',\n",
       "   'i am leaving',\n",
       "   'have a Good day',\n",
       "   'you helped me',\n",
       "   'thanks a lot',\n",
       "   'thanks a ton',\n",
       "   'you are the best',\n",
       "   'great help',\n",
       "   'too good',\n",
       "   'you are a good learning buddy'],\n",
       "  'responses': ['I hope I was able to assist you, Good Bye'],\n",
       "  'tag': 'Exit'},\n",
       " {'context_set': '',\n",
       "  'patterns': ['olympus',\n",
       "   'explain me how olympus works',\n",
       "   'I am not able to understand olympus',\n",
       "   'olympus window not working',\n",
       "   'no access to olympus',\n",
       "   'unable to see link in olympus',\n",
       "   'no link visible on olympus',\n",
       "   'whom to contact for olympus',\n",
       "   'lot of problem with olympus',\n",
       "   'olypus is not a good tool',\n",
       "   'lot of problems with olympus',\n",
       "   'how to use olympus',\n",
       "   'teach me olympus'],\n",
       "  'responses': ['Link: Olympus wiki'],\n",
       "  'tag': 'Olympus'},\n",
       " {'context_set': '',\n",
       "  'patterns': ['i am not able to understand svm',\n",
       "   'explain me how machine learning works',\n",
       "   'i am not able to understand naive bayes',\n",
       "   'i am not able to understand logistic regression',\n",
       "   'i am not able to understand ensemble techb=niques',\n",
       "   'i am not able to understand knn',\n",
       "   'i am not able to understand knn imputer',\n",
       "   'i am not able to understand cross validation',\n",
       "   'i am not able to understand boosting',\n",
       "   'i am not able to understand random forest',\n",
       "   'i am not able to understand ada boosting',\n",
       "   'i am not able to understand gradient boosting',\n",
       "   'machine learning',\n",
       "   'ML',\n",
       "   'SL',\n",
       "   'supervised learning',\n",
       "   'knn',\n",
       "   'logistic regression',\n",
       "   'regression',\n",
       "   'classification',\n",
       "   'naive bayes',\n",
       "   'nb',\n",
       "   'ensemble techniques',\n",
       "   'bagging',\n",
       "   'boosting',\n",
       "   'ada boosting',\n",
       "   'ada',\n",
       "   'gradient boosting',\n",
       "   'hyper parameters'],\n",
       "  'responses': ['Link: Machine Learning wiki '],\n",
       "  'tag': 'SL'},\n",
       " {'context_set': '',\n",
       "  'patterns': ['what is deep learning',\n",
       "   'unable to understand deep learning',\n",
       "   'explain me how deep learning works',\n",
       "   'i am not able to understand deep learning',\n",
       "   'not able to understand neural nets',\n",
       "   'very diffult to understand neural nets',\n",
       "   'unable to understand neural nets',\n",
       "   'ann',\n",
       "   'artificial intelligence',\n",
       "   'artificial neural networks',\n",
       "   'weights',\n",
       "   'activation function',\n",
       "   'hidden layers',\n",
       "   'softmax',\n",
       "   'sigmoid',\n",
       "   'relu',\n",
       "   'otimizer',\n",
       "   'forward propagation',\n",
       "   'backward propagation',\n",
       "   'epochs',\n",
       "   'epoch',\n",
       "   'what is an epoch',\n",
       "   'adam',\n",
       "   'sgd'],\n",
       "  'responses': ['Link: Neural Nets wiki'],\n",
       "  'tag': 'NN'},\n",
       " {'context_set': '',\n",
       "  'patterns': ['what is your name',\n",
       "   'who are you',\n",
       "   'name please',\n",
       "   'when are your hours of opertions',\n",
       "   'what are your working hours',\n",
       "   'hours of operation',\n",
       "   'working hours',\n",
       "   'hours'],\n",
       "  'responses': ['I am your virtual learning assistant'],\n",
       "  'tag': 'Bot'},\n",
       " {'context_set': '',\n",
       "  'patterns': ['what the hell',\n",
       "   'bloody stupid bot',\n",
       "   'do you think you are very smart',\n",
       "   'screw you',\n",
       "   'i hate you',\n",
       "   'you are stupid',\n",
       "   'jerk',\n",
       "   'you are a joke',\n",
       "   'useless piece of shit'],\n",
       "  'responses': ['Please use respectful words'],\n",
       "  'tag': 'Profane'},\n",
       " {'context_set': '',\n",
       "  'patterns': ['my problem is not solved',\n",
       "   'you did not help me',\n",
       "   'not a good solution',\n",
       "   'bad solution',\n",
       "   'not good solution',\n",
       "   'no help',\n",
       "   'wasted my time',\n",
       "   'useless bot',\n",
       "   'create a ticket'],\n",
       "  'responses': ['Tarnsferring the request to your PM'],\n",
       "  'tag': 'Ticket'}]"
      ]
     },
     "execution_count": 14,
     "metadata": {},
     "output_type": "execute_result"
    }
   ],
   "source": [
    "data['intents']"
   ]
  },
  {
   "cell_type": "code",
   "execution_count": 12,
   "metadata": {},
   "outputs": [
    {
     "data": {
      "text/plain": [
       "dict_values([[{'tag': 'Intro', 'patterns': ['hi', 'how are you', 'is anyone there', 'hello', 'whats up', 'hey', 'yo', 'listen', 'please help me', 'i am learner from', 'i belong to', 'aiml batch', 'aifl batch', 'i am from', 'my pm is', 'blended', 'online', 'i am from', 'hey ya', 'talking to you for first time'], 'responses': ['Hello! how can i help you ?'], 'context_set': ''}, {'tag': 'Exit', 'patterns': ['thank you', 'thanks', 'cya', 'see you', 'later', 'see you later', 'goodbye', 'i am leaving', 'have a Good day', 'you helped me', 'thanks a lot', 'thanks a ton', 'you are the best', 'great help', 'too good', 'you are a good learning buddy'], 'responses': ['I hope I was able to assist you, Good Bye'], 'context_set': ''}, {'tag': 'Olympus', 'patterns': ['olympus', 'explain me how olympus works', 'I am not able to understand olympus', 'olympus window not working', 'no access to olympus', 'unable to see link in olympus', 'no link visible on olympus', 'whom to contact for olympus', 'lot of problem with olympus', 'olypus is not a good tool', 'lot of problems with olympus', 'how to use olympus', 'teach me olympus'], 'responses': ['Link: Olympus wiki'], 'context_set': ''}, {'tag': 'SL', 'patterns': ['i am not able to understand svm', 'explain me how machine learning works', 'i am not able to understand naive bayes', 'i am not able to understand logistic regression', 'i am not able to understand ensemble techb=niques', 'i am not able to understand knn', 'i am not able to understand knn imputer', 'i am not able to understand cross validation', 'i am not able to understand boosting', 'i am not able to understand random forest', 'i am not able to understand ada boosting', 'i am not able to understand gradient boosting', 'machine learning', 'ML', 'SL', 'supervised learning', 'knn', 'logistic regression', 'regression', 'classification', 'naive bayes', 'nb', 'ensemble techniques', 'bagging', 'boosting', 'ada boosting', 'ada', 'gradient boosting', 'hyper parameters'], 'responses': ['Link: Machine Learning wiki '], 'context_set': ''}, {'tag': 'NN', 'patterns': ['what is deep learning', 'unable to understand deep learning', 'explain me how deep learning works', 'i am not able to understand deep learning', 'not able to understand neural nets', 'very diffult to understand neural nets', 'unable to understand neural nets', 'ann', 'artificial intelligence', 'artificial neural networks', 'weights', 'activation function', 'hidden layers', 'softmax', 'sigmoid', 'relu', 'otimizer', 'forward propagation', 'backward propagation', 'epochs', 'epoch', 'what is an epoch', 'adam', 'sgd'], 'responses': ['Link: Neural Nets wiki'], 'context_set': ''}, {'tag': 'Bot', 'patterns': ['what is your name', 'who are you', 'name please', 'when are your hours of opertions', 'what are your working hours', 'hours of operation', 'working hours', 'hours'], 'responses': ['I am your virtual learning assistant'], 'context_set': ''}, {'tag': 'Profane', 'patterns': ['what the hell', 'bloody stupid bot', 'do you think you are very smart', 'screw you', 'i hate you', 'you are stupid', 'jerk', 'you are a joke', 'useless piece of shit'], 'responses': ['Please use respectful words'], 'context_set': ''}, {'tag': 'Ticket', 'patterns': ['my problem is not solved', 'you did not help me', 'not a good solution', 'bad solution', 'not good solution', 'no help', 'wasted my time', 'useless bot', 'create a ticket'], 'responses': ['Tarnsferring the request to your PM'], 'context_set': ''}]])"
      ]
     },
     "execution_count": 12,
     "metadata": {},
     "output_type": "execute_result"
    }
   ],
   "source": [
    "data.values()"
   ]
  },
  {
   "cell_type": "code",
   "execution_count": 16,
   "metadata": {},
   "outputs": [
    {
     "name": "stdout",
     "output_type": "stream",
     "text": [
      "128 documents\n",
      "8 classes ['Bot', 'Exit', 'Intro', 'NN', 'Olympus', 'Profane', 'SL', 'Ticket']\n",
      "162 stem words ['Good', 'I', 'ML', 'SL', 'a', 'able', 'access', 'activation', 'ada', 'adam', 'aifl', 'aiml', 'am', 'an', 'ann', 'anyone', 'are', 'artificial', 'backward', 'bad', 'bagging', 'batch', 'bayes', 'belong', 'best', 'blended', 'bloody', 'boosting', 'bot', 'buddy', 'classification', 'contact', 'create', 'cross', 'cya', 'day', 'deep', 'did', 'diffult', 'do', 'ensemble', 'epoch', 'epochs', 'explain', 'first', 'for', 'forest', 'forward', 'from', 'function', 'good', 'goodbye', 'gradient', 'great', 'hate', 'have', 'hell', 'hello', 'help', 'helped', 'hey', 'hi', 'hidden', 'hours', 'how', 'hyper', 'i', 'imputer', 'in', 'intelligence', 'is', 'jerk', 'joke', 'knn', 'later', 'layers', 'learner', 'learning', 'leaving', 'link', 'listen', 'logistic', 'lot', 'machine', 'me', 'my', 'naive', 'name', 'nb', 'nets', 'networks', 'neural', 'no', 'not', 'of', 'olympus', 'olypus', 'on', 'online', 'operation', 'opertions', 'otimizer', 'parameters', 'piece', 'please', 'pm', 'problem', 'problems', 'propagation', 'random', 'regression', 'relu', 'screw', 'see', 'sgd', 'shit', 'sigmoid', 'smart', 'softmax', 'solution', 'solved', 'stupid', 'supervised', 'svm', 'talking', 'teach', 'techb=niques', 'techniques', 'thank', 'thanks', 'the', 'there', 'think', 'ticket', 'time', 'to', 'ton', 'too', 'tool', 'unable', 'understand', 'up', 'use', 'useless', 'validation', 'very', 'visible', 'wasted', 'weights', 'what', 'whats', 'when', 'who', 'whom', 'window', 'with', 'working', 'works', 'ya', 'yo', 'you', 'your']\n"
     ]
    }
   ],
   "source": [
    "words = []\n",
    "classes = []\n",
    "documents = []\n",
    "\n",
    "\n",
    "# loop through each sentence in our intents patterns\n",
    "for intent in data['intents']:\n",
    "    for pattern in intent['patterns']:\n",
    "        w = nltk.word_tokenize(pattern)\n",
    "        words.extend(w)\n",
    "        documents.append((w, intent['tag']))\n",
    "        if intent['tag'] not in classes:\n",
    "            classes.append(intent['tag'])\n",
    "\n",
    "# stem and lower each word and remove duplicates\n",
    "# words = [stemmer.stem(w.lower()) for w in words if w not in != '?']\n",
    "\n",
    "words = sorted(list(set(words)))\n",
    "\n",
    "# sort classes\n",
    "classes = sorted(list(set(classes)))\n",
    "\n",
    "# documents = combination between patterns and intents\n",
    "print (len(documents), \"documents\")\n",
    "\n",
    "# classes = intents\n",
    "print (len(classes), \"classes\", classes)\n",
    "\n",
    "# words = all words, vocabulary\n",
    "print (len(words), \"stem words\", words)"
   ]
  },
  {
   "cell_type": "code",
   "execution_count": null,
   "metadata": {
    "collapsed": true
   },
   "outputs": [],
   "source": []
  }
 ],
 "metadata": {
  "kernelspec": {
   "display_name": "Python 3",
   "language": "python",
   "name": "python3"
  },
  "language_info": {
   "codemirror_mode": {
    "name": "ipython",
    "version": 3
   },
   "file_extension": ".py",
   "mimetype": "text/x-python",
   "name": "python",
   "nbconvert_exporter": "python",
   "pygments_lexer": "ipython3",
   "version": "3.6.8"
  }
 },
 "nbformat": 4,
 "nbformat_minor": 2
}
