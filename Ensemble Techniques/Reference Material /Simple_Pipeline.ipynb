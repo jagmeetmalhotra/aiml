{
 "cells": [
  {
   "cell_type": "markdown",
   "metadata": {
    "colab_type": "text",
    "id": "QUmhA-ccrczH"
   },
   "source": [
    "# Data Set Information:\n",
    "\n",
    "Features are extracted from electric current drive signals. The drive has intact and defective components. This results in 11 different classes with different conditions. Each condition has been measured several times by 12 different operating conditions, this means by different speeds, load moments and load forces. The current signals are measured with a current probe and an oscilloscope on two phases.\n",
    "\n",
    "\n",
    "# Attribute Information:\n",
    "\n",
    "The Empirical Mode Decomposition (EMD) was used to generate a new database for the generation of features. The first three intrinsic mode functions (IMF) of the two phase currents and their residuals (RES) were used and broken down into sub-sequences. For each of this sub-sequences, the statistical features mean, standard deviation, skewness and kurtosis were calculated."
   ]
  },
  {
   "cell_type": "code",
   "execution_count": 1,
   "metadata": {
    "colab": {},
    "colab_type": "code",
    "id": "5nFvPpTJrczK"
   },
   "outputs": [],
   "source": [
    "%matplotlib inline\n",
    "import pandas as pd\n",
    "import numpy as np\n",
    "import matplotlib.pyplot as plt\n",
    "import seaborn as sns"
   ]
  },
  {
   "cell_type": "code",
   "execution_count": 2,
   "metadata": {
    "colab": {},
    "colab_type": "code",
    "id": "nuwJnIJcrczT",
    "outputId": "ac4c0851-c8d7-400b-8ff5-d92043c59f90",
    "scrolled": true
   },
   "outputs": [
    {
     "name": "stdout",
     "output_type": "stream",
     "text": [
      "(58509, 49)\n"
     ]
    },
    {
     "data": {
      "text/html": [
       "<div>\n",
       "<style scoped>\n",
       "    .dataframe tbody tr th:only-of-type {\n",
       "        vertical-align: middle;\n",
       "    }\n",
       "\n",
       "    .dataframe tbody tr th {\n",
       "        vertical-align: top;\n",
       "    }\n",
       "\n",
       "    .dataframe thead th {\n",
       "        text-align: right;\n",
       "    }\n",
       "</style>\n",
       "<table border=\"1\" class=\"dataframe\">\n",
       "  <thead>\n",
       "    <tr style=\"text-align: right;\">\n",
       "      <th></th>\n",
       "      <th>0</th>\n",
       "      <th>1</th>\n",
       "      <th>2</th>\n",
       "      <th>3</th>\n",
       "      <th>4</th>\n",
       "      <th>5</th>\n",
       "      <th>6</th>\n",
       "      <th>7</th>\n",
       "      <th>8</th>\n",
       "      <th>9</th>\n",
       "      <th>...</th>\n",
       "      <th>39</th>\n",
       "      <th>40</th>\n",
       "      <th>41</th>\n",
       "      <th>42</th>\n",
       "      <th>43</th>\n",
       "      <th>44</th>\n",
       "      <th>45</th>\n",
       "      <th>46</th>\n",
       "      <th>47</th>\n",
       "      <th>48</th>\n",
       "    </tr>\n",
       "  </thead>\n",
       "  <tbody>\n",
       "    <tr>\n",
       "      <th>0</th>\n",
       "      <td>-3.014600e-07</td>\n",
       "      <td>8.260300e-06</td>\n",
       "      <td>-0.000012</td>\n",
       "      <td>-0.000002</td>\n",
       "      <td>-1.438600e-06</td>\n",
       "      <td>-0.000021</td>\n",
       "      <td>0.031718</td>\n",
       "      <td>0.031710</td>\n",
       "      <td>0.031721</td>\n",
       "      <td>-0.032963</td>\n",
       "      <td>...</td>\n",
       "      <td>-0.63308</td>\n",
       "      <td>2.9646</td>\n",
       "      <td>8.1198</td>\n",
       "      <td>-1.4961</td>\n",
       "      <td>-1.4961</td>\n",
       "      <td>-1.4961</td>\n",
       "      <td>-1.4996</td>\n",
       "      <td>-1.4996</td>\n",
       "      <td>-1.4996</td>\n",
       "      <td>1</td>\n",
       "    </tr>\n",
       "    <tr>\n",
       "      <th>1</th>\n",
       "      <td>2.913200e-06</td>\n",
       "      <td>-5.247700e-06</td>\n",
       "      <td>0.000003</td>\n",
       "      <td>-0.000006</td>\n",
       "      <td>2.778900e-06</td>\n",
       "      <td>-0.000004</td>\n",
       "      <td>0.030804</td>\n",
       "      <td>0.030810</td>\n",
       "      <td>0.030806</td>\n",
       "      <td>-0.033520</td>\n",
       "      <td>...</td>\n",
       "      <td>-0.59314</td>\n",
       "      <td>7.6252</td>\n",
       "      <td>6.1690</td>\n",
       "      <td>-1.4967</td>\n",
       "      <td>-1.4967</td>\n",
       "      <td>-1.4967</td>\n",
       "      <td>-1.5005</td>\n",
       "      <td>-1.5005</td>\n",
       "      <td>-1.5005</td>\n",
       "      <td>1</td>\n",
       "    </tr>\n",
       "    <tr>\n",
       "      <th>2</th>\n",
       "      <td>-2.951700e-06</td>\n",
       "      <td>-3.184000e-06</td>\n",
       "      <td>-0.000016</td>\n",
       "      <td>-0.000001</td>\n",
       "      <td>-1.575300e-06</td>\n",
       "      <td>0.000017</td>\n",
       "      <td>0.032877</td>\n",
       "      <td>0.032880</td>\n",
       "      <td>0.032896</td>\n",
       "      <td>-0.029834</td>\n",
       "      <td>...</td>\n",
       "      <td>-0.63252</td>\n",
       "      <td>2.7784</td>\n",
       "      <td>5.3017</td>\n",
       "      <td>-1.4983</td>\n",
       "      <td>-1.4983</td>\n",
       "      <td>-1.4982</td>\n",
       "      <td>-1.4985</td>\n",
       "      <td>-1.4985</td>\n",
       "      <td>-1.4985</td>\n",
       "      <td>1</td>\n",
       "    </tr>\n",
       "    <tr>\n",
       "      <th>3</th>\n",
       "      <td>-1.322600e-06</td>\n",
       "      <td>8.820100e-06</td>\n",
       "      <td>-0.000016</td>\n",
       "      <td>-0.000005</td>\n",
       "      <td>-7.282900e-07</td>\n",
       "      <td>0.000004</td>\n",
       "      <td>0.029410</td>\n",
       "      <td>0.029401</td>\n",
       "      <td>0.029417</td>\n",
       "      <td>-0.030156</td>\n",
       "      <td>...</td>\n",
       "      <td>-0.62289</td>\n",
       "      <td>6.5534</td>\n",
       "      <td>6.2606</td>\n",
       "      <td>-1.4963</td>\n",
       "      <td>-1.4963</td>\n",
       "      <td>-1.4963</td>\n",
       "      <td>-1.4975</td>\n",
       "      <td>-1.4975</td>\n",
       "      <td>-1.4976</td>\n",
       "      <td>1</td>\n",
       "    </tr>\n",
       "    <tr>\n",
       "      <th>4</th>\n",
       "      <td>-6.836600e-08</td>\n",
       "      <td>5.666300e-07</td>\n",
       "      <td>-0.000026</td>\n",
       "      <td>-0.000006</td>\n",
       "      <td>-7.940600e-07</td>\n",
       "      <td>0.000013</td>\n",
       "      <td>0.030119</td>\n",
       "      <td>0.030119</td>\n",
       "      <td>0.030145</td>\n",
       "      <td>-0.031393</td>\n",
       "      <td>...</td>\n",
       "      <td>-0.63010</td>\n",
       "      <td>4.5155</td>\n",
       "      <td>9.5231</td>\n",
       "      <td>-1.4958</td>\n",
       "      <td>-1.4958</td>\n",
       "      <td>-1.4958</td>\n",
       "      <td>-1.4959</td>\n",
       "      <td>-1.4959</td>\n",
       "      <td>-1.4959</td>\n",
       "      <td>1</td>\n",
       "    </tr>\n",
       "  </tbody>\n",
       "</table>\n",
       "<p>5 rows × 49 columns</p>\n",
       "</div>"
      ],
      "text/plain": [
       "             0             1         2         3             4         5   \\\n",
       "0 -3.014600e-07  8.260300e-06 -0.000012 -0.000002 -1.438600e-06 -0.000021   \n",
       "1  2.913200e-06 -5.247700e-06  0.000003 -0.000006  2.778900e-06 -0.000004   \n",
       "2 -2.951700e-06 -3.184000e-06 -0.000016 -0.000001 -1.575300e-06  0.000017   \n",
       "3 -1.322600e-06  8.820100e-06 -0.000016 -0.000005 -7.282900e-07  0.000004   \n",
       "4 -6.836600e-08  5.666300e-07 -0.000026 -0.000006 -7.940600e-07  0.000013   \n",
       "\n",
       "         6         7         8         9   ...       39      40      41  \\\n",
       "0  0.031718  0.031710  0.031721 -0.032963  ... -0.63308  2.9646  8.1198   \n",
       "1  0.030804  0.030810  0.030806 -0.033520  ... -0.59314  7.6252  6.1690   \n",
       "2  0.032877  0.032880  0.032896 -0.029834  ... -0.63252  2.7784  5.3017   \n",
       "3  0.029410  0.029401  0.029417 -0.030156  ... -0.62289  6.5534  6.2606   \n",
       "4  0.030119  0.030119  0.030145 -0.031393  ... -0.63010  4.5155  9.5231   \n",
       "\n",
       "       42      43      44      45      46      47  48  \n",
       "0 -1.4961 -1.4961 -1.4961 -1.4996 -1.4996 -1.4996   1  \n",
       "1 -1.4967 -1.4967 -1.4967 -1.5005 -1.5005 -1.5005   1  \n",
       "2 -1.4983 -1.4983 -1.4982 -1.4985 -1.4985 -1.4985   1  \n",
       "3 -1.4963 -1.4963 -1.4963 -1.4975 -1.4975 -1.4976   1  \n",
       "4 -1.4958 -1.4958 -1.4958 -1.4959 -1.4959 -1.4959   1  \n",
       "\n",
       "[5 rows x 49 columns]"
      ]
     },
     "execution_count": 2,
     "metadata": {},
     "output_type": "execute_result"
    }
   ],
   "source": [
    "df = pd.read_csv('Sensorless_drive_diagnosis.txt', sep = ' ', header = None)\n",
    "print(df.shape)\n",
    "df.head()"
   ]
  },
  {
   "cell_type": "code",
   "execution_count": 3,
   "metadata": {
    "colab": {},
    "colab_type": "code",
    "id": "tr6zeTlprczb",
    "outputId": "8c533a36-d507-43af-b638-3ce26127b304"
   },
   "outputs": [
    {
     "data": {
      "image/png": "[encoded data removed]",
      "text/plain": [
       "<Figure size 720x432 with 2 Axes>"
      ]
     },
     "metadata": {
      "needs_background": "light"
     },
     "output_type": "display_data"
    }
   ],
   "source": [
    "plt.figure(figsize = (10,6))\n",
    "sns.heatmap(abs(df.corr()), vmin = 0, vmax = 1)\n",
    "plt.show()"
   ]
  },
  {
   "cell_type": "markdown",
   "metadata": {
    "colab_type": "text",
    "id": "eYr44SGErczi"
   },
   "source": [
    "- Lighter the cell, higher the correlation\n",
    "- There is a near 100% multi-collinearity among a few variables"
   ]
  },
  {
   "cell_type": "code",
   "execution_count": 4,
   "metadata": {
    "colab": {},
    "colab_type": "code",
    "id": "iGKrtNB1rczj",
    "outputId": "6b6499de-a931-4081-e5ad-0aef95ee20ea"
   },
   "outputs": [
    {
     "data": {
      "text/plain": [
       "array([0, 0, 0, 0, 0, 0, 0, 0, 0, 0, 0, 0, 0, 0, 0, 0, 0, 0, 0, 0, 0, 0,\n",
       "       0, 0, 0, 0, 0, 0, 0, 0, 0, 0, 0, 0, 0, 0, 0, 0, 0, 0, 0, 0, 0, 0,\n",
       "       0, 0, 0, 0, 0], dtype=int64)"
      ]
     },
     "execution_count": 4,
     "metadata": {},
     "output_type": "execute_result"
    }
   ],
   "source": [
    "np.array(df.isna().sum())"
   ]
  },
  {
   "cell_type": "markdown",
   "metadata": {
    "colab_type": "text",
    "id": "hVRxMJskrczp"
   },
   "source": [
    "- None of the columns have any missing values"
   ]
  },
  {
   "cell_type": "code",
   "execution_count": 5,
   "metadata": {
    "colab": {},
    "colab_type": "code",
    "id": "vDiYDXMSrczr",
    "outputId": "24399cb3-204a-4484-f743-840feb56032e"
   },
   "outputs": [
    {
     "data": {
      "text/plain": [
       "float64    48\n",
       "int64       1\n",
       "dtype: int64"
      ]
     },
     "execution_count": 5,
     "metadata": {},
     "output_type": "execute_result"
    }
   ],
   "source": [
    "df.dtypes.value_counts()"
   ]
  },
  {
   "cell_type": "markdown",
   "metadata": {
    "colab_type": "text",
    "id": "RxAbRN-crczy"
   },
   "source": [
    "- All the independent variables are float type and the dependent variable is of integer type"
   ]
  },
  {
   "cell_type": "code",
   "execution_count": 6,
   "metadata": {
    "colab": {},
    "colab_type": "code",
    "id": "zzhaNqwYrczz",
    "outputId": "482ace5f-3abd-49d7-f0db-fa22ab0a2f9c"
   },
   "outputs": [
    {
     "data": {
      "text/plain": [
       "11    5319\n",
       "10    5319\n",
       "9     5319\n",
       "8     5319\n",
       "7     5319\n",
       "6     5319\n",
       "5     5319\n",
       "4     5319\n",
       "3     5319\n",
       "2     5319\n",
       "1     5319\n",
       "Name: 48, dtype: int64"
      ]
     },
     "execution_count": 6,
     "metadata": {},
     "output_type": "execute_result"
    }
   ],
   "source": [
    "X = df.iloc[:,:-1]\n",
    "y = df.iloc[:, -1]\n",
    "y.value_counts()"
   ]
  },
  {
   "cell_type": "markdown",
   "metadata": {
    "colab_type": "text",
    "id": "SVln7F0Hrcz7"
   },
   "source": [
    "- We have a balance distribution of 11 classes"
   ]
  },
  {
   "cell_type": "code",
   "execution_count": 7,
   "metadata": {
    "colab": {},
    "colab_type": "code",
    "id": "K8W5Ou6Crcz9"
   },
   "outputs": [],
   "source": [
    "from sklearn.model_selection import train_test_split\n",
    "\n",
    "X_train, X_test, y_train, y_test = train_test_split(X, y, test_size=0.25, stratify = y, random_state=1)"
   ]
  },
  {
   "cell_type": "code",
   "execution_count": 8,
   "metadata": {
    "colab": {},
    "colab_type": "code",
    "id": "KOhx0ZrMrc0F"
   },
   "outputs": [],
   "source": [
    "from sklearn.preprocessing import StandardScaler\n",
    "\n",
    "scaler = StandardScaler()\n",
    "\n",
    "X_train = scaler.fit_transform(X_train)\n",
    "X_test = scaler.transform(X_test)"
   ]
  },
  {
   "cell_type": "code",
   "execution_count": 9,
   "metadata": {
    "colab": {},
    "colab_type": "code",
    "id": "6KraDY6Irc0K",
    "outputId": "902996df-130d-48ea-e70c-0caf2f3dc6e1"
   },
   "outputs": [
    {
     "data": {
      "text/plain": [
       "DecisionTreeClassifier(random_state=1)"
      ]
     },
     "execution_count": 9,
     "metadata": {},
     "output_type": "execute_result"
    }
   ],
   "source": [
    "from sklearn.tree import DecisionTreeClassifier\n",
    "\n",
    "dt = DecisionTreeClassifier(random_state=1)\n",
    "\n",
    "dt.fit(X_train, y_train)"
   ]
  },
  {
   "cell_type": "code",
   "execution_count": 10,
   "metadata": {
    "colab": {},
    "colab_type": "code",
    "id": "bvPWQrNYrc0R",
    "outputId": "3ed55b88-da62-462a-b140-d2b830db9c7f"
   },
   "outputs": [
    {
     "data": {
      "text/plain": [
       "0.9829094886519004"
      ]
     },
     "execution_count": 10,
     "metadata": {},
     "output_type": "execute_result"
    }
   ],
   "source": [
    "score1 = dt.score(X_test, y_test)\n",
    "score1"
   ]
  },
  {
   "cell_type": "code",
   "execution_count": 15,
   "metadata": {
    "colab": {},
    "colab_type": "code",
    "id": "Pr9pgtMKrc0Z",
    "outputId": "aa94f6b7-c849-4730-848d-ac0cc99e62d7"
   },
   "outputs": [
    {
     "data": {
      "image/png": "[encoded data removed]",
      "text/plain": [
       "<Figure size 720x360 with 2 Axes>"
      ]
     },
     "metadata": {
      "needs_background": "light"
     },
     "output_type": "display_data"
    }
   ],
   "source": [
    "from sklearn.metrics import confusion_matrix\n",
    "\n",
    "plt.figure(figsize=(10, 5))\n",
    "\n",
    "sns.heatmap(pd.DataFrame(confusion_matrix(dt.predict(X_test), y_test), \n",
    "                         index = range(1,12), columns = range(1,12)),\n",
    "            vmin = 0, cmap='Blues', annot=True, fmt='g')\n",
    "\n",
    "plt.show()"
   ]
  },
  {
   "cell_type": "code",
   "execution_count": 12,
   "metadata": {
    "colab": {},
    "colab_type": "code",
    "id": "CQ_N3wCKrc0i",
    "outputId": "ced17814-967b-4b1f-c645-881c05c7bcde"
   },
   "outputs": [
    {
     "name": "stdout",
     "output_type": "stream",
     "text": [
      "15\n"
     ]
    },
    {
     "data": {
      "text/html": [
       "<div>\n",
       "<style scoped>\n",
       "    .dataframe tbody tr th:only-of-type {\n",
       "        vertical-align: middle;\n",
       "    }\n",
       "\n",
       "    .dataframe tbody tr th {\n",
       "        vertical-align: top;\n",
       "    }\n",
       "\n",
       "    .dataframe thead th {\n",
       "        text-align: right;\n",
       "    }\n",
       "</style>\n",
       "<table border=\"1\" class=\"dataframe\">\n",
       "  <thead>\n",
       "    <tr style=\"text-align: right;\">\n",
       "      <th></th>\n",
       "      <th>importance</th>\n",
       "      <th>cummulative_importance</th>\n",
       "    </tr>\n",
       "    <tr>\n",
       "      <th>Feature</th>\n",
       "      <th></th>\n",
       "      <th></th>\n",
       "    </tr>\n",
       "  </thead>\n",
       "  <tbody>\n",
       "    <tr>\n",
       "      <th>10</th>\n",
       "      <td>0.339250</td>\n",
       "      <td>0.339250</td>\n",
       "    </tr>\n",
       "    <tr>\n",
       "      <th>6</th>\n",
       "      <td>0.156563</td>\n",
       "      <td>0.495813</td>\n",
       "    </tr>\n",
       "    <tr>\n",
       "      <th>11</th>\n",
       "      <td>0.135164</td>\n",
       "      <td>0.630977</td>\n",
       "    </tr>\n",
       "    <tr>\n",
       "      <th>8</th>\n",
       "      <td>0.101601</td>\n",
       "      <td>0.732578</td>\n",
       "    </tr>\n",
       "    <tr>\n",
       "      <th>24</th>\n",
       "      <td>0.042576</td>\n",
       "      <td>0.775154</td>\n",
       "    </tr>\n",
       "    <tr>\n",
       "      <th>12</th>\n",
       "      <td>0.021186</td>\n",
       "      <td>0.796340</td>\n",
       "    </tr>\n",
       "    <tr>\n",
       "      <th>19</th>\n",
       "      <td>0.019801</td>\n",
       "      <td>0.816141</td>\n",
       "    </tr>\n",
       "    <tr>\n",
       "      <th>21</th>\n",
       "      <td>0.019742</td>\n",
       "      <td>0.835883</td>\n",
       "    </tr>\n",
       "    <tr>\n",
       "      <th>35</th>\n",
       "      <td>0.019251</td>\n",
       "      <td>0.855134</td>\n",
       "    </tr>\n",
       "    <tr>\n",
       "      <th>7</th>\n",
       "      <td>0.018080</td>\n",
       "      <td>0.873214</td>\n",
       "    </tr>\n",
       "    <tr>\n",
       "      <th>31</th>\n",
       "      <td>0.017551</td>\n",
       "      <td>0.890765</td>\n",
       "    </tr>\n",
       "    <tr>\n",
       "      <th>15</th>\n",
       "      <td>0.016592</td>\n",
       "      <td>0.907357</td>\n",
       "    </tr>\n",
       "    <tr>\n",
       "      <th>23</th>\n",
       "      <td>0.013831</td>\n",
       "      <td>0.921188</td>\n",
       "    </tr>\n",
       "    <tr>\n",
       "      <th>27</th>\n",
       "      <td>0.012542</td>\n",
       "      <td>0.933730</td>\n",
       "    </tr>\n",
       "    <tr>\n",
       "      <th>9</th>\n",
       "      <td>0.008355</td>\n",
       "      <td>0.942084</td>\n",
       "    </tr>\n",
       "  </tbody>\n",
       "</table>\n",
       "</div>"
      ],
      "text/plain": [
       "         importance  cummulative_importance\n",
       "Feature                                    \n",
       "10         0.339250                0.339250\n",
       "6          0.156563                0.495813\n",
       "11         0.135164                0.630977\n",
       "8          0.101601                0.732578\n",
       "24         0.042576                0.775154\n",
       "12         0.021186                0.796340\n",
       "19         0.019801                0.816141\n",
       "21         0.019742                0.835883\n",
       "35         0.019251                0.855134\n",
       "7          0.018080                0.873214\n",
       "31         0.017551                0.890765\n",
       "15         0.016592                0.907357\n",
       "23         0.013831                0.921188\n",
       "27         0.012542                0.933730\n",
       "9          0.008355                0.942084"
      ]
     },
     "execution_count": 12,
     "metadata": {},
     "output_type": "execute_result"
    }
   ],
   "source": [
    "a = pd.DataFrame(dt.feature_importances_, columns = ['importance'], index=X.columns).sort_values('importance', ascending = False)\n",
    "a.index.name = 'Feature'\n",
    "a['cummulative_importance'] = np.cumsum(a.importance)\n",
    "most_imp = a[a['cummulative_importance'] <= .95]\n",
    "print(len(most_imp))\n",
    "most_imp"
   ]
  },
  {
   "cell_type": "markdown",
   "metadata": {
    "colab_type": "text",
    "id": "68eumuU1rc0o"
   },
   "source": [
    "- The above are variables sorted by their importances, based on how good a role they played in reducing the impurity at every split\n",
    "- The 15 features do almost 95% of the job\n",
    "- Try to train a DT model using only these 15 features and observe the performance\n",
    "- Let's consider only those features further on"
   ]
  },
  {
   "cell_type": "code",
   "execution_count": 13,
   "metadata": {
    "colab": {},
    "colab_type": "code",
    "id": "1_jthIVSrc0p",
    "outputId": "0a344824-61e2-48f1-bdc1-a6cabac6ef48"
   },
   "outputs": [
    {
     "data": {
      "text/plain": [
       "0.9799699207000273"
      ]
     },
     "execution_count": 13,
     "metadata": {},
     "output_type": "execute_result"
    }
   ],
   "source": [
    "from sklearn.svm import SVC\n",
    "\n",
    "svm = SVC(random_state=1)\n",
    "\n",
    "svm.fit(X_train[:, most_imp.index], y_train)\n",
    "\n",
    "score2 = svm.score(X_test[:, most_imp.index], y_test)\n",
    "\n",
    "score2"
   ]
  },
  {
   "cell_type": "code",
   "execution_count": 16,
   "metadata": {
    "colab": {},
    "colab_type": "code",
    "id": "p-2r5Rm5rc0u",
    "outputId": "4adab701-fb03-4351-afda-e57f862387c5"
   },
   "outputs": [
    {
     "data": {
      "image/png": "[encoded data removed]",
      "text/plain": [
       "<Figure size 720x360 with 2 Axes>"
      ]
     },
     "metadata": {
      "needs_background": "light"
     },
     "output_type": "display_data"
    }
   ],
   "source": [
    "plt.figure(figsize=(10, 5))\n",
    "\n",
    "sns.heatmap(pd.DataFrame(confusion_matrix(svm.predict(X_test[:, most_imp.index]), y_test), \n",
    "                         index = range(1,12), columns = range(1,12)),\n",
    "            vmin = 0, cmap='Blues', annot=True, fmt='g')\n",
    "\n",
    "plt.show()"
   ]
  },
  {
   "cell_type": "code",
   "execution_count": 22,
   "metadata": {
    "colab": {},
    "colab_type": "code",
    "id": "KXVwghoxrc00",
    "outputId": "2df4af32-15d3-491d-dc49-8686644d5ec7"
   },
   "outputs": [
    {
     "data": {
      "text/plain": [
       "0.9025840853158327"
      ]
     },
     "execution_count": 22,
     "metadata": {},
     "output_type": "execute_result"
    }
   ],
   "source": [
    "from sklearn.linear_model import LogisticRegression\n",
    "\n",
    "lr = LogisticRegression(random_state=1, multi_class = 'auto', solver = 'lbfgs', n_jobs=-1, max_iter = 10000 )\n",
    "\n",
    "lr.fit(X_train[:, most_imp.index], y_train)\n",
    "\n",
    "score3 = lr.score(X_test[:, most_imp.index], y_test)\n",
    "score3"
   ]
  },
  {
   "cell_type": "code",
   "execution_count": 16,
   "metadata": {
    "colab": {},
    "colab_type": "code",
    "id": "RMIGpJ3Mrc05",
    "outputId": "0d9203db-2816-4abe-c704-6a4c2df938d2"
   },
   "outputs": [
    {
     "data": {
      "image/png": "[encoded data removed]",
      "text/plain": [
       "<Figure size 720x360 with 2 Axes>"
      ]
     },
     "metadata": {
      "needs_background": "light"
     },
     "output_type": "display_data"
    }
   ],
   "source": [
    "plt.figure(figsize=(10, 5))\n",
    "\n",
    "sns.heatmap(pd.DataFrame(confusion_matrix(lr.predict(X_test[:, most_imp.index]), y_test), \n",
    "                         index = range(1,12), columns = range(1,12)),\n",
    "            vmin = 0, cmap='Blues', annot=True, fmt='g')\n",
    "\n",
    "plt.show()"
   ]
  },
  {
   "cell_type": "markdown",
   "metadata": {
    "colab_type": "text",
    "id": "-X_8vuBWrc1B"
   },
   "source": [
    "- We have seen the scores and confusion matrices of three models and the latter two have only used 15 attributes of all the attributes\n",
    "- Let's see if we can reduce the dimensions even further"
   ]
  },
  {
   "cell_type": "code",
   "execution_count": 17,
   "metadata": {
    "colab": {},
    "colab_type": "code",
    "id": "Cl9Mnxwhrc1D",
    "outputId": "608b919c-0d68-4864-c168-2f43f13507c2"
   },
   "outputs": [
    {
     "data": {
      "text/plain": [
       "PCA()"
      ]
     },
     "execution_count": 17,
     "metadata": {},
     "output_type": "execute_result"
    }
   ],
   "source": [
    "from sklearn.decomposition import PCA\n",
    "\n",
    "pca = PCA()\n",
    "\n",
    "pca.fit(X_train[:, most_imp.index])"
   ]
  },
  {
   "cell_type": "code",
   "execution_count": 18,
   "metadata": {
    "colab": {},
    "colab_type": "code",
    "id": "UXM9WQhHrc1J",
    "outputId": "09b854d4-e698-4289-e798-148d7295f013"
   },
   "outputs": [
    {
     "name": "stdout",
     "output_type": "stream",
     "text": [
      "[0.37962294 0.61738318 0.72311917 0.80677699 0.88402301 0.92571982\n",
      " 0.9589819  0.98730668 0.99999334 0.99999761 0.99999941 0.99999991\n",
      " 0.99999997 0.99999999 1.        ]\n"
     ]
    },
    {
     "data": {
      "image/png": "[encoded data removed]",
      "text/plain": [
       "<Figure size 720x360 with 1 Axes>"
      ]
     },
     "metadata": {
      "needs_background": "light"
     },
     "output_type": "display_data"
    }
   ],
   "source": [
    "print(np.cumsum(pca.explained_variance_ratio_))\n",
    "plt.figure(figsize=(10, 5))\n",
    "plt.plot(np.cumsum(pca.explained_variance_ratio_), '-o')\n",
    "plt.bar(x = range(0, len(pca.components_)), height = pca.explained_variance_ratio_)\n",
    "plt.title('Cummulative variance explained by the PCs')\n",
    "plt.ylabel('Explained variance')\n",
    "plt.xlabel('Components')\n",
    "plt.show()"
   ]
  },
  {
   "cell_type": "markdown",
   "metadata": {
    "colab_type": "text",
    "id": "zscO7L1Zrc1O"
   },
   "source": [
    "- The first 9 components explain 99% of the variance in the data\n",
    "- This reduces our mathematical space by about 40%"
   ]
  },
  {
   "cell_type": "code",
   "execution_count": 19,
   "metadata": {
    "colab": {},
    "colab_type": "code",
    "id": "aiVvAm3-rc1P",
    "outputId": "c4798008-7214-457c-f119-0a9ee313fa9f"
   },
   "outputs": [
    {
     "data": {
      "text/plain": [
       "PCA(n_components=9)"
      ]
     },
     "execution_count": 19,
     "metadata": {},
     "output_type": "execute_result"
    }
   ],
   "source": [
    "pca = PCA(n_components=9)\n",
    "\n",
    "pca.fit(X_train[:, most_imp.index])"
   ]
  },
  {
   "cell_type": "code",
   "execution_count": 20,
   "metadata": {
    "colab": {},
    "colab_type": "code",
    "id": "uFCpCHn_rc1U"
   },
   "outputs": [],
   "source": [
    "pc_train = pca.transform(X_train[:, most_imp.index])\n",
    "pc_test = pca.transform(X_test[:, most_imp.index])"
   ]
  },
  {
   "cell_type": "code",
   "execution_count": 23,
   "metadata": {
    "colab": {},
    "colab_type": "code",
    "id": "QX1rKXYDrc1Z"
   },
   "outputs": [],
   "source": [
    "dt = DecisionTreeClassifier(random_state=1)\n",
    "\n",
    "dt.fit(pc_train, y_train)\n",
    "\n",
    "score4 = dt.score(pc_test, y_test)\n",
    "\n",
    "\n",
    "svm = SVC(random_state=1, gamma = 'auto')\n",
    "\n",
    "svm.fit(pc_train, y_train)\n",
    "\n",
    "score5 = svm.score(pc_test, y_test)\n",
    "\n",
    "lr = LogisticRegression(random_state=1, multi_class = 'auto', solver = 'lbfgs', n_jobs=-1, max_iter = 10000 )\n",
    "\n",
    "lr.fit(pc_train, y_train)\n",
    "\n",
    "score6 = lr.score(pc_test, y_test)"
   ]
  },
  {
   "cell_type": "code",
   "execution_count": 24,
   "metadata": {
    "colab": {},
    "colab_type": "code",
    "id": "n0EC60bbrc1e",
    "outputId": "c497e350-ce43-4d0c-c411-543b6f114644"
   },
   "outputs": [
    {
     "data": {
      "text/plain": [
       "(0.9799699207000273, 0.9873530216024063, 0.9023106371342631)"
      ]
     },
     "execution_count": 24,
     "metadata": {},
     "output_type": "execute_result"
    }
   ],
   "source": [
    "score4, score5, score6"
   ]
  },
  {
   "cell_type": "code",
   "execution_count": 29,
   "metadata": {
    "colab": {},
    "colab_type": "code",
    "id": "rAN3tCLMrc1k"
   },
   "outputs": [],
   "source": [
    "from sklearn.pipeline import Pipeline\n",
    "\n",
    "svm = SVC(random_state=1, gamma = 'auto')\n",
    "\n",
    "pipe = Pipeline([('scaler', StandardScaler()), ('PCA', PCA(n_components = 9)), ('model', svm)])"
   ]
  },
  {
   "cell_type": "code",
   "execution_count": 30,
   "metadata": {
    "colab": {},
    "colab_type": "code",
    "id": "ncEbcleJrc1q",
    "outputId": "6d1fb32a-59b6-4171-a5ed-5537ade0199f"
   },
   "outputs": [
    {
     "data": {
      "text/plain": [
       "Pipeline(steps=[('scaler', StandardScaler()), ('PCA', PCA(n_components=9)),\n",
       "                ('model', SVC(gamma='auto', random_state=1))])"
      ]
     },
     "execution_count": 30,
     "metadata": {},
     "output_type": "execute_result"
    }
   ],
   "source": [
    "pipe.fit(X_train[:, most_imp.index], y_train)"
   ]
  },
  {
   "cell_type": "code",
   "execution_count": 32,
   "metadata": {
    "colab": {},
    "colab_type": "code",
    "id": "vOjuEFfgrc1x"
   },
   "outputs": [
    {
     "data": {
      "text/plain": [
       "0.9873530216024063"
      ]
     },
     "execution_count": 32,
     "metadata": {},
     "output_type": "execute_result"
    }
   ],
   "source": [
    "score7 = pipe.score(X_test[:, most_imp.index], y_test)\n",
    "score7"
   ]
  },
  {
   "cell_type": "code",
   "execution_count": 28,
   "metadata": {
    "colab": {},
    "colab_type": "code",
    "id": "-a081LNurc12",
    "outputId": "cd5ec60d-0dd2-4df1-d409-e99984a35235"
   },
   "outputs": [
    {
     "data": {
      "text/html": [
       "<div>\n",
       "<style scoped>\n",
       "    .dataframe tbody tr th:only-of-type {\n",
       "        vertical-align: middle;\n",
       "    }\n",
       "\n",
       "    .dataframe tbody tr th {\n",
       "        vertical-align: top;\n",
       "    }\n",
       "\n",
       "    .dataframe thead th {\n",
       "        text-align: right;\n",
       "    }\n",
       "</style>\n",
       "<table border=\"1\" class=\"dataframe\">\n",
       "  <thead>\n",
       "    <tr style=\"text-align: right;\">\n",
       "      <th></th>\n",
       "      <th>Accuracy</th>\n",
       "    </tr>\n",
       "  </thead>\n",
       "  <tbody>\n",
       "    <tr>\n",
       "      <th>Decision Tree with all attributes</th>\n",
       "      <td>0.982909</td>\n",
       "    </tr>\n",
       "    <tr>\n",
       "      <th>SVM(imp attr)</th>\n",
       "      <td>0.979970</td>\n",
       "    </tr>\n",
       "    <tr>\n",
       "      <th>Logistic Regression(imp attr)</th>\n",
       "      <td>0.902584</td>\n",
       "    </tr>\n",
       "    <tr>\n",
       "      <th>DT(PCs)</th>\n",
       "      <td>0.979970</td>\n",
       "    </tr>\n",
       "    <tr>\n",
       "      <th>SVM(PCs)</th>\n",
       "      <td>0.987353</td>\n",
       "    </tr>\n",
       "    <tr>\n",
       "      <th>Pipline with SVM</th>\n",
       "      <td>0.902311</td>\n",
       "    </tr>\n",
       "  </tbody>\n",
       "</table>\n",
       "</div>"
      ],
      "text/plain": [
       "                                   Accuracy\n",
       "Decision Tree with all attributes  0.982909\n",
       "SVM(imp attr)                      0.979970\n",
       "Logistic Regression(imp attr)      0.902584\n",
       "DT(PCs)                            0.979970\n",
       "SVM(PCs)                           0.987353\n",
       "Pipline with SVM                   0.902311"
      ]
     },
     "execution_count": 28,
     "metadata": {},
     "output_type": "execute_result"
    }
   ],
   "source": [
    "pd.DataFrame([score1, score2, score3, score4, score5, score6],\n",
    "             index = ['Decision Tree with all attributes', 'SVM(imp attr)', 'Logistic Regression(imp attr)','DT(PCs)',\n",
    "                      'SVM(PCs)', 'Pipline with SVM' ], columns = ['Accuracy'])"
   ]
  },
  {
   "cell_type": "code",
   "execution_count": null,
   "metadata": {},
   "outputs": [],
   "source": []
  }
 ],
 "metadata": {
  "colab": {
   "name": "Pipeline.ipynb",
   "provenance": []
  },
  "kernelspec": {
   "display_name": "Python 3",
   "language": "python",
   "name": "python3"
  },
  "language_info": {
   "codemirror_mode": {
    "name": "ipython",
    "version": 3
   },
   "file_extension": ".py",
   "mimetype": "text/x-python",
   "name": "python",
   "nbconvert_exporter": "python",
   "pygments_lexer": "ipython3",
   "version": "3.8.5"
  }
 },
 "nbformat": 4,
 "nbformat_minor": 1
}
