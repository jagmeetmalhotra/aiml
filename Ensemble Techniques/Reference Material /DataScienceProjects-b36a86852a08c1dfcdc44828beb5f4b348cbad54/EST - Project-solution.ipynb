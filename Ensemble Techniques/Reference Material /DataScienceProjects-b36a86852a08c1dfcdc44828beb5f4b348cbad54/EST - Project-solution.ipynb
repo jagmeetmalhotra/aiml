{
 "cells": [
  {
   "cell_type": "markdown",
   "metadata": {},
   "source": [
    "# Import and warehouse data:"
   ]
  },
  {
   "cell_type": "markdown",
   "metadata": {},
   "source": [
    "• Import all the given datasets. Explore shape and size.\n",
    "\n",
    "• Merge all datasets onto one and explore final shape and size."
   ]
  },
  {
   "cell_type": "code",
   "execution_count": 1,
   "metadata": {},
   "outputs": [],
   "source": [
    "# importing all required libraries \n",
    "import pandas as pd\n",
    "import numpy as np\n",
    "import matplotlib.pyplot as plt\n",
    "import seaborn as sns\n",
    "%matplotlib inline"
   ]
  },
  {
   "cell_type": "code",
   "execution_count": 2,
   "metadata": {},
   "outputs": [
    {
     "name": "stdout",
     "output_type": "stream",
     "text": [
      "The dataset df1 has a shape of (7043, 10) and a size of 70430\n",
      "The dataset df2 has a shape of (7043, 11) and a size of 77473\n"
     ]
    }
   ],
   "source": [
    "# loading both the datasets \n",
    "df1 = pd.read_csv('TelcomCustomer-Churn_1.csv')\n",
    "df2 = pd.read_csv('TelcomCustomer-Churn_2.csv')\n",
    "\n",
    "print(f'The dataset df1 has a shape of {df1.shape} and a size of {df1.size}')\n",
    "print(f'The dataset df2 has a shape of {df2.shape} and a size of {df2.size}')"
   ]
  },
  {
   "cell_type": "code",
   "execution_count": 3,
   "metadata": {},
   "outputs": [
    {
     "name": "stdout",
     "output_type": "stream",
     "text": [
      "Index(['customerID', 'gender', 'SeniorCitizen', 'Partner', 'Dependents',\n",
      "       'tenure', 'PhoneService', 'MultipleLines', 'InternetService',\n",
      "       'OnlineSecurity'],\n",
      "      dtype='object')\n",
      "Index(['OnlineBackup', 'DeviceProtection', 'TechSupport', 'StreamingTV',\n",
      "       'StreamingMovies', 'Contract', 'PaperlessBilling', 'PaymentMethod',\n",
      "       'MonthlyCharges', 'TotalCharges', 'Churn'],\n",
      "      dtype='object')\n"
     ]
    }
   ],
   "source": [
    "# looking at the columns to determine how to combine both the datasets\n",
    "print(df1.columns)\n",
    "print(df2.columns)"
   ]
  },
  {
   "cell_type": "code",
   "execution_count": 4,
   "metadata": {},
   "outputs": [
    {
     "name": "stdout",
     "output_type": "stream",
     "text": [
      "The dataset df has a shape of (7043, 21) and a size of 147903\n"
     ]
    }
   ],
   "source": [
    "# both datasets seems to be of the same customers with no common column.\n",
    "# Therefore we will concatenate the columns\n",
    "df = pd.concat([df1,df2], axis = 1)\n",
    "print(f'The dataset df has a shape of {df.shape} and a size of {df.size}')"
   ]
  },
  {
   "cell_type": "code",
   "execution_count": 5,
   "metadata": {},
   "outputs": [
    {
     "name": "stdout",
     "output_type": "stream",
     "text": [
      "   customerID  gender  SeniorCitizen Partner Dependents  tenure PhoneService  \\\n",
      "0  7590-VHVEG  Female              0     Yes         No       1           No   \n",
      "1  5575-GNVDE    Male              0      No         No      34          Yes   \n",
      "2  3668-QPYBK    Male              0      No         No       2          Yes   \n",
      "3  7795-CFOCW    Male              0      No         No      45           No   \n",
      "4  9237-HQITU  Female              0      No         No       2          Yes   \n",
      "\n",
      "      MultipleLines InternetService OnlineSecurity  ... DeviceProtection  \\\n",
      "0  No phone service             DSL             No  ...               No   \n",
      "1                No             DSL            Yes  ...              Yes   \n",
      "2                No             DSL            Yes  ...               No   \n",
      "3  No phone service             DSL            Yes  ...              Yes   \n",
      "4                No     Fiber optic             No  ...               No   \n",
      "\n",
      "  TechSupport StreamingTV StreamingMovies        Contract PaperlessBilling  \\\n",
      "0          No          No              No  Month-to-month              Yes   \n",
      "1          No          No              No        One year               No   \n",
      "2          No          No              No  Month-to-month              Yes   \n",
      "3         Yes          No              No        One year               No   \n",
      "4          No          No              No  Month-to-month              Yes   \n",
      "\n",
      "               PaymentMethod MonthlyCharges  TotalCharges Churn  \n",
      "0           Electronic check          29.85         29.85    No  \n",
      "1               Mailed check          56.95        1889.5    No  \n",
      "2               Mailed check          53.85        108.15   Yes  \n",
      "3  Bank transfer (automatic)          42.30       1840.75    No  \n",
      "4           Electronic check          70.70        151.65   Yes  \n",
      "\n",
      "[5 rows x 21 columns]\n"
     ]
    }
   ],
   "source": [
    "# looking at the top 5 rows\n",
    "print(df.head())"
   ]
  },
  {
   "cell_type": "markdown",
   "metadata": {},
   "source": [
    "# Data cleansing: "
   ]
  },
  {
   "cell_type": "markdown",
   "metadata": {},
   "source": [
    "• Missing value treatment\n",
    "\n",
    "• Convert categorical attributes to continuous using relevant functional knowledge\n",
    "\n",
    "• Drop attribute/s if required using relevant functional knowledge\n",
    "\n",
    "• Automate all the above steps"
   ]
  },
  {
   "cell_type": "code",
   "execution_count": 6,
   "metadata": {},
   "outputs": [],
   "source": [
    "# replacing all the commonly known dummy fillers with nan values\n",
    "df.replace(to_replace=[' ','-','NA','na',],value=np.NaN, inplace=True)"
   ]
  },
  {
   "cell_type": "code",
   "execution_count": 7,
   "metadata": {},
   "outputs": [
    {
     "data": {
      "text/plain": [
       "customerID           0\n",
       "gender               0\n",
       "SeniorCitizen        0\n",
       "Partner              0\n",
       "Dependents           0\n",
       "tenure               0\n",
       "PhoneService         0\n",
       "MultipleLines        0\n",
       "InternetService      0\n",
       "OnlineSecurity       0\n",
       "OnlineBackup         0\n",
       "DeviceProtection     0\n",
       "TechSupport          0\n",
       "StreamingTV          0\n",
       "StreamingMovies      0\n",
       "Contract             0\n",
       "PaperlessBilling     0\n",
       "PaymentMethod        0\n",
       "MonthlyCharges       0\n",
       "TotalCharges        11\n",
       "Churn                0\n",
       "dtype: int64"
      ]
     },
     "execution_count": 7,
     "metadata": {},
     "output_type": "execute_result"
    }
   ],
   "source": [
    "# calculating the total null values in each column\n",
    "df.isna().sum()"
   ]
  },
  {
   "cell_type": "code",
   "execution_count": 8,
   "metadata": {},
   "outputs": [
    {
     "name": "stdout",
     "output_type": "stream",
     "text": [
      "Total data lost after dropping = 0.15618344455487718 %\n"
     ]
    }
   ],
   "source": [
    "# only TotalCharges column has 11 null values. Since it is a small number, we can drop the rows\n",
    "\n",
    "original_size=df.size\n",
    "\n",
    "df.dropna(axis=0, inplace=True)\n",
    "\n",
    "final_size=df.size\n",
    "\n",
    "print(f'Total data lost after dropping = {(original_size-final_size)*100/original_size} %')"
   ]
  },
  {
   "cell_type": "code",
   "execution_count": 9,
   "metadata": {},
   "outputs": [],
   "source": [
    "# the column 'customerID' has no significance in the churn outcome and hence can be dropped\n",
    "df.drop('customerID', inplace=True, axis=1)"
   ]
  },
  {
   "cell_type": "code",
   "execution_count": 10,
   "metadata": {},
   "outputs": [
    {
     "data": {
      "text/plain": [
       "gender               object\n",
       "SeniorCitizen         int64\n",
       "Partner              object\n",
       "Dependents           object\n",
       "tenure                int64\n",
       "PhoneService         object\n",
       "MultipleLines        object\n",
       "InternetService      object\n",
       "OnlineSecurity       object\n",
       "OnlineBackup         object\n",
       "DeviceProtection     object\n",
       "TechSupport          object\n",
       "StreamingTV          object\n",
       "StreamingMovies      object\n",
       "Contract             object\n",
       "PaperlessBilling     object\n",
       "PaymentMethod        object\n",
       "MonthlyCharges      float64\n",
       "TotalCharges         object\n",
       "Churn                object\n",
       "dtype: object"
      ]
     },
     "execution_count": 10,
     "metadata": {},
     "output_type": "execute_result"
    }
   ],
   "source": [
    "df.dtypes"
   ]
  },
  {
   "cell_type": "code",
   "execution_count": 11,
   "metadata": {},
   "outputs": [
    {
     "name": "stdout",
     "output_type": "stream",
     "text": [
      "gender ['Female' 'Male']\n",
      "-------------------------------------------------------\n",
      "SeniorCitizen [0 1]\n",
      "-------------------------------------------------------\n",
      "Partner ['Yes' 'No']\n",
      "-------------------------------------------------------\n",
      "Dependents ['No' 'Yes']\n",
      "-------------------------------------------------------\n",
      "tenure [ 1 34  2 45  8 22 10 28 62 13 16 58 49 25 69 52 71 21 12 30 47 72 17 27\n",
      "  5 46 11 70 63 43 15 60 18 66  9  3 31 50 64 56  7 42 35 48 29 65 38 68\n",
      " 32 55 37 36 41  6  4 33 67 23 57 61 14 20 53 40 59 24 44 19 54 51 26 39]\n",
      "-------------------------------------------------------\n",
      "PhoneService ['No' 'Yes']\n",
      "-------------------------------------------------------\n",
      "MultipleLines ['No phone service' 'No' 'Yes']\n",
      "-------------------------------------------------------\n",
      "InternetService ['DSL' 'Fiber optic' 'No']\n",
      "-------------------------------------------------------\n",
      "OnlineSecurity ['No' 'Yes' 'No internet service']\n",
      "-------------------------------------------------------\n",
      "OnlineBackup ['Yes' 'No' 'No internet service']\n",
      "-------------------------------------------------------\n",
      "DeviceProtection ['No' 'Yes' 'No internet service']\n",
      "-------------------------------------------------------\n",
      "TechSupport ['No' 'Yes' 'No internet service']\n",
      "-------------------------------------------------------\n",
      "StreamingTV ['No' 'Yes' 'No internet service']\n",
      "-------------------------------------------------------\n",
      "StreamingMovies ['No' 'Yes' 'No internet service']\n",
      "-------------------------------------------------------\n",
      "Contract ['Month-to-month' 'One year' 'Two year']\n",
      "-------------------------------------------------------\n",
      "PaperlessBilling ['Yes' 'No']\n",
      "-------------------------------------------------------\n",
      "PaymentMethod ['Electronic check' 'Mailed check' 'Bank transfer (automatic)'\n",
      " 'Credit card (automatic)']\n",
      "-------------------------------------------------------\n",
      "MonthlyCharges [29.85 56.95 53.85 ... 63.1  44.2  78.7 ]\n",
      "-------------------------------------------------------\n",
      "TotalCharges ['29.85' '1889.5' '108.15' ... '346.45' '306.6' '6844.5']\n",
      "-------------------------------------------------------\n",
      "Churn ['No' 'Yes']\n",
      "-------------------------------------------------------\n"
     ]
    }
   ],
   "source": [
    "# lets check the actual values in each column to determine if the columns are categorical or not\n",
    "for column in df.columns:\n",
    "    print(column,df[column].unique())\n",
    "    print('-'*55)"
   ]
  },
  {
   "cell_type": "code",
   "execution_count": 12,
   "metadata": {},
   "outputs": [],
   "source": [
    "# Lets create a dictionary to replace categorical values to continous values\n",
    "replaceStruct = {\n",
    "                \"gender\": {\"Female\": 0, \"Male\": 1 },\n",
    "                \"Partner\": {\"Yes\": 1, \"No\":0 },\n",
    "                \"Dependents\": {\"Yes\": 1, \"No\":0 },\n",
    "                \"PhoneService\": {\"Yes\": 1, \"No\":0 },\n",
    "                \"MultipleLines\":{\"No phone service\": -1, \"Yes\": 1, \"No\":0 },\n",
    "                \"InternetService\" :{'DSL':1 ,'Fiber optic':2, 'No':0},\n",
    "                \"OnlineSecurity\" :{'No' :0 ,'Yes':1 ,'No internet service':-1},\n",
    "                \"OnlineBackup\" :{'No' :0 ,'Yes':1 ,'No internet service':-1},\n",
    "                \"DeviceProtection\" :{'No' :0 ,'Yes':1 ,'No internet service':-1},\n",
    "                \"TechSupport\" :{'No' :0 ,'Yes':1 ,'No internet service':-1},\n",
    "                \"StreamingTV\" :{'No' :0 ,'Yes':1 ,'No internet service':-1},\n",
    "                \"StreamingMovies\" :{'No' :0 ,'Yes':1 ,'No internet service':-1},\n",
    "                \"Contract\": {'Month-to-month' :0 ,'One year':1 ,'Two year':2},\n",
    "                \"PaperlessBilling\" : {'Yes' : 1, 'No' : 0},\n",
    "                \"PaymentMethod\" : {'Electronic check':0, 'Mailed check':1, 'Bank transfer (automatic)':2, 'Credit card (automatic)': 3},\n",
    "                \"Churn\": {'No':0, 'Yes':1},\n",
    "                    }\n",
    "df=df.replace(replaceStruct)\n",
    "\n",
    "# Total Charges column needs to be converted to float type \n",
    "df['TotalCharges'] = df['TotalCharges'].astype('float')"
   ]
  },
  {
   "cell_type": "code",
   "execution_count": 13,
   "metadata": {},
   "outputs": [
    {
     "data": {
      "text/plain": [
       "gender                int64\n",
       "SeniorCitizen         int64\n",
       "Partner               int64\n",
       "Dependents            int64\n",
       "tenure                int64\n",
       "PhoneService          int64\n",
       "MultipleLines         int64\n",
       "InternetService       int64\n",
       "OnlineSecurity        int64\n",
       "OnlineBackup          int64\n",
       "DeviceProtection      int64\n",
       "TechSupport           int64\n",
       "StreamingTV           int64\n",
       "StreamingMovies       int64\n",
       "Contract              int64\n",
       "PaperlessBilling      int64\n",
       "PaymentMethod         int64\n",
       "MonthlyCharges      float64\n",
       "TotalCharges        float64\n",
       "Churn                 int64\n",
       "dtype: object"
      ]
     },
     "execution_count": 13,
     "metadata": {},
     "output_type": "execute_result"
    }
   ],
   "source": [
    "df.dtypes"
   ]
  },
  {
   "cell_type": "code",
   "execution_count": 14,
   "metadata": {},
   "outputs": [],
   "source": [
    "# Automate all the above steps\n",
    "\n",
    "# The below function has to be provided with dataset, a dictionary with categorical columns \n",
    "# and its numerical counterpart, and a list of columns to drop\n",
    "\n",
    "def dataclean(dataset, cat_to_cont, dropcols):\n",
    "    \n",
    "    # replacing all dummy fillers with nan values\n",
    "    dataset.replace(to_replace=[' ','-','NA','na',],value=np.NaN, inplace=True)\n",
    "    \n",
    "    #dropping null values\n",
    "    dataset.dropna(axis=0, inplace=True)\n",
    "    \n",
    "    #Dropping columns which arent required\n",
    "    dataset.drop(dropcols, inplace=True, axis=1)\n",
    "    \n",
    "    # replacing all specified columns with continous values\n",
    "    dataset=dataset.replace(cat_to_cont)\n",
    "    \n",
    "    return dataset"
   ]
  },
  {
   "cell_type": "code",
   "execution_count": 15,
   "metadata": {},
   "outputs": [
    {
     "name": "stdout",
     "output_type": "stream",
     "text": [
      "df1 shape is (7032, 20) \n",
      "and null values are \n",
      "gender              0\n",
      "SeniorCitizen       0\n",
      "Partner             0\n",
      "Dependents          0\n",
      "tenure              0\n",
      "PhoneService        0\n",
      "MultipleLines       0\n",
      "InternetService     0\n",
      "OnlineSecurity      0\n",
      "OnlineBackup        0\n",
      "DeviceProtection    0\n",
      "TechSupport         0\n",
      "StreamingTV         0\n",
      "StreamingMovies     0\n",
      "Contract            0\n",
      "PaperlessBilling    0\n",
      "PaymentMethod       0\n",
      "MonthlyCharges      0\n",
      "TotalCharges        0\n",
      "Churn               0\n",
      "dtype: int64\n"
     ]
    }
   ],
   "source": [
    "# implementing above function\n",
    "\n",
    "#dataset\n",
    "dfnew=pd.concat([df1,df2], axis = 1)\n",
    "\n",
    "#cat_to_cont\n",
    "replaceStruct = {\n",
    "                \"gender\": {\"Female\": 0, \"Male\": 1 },\n",
    "                \"Partner\": {\"Yes\": 1, \"No\":0 },\n",
    "                \"Dependents\": {\"Yes\": 1, \"No\":0 },\n",
    "                \"PhoneService\": {\"Yes\": 1, \"No\":0 },\n",
    "                \"MultipleLines\":{\"No phone service\": -1, \"Yes\": 1, \"No\":0 },\n",
    "                \"InternetService\" :{'DSL':1 ,'Fiber optic':2, 'No':0},\n",
    "                \"OnlineSecurity\" :{'No' :0 ,'Yes':1 ,'No internet service':-1},\n",
    "                \"OnlineBackup\" :{'No' :0 ,'Yes':1 ,'No internet service':-1},\n",
    "                \"DeviceProtection\" :{'No' :0 ,'Yes':1 ,'No internet service':-1},\n",
    "                \"TechSupport\" :{'No' :0 ,'Yes':1 ,'No internet service':-1},\n",
    "                \"StreamingTV\" :{'No' :0 ,'Yes':1 ,'No internet service':-1},\n",
    "                \"StreamingMovies\" :{'No' :0 ,'Yes':1 ,'No internet service':-1},\n",
    "                \"Contract\": {'Month-to-month' :0 ,'One year':1 ,'Two year':2},\n",
    "                \"PaperlessBilling\" : {'Yes' : 1, 'No' : 0},\n",
    "                \"PaymentMethod\" : {'Electronic check':0, 'Mailed check':1, 'Bank transfer (automatic)':2, 'Credit card (automatic)': 3},\n",
    "                \"Churn\": {'No':0, 'Yes':1},\n",
    "                    }\n",
    "\n",
    "#dropcols\n",
    "dropcol='customerID'\n",
    "\n",
    "dfnew = dataclean(dfnew,replaceStruct,dropcol)\n",
    "\n",
    "print(f'df1 shape is {dfnew.shape} \\nand null values are \\n{dfnew.isna().sum()}')\n"
   ]
  },
  {
   "cell_type": "markdown",
   "metadata": {},
   "source": [
    "# Data analysis & visualisation:"
   ]
  },
  {
   "cell_type": "markdown",
   "metadata": {},
   "source": [
    "• Perform detailed statistical analysis on the data.\n",
    "\n",
    "• Perform a detailed univariate, bivariate and multivariate analysis with appropriate detailed comments after each analysis."
   ]
  },
  {
   "cell_type": "code",
   "execution_count": 16,
   "metadata": {},
   "outputs": [
    {
     "name": "stdout",
     "output_type": "stream",
     "text": [
      "tenure has mean 32.42, median 29.0, range of 1 to 72 and a standard deviation of 24.55\n",
      "\n",
      "MonthlyCharges has mean 64.8, median 70.35, range of 18.25 to 118.75 and a standard deviation of 30.09\n",
      "\n",
      "TotalCharges has mean 2283.3, median 1397.47, range of 18.8 to 8684.8 and a standard deviation of 2266.77\n",
      "\n"
     ]
    }
   ],
   "source": [
    "# specifying categorical columns\n",
    "cat_cols=['gender', 'SeniorCitizen', 'Partner', 'Dependents', \n",
    "       'PhoneService', 'MultipleLines', 'InternetService', 'OnlineSecurity',\n",
    "       'OnlineBackup', 'DeviceProtection', 'TechSupport', 'StreamingTV',\n",
    "       'StreamingMovies', 'Contract', 'PaperlessBilling', 'PaymentMethod',\n",
    "        'Churn']\n",
    "\n",
    "#specifying numerical/continous columns\n",
    "cont_cols=['tenure','MonthlyCharges', 'TotalCharges']\n",
    "\n",
    "for column in cont_cols:\n",
    "    print(f'{column} has mean {round(df[column].mean(),2)}, median {round(df[column].median(),2)}, range of {round(df[column].min(),2)} to {round(df[column].max(),2)} and a standard deviation of {round(df[column].std(),2)}')\n",
    "    print()"
   ]
  },
  {
   "cell_type": "markdown",
   "metadata": {},
   "source": [
    "- median tenure of customers is 29 years as compared to a max of 72 years. This might imply that either many older customers are leaving or the company has acquired a lot of new customers\n",
    "- Average monthly charges are 64.4 and average Total charges are 2283.3"
   ]
  },
  {
   "cell_type": "code",
   "execution_count": 17,
   "metadata": {},
   "outputs": [
    {
     "name": "stdout",
     "output_type": "stream",
     "text": [
      "percentage distribution of each categorical column\n",
      "gender\n",
      "1    50.390459\n",
      "0    49.453358\n",
      "Name: gender, dtype: float64\n",
      "\n",
      "SeniorCitizen\n",
      "0    83.629135\n",
      "1    16.214681\n",
      "Name: SeniorCitizen, dtype: float64\n",
      "\n",
      "Partner\n",
      "0    51.668323\n",
      "1    48.175493\n",
      "Name: Partner, dtype: float64\n",
      "\n",
      "Dependents\n",
      "0    70.041176\n",
      "1    29.802641\n",
      "Name: Dependents, dtype: float64\n",
      "\n",
      "PhoneService\n",
      "1    90.188840\n",
      "0     9.654977\n",
      "Name: PhoneService, dtype: float64\n",
      "\n",
      "MultipleLines\n",
      " 0    48.061905\n",
      " 1    42.126935\n",
      "-1     9.654977\n",
      "Name: MultipleLines, dtype: float64\n",
      "\n",
      "InternetService\n",
      "2    43.958540\n",
      "1    34.303564\n",
      "0    21.581712\n",
      "Name: InternetService, dtype: float64\n",
      "\n",
      "OnlineSecurity\n",
      " 0    49.652137\n",
      " 1    28.609967\n",
      "-1    21.581712\n",
      "Name: OnlineSecurity, dtype: float64\n",
      "\n",
      "OnlineBackup\n",
      " 0    43.830754\n",
      " 1    34.431350\n",
      "-1    21.581712\n",
      "Name: OnlineBackup, dtype: float64\n",
      "\n",
      "DeviceProtection\n",
      " 0    43.930143\n",
      " 1    34.331961\n",
      "-1    21.581712\n",
      "Name: DeviceProtection, dtype: float64\n",
      "\n",
      "TechSupport\n",
      " 0    49.297174\n",
      " 1    28.964930\n",
      "-1    21.581712\n",
      "Name: TechSupport, dtype: float64\n",
      "\n",
      "StreamingTV\n",
      " 0    39.883572\n",
      " 1    38.378532\n",
      "-1    21.581712\n",
      "Name: StreamingTV, dtype: float64\n",
      "\n",
      "StreamingMovies\n",
      " 0    39.486014\n",
      " 1    38.776090\n",
      "-1    21.581712\n",
      "Name: StreamingMovies, dtype: float64\n",
      "\n",
      "Contract\n",
      "0    55.019168\n",
      "2    23.924464\n",
      "1    20.900185\n",
      "Name: Contract, dtype: float64\n",
      "\n",
      "PaperlessBilling\n",
      "1    59.179327\n",
      "0    40.664490\n",
      "Name: PaperlessBilling, dtype: float64\n",
      "\n",
      "PaymentMethod\n",
      "0    33.579441\n",
      "1    22.774386\n",
      "2    21.894079\n",
      "3    21.595911\n",
      "Name: PaymentMethod, dtype: float64\n",
      "\n",
      "Churn\n",
      "0    73.306829\n",
      "1    26.536987\n",
      "Name: Churn, dtype: float64\n",
      "\n"
     ]
    }
   ],
   "source": [
    "print('percentage distribution of each categorical column') \n",
    "for col in cat_cols:\n",
    "    print(col)\n",
    "    print(df[col].value_counts()*100/7043)\n",
    "    print()"
   ]
  },
  {
   "cell_type": "code",
   "execution_count": 18,
   "metadata": {},
   "outputs": [
    {
     "data": {
      "text/html": [
       "<div>\n",
       "<style scoped>\n",
       "    .dataframe tbody tr th:only-of-type {\n",
       "        vertical-align: middle;\n",
       "    }\n",
       "\n",
       "    .dataframe tbody tr th {\n",
       "        vertical-align: top;\n",
       "    }\n",
       "\n",
       "    .dataframe thead th {\n",
       "        text-align: right;\n",
       "    }\n",
       "</style>\n",
       "<table border=\"1\" class=\"dataframe\">\n",
       "  <thead>\n",
       "    <tr style=\"text-align: right;\">\n",
       "      <th></th>\n",
       "      <th>count</th>\n",
       "      <th>mean</th>\n",
       "      <th>std</th>\n",
       "      <th>min</th>\n",
       "      <th>25%</th>\n",
       "      <th>50%</th>\n",
       "      <th>75%</th>\n",
       "      <th>max</th>\n",
       "    </tr>\n",
       "  </thead>\n",
       "  <tbody>\n",
       "    <tr>\n",
       "      <th>gender</th>\n",
       "      <td>7032.0</td>\n",
       "      <td>0.504693</td>\n",
       "      <td>0.500014</td>\n",
       "      <td>0.00</td>\n",
       "      <td>0.0000</td>\n",
       "      <td>1.000</td>\n",
       "      <td>1.0000</td>\n",
       "      <td>1.00</td>\n",
       "    </tr>\n",
       "    <tr>\n",
       "      <th>SeniorCitizen</th>\n",
       "      <td>7032.0</td>\n",
       "      <td>0.162400</td>\n",
       "      <td>0.368844</td>\n",
       "      <td>0.00</td>\n",
       "      <td>0.0000</td>\n",
       "      <td>0.000</td>\n",
       "      <td>0.0000</td>\n",
       "      <td>1.00</td>\n",
       "    </tr>\n",
       "    <tr>\n",
       "      <th>Partner</th>\n",
       "      <td>7032.0</td>\n",
       "      <td>0.482509</td>\n",
       "      <td>0.499729</td>\n",
       "      <td>0.00</td>\n",
       "      <td>0.0000</td>\n",
       "      <td>0.000</td>\n",
       "      <td>1.0000</td>\n",
       "      <td>1.00</td>\n",
       "    </tr>\n",
       "    <tr>\n",
       "      <th>Dependents</th>\n",
       "      <td>7032.0</td>\n",
       "      <td>0.298493</td>\n",
       "      <td>0.457629</td>\n",
       "      <td>0.00</td>\n",
       "      <td>0.0000</td>\n",
       "      <td>0.000</td>\n",
       "      <td>1.0000</td>\n",
       "      <td>1.00</td>\n",
       "    </tr>\n",
       "    <tr>\n",
       "      <th>tenure</th>\n",
       "      <td>7032.0</td>\n",
       "      <td>32.421786</td>\n",
       "      <td>24.545260</td>\n",
       "      <td>1.00</td>\n",
       "      <td>9.0000</td>\n",
       "      <td>29.000</td>\n",
       "      <td>55.0000</td>\n",
       "      <td>72.00</td>\n",
       "    </tr>\n",
       "    <tr>\n",
       "      <th>PhoneService</th>\n",
       "      <td>7032.0</td>\n",
       "      <td>0.903299</td>\n",
       "      <td>0.295571</td>\n",
       "      <td>0.00</td>\n",
       "      <td>1.0000</td>\n",
       "      <td>1.000</td>\n",
       "      <td>1.0000</td>\n",
       "      <td>1.00</td>\n",
       "    </tr>\n",
       "    <tr>\n",
       "      <th>MultipleLines</th>\n",
       "      <td>7032.0</td>\n",
       "      <td>0.325228</td>\n",
       "      <td>0.642585</td>\n",
       "      <td>-1.00</td>\n",
       "      <td>0.0000</td>\n",
       "      <td>0.000</td>\n",
       "      <td>1.0000</td>\n",
       "      <td>1.00</td>\n",
       "    </tr>\n",
       "    <tr>\n",
       "      <th>InternetService</th>\n",
       "      <td>7032.0</td>\n",
       "      <td>1.224118</td>\n",
       "      <td>0.778643</td>\n",
       "      <td>0.00</td>\n",
       "      <td>1.0000</td>\n",
       "      <td>1.000</td>\n",
       "      <td>2.0000</td>\n",
       "      <td>2.00</td>\n",
       "    </tr>\n",
       "    <tr>\n",
       "      <th>OnlineSecurity</th>\n",
       "      <td>7032.0</td>\n",
       "      <td>0.070392</td>\n",
       "      <td>0.705562</td>\n",
       "      <td>-1.00</td>\n",
       "      <td>0.0000</td>\n",
       "      <td>0.000</td>\n",
       "      <td>1.0000</td>\n",
       "      <td>1.00</td>\n",
       "    </tr>\n",
       "    <tr>\n",
       "      <th>OnlineBackup</th>\n",
       "      <td>7032.0</td>\n",
       "      <td>0.128697</td>\n",
       "      <td>0.737917</td>\n",
       "      <td>-1.00</td>\n",
       "      <td>0.0000</td>\n",
       "      <td>0.000</td>\n",
       "      <td>1.0000</td>\n",
       "      <td>1.00</td>\n",
       "    </tr>\n",
       "    <tr>\n",
       "      <th>DeviceProtection</th>\n",
       "      <td>7032.0</td>\n",
       "      <td>0.127702</td>\n",
       "      <td>0.737415</td>\n",
       "      <td>-1.00</td>\n",
       "      <td>0.0000</td>\n",
       "      <td>0.000</td>\n",
       "      <td>1.0000</td>\n",
       "      <td>1.00</td>\n",
       "    </tr>\n",
       "    <tr>\n",
       "      <th>TechSupport</th>\n",
       "      <td>7032.0</td>\n",
       "      <td>0.073948</td>\n",
       "      <td>0.707715</td>\n",
       "      <td>-1.00</td>\n",
       "      <td>0.0000</td>\n",
       "      <td>0.000</td>\n",
       "      <td>1.0000</td>\n",
       "      <td>1.00</td>\n",
       "    </tr>\n",
       "    <tr>\n",
       "      <th>StreamingTV</th>\n",
       "      <td>7032.0</td>\n",
       "      <td>0.168231</td>\n",
       "      <td>0.756518</td>\n",
       "      <td>-1.00</td>\n",
       "      <td>0.0000</td>\n",
       "      <td>0.000</td>\n",
       "      <td>1.0000</td>\n",
       "      <td>1.00</td>\n",
       "    </tr>\n",
       "    <tr>\n",
       "      <th>StreamingMovies</th>\n",
       "      <td>7032.0</td>\n",
       "      <td>0.172213</td>\n",
       "      <td>0.758252</td>\n",
       "      <td>-1.00</td>\n",
       "      <td>0.0000</td>\n",
       "      <td>0.000</td>\n",
       "      <td>1.0000</td>\n",
       "      <td>1.00</td>\n",
       "    </tr>\n",
       "    <tr>\n",
       "      <th>Contract</th>\n",
       "      <td>7032.0</td>\n",
       "      <td>0.688567</td>\n",
       "      <td>0.832934</td>\n",
       "      <td>0.00</td>\n",
       "      <td>0.0000</td>\n",
       "      <td>0.000</td>\n",
       "      <td>1.0000</td>\n",
       "      <td>2.00</td>\n",
       "    </tr>\n",
       "    <tr>\n",
       "      <th>PaperlessBilling</th>\n",
       "      <td>7032.0</td>\n",
       "      <td>0.592719</td>\n",
       "      <td>0.491363</td>\n",
       "      <td>0.00</td>\n",
       "      <td>0.0000</td>\n",
       "      <td>1.000</td>\n",
       "      <td>1.0000</td>\n",
       "      <td>1.00</td>\n",
       "    </tr>\n",
       "    <tr>\n",
       "      <th>PaymentMethod</th>\n",
       "      <td>7032.0</td>\n",
       "      <td>1.315557</td>\n",
       "      <td>1.149523</td>\n",
       "      <td>0.00</td>\n",
       "      <td>0.0000</td>\n",
       "      <td>1.000</td>\n",
       "      <td>2.0000</td>\n",
       "      <td>3.00</td>\n",
       "    </tr>\n",
       "    <tr>\n",
       "      <th>MonthlyCharges</th>\n",
       "      <td>7032.0</td>\n",
       "      <td>64.798208</td>\n",
       "      <td>30.085974</td>\n",
       "      <td>18.25</td>\n",
       "      <td>35.5875</td>\n",
       "      <td>70.350</td>\n",
       "      <td>89.8625</td>\n",
       "      <td>118.75</td>\n",
       "    </tr>\n",
       "    <tr>\n",
       "      <th>TotalCharges</th>\n",
       "      <td>7032.0</td>\n",
       "      <td>2283.300441</td>\n",
       "      <td>2266.771362</td>\n",
       "      <td>18.80</td>\n",
       "      <td>401.4500</td>\n",
       "      <td>1397.475</td>\n",
       "      <td>3794.7375</td>\n",
       "      <td>8684.80</td>\n",
       "    </tr>\n",
       "    <tr>\n",
       "      <th>Churn</th>\n",
       "      <td>7032.0</td>\n",
       "      <td>0.265785</td>\n",
       "      <td>0.441782</td>\n",
       "      <td>0.00</td>\n",
       "      <td>0.0000</td>\n",
       "      <td>0.000</td>\n",
       "      <td>1.0000</td>\n",
       "      <td>1.00</td>\n",
       "    </tr>\n",
       "  </tbody>\n",
       "</table>\n",
       "</div>"
      ],
      "text/plain": [
       "                   count         mean          std    min       25%       50%  \\\n",
       "gender            7032.0     0.504693     0.500014   0.00    0.0000     1.000   \n",
       "SeniorCitizen     7032.0     0.162400     0.368844   0.00    0.0000     0.000   \n",
       "Partner           7032.0     0.482509     0.499729   0.00    0.0000     0.000   \n",
       "Dependents        7032.0     0.298493     0.457629   0.00    0.0000     0.000   \n",
       "tenure            7032.0    32.421786    24.545260   1.00    9.0000    29.000   \n",
       "PhoneService      7032.0     0.903299     0.295571   0.00    1.0000     1.000   \n",
       "MultipleLines     7032.0     0.325228     0.642585  -1.00    0.0000     0.000   \n",
       "InternetService   7032.0     1.224118     0.778643   0.00    1.0000     1.000   \n",
       "OnlineSecurity    7032.0     0.070392     0.705562  -1.00    0.0000     0.000   \n",
       "OnlineBackup      7032.0     0.128697     0.737917  -1.00    0.0000     0.000   \n",
       "DeviceProtection  7032.0     0.127702     0.737415  -1.00    0.0000     0.000   \n",
       "TechSupport       7032.0     0.073948     0.707715  -1.00    0.0000     0.000   \n",
       "StreamingTV       7032.0     0.168231     0.756518  -1.00    0.0000     0.000   \n",
       "StreamingMovies   7032.0     0.172213     0.758252  -1.00    0.0000     0.000   \n",
       "Contract          7032.0     0.688567     0.832934   0.00    0.0000     0.000   \n",
       "PaperlessBilling  7032.0     0.592719     0.491363   0.00    0.0000     1.000   \n",
       "PaymentMethod     7032.0     1.315557     1.149523   0.00    0.0000     1.000   \n",
       "MonthlyCharges    7032.0    64.798208    30.085974  18.25   35.5875    70.350   \n",
       "TotalCharges      7032.0  2283.300441  2266.771362  18.80  401.4500  1397.475   \n",
       "Churn             7032.0     0.265785     0.441782   0.00    0.0000     0.000   \n",
       "\n",
       "                        75%      max  \n",
       "gender               1.0000     1.00  \n",
       "SeniorCitizen        0.0000     1.00  \n",
       "Partner              1.0000     1.00  \n",
       "Dependents           1.0000     1.00  \n",
       "tenure              55.0000    72.00  \n",
       "PhoneService         1.0000     1.00  \n",
       "MultipleLines        1.0000     1.00  \n",
       "InternetService      2.0000     2.00  \n",
       "OnlineSecurity       1.0000     1.00  \n",
       "OnlineBackup         1.0000     1.00  \n",
       "DeviceProtection     1.0000     1.00  \n",
       "TechSupport          1.0000     1.00  \n",
       "StreamingTV          1.0000     1.00  \n",
       "StreamingMovies      1.0000     1.00  \n",
       "Contract             1.0000     2.00  \n",
       "PaperlessBilling     1.0000     1.00  \n",
       "PaymentMethod        2.0000     3.00  \n",
       "MonthlyCharges      89.8625   118.75  \n",
       "TotalCharges      3794.7375  8684.80  \n",
       "Churn                1.0000     1.00  "
      ]
     },
     "execution_count": 18,
     "metadata": {},
     "output_type": "execute_result"
    }
   ],
   "source": [
    "df.describe().T"
   ]
  },
  {
   "cell_type": "code",
   "execution_count": 19,
   "metadata": {},
   "outputs": [
    {
     "name": "stdout",
     "output_type": "stream",
     "text": [
      "Histogram of all numerical columns\n"
     ]
    },
    {
     "data": {
      "image/png": "[encoded data removed]",
      "text/plain": [
       "<Figure size 864x2160 with 20 Axes>"
      ]
     },
     "metadata": {
      "needs_background": "light"
     },
     "output_type": "display_data"
    }
   ],
   "source": [
    "print('Histogram of all numerical columns')\n",
    "df[cont_cols].hist(stacked=False, figsize=(12,30), layout=(10,2)); "
   ]
  },
  {
   "cell_type": "markdown",
   "metadata": {},
   "source": [
    "- There are high number of very new and very old customers\n",
    "- The company has a high number of low paying customers\n",
    "- The total charges data is right skewed with very high number of low paying customers"
   ]
  },
  {
   "cell_type": "code",
   "execution_count": 20,
   "metadata": {},
   "outputs": [
    {
     "data": {
      "image/png": "[encoded data removed]",
      "text/plain": [
       "<Figure size 1440x1080 with 15 Axes>"
      ]
     },
     "metadata": {
      "needs_background": "light"
     },
     "output_type": "display_data"
    }
   ],
   "source": [
    "counter=1\n",
    "plot=plt.figure(figsize=(20,15))\n",
    "\n",
    "for cols in cat_cols[:-2]:\n",
    "    plot=plt.subplot(5,4,counter)\n",
    "    sns.countplot(data=df,  x = df[cols])\n",
    "    counter+=1"
   ]
  },
  {
   "cell_type": "markdown",
   "metadata": {},
   "source": [
    "- very few customers are senior citizens\n",
    "- number of customers who are partners and are not partners are almost equal\n",
    "- number of females and males are almost equal\n",
    "- majority of customers have the phone service\n",
    "- majority of customers dont have dependants\n",
    "- majority of customers have not opted for multiple lines, online security, online backup device protection and tech support\n",
    "- majority of customers are using paperless billing"
   ]
  },
  {
   "cell_type": "code",
   "execution_count": 21,
   "metadata": {},
   "outputs": [
    {
     "data": {
      "image/png": "[encoded data removed]",
      "text/plain": [
       "<Figure size 720x720 with 3 Axes>"
      ]
     },
     "metadata": {
      "needs_background": "light"
     },
     "output_type": "display_data"
    }
   ],
   "source": [
    "counter=1\n",
    "plot=plt.figure(figsize=(10,10))\n",
    "\n",
    "for cols in cont_cols:\n",
    "    plot=plt.subplot(2,2,counter)\n",
    "    sns.boxplot(data=df, y=cols, x= 'Churn')\n",
    "    counter+=1"
   ]
  },
  {
   "cell_type": "markdown",
   "metadata": {},
   "source": [
    "- churners have a low median tenure, high median monthly charges and low median total charges"
   ]
  },
  {
   "cell_type": "code",
   "execution_count": 22,
   "metadata": {},
   "outputs": [
    {
     "data": {
      "text/html": [
       "<div>\n",
       "<style scoped>\n",
       "    .dataframe tbody tr th:only-of-type {\n",
       "        vertical-align: middle;\n",
       "    }\n",
       "\n",
       "    .dataframe tbody tr th {\n",
       "        vertical-align: top;\n",
       "    }\n",
       "\n",
       "    .dataframe thead th {\n",
       "        text-align: right;\n",
       "    }\n",
       "</style>\n",
       "<table border=\"1\" class=\"dataframe\">\n",
       "  <thead>\n",
       "    <tr style=\"text-align: right;\">\n",
       "      <th></th>\n",
       "      <th>gender</th>\n",
       "      <th>SeniorCitizen</th>\n",
       "      <th>Partner</th>\n",
       "      <th>Dependents</th>\n",
       "      <th>tenure</th>\n",
       "      <th>PhoneService</th>\n",
       "      <th>MultipleLines</th>\n",
       "      <th>InternetService</th>\n",
       "      <th>OnlineSecurity</th>\n",
       "      <th>OnlineBackup</th>\n",
       "      <th>DeviceProtection</th>\n",
       "      <th>TechSupport</th>\n",
       "      <th>StreamingTV</th>\n",
       "      <th>StreamingMovies</th>\n",
       "      <th>Contract</th>\n",
       "      <th>PaperlessBilling</th>\n",
       "      <th>PaymentMethod</th>\n",
       "      <th>MonthlyCharges</th>\n",
       "      <th>TotalCharges</th>\n",
       "      <th>Churn</th>\n",
       "    </tr>\n",
       "  </thead>\n",
       "  <tbody>\n",
       "    <tr>\n",
       "      <th>gender</th>\n",
       "      <td>1.000000</td>\n",
       "      <td>-0.001819</td>\n",
       "      <td>-0.001379</td>\n",
       "      <td>0.010349</td>\n",
       "      <td>0.005285</td>\n",
       "      <td>-0.007515</td>\n",
       "      <td>-0.010284</td>\n",
       "      <td>-0.009643</td>\n",
       "      <td>-0.013233</td>\n",
       "      <td>-0.011081</td>\n",
       "      <td>-0.003168</td>\n",
       "      <td>-0.008215</td>\n",
       "      <td>-0.007163</td>\n",
       "      <td>-0.009072</td>\n",
       "      <td>0.000095</td>\n",
       "      <td>-0.011902</td>\n",
       "      <td>-0.004928</td>\n",
       "      <td>-0.013779</td>\n",
       "      <td>0.000048</td>\n",
       "      <td>-0.008545</td>\n",
       "    </tr>\n",
       "    <tr>\n",
       "      <th>SeniorCitizen</th>\n",
       "      <td>-0.001819</td>\n",
       "      <td>1.000000</td>\n",
       "      <td>0.016957</td>\n",
       "      <td>-0.210550</td>\n",
       "      <td>0.015683</td>\n",
       "      <td>0.008392</td>\n",
       "      <td>0.113769</td>\n",
       "      <td>0.259030</td>\n",
       "      <td>0.081766</td>\n",
       "      <td>0.144762</td>\n",
       "      <td>0.140226</td>\n",
       "      <td>0.067318</td>\n",
       "      <td>0.167123</td>\n",
       "      <td>0.176125</td>\n",
       "      <td>-0.141820</td>\n",
       "      <td>0.156258</td>\n",
       "      <td>-0.093712</td>\n",
       "      <td>0.219874</td>\n",
       "      <td>0.102411</td>\n",
       "      <td>0.150541</td>\n",
       "    </tr>\n",
       "    <tr>\n",
       "      <th>Partner</th>\n",
       "      <td>-0.001379</td>\n",
       "      <td>0.016957</td>\n",
       "      <td>1.000000</td>\n",
       "      <td>0.452269</td>\n",
       "      <td>0.381912</td>\n",
       "      <td>0.018397</td>\n",
       "      <td>0.118037</td>\n",
       "      <td>0.000938</td>\n",
       "      <td>0.092034</td>\n",
       "      <td>0.091536</td>\n",
       "      <td>0.099077</td>\n",
       "      <td>0.077252</td>\n",
       "      <td>0.080205</td>\n",
       "      <td>0.076076</td>\n",
       "      <td>0.294094</td>\n",
       "      <td>-0.013957</td>\n",
       "      <td>0.133280</td>\n",
       "      <td>0.097825</td>\n",
       "      <td>0.319072</td>\n",
       "      <td>-0.149982</td>\n",
       "    </tr>\n",
       "    <tr>\n",
       "      <th>Dependents</th>\n",
       "      <td>0.010349</td>\n",
       "      <td>-0.210550</td>\n",
       "      <td>0.452269</td>\n",
       "      <td>1.000000</td>\n",
       "      <td>0.163386</td>\n",
       "      <td>-0.001078</td>\n",
       "      <td>-0.019178</td>\n",
       "      <td>-0.177789</td>\n",
       "      <td>-0.028964</td>\n",
       "      <td>-0.061970</td>\n",
       "      <td>-0.068296</td>\n",
       "      <td>-0.040057</td>\n",
       "      <td>-0.085909</td>\n",
       "      <td>-0.099795</td>\n",
       "      <td>0.240556</td>\n",
       "      <td>-0.110131</td>\n",
       "      <td>0.124002</td>\n",
       "      <td>-0.112343</td>\n",
       "      <td>0.064653</td>\n",
       "      <td>-0.163128</td>\n",
       "    </tr>\n",
       "    <tr>\n",
       "      <th>tenure</th>\n",
       "      <td>0.005285</td>\n",
       "      <td>0.015683</td>\n",
       "      <td>0.381912</td>\n",
       "      <td>0.163386</td>\n",
       "      <td>1.000000</td>\n",
       "      <td>0.007877</td>\n",
       "      <td>0.259112</td>\n",
       "      <td>0.031272</td>\n",
       "      <td>0.232295</td>\n",
       "      <td>0.253575</td>\n",
       "      <td>0.253834</td>\n",
       "      <td>0.230429</td>\n",
       "      <td>0.200646</td>\n",
       "      <td>0.203834</td>\n",
       "      <td>0.676734</td>\n",
       "      <td>0.004823</td>\n",
       "      <td>0.340939</td>\n",
       "      <td>0.246862</td>\n",
       "      <td>0.825880</td>\n",
       "      <td>-0.354049</td>\n",
       "    </tr>\n",
       "    <tr>\n",
       "      <th>PhoneService</th>\n",
       "      <td>-0.007515</td>\n",
       "      <td>0.008392</td>\n",
       "      <td>0.018397</td>\n",
       "      <td>-0.001078</td>\n",
       "      <td>0.007877</td>\n",
       "      <td>1.000000</td>\n",
       "      <td>0.674824</td>\n",
       "      <td>0.094182</td>\n",
       "      <td>-0.158997</td>\n",
       "      <td>-0.129432</td>\n",
       "      <td>-0.141055</td>\n",
       "      <td>-0.160950</td>\n",
       "      <td>-0.107242</td>\n",
       "      <td>-0.114798</td>\n",
       "      <td>0.003019</td>\n",
       "      <td>0.016696</td>\n",
       "      <td>-0.003106</td>\n",
       "      <td>0.248033</td>\n",
       "      <td>0.113008</td>\n",
       "      <td>0.011691</td>\n",
       "    </tr>\n",
       "    <tr>\n",
       "      <th>MultipleLines</th>\n",
       "      <td>-0.010284</td>\n",
       "      <td>0.113769</td>\n",
       "      <td>0.118037</td>\n",
       "      <td>-0.019178</td>\n",
       "      <td>0.259112</td>\n",
       "      <td>0.674824</td>\n",
       "      <td>1.000000</td>\n",
       "      <td>0.308546</td>\n",
       "      <td>0.069959</td>\n",
       "      <td>0.130978</td>\n",
       "      <td>0.125447</td>\n",
       "      <td>0.069706</td>\n",
       "      <td>0.166256</td>\n",
       "      <td>0.163218</td>\n",
       "      <td>0.084037</td>\n",
       "      <td>0.133538</td>\n",
       "      <td>0.026248</td>\n",
       "      <td>0.491412</td>\n",
       "      <td>0.412495</td>\n",
       "      <td>0.036148</td>\n",
       "    </tr>\n",
       "    <tr>\n",
       "      <th>InternetService</th>\n",
       "      <td>-0.009643</td>\n",
       "      <td>0.259030</td>\n",
       "      <td>0.000938</td>\n",
       "      <td>-0.177789</td>\n",
       "      <td>0.031272</td>\n",
       "      <td>0.094182</td>\n",
       "      <td>0.308546</td>\n",
       "      <td>1.000000</td>\n",
       "      <td>0.581993</td>\n",
       "      <td>0.658487</td>\n",
       "      <td>0.662791</td>\n",
       "      <td>0.585745</td>\n",
       "      <td>0.725522</td>\n",
       "      <td>0.722592</td>\n",
       "      <td>-0.288855</td>\n",
       "      <td>0.377644</td>\n",
       "      <td>-0.178655</td>\n",
       "      <td>0.905389</td>\n",
       "      <td>0.428212</td>\n",
       "      <td>0.316350</td>\n",
       "    </tr>\n",
       "    <tr>\n",
       "      <th>OnlineSecurity</th>\n",
       "      <td>-0.013233</td>\n",
       "      <td>0.081766</td>\n",
       "      <td>0.092034</td>\n",
       "      <td>-0.028964</td>\n",
       "      <td>0.232295</td>\n",
       "      <td>-0.158997</td>\n",
       "      <td>0.069959</td>\n",
       "      <td>0.581993</td>\n",
       "      <td>1.000000</td>\n",
       "      <td>0.704598</td>\n",
       "      <td>0.701112</td>\n",
       "      <td>0.734696</td>\n",
       "      <td>0.661541</td>\n",
       "      <td>0.666682</td>\n",
       "      <td>0.016495</td>\n",
       "      <td>0.184449</td>\n",
       "      <td>0.035563</td>\n",
       "      <td>0.635260</td>\n",
       "      <td>0.483157</td>\n",
       "      <td>0.023014</td>\n",
       "    </tr>\n",
       "    <tr>\n",
       "      <th>OnlineBackup</th>\n",
       "      <td>-0.011081</td>\n",
       "      <td>0.144762</td>\n",
       "      <td>0.091536</td>\n",
       "      <td>-0.061970</td>\n",
       "      <td>0.253575</td>\n",
       "      <td>-0.129432</td>\n",
       "      <td>0.130978</td>\n",
       "      <td>0.658487</td>\n",
       "      <td>0.704598</td>\n",
       "      <td>1.000000</td>\n",
       "      <td>0.710790</td>\n",
       "      <td>0.708659</td>\n",
       "      <td>0.702605</td>\n",
       "      <td>0.699828</td>\n",
       "      <td>-0.034745</td>\n",
       "      <td>0.260691</td>\n",
       "      <td>-0.003786</td>\n",
       "      <td>0.710175</td>\n",
       "      <td>0.537726</td>\n",
       "      <td>0.073934</td>\n",
       "    </tr>\n",
       "    <tr>\n",
       "      <th>DeviceProtection</th>\n",
       "      <td>-0.003168</td>\n",
       "      <td>0.140226</td>\n",
       "      <td>0.099077</td>\n",
       "      <td>-0.068296</td>\n",
       "      <td>0.253834</td>\n",
       "      <td>-0.141055</td>\n",
       "      <td>0.125447</td>\n",
       "      <td>0.662791</td>\n",
       "      <td>0.701112</td>\n",
       "      <td>0.710790</td>\n",
       "      <td>1.000000</td>\n",
       "      <td>0.724817</td>\n",
       "      <td>0.747489</td>\n",
       "      <td>0.752755</td>\n",
       "      <td>0.006638</td>\n",
       "      <td>0.246011</td>\n",
       "      <td>0.005643</td>\n",
       "      <td>0.736925</td>\n",
       "      <td>0.546100</td>\n",
       "      <td>0.084402</td>\n",
       "    </tr>\n",
       "    <tr>\n",
       "      <th>TechSupport</th>\n",
       "      <td>-0.008215</td>\n",
       "      <td>0.067318</td>\n",
       "      <td>0.077252</td>\n",
       "      <td>-0.040057</td>\n",
       "      <td>0.230429</td>\n",
       "      <td>-0.160950</td>\n",
       "      <td>0.069706</td>\n",
       "      <td>0.585745</td>\n",
       "      <td>0.734696</td>\n",
       "      <td>0.708659</td>\n",
       "      <td>0.724817</td>\n",
       "      <td>1.000000</td>\n",
       "      <td>0.703306</td>\n",
       "      <td>0.704595</td>\n",
       "      <td>0.048001</td>\n",
       "      <td>0.210547</td>\n",
       "      <td>0.038621</td>\n",
       "      <td>0.660864</td>\n",
       "      <td>0.495641</td>\n",
       "      <td>0.026744</td>\n",
       "    </tr>\n",
       "    <tr>\n",
       "      <th>StreamingTV</th>\n",
       "      <td>-0.007163</td>\n",
       "      <td>0.167123</td>\n",
       "      <td>0.080205</td>\n",
       "      <td>-0.085909</td>\n",
       "      <td>0.200646</td>\n",
       "      <td>-0.107242</td>\n",
       "      <td>0.166256</td>\n",
       "      <td>0.725522</td>\n",
       "      <td>0.661541</td>\n",
       "      <td>0.702605</td>\n",
       "      <td>0.747489</td>\n",
       "      <td>0.703306</td>\n",
       "      <td>1.000000</td>\n",
       "      <td>0.807118</td>\n",
       "      <td>-0.064457</td>\n",
       "      <td>0.318646</td>\n",
       "      <td>-0.073319</td>\n",
       "      <td>0.820193</td>\n",
       "      <td>0.535616</td>\n",
       "      <td>0.164509</td>\n",
       "    </tr>\n",
       "    <tr>\n",
       "      <th>StreamingMovies</th>\n",
       "      <td>-0.009072</td>\n",
       "      <td>0.176125</td>\n",
       "      <td>0.076076</td>\n",
       "      <td>-0.099795</td>\n",
       "      <td>0.203834</td>\n",
       "      <td>-0.114798</td>\n",
       "      <td>0.163218</td>\n",
       "      <td>0.722592</td>\n",
       "      <td>0.666682</td>\n",
       "      <td>0.699828</td>\n",
       "      <td>0.752755</td>\n",
       "      <td>0.704595</td>\n",
       "      <td>0.807118</td>\n",
       "      <td>1.000000</td>\n",
       "      <td>-0.060995</td>\n",
       "      <td>0.310055</td>\n",
       "      <td>-0.066761</td>\n",
       "      <td>0.817525</td>\n",
       "      <td>0.537695</td>\n",
       "      <td>0.162672</td>\n",
       "    </tr>\n",
       "    <tr>\n",
       "      <th>Contract</th>\n",
       "      <td>0.000095</td>\n",
       "      <td>-0.141820</td>\n",
       "      <td>0.294094</td>\n",
       "      <td>0.240556</td>\n",
       "      <td>0.676734</td>\n",
       "      <td>0.003019</td>\n",
       "      <td>0.084037</td>\n",
       "      <td>-0.288855</td>\n",
       "      <td>0.016495</td>\n",
       "      <td>-0.034745</td>\n",
       "      <td>0.006638</td>\n",
       "      <td>0.048001</td>\n",
       "      <td>-0.064457</td>\n",
       "      <td>-0.060995</td>\n",
       "      <td>1.000000</td>\n",
       "      <td>-0.175475</td>\n",
       "      <td>0.359487</td>\n",
       "      <td>-0.072739</td>\n",
       "      <td>0.450306</td>\n",
       "      <td>-0.396150</td>\n",
       "    </tr>\n",
       "    <tr>\n",
       "      <th>PaperlessBilling</th>\n",
       "      <td>-0.011902</td>\n",
       "      <td>0.156258</td>\n",
       "      <td>-0.013957</td>\n",
       "      <td>-0.110131</td>\n",
       "      <td>0.004823</td>\n",
       "      <td>0.016696</td>\n",
       "      <td>0.133538</td>\n",
       "      <td>0.377644</td>\n",
       "      <td>0.184449</td>\n",
       "      <td>0.260691</td>\n",
       "      <td>0.246011</td>\n",
       "      <td>0.210547</td>\n",
       "      <td>0.318646</td>\n",
       "      <td>0.310055</td>\n",
       "      <td>-0.175475</td>\n",
       "      <td>1.000000</td>\n",
       "      <td>-0.101790</td>\n",
       "      <td>0.351930</td>\n",
       "      <td>0.157830</td>\n",
       "      <td>0.191454</td>\n",
       "    </tr>\n",
       "    <tr>\n",
       "      <th>PaymentMethod</th>\n",
       "      <td>-0.004928</td>\n",
       "      <td>-0.093712</td>\n",
       "      <td>0.133280</td>\n",
       "      <td>0.124002</td>\n",
       "      <td>0.340939</td>\n",
       "      <td>-0.003106</td>\n",
       "      <td>0.026248</td>\n",
       "      <td>-0.178655</td>\n",
       "      <td>0.035563</td>\n",
       "      <td>-0.003786</td>\n",
       "      <td>0.005643</td>\n",
       "      <td>0.038621</td>\n",
       "      <td>-0.073319</td>\n",
       "      <td>-0.066761</td>\n",
       "      <td>0.359487</td>\n",
       "      <td>-0.101790</td>\n",
       "      <td>1.000000</td>\n",
       "      <td>-0.074640</td>\n",
       "      <td>0.222694</td>\n",
       "      <td>-0.262918</td>\n",
       "    </tr>\n",
       "    <tr>\n",
       "      <th>MonthlyCharges</th>\n",
       "      <td>-0.013779</td>\n",
       "      <td>0.219874</td>\n",
       "      <td>0.097825</td>\n",
       "      <td>-0.112343</td>\n",
       "      <td>0.246862</td>\n",
       "      <td>0.248033</td>\n",
       "      <td>0.491412</td>\n",
       "      <td>0.905389</td>\n",
       "      <td>0.635260</td>\n",
       "      <td>0.710175</td>\n",
       "      <td>0.736925</td>\n",
       "      <td>0.660864</td>\n",
       "      <td>0.820193</td>\n",
       "      <td>0.817525</td>\n",
       "      <td>-0.072739</td>\n",
       "      <td>0.351930</td>\n",
       "      <td>-0.074640</td>\n",
       "      <td>1.000000</td>\n",
       "      <td>0.651065</td>\n",
       "      <td>0.192858</td>\n",
       "    </tr>\n",
       "    <tr>\n",
       "      <th>TotalCharges</th>\n",
       "      <td>0.000048</td>\n",
       "      <td>0.102411</td>\n",
       "      <td>0.319072</td>\n",
       "      <td>0.064653</td>\n",
       "      <td>0.825880</td>\n",
       "      <td>0.113008</td>\n",
       "      <td>0.412495</td>\n",
       "      <td>0.428212</td>\n",
       "      <td>0.483157</td>\n",
       "      <td>0.537726</td>\n",
       "      <td>0.546100</td>\n",
       "      <td>0.495641</td>\n",
       "      <td>0.535616</td>\n",
       "      <td>0.537695</td>\n",
       "      <td>0.450306</td>\n",
       "      <td>0.157830</td>\n",
       "      <td>0.222694</td>\n",
       "      <td>0.651065</td>\n",
       "      <td>1.000000</td>\n",
       "      <td>-0.199484</td>\n",
       "    </tr>\n",
       "    <tr>\n",
       "      <th>Churn</th>\n",
       "      <td>-0.008545</td>\n",
       "      <td>0.150541</td>\n",
       "      <td>-0.149982</td>\n",
       "      <td>-0.163128</td>\n",
       "      <td>-0.354049</td>\n",
       "      <td>0.011691</td>\n",
       "      <td>0.036148</td>\n",
       "      <td>0.316350</td>\n",
       "      <td>0.023014</td>\n",
       "      <td>0.073934</td>\n",
       "      <td>0.084402</td>\n",
       "      <td>0.026744</td>\n",
       "      <td>0.164509</td>\n",
       "      <td>0.162672</td>\n",
       "      <td>-0.396150</td>\n",
       "      <td>0.191454</td>\n",
       "      <td>-0.262918</td>\n",
       "      <td>0.192858</td>\n",
       "      <td>-0.199484</td>\n",
       "      <td>1.000000</td>\n",
       "    </tr>\n",
       "  </tbody>\n",
       "</table>\n",
       "</div>"
      ],
      "text/plain": [
       "                    gender  SeniorCitizen   Partner  Dependents    tenure  \\\n",
       "gender            1.000000      -0.001819 -0.001379    0.010349  0.005285   \n",
       "SeniorCitizen    -0.001819       1.000000  0.016957   -0.210550  0.015683   \n",
       "Partner          -0.001379       0.016957  1.000000    0.452269  0.381912   \n",
       "Dependents        0.010349      -0.210550  0.452269    1.000000  0.163386   \n",
       "tenure            0.005285       0.015683  0.381912    0.163386  1.000000   \n",
       "PhoneService     -0.007515       0.008392  0.018397   -0.001078  0.007877   \n",
       "MultipleLines    -0.010284       0.113769  0.118037   -0.019178  0.259112   \n",
       "InternetService  -0.009643       0.259030  0.000938   -0.177789  0.031272   \n",
       "OnlineSecurity   -0.013233       0.081766  0.092034   -0.028964  0.232295   \n",
       "OnlineBackup     -0.011081       0.144762  0.091536   -0.061970  0.253575   \n",
       "DeviceProtection -0.003168       0.140226  0.099077   -0.068296  0.253834   \n",
       "TechSupport      -0.008215       0.067318  0.077252   -0.040057  0.230429   \n",
       "StreamingTV      -0.007163       0.167123  0.080205   -0.085909  0.200646   \n",
       "StreamingMovies  -0.009072       0.176125  0.076076   -0.099795  0.203834   \n",
       "Contract          0.000095      -0.141820  0.294094    0.240556  0.676734   \n",
       "PaperlessBilling -0.011902       0.156258 -0.013957   -0.110131  0.004823   \n",
       "PaymentMethod    -0.004928      -0.093712  0.133280    0.124002  0.340939   \n",
       "MonthlyCharges   -0.013779       0.219874  0.097825   -0.112343  0.246862   \n",
       "TotalCharges      0.000048       0.102411  0.319072    0.064653  0.825880   \n",
       "Churn            -0.008545       0.150541 -0.149982   -0.163128 -0.354049   \n",
       "\n",
       "                  PhoneService  MultipleLines  InternetService  \\\n",
       "gender               -0.007515      -0.010284        -0.009643   \n",
       "SeniorCitizen         0.008392       0.113769         0.259030   \n",
       "Partner               0.018397       0.118037         0.000938   \n",
       "Dependents           -0.001078      -0.019178        -0.177789   \n",
       "tenure                0.007877       0.259112         0.031272   \n",
       "PhoneService          1.000000       0.674824         0.094182   \n",
       "MultipleLines         0.674824       1.000000         0.308546   \n",
       "InternetService       0.094182       0.308546         1.000000   \n",
       "OnlineSecurity       -0.158997       0.069959         0.581993   \n",
       "OnlineBackup         -0.129432       0.130978         0.658487   \n",
       "DeviceProtection     -0.141055       0.125447         0.662791   \n",
       "TechSupport          -0.160950       0.069706         0.585745   \n",
       "StreamingTV          -0.107242       0.166256         0.725522   \n",
       "StreamingMovies      -0.114798       0.163218         0.722592   \n",
       "Contract              0.003019       0.084037        -0.288855   \n",
       "PaperlessBilling      0.016696       0.133538         0.377644   \n",
       "PaymentMethod        -0.003106       0.026248        -0.178655   \n",
       "MonthlyCharges        0.248033       0.491412         0.905389   \n",
       "TotalCharges          0.113008       0.412495         0.428212   \n",
       "Churn                 0.011691       0.036148         0.316350   \n",
       "\n",
       "                  OnlineSecurity  OnlineBackup  DeviceProtection  TechSupport  \\\n",
       "gender                 -0.013233     -0.011081         -0.003168    -0.008215   \n",
       "SeniorCitizen           0.081766      0.144762          0.140226     0.067318   \n",
       "Partner                 0.092034      0.091536          0.099077     0.077252   \n",
       "Dependents             -0.028964     -0.061970         -0.068296    -0.040057   \n",
       "tenure                  0.232295      0.253575          0.253834     0.230429   \n",
       "PhoneService           -0.158997     -0.129432         -0.141055    -0.160950   \n",
       "MultipleLines           0.069959      0.130978          0.125447     0.069706   \n",
       "InternetService         0.581993      0.658487          0.662791     0.585745   \n",
       "OnlineSecurity          1.000000      0.704598          0.701112     0.734696   \n",
       "OnlineBackup            0.704598      1.000000          0.710790     0.708659   \n",
       "DeviceProtection        0.701112      0.710790          1.000000     0.724817   \n",
       "TechSupport             0.734696      0.708659          0.724817     1.000000   \n",
       "StreamingTV             0.661541      0.702605          0.747489     0.703306   \n",
       "StreamingMovies         0.666682      0.699828          0.752755     0.704595   \n",
       "Contract                0.016495     -0.034745          0.006638     0.048001   \n",
       "PaperlessBilling        0.184449      0.260691          0.246011     0.210547   \n",
       "PaymentMethod           0.035563     -0.003786          0.005643     0.038621   \n",
       "MonthlyCharges          0.635260      0.710175          0.736925     0.660864   \n",
       "TotalCharges            0.483157      0.537726          0.546100     0.495641   \n",
       "Churn                   0.023014      0.073934          0.084402     0.026744   \n",
       "\n",
       "                  StreamingTV  StreamingMovies  Contract  PaperlessBilling  \\\n",
       "gender              -0.007163        -0.009072  0.000095         -0.011902   \n",
       "SeniorCitizen        0.167123         0.176125 -0.141820          0.156258   \n",
       "Partner              0.080205         0.076076  0.294094         -0.013957   \n",
       "Dependents          -0.085909        -0.099795  0.240556         -0.110131   \n",
       "tenure               0.200646         0.203834  0.676734          0.004823   \n",
       "PhoneService        -0.107242        -0.114798  0.003019          0.016696   \n",
       "MultipleLines        0.166256         0.163218  0.084037          0.133538   \n",
       "InternetService      0.725522         0.722592 -0.288855          0.377644   \n",
       "OnlineSecurity       0.661541         0.666682  0.016495          0.184449   \n",
       "OnlineBackup         0.702605         0.699828 -0.034745          0.260691   \n",
       "DeviceProtection     0.747489         0.752755  0.006638          0.246011   \n",
       "TechSupport          0.703306         0.704595  0.048001          0.210547   \n",
       "StreamingTV          1.000000         0.807118 -0.064457          0.318646   \n",
       "StreamingMovies      0.807118         1.000000 -0.060995          0.310055   \n",
       "Contract            -0.064457        -0.060995  1.000000         -0.175475   \n",
       "PaperlessBilling     0.318646         0.310055 -0.175475          1.000000   \n",
       "PaymentMethod       -0.073319        -0.066761  0.359487         -0.101790   \n",
       "MonthlyCharges       0.820193         0.817525 -0.072739          0.351930   \n",
       "TotalCharges         0.535616         0.537695  0.450306          0.157830   \n",
       "Churn                0.164509         0.162672 -0.396150          0.191454   \n",
       "\n",
       "                  PaymentMethod  MonthlyCharges  TotalCharges     Churn  \n",
       "gender                -0.004928       -0.013779      0.000048 -0.008545  \n",
       "SeniorCitizen         -0.093712        0.219874      0.102411  0.150541  \n",
       "Partner                0.133280        0.097825      0.319072 -0.149982  \n",
       "Dependents             0.124002       -0.112343      0.064653 -0.163128  \n",
       "tenure                 0.340939        0.246862      0.825880 -0.354049  \n",
       "PhoneService          -0.003106        0.248033      0.113008  0.011691  \n",
       "MultipleLines          0.026248        0.491412      0.412495  0.036148  \n",
       "InternetService       -0.178655        0.905389      0.428212  0.316350  \n",
       "OnlineSecurity         0.035563        0.635260      0.483157  0.023014  \n",
       "OnlineBackup          -0.003786        0.710175      0.537726  0.073934  \n",
       "DeviceProtection       0.005643        0.736925      0.546100  0.084402  \n",
       "TechSupport            0.038621        0.660864      0.495641  0.026744  \n",
       "StreamingTV           -0.073319        0.820193      0.535616  0.164509  \n",
       "StreamingMovies       -0.066761        0.817525      0.537695  0.162672  \n",
       "Contract               0.359487       -0.072739      0.450306 -0.396150  \n",
       "PaperlessBilling      -0.101790        0.351930      0.157830  0.191454  \n",
       "PaymentMethod          1.000000       -0.074640      0.222694 -0.262918  \n",
       "MonthlyCharges        -0.074640        1.000000      0.651065  0.192858  \n",
       "TotalCharges           0.222694        0.651065      1.000000 -0.199484  \n",
       "Churn                 -0.262918        0.192858     -0.199484  1.000000  "
      ]
     },
     "execution_count": 22,
     "metadata": {},
     "output_type": "execute_result"
    }
   ],
   "source": [
    "df.corr() # It will show correlation matrix "
   ]
  },
  {
   "cell_type": "code",
   "execution_count": 23,
   "metadata": {},
   "outputs": [
    {
     "data": {
      "text/plain": [
       "<AxesSubplot:>"
      ]
     },
     "execution_count": 23,
     "metadata": {},
     "output_type": "execute_result"
    },
    {
     "data": {
      "image/png": "[encoded data removed]",
      "text/plain": [
       "<Figure size 1800x1440 with 2 Axes>"
      ]
     },
     "metadata": {
      "needs_background": "light"
     },
     "output_type": "display_data"
    }
   ],
   "source": [
    "plt.figure(figsize=(25,20))\n",
    "sns.heatmap(df.corr(), annot=True,)"
   ]
  },
  {
   "cell_type": "markdown",
   "metadata": {},
   "source": [
    "- phone service and multiple lines has a high correlation\n",
    "- internet service, online security, online backup, device protection, tech support, streaming tv, streaming movies and monthly charges have a high correlation with each other as seen from the above heat map"
   ]
  },
  {
   "cell_type": "markdown",
   "metadata": {},
   "source": [
    "# Data pre-processing:"
   ]
  },
  {
   "cell_type": "markdown",
   "metadata": {},
   "source": [
    "• Segregate predictors vs target attributes\n",
    "\n",
    "• Check for target balancing and fix it if found imbalanced.\n",
    "\n",
    "• Perform train-test split.\n",
    "\n",
    "• Check if the train and test data have similar statistical characteristics when compared with original data."
   ]
  },
  {
   "cell_type": "code",
   "execution_count": 24,
   "metadata": {},
   "outputs": [],
   "source": [
    "# Segregating predictor and targets into x and y\n",
    "x=df.drop('Churn', axis=1)\n",
    "y=df['Churn']"
   ]
  },
  {
   "cell_type": "code",
   "execution_count": 25,
   "metadata": {},
   "outputs": [
    {
     "data": {
      "text/plain": [
       "0    5163\n",
       "1    1869\n",
       "Name: Churn, dtype: int64"
      ]
     },
     "execution_count": 25,
     "metadata": {},
     "output_type": "execute_result"
    }
   ],
   "source": [
    "#checking for target imbalance\n",
    "y.value_counts()"
   ]
  },
  {
   "cell_type": "code",
   "execution_count": 26,
   "metadata": {},
   "outputs": [
    {
     "data": {
      "text/plain": [
       "0    1869\n",
       "1    1869\n",
       "Name: Churn, dtype: int64"
      ]
     },
     "execution_count": 26,
     "metadata": {},
     "output_type": "execute_result"
    }
   ],
   "source": [
    "# there is a target imbalance\n",
    "\n",
    "# balancing the targets\n",
    "x1=df.loc[df['Churn']==0][:1869]\n",
    "x2=df.loc[df['Churn']==1]\n",
    "df_balanced=pd.concat([x1,x2], axis=0)\n",
    "\n",
    "# Segregating predictor and targets into x and y\n",
    "x=df_balanced.drop('Churn', axis=1)\n",
    "y=df_balanced['Churn']\n",
    "\n",
    "#verifying target balance\n",
    "y.value_counts()\n"
   ]
  },
  {
   "cell_type": "code",
   "execution_count": 27,
   "metadata": {},
   "outputs": [],
   "source": [
    "from sklearn.model_selection import train_test_split\n",
    "\n",
    "# performing train test split in 70:30 ratio\n",
    "x_train, x_test, y_train, y_test = train_test_split(x, y, test_size=.30, random_state=1)"
   ]
  },
  {
   "cell_type": "code",
   "execution_count": 28,
   "metadata": {},
   "outputs": [
    {
     "name": "stdout",
     "output_type": "stream",
     "text": [
      "column: gender\n",
      "mean\t original data: 0.5,\t training data: 0.51,\t testing data: 0.51\n",
      "median\t original data: 1.0,\t training data: 1.0,\t testing data: 1.0\n",
      "std dev\t original data: 0.5,\t training data: 0.5,\t testing data: 0.5\n",
      "min\t original data: 0,\t training data: 0,\t testing data: 0\n",
      "max\t original data: 1,\t training data: 1,\t testing data: 1\n",
      "\n",
      "column: SeniorCitizen\n",
      "mean\t original data: 0.16,\t training data: 0.2,\t testing data: 0.18\n",
      "median\t original data: 0.0,\t training data: 0.0,\t testing data: 0.0\n",
      "std dev\t original data: 0.37,\t training data: 0.4,\t testing data: 0.38\n",
      "min\t original data: 0,\t training data: 0,\t testing data: 0\n",
      "max\t original data: 1,\t training data: 1,\t testing data: 1\n",
      "\n",
      "column: Partner\n",
      "mean\t original data: 0.48,\t training data: 0.45,\t testing data: 0.43\n",
      "median\t original data: 0.0,\t training data: 0.0,\t testing data: 0.0\n",
      "std dev\t original data: 0.5,\t training data: 0.5,\t testing data: 0.5\n",
      "min\t original data: 0,\t training data: 0,\t testing data: 0\n",
      "max\t original data: 1,\t training data: 1,\t testing data: 1\n",
      "\n",
      "column: Dependents\n",
      "mean\t original data: 0.3,\t training data: 0.27,\t testing data: 0.27\n",
      "median\t original data: 0.0,\t training data: 0.0,\t testing data: 0.0\n",
      "std dev\t original data: 0.46,\t training data: 0.44,\t testing data: 0.44\n",
      "min\t original data: 0,\t training data: 0,\t testing data: 0\n",
      "max\t original data: 1,\t training data: 1,\t testing data: 1\n",
      "\n",
      "column: tenure\n",
      "mean\t original data: 32.42,\t training data: 27.86,\t testing data: 27.77\n",
      "median\t original data: 29.0,\t training data: 22.0,\t testing data: 21.0\n",
      "std dev\t original data: 24.55,\t training data: 24.08,\t testing data: 24.16\n",
      "min\t original data: 1,\t training data: 1,\t testing data: 1\n",
      "max\t original data: 72,\t training data: 72,\t testing data: 72\n",
      "\n",
      "column: PhoneService\n",
      "mean\t original data: 0.9,\t training data: 0.91,\t testing data: 0.92\n",
      "median\t original data: 1.0,\t training data: 1.0,\t testing data: 1.0\n",
      "std dev\t original data: 0.3,\t training data: 0.29,\t testing data: 0.28\n",
      "min\t original data: 0,\t training data: 0,\t testing data: 0\n",
      "max\t original data: 1,\t training data: 1,\t testing data: 1\n",
      "\n",
      "column: MultipleLines\n",
      "mean\t original data: 0.33,\t training data: 0.35,\t testing data: 0.37\n",
      "median\t original data: 0.0,\t training data: 0.0,\t testing data: 0.0\n",
      "std dev\t original data: 0.64,\t training data: 0.64,\t testing data: 0.63\n",
      "min\t original data: -1,\t training data: -1,\t testing data: -1\n",
      "max\t original data: 1,\t training data: 1,\t testing data: 1\n",
      "\n",
      "column: InternetService\n",
      "mean\t original data: 1.22,\t training data: 1.36,\t testing data: 1.35\n",
      "median\t original data: 1.0,\t training data: 2.0,\t testing data: 2.0\n",
      "std dev\t original data: 0.78,\t training data: 0.75,\t testing data: 0.75\n",
      "min\t original data: 0,\t training data: 0,\t testing data: 0\n",
      "max\t original data: 2,\t training data: 2,\t testing data: 2\n",
      "\n",
      "column: OnlineSecurity\n",
      "mean\t original data: 0.07,\t training data: 0.07,\t testing data: 0.09\n",
      "median\t original data: 0.0,\t training data: 0.0,\t testing data: 0.0\n",
      "std dev\t original data: 0.71,\t training data: 0.63,\t testing data: 0.65\n",
      "min\t original data: -1,\t training data: -1,\t testing data: -1\n",
      "max\t original data: 1,\t training data: 1,\t testing data: 1\n",
      "\n",
      "column: OnlineBackup\n",
      "mean\t original data: 0.13,\t training data: 0.16,\t testing data: 0.15\n",
      "median\t original data: 0.0,\t training data: 0.0,\t testing data: 0.0\n",
      "std dev\t original data: 0.74,\t training data: 0.68,\t testing data: 0.68\n",
      "min\t original data: -1,\t training data: -1,\t testing data: -1\n",
      "max\t original data: 1,\t training data: 1,\t testing data: 1\n",
      "\n",
      "column: DeviceProtection\n",
      "mean\t original data: 0.13,\t training data: 0.17,\t testing data: 0.16\n",
      "median\t original data: 0.0,\t training data: 0.0,\t testing data: 0.0\n",
      "std dev\t original data: 0.74,\t training data: 0.68,\t testing data: 0.69\n",
      "min\t original data: -1,\t training data: -1,\t testing data: -1\n",
      "max\t original data: 1,\t training data: 1,\t testing data: 1\n",
      "\n",
      "column: TechSupport\n",
      "mean\t original data: 0.07,\t training data: 0.09,\t testing data: 0.08\n",
      "median\t original data: 0.0,\t training data: 0.0,\t testing data: 0.0\n",
      "std dev\t original data: 0.71,\t training data: 0.64,\t testing data: 0.64\n",
      "min\t original data: -1,\t training data: -1,\t testing data: -1\n",
      "max\t original data: 1,\t training data: 1,\t testing data: 1\n",
      "\n",
      "column: StreamingTV\n",
      "mean\t original data: 0.17,\t training data: 0.24,\t testing data: 0.22\n",
      "median\t original data: 0.0,\t training data: 0.0,\t testing data: 0.0\n",
      "std dev\t original data: 0.76,\t training data: 0.71,\t testing data: 0.72\n",
      "min\t original data: -1,\t training data: -1,\t testing data: -1\n",
      "max\t original data: 1,\t training data: 1,\t testing data: 1\n",
      "\n",
      "column: StreamingMovies\n",
      "mean\t original data: 0.17,\t training data: 0.25,\t testing data: 0.23\n",
      "median\t original data: 0.0,\t training data: 0.0,\t testing data: 0.0\n",
      "std dev\t original data: 0.76,\t training data: 0.72,\t testing data: 0.72\n",
      "min\t original data: -1,\t training data: -1,\t testing data: -1\n",
      "max\t original data: 1,\t training data: 1,\t testing data: 1\n",
      "\n",
      "column: Contract\n",
      "mean\t original data: 0.69,\t training data: 0.51,\t testing data: 0.54\n",
      "median\t original data: 0.0,\t training data: 0.0,\t testing data: 0.0\n",
      "std dev\t original data: 0.83,\t training data: 0.77,\t testing data: 0.79\n",
      "min\t original data: 0,\t training data: 0,\t testing data: 0\n",
      "max\t original data: 2,\t training data: 2,\t testing data: 2\n",
      "\n",
      "column: PaperlessBilling\n",
      "mean\t original data: 0.59,\t training data: 0.64,\t testing data: 0.67\n",
      "median\t original data: 1.0,\t training data: 1.0,\t testing data: 1.0\n",
      "std dev\t original data: 0.49,\t training data: 0.48,\t testing data: 0.47\n",
      "min\t original data: 0,\t training data: 0,\t testing data: 0\n",
      "max\t original data: 1,\t training data: 1,\t testing data: 1\n",
      "\n",
      "column: PaymentMethod\n",
      "mean\t original data: 1.32,\t training data: 1.16,\t testing data: 1.21\n",
      "median\t original data: 1.0,\t training data: 1.0,\t testing data: 1.0\n",
      "std dev\t original data: 1.15,\t training data: 1.16,\t testing data: 1.16\n",
      "min\t original data: 0,\t training data: 0,\t testing data: 0\n",
      "max\t original data: 3,\t training data: 3,\t testing data: 3\n",
      "\n",
      "column: MonthlyCharges\n",
      "mean\t original data: 64.8,\t training data: 68.22,\t testing data: 68.11\n",
      "median\t original data: 70.35,\t training data: 74.95,\t testing data: 74.4\n",
      "std dev\t original data: 30.09,\t training data: 28.79,\t testing data: 28.41\n",
      "min\t original data: 18.25,\t training data: 18.4,\t testing data: 18.95\n",
      "max\t original data: 118.75,\t training data: 118.35,\t testing data: 118.65\n",
      "\n",
      "column: TotalCharges\n",
      "mean\t original data: 2283.3,\t training data: 2055.9,\t testing data: 2025.57\n",
      "median\t original data: 1397.47,\t training data: 1179.68,\t testing data: 1164.17\n",
      "std dev\t original data: 2266.77,\t training data: 2186.27,\t testing data: 2163.44\n",
      "min\t original data: 18.8,\t training data: 18.8,\t testing data: 19.0\n",
      "max\t original data: 8684.8,\t training data: 8684.8,\t testing data: 8477.6\n",
      "\n"
     ]
    }
   ],
   "source": [
    "#Checking if the train and test data have similar statistical characteristics \n",
    "#when compared with original data\n",
    "\n",
    "for column in x_train.columns:\n",
    "    print(f'column: {column}')  \n",
    "    print(f'mean\\t original data: {round(df[column].mean(),2)},\\t training data: {round(x_train[column].mean(),2)},\\t testing data: {round(x_test[column].mean(),2)}') \n",
    "    print(f'median\\t original data: {round(df[column].median(),2)},\\t training data: {round(x_train[column].median(),2)},\\t testing data: {round(x_test[column].median(),2)}')    \n",
    "    print(f'std dev\\t original data: {round(df[column].std(),2)},\\t training data: {round(x_train[column].std(),2)},\\t testing data: {round(x_test[column].std(),2)}')      \n",
    "    print(f'min\\t original data: {round(df[column].min(),2)},\\t training data: {round(x_train[column].min(),2)},\\t testing data: {round(x_test[column].min(),2)}') \n",
    "    print(f'max\\t original data: {round(df[column].max(),2)},\\t training data: {round(x_train[column].max(),2)},\\t testing data: {round(x_test[column].max(),2)}')\n",
    "    print()\n",
    "\n"
   ]
  },
  {
   "cell_type": "code",
   "execution_count": 60,
   "metadata": {},
   "outputs": [],
   "source": [
    "# conclusion: there is not a substantial difference between the statistics of original vs training vs testing data\n",
    "# therefore train and test data have similar statistical characteristics when compared with original data \n",
    "# as observed for both categorical as well as numerical data."
   ]
  },
  {
   "cell_type": "markdown",
   "metadata": {},
   "source": [
    "# Model training, testing and tuning"
   ]
  },
  {
   "cell_type": "markdown",
   "metadata": {},
   "source": [
    "• Train and test all ensemble models taught in the learning module.\n",
    "\n",
    "• Suggestion: Use standard ensembles available. Also you can design your own ensemble technique using weak classifiers.\n",
    "\n",
    "• Display the classification accuracies for train and test data.\n",
    "\n",
    "• Apply all the possible tuning techniques to train the best model for the given data.\n",
    "\n",
    "• Suggestion: Use all possible hyper parameter combinations to extract the best accuracies.\n",
    "\n",
    "• Display and compare all the models designed with their train and test accuracies.\n",
    "\n",
    "• Select the final best trained model along with your detailed comments for selecting this model.\n",
    "\n",
    "• Pickle the selected model for future use."
   ]
  },
  {
   "cell_type": "markdown",
   "metadata": {
    "colab_type": "text",
    "id": "0kVLzYzJg70X"
   },
   "source": [
    "##                           Ensemble Learning - Bagging"
   ]
  },
  {
   "cell_type": "code",
   "execution_count": 30,
   "metadata": {},
   "outputs": [],
   "source": [
    "from sklearn.ensemble import BaggingClassifier\n",
    "\n",
    "bgcl = BaggingClassifier(n_estimators=50,random_state=1)\n",
    "bgcl = bgcl.fit(x_train, y_train)"
   ]
  },
  {
   "cell_type": "code",
   "execution_count": 31,
   "metadata": {},
   "outputs": [
    {
     "name": "stdout",
     "output_type": "stream",
     "text": [
      " accuracy for training data = 99.92354740061162\n",
      " accuracy for testing data = 73.44028520499108\n"
     ]
    },
    {
     "data": {
      "text/plain": [
       "<AxesSubplot:>"
      ]
     },
     "execution_count": 31,
     "metadata": {},
     "output_type": "execute_result"
    },
    {
     "data": {
      "image/png": "[encoded data removed]",
      "text/plain": [
       "<Figure size 504x360 with 2 Axes>"
      ]
     },
     "metadata": {
      "needs_background": "light"
     },
     "output_type": "display_data"
    }
   ],
   "source": [
    "from sklearn.metrics import confusion_matrix\n",
    "\n",
    "y_predict = bgcl.predict(x_test)\n",
    "\n",
    "print(f' accuracy for training data = {bgcl.score(x_train , y_train)*100}')\n",
    "print(f' accuracy for testing data = {bgcl.score(x_test , y_test)*100}')\n",
    "\n",
    "cm=confusion_matrix(y_test, y_predict,labels=[0, 1])\n",
    "\n",
    "df_cm = pd.DataFrame(cm, index = [i for i in [\"No\",\"Yes\"]],\n",
    "                  columns = [i for i in [\"No\",\"Yes\"]])\n",
    "plt.figure(figsize = (7,5))\n",
    "sns.heatmap(df_cm, annot=True ,fmt='g')"
   ]
  },
  {
   "cell_type": "markdown",
   "metadata": {},
   "source": [
    "- 133 churners got mis-classified as non-churners\n",
    "- 165 non-churners got mis-classified as churners\n",
    "- 421 non-churners and 403 churners got classified correctly"
   ]
  },
  {
   "cell_type": "markdown",
   "metadata": {},
   "source": [
    "## Ensemble Learning - AdaBoosting"
   ]
  },
  {
   "cell_type": "code",
   "execution_count": 32,
   "metadata": {},
   "outputs": [],
   "source": [
    "from sklearn.ensemble import AdaBoostClassifier\n",
    "abcl = AdaBoostClassifier(n_estimators=10, random_state=1)\n",
    "\n",
    "abcl = abcl.fit(x_train, y_train)"
   ]
  },
  {
   "cell_type": "code",
   "execution_count": 33,
   "metadata": {},
   "outputs": [
    {
     "name": "stdout",
     "output_type": "stream",
     "text": [
      " accuracy for training data = 76.29969418960245\n",
      " accuracy for testing data = 75.40106951871658\n"
     ]
    },
    {
     "data": {
      "text/plain": [
       "<AxesSubplot:>"
      ]
     },
     "execution_count": 33,
     "metadata": {},
     "output_type": "execute_result"
    },
    {
     "data": {
      "image/png": "[encoded data removed]",
      "text/plain": [
       "<Figure size 504x360 with 2 Axes>"
      ]
     },
     "metadata": {
      "needs_background": "light"
     },
     "output_type": "display_data"
    }
   ],
   "source": [
    "y_predict = abcl.predict(x_test)\n",
    "\n",
    "print(f' accuracy for training data = {abcl.score(x_train , y_train)*100}')\n",
    "print(f' accuracy for testing data = {abcl.score(x_test , y_test)*100}')\n",
    "\n",
    "cm=confusion_matrix(y_test, y_predict,labels=[0, 1])\n",
    "\n",
    "df_cm = pd.DataFrame(cm, index = [i for i in [\"No\",\"Yes\"]],\n",
    "                  columns = [i for i in [\"No\",\"Yes\"]])\n",
    "plt.figure(figsize = (7,5))\n",
    "sns.heatmap(df_cm, annot=True ,fmt='g')"
   ]
  },
  {
   "cell_type": "markdown",
   "metadata": {},
   "source": [
    "- 96 churners got mis-classified as non-churners\n",
    "- 180 non-churners got mis-classified as churners\n",
    "- 406 non-churners and 440 churners got classified correctly"
   ]
  },
  {
   "cell_type": "markdown",
   "metadata": {},
   "source": [
    "##                     Ensemble Learning - GradientBoost"
   ]
  },
  {
   "cell_type": "code",
   "execution_count": 34,
   "metadata": {},
   "outputs": [],
   "source": [
    "from sklearn.ensemble import GradientBoostingClassifier\n",
    "gbcl = GradientBoostingClassifier(n_estimators = 50,random_state=1)\n",
    "gbcl = gbcl.fit(x_train, y_train)"
   ]
  },
  {
   "cell_type": "code",
   "execution_count": 35,
   "metadata": {},
   "outputs": [
    {
     "name": "stdout",
     "output_type": "stream",
     "text": [
      " accuracy for training data = 79.47247706422019\n",
      " accuracy for testing data = 76.20320855614973\n"
     ]
    },
    {
     "data": {
      "text/plain": [
       "<AxesSubplot:>"
      ]
     },
     "execution_count": 35,
     "metadata": {},
     "output_type": "execute_result"
    },
    {
     "data": {
      "image/png": "[encoded data removed]",
      "text/plain": [
       "<Figure size 504x360 with 2 Axes>"
      ]
     },
     "metadata": {
      "needs_background": "light"
     },
     "output_type": "display_data"
    }
   ],
   "source": [
    "y_predict = gbcl.predict(x_test)\n",
    "\n",
    "print(f' accuracy for training data = {gbcl.score(x_train , y_train)*100}')\n",
    "print(f' accuracy for testing data = {gbcl.score(x_test , y_test)*100}')\n",
    "\n",
    "\n",
    "cm=confusion_matrix(y_test, y_predict,labels=[0, 1])\n",
    "\n",
    "df_cm = pd.DataFrame(cm, index = [i for i in [\"No\",\"Yes\"]],\n",
    "                  columns = [i for i in [\"No\",\"Yes\"]])\n",
    "plt.figure(figsize = (7,5))\n",
    "sns.heatmap(df_cm, annot=True ,fmt='g')"
   ]
  },
  {
   "cell_type": "markdown",
   "metadata": {},
   "source": [
    "- 105 churners got mis-classified as non-churners\n",
    "- 162 non-churners got mis-classified as churners\n",
    "- 424 non-churners and 431 churners got classified correctly"
   ]
  },
  {
   "cell_type": "markdown",
   "metadata": {},
   "source": [
    "## Ensemble RandomForest Classifier"
   ]
  },
  {
   "cell_type": "code",
   "execution_count": 36,
   "metadata": {},
   "outputs": [],
   "source": [
    "from sklearn.ensemble import RandomForestClassifier\n",
    "rfcl = RandomForestClassifier(n_estimators = 50, random_state=1, max_features=12)\n",
    "rfcl = rfcl.fit(x_train, y_train)"
   ]
  },
  {
   "cell_type": "code",
   "execution_count": 37,
   "metadata": {},
   "outputs": [
    {
     "name": "stdout",
     "output_type": "stream",
     "text": [
      " accuracy for training data = 99.96177370030581\n",
      " accuracy for testing data = 74.15329768270945\n"
     ]
    },
    {
     "data": {
      "text/plain": [
       "<AxesSubplot:>"
      ]
     },
     "execution_count": 37,
     "metadata": {},
     "output_type": "execute_result"
    },
    {
     "data": {
      "image/png": "[encoded data removed]",
      "text/plain": [
       "<Figure size 504x360 with 2 Axes>"
      ]
     },
     "metadata": {
      "needs_background": "light"
     },
     "output_type": "display_data"
    }
   ],
   "source": [
    "y_predict = rfcl.predict(x_test)\n",
    "\n",
    "print(f' accuracy for training data = {rfcl.score(x_train , y_train)*100}')\n",
    "print(f' accuracy for testing data = {rfcl.score(x_test , y_test)*100}')\n",
    "\n",
    "cm=confusion_matrix(y_test, y_predict,labels=[0, 1])\n",
    "\n",
    "df_cm = pd.DataFrame(cm, index = [i for i in [\"No\",\"Yes\"]],\n",
    "                  columns = [i for i in [\"No\",\"Yes\"]])\n",
    "plt.figure(figsize = (7,5))\n",
    "sns.heatmap(df_cm, annot=True ,fmt='g')"
   ]
  },
  {
   "cell_type": "markdown",
   "metadata": {},
   "source": [
    "- 135 churners got mis-classified as non-churners\n",
    "- 155 non-churners got mis-classified as churners\n",
    "- 431 non-churners and 401 churners got classified correctly"
   ]
  },
  {
   "cell_type": "markdown",
   "metadata": {},
   "source": [
    "## Tuning the models"
   ]
  },
  {
   "cell_type": "code",
   "execution_count": 38,
   "metadata": {},
   "outputs": [],
   "source": [
    "from sklearn.model_selection import GridSearchCV"
   ]
  },
  {
   "cell_type": "code",
   "execution_count": 39,
   "metadata": {},
   "outputs": [],
   "source": [
    "# tuning bagging classifier"
   ]
  },
  {
   "cell_type": "code",
   "execution_count": 40,
   "metadata": {},
   "outputs": [],
   "source": [
    "model = BaggingClassifier()\n",
    "params = {'n_estimators':list(np.arange(60,80)),\n",
    "          'max_features':list(np.arange(5,10)),\n",
    "         }\n",
    "\n",
    "clf0 = GridSearchCV(model, params)\n",
    "clf0.fit(x_train,y_train)\n",
    "bgclresults=pd.DataFrame(clf0.cv_results_)"
   ]
  },
  {
   "cell_type": "code",
   "execution_count": 41,
   "metadata": {},
   "outputs": [],
   "source": [
    "# tuning adaboost classifier"
   ]
  },
  {
   "cell_type": "code",
   "execution_count": 42,
   "metadata": {},
   "outputs": [],
   "source": [
    "model = AdaBoostClassifier()\n",
    "params = {'n_estimators':list(np.arange(60,80)),\n",
    "          'algorithm': ['SAMME', 'SAMME.R'],\n",
    "         }\n",
    "\n",
    "clf1 = GridSearchCV(model, params)\n",
    "clf1.fit(x_train,y_train)\n",
    "abclresults=pd.DataFrame(clf1.cv_results_)"
   ]
  },
  {
   "cell_type": "code",
   "execution_count": 43,
   "metadata": {},
   "outputs": [],
   "source": [
    "# tuning gradient boosting classifier"
   ]
  },
  {
   "cell_type": "code",
   "execution_count": 44,
   "metadata": {},
   "outputs": [],
   "source": [
    "model = GradientBoostingClassifier()\n",
    "params = {'n_estimators':list(np.arange(60,80)),\n",
    "          'loss':['deviance', 'exponential']\n",
    "         }\n",
    "\n",
    "clf2 = GridSearchCV(model, params)\n",
    "clf2.fit(x_train,y_train)\n",
    "gbclresults=pd.DataFrame(clf2.cv_results_)"
   ]
  },
  {
   "cell_type": "code",
   "execution_count": 45,
   "metadata": {},
   "outputs": [],
   "source": [
    "# tuning random forest classifier"
   ]
  },
  {
   "cell_type": "code",
   "execution_count": 46,
   "metadata": {},
   "outputs": [],
   "source": [
    "model = RandomForestClassifier()\n",
    "params = {'n_estimators':list(np.arange(60,80)),\n",
    "          'criterion' : [ 'gini', 'entropy'],\n",
    "         }\n",
    "\n",
    "clf3 = GridSearchCV(model, params)\n",
    "clf3.fit(x_train,y_train)\n",
    "rfclresults=pd.DataFrame(clf3.cv_results_)"
   ]
  },
  {
   "cell_type": "code",
   "execution_count": null,
   "metadata": {},
   "outputs": [],
   "source": []
  },
  {
   "cell_type": "code",
   "execution_count": 47,
   "metadata": {},
   "outputs": [
    {
     "name": "stdout",
     "output_type": "stream",
     "text": [
      "bagging classifier:\n",
      "best parameters {'max_features': 8, 'n_estimators': 72}\n",
      "best score 0.7626158539255323\n",
      "\n",
      "adaboost classifier:\n",
      "best parameters {'algorithm': 'SAMME', 'n_estimators': 65}\n",
      "best score 0.7649088494154394\n",
      "\n",
      "gradient boost classifier:\n",
      "best parameters {'loss': 'exponential', 'n_estimators': 72}\n",
      "best score 0.7595580400799847\n",
      "\n",
      "random forest classifier:\n",
      "best parameters {'criterion': 'entropy', 'n_estimators': 69}\n",
      "best score 0.7545852611913068\n"
     ]
    }
   ],
   "source": [
    "# best accuracies after tuning the models with hyper parameters\n",
    "print('bagging classifier:')\n",
    "print('best parameters', bgclresults.loc[bgclresults['rank_test_score']==1]['params'].values[0])\n",
    "print('best score', bgclresults.loc[bgclresults['rank_test_score']==1]['mean_test_score'].values[0])\n",
    "print()\n",
    "\n",
    "print('adaboost classifier:')\n",
    "print('best parameters', abclresults.loc[abclresults['rank_test_score']==1]['params'].values[0])\n",
    "print('best score', abclresults.loc[abclresults['rank_test_score']==1]['mean_test_score'].values[0])\n",
    "print()\n",
    "\n",
    "print('gradient boost classifier:')\n",
    "print('best parameters', gbclresults.loc[gbclresults['rank_test_score']==1]['params'].values[0])\n",
    "print('best score', gbclresults.loc[gbclresults['rank_test_score']==1]['mean_test_score'].values[0])\n",
    "print()\n",
    "\n",
    "print('random forest classifier:')\n",
    "print('best parameters', rfclresults.loc[rfclresults['rank_test_score']==1]['params'].values[0])\n",
    "print('best score', rfclresults.loc[rfclresults['rank_test_score']==1]['mean_test_score'].values[0])"
   ]
  },
  {
   "cell_type": "code",
   "execution_count": 58,
   "metadata": {},
   "outputs": [
    {
     "name": "stdout",
     "output_type": "stream",
     "text": [
      "model: Bagging Classifier\t\t Training accuracy: 99.0,\t Testing accuracy: 74.0\n",
      "model: AdaBoost Classifier\t\t Training accuracy: 77.0,\t Testing accuracy: 77.0\n",
      "model: Gradient Boost Classifier\t Training accuracy: 80.0,\t Testing accuracy: 75.0\n",
      "model: Random Forest Classifier\t\t Training accuracy: 100.0,\t Testing accuracy: 74.0\n"
     ]
    }
   ],
   "source": [
    "#Display and compare all the models designed with their train and test accuracies\n",
    "\n",
    "model1 = BaggingClassifier(max_features= 8, n_estimators= 72)\n",
    "model2 = AdaBoostClassifier(algorithm= 'SAMME', n_estimators= 65)\n",
    "model3 = GradientBoostingClassifier(loss= 'exponential', n_estimators= 72)\n",
    "model4 = RandomForestClassifier(criterion= 'entropy', n_estimators= 69)\n",
    "\n",
    "model1.fit(x_train,y_train)\n",
    "model2.fit(x_train,y_train)\n",
    "model3.fit(x_train,y_train)\n",
    "model4.fit(x_train,y_train)\n",
    "\n",
    "print(f'model: Bagging Classifier\\t\\t Training accuracy: {100*round(model1.score(x_train,y_train),2)},\\t Testing accuracy: {100*round(model1.score(x_test,y_test),2)}')\n",
    "print(f'model: AdaBoost Classifier\\t\\t Training accuracy: {100*round(model2.score(x_train,y_train),2)},\\t Testing accuracy: {100*round(model2.score(x_test,y_test),2)}')\n",
    "print(f'model: Gradient Boost Classifier\\t Training accuracy: {100*round(model3.score(x_train,y_train),2)},\\t Testing accuracy: {100*round(model3.score(x_test,y_test),2)}')\n",
    "print(f'model: Random Forest Classifier\\t\\t Training accuracy: {100*round(model4.score(x_train,y_train),2)},\\t Testing accuracy: {100*round(model4.score(x_test,y_test),2)}')"
   ]
  },
  {
   "cell_type": "markdown",
   "metadata": {},
   "source": [
    "The best model is AdaBoost Classifier because:\n",
    "- It has the highest testing accuracy\n",
    "- all other models seem to have higher discrepancies between training and testing accuracy which means they are overfitting\n",
    "- Adaboost Classifier model doesnt appear to be underfit or overfit"
   ]
  },
  {
   "cell_type": "code",
   "execution_count": 59,
   "metadata": {},
   "outputs": [],
   "source": [
    "# Save the Model to file in the current working directory\n",
    "import pickle\n",
    "pickle.dump(model2, open(\"best_model.pkl\", 'wb'))"
   ]
  },
  {
   "cell_type": "markdown",
   "metadata": {},
   "source": [
    "# Conclusion and improvisation:"
   ]
  },
  {
   "cell_type": "markdown",
   "metadata": {},
   "source": [
    "• Write your conclusion on the results.\n",
    "\n",
    "• Detailed suggestions or improvements or on quality, quantity, variety, velocity, veracity etc. on the data points collected by the\n",
    "telecom operator to perform a better data analysis in future."
   ]
  },
  {
   "cell_type": "code",
   "execution_count": 49,
   "metadata": {},
   "outputs": [],
   "source": [
    "#conclusion "
   ]
  },
  {
   "cell_type": "markdown",
   "metadata": {},
   "source": [
    "- The Best model for the given data is Adaboost classifier with parameters: algorithm= 'SAMME', n_estimators= 65\n",
    "- We are able to correctly predict customers that will churn with 77% accuracy"
   ]
  },
  {
   "cell_type": "markdown",
   "metadata": {
    "tags": []
   },
   "source": [
    "**Detailed suggestions or improvements or on quality, quantity, variety, velocity, veracity etc. on the data points collected by the telecom operator to perform a better data analysis in future.**\n",
    "1. some columns had \" \" (a space) as a dummy filler which should be avoided to make detecting null cells easier \n",
    "2. columns such as monthly charges and total charges should mention if all numbers are in the same currency\n",
    "3. more data could be included if customer recently bought/upgraded additional services\n",
    "4. more data could be included if customer has previously left a bad feedback/complaint\n",
    "5. more data could be collected about the age of the customer\n",
    "6. data was imbalanced, more data could be included of churners"
   ]
  }
 ],
 "metadata": {
  "interpreter": {
   "hash": "6f3493a5d9f3d8c3d9b25c6b4171e059b5e8ee4b01ad7338a7be7a2790074dea"
  },
  "kernelspec": {
   "display_name": "Python 3",
   "language": "python",
   "name": "python3"
  },
  "language_info": {
   "codemirror_mode": {
    "name": "ipython",
    "version": 3
   },
   "file_extension": ".py",
   "mimetype": "text/x-python",
   "name": "python",
   "nbconvert_exporter": "python",
   "pygments_lexer": "ipython3",
   "version": "3.8.8"
  }
 },
 "nbformat": 4,
 "nbformat_minor": 4
}
