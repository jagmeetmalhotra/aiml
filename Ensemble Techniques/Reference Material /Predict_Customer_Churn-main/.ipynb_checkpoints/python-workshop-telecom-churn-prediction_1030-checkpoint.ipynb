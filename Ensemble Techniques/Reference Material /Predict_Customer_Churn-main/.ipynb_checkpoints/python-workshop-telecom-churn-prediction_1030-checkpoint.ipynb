{
 "cells": [
  {
   "cell_type": "markdown",
   "metadata": {
    "_cell_guid": "18948037-7431-40f4-befd-ab52d5aff6f9",
    "_uuid": "6e768cae-c343-4530-ab84-77c19823b4d1"
   },
   "source": [
    "# Telecom Customer Churn Prediction"
   ]
  },
  {
   "cell_type": "markdown",
   "metadata": {
    "_cell_guid": "8f5cf825-1806-4977-a9dc-5d022611407c",
    "_uuid": "3f9a9451-26c6-4707-a0b5-7d645af3ae0d"
   },
   "source": [
    "**Introduction**\n",
    "\n",
    "Customer Churn/Attrition is the loss of clients, which is defined as the propensity of a customer to stop doing business with an organization in a given time period.\n",
    "\n",
    "Telecom industires (Telephone/Internet service providers) often use customer churn analysis and customer churn rate as one of their key business metrics, because the cost of retaining an existing customer is far less than acquring a new one. Therefore, it's important to know churning customers beforehand. \n",
    "\n",
    "Predictive analytics use churn prediction models that predict customer churn by assessing their propensity of risk to churn. Since these models generate a small prioritized list of potential defectors, they are effective at focusing customer retention marketing programs on the subset of the customer base who are most vulnerable to churn."
   ]
  },
  {
   "cell_type": "markdown",
   "metadata": {
    "_cell_guid": "4ad20fa9-ff80-495a-a47f-d6b98afed619",
    "_uuid": "0313a819-7cd2-4bae-a95c-9aabc5c65dcc"
   },
   "source": [
    "**About the Analysis:**\n",
    "* This analysis focuses on the behaviour of telecom customers through EDA, and later use predictive analytics to determine the customers who are most likely to churn.\n",
    "\n",
    "\n",
    "\n",
    "**About the data:**\n",
    "* Customers who left in last month - the column is called Churn\n",
    "* Services that each customer has signed up for - phone, multiple lines, internet, online securitiy, online backup, device protection, tech support, and streaming TV and movies\n",
    "* Customer account information - how long they've been a customer, contract, payment method, paperless billing, monthly charges, and total charges\n",
    "* Demographic info - gender, age range, and if they have partners and dependents"
   ]
  },
  {
   "cell_type": "markdown",
   "metadata": {
    "_cell_guid": "8511fc01-efc2-43a8-87e8-5cc48885b476",
    "_uuid": "1a7e4ca7-7564-4015-86ee-7c3f75641da1"
   },
   "source": [
    "- <a href='#1'>1. Data overview</a>\n",
    "- <a href='#2'>2. Data Manipulation</a>\n",
    "    - <a href='#2.1'>2.1. Convert Data Types</a>\n",
    "    - <a href='#2.2'>2.2. Missing Value</a>\n",
    "- <a href='#3'>3. Exploratory Data Analysis</a>\n",
    "    - <a href='#3.1'>3.1. Target Variable - Churn Distribution</a>\n",
    "    - <a href='#3.2'>3.2. Demographic Analysis</a>\n",
    "        - <a href='#3.2.1'>3.2.1 Gender\n",
    "        - <a href='#3.2.2'>3.2.2 Senior Citizen\n",
    "        - <a href='#3.2.3'>3.2.3 Partner and Dependent Status\n",
    "    - <a href='#3.3'>3.3. Customer Account Information</a>\n",
    "        - <a href='#3.3.1'>3.3.1 Tenure\n",
    "        - <a href='#3.3.2'>3.3.2 Contract Type\n",
    "    - <a href='#3.4'>3.4. Services</a>\n",
    "    - <a href='#3.5'>3.5. Monthly and Total Charges</a>       \n",
    "- <a href='#4'>4. Model Building</a>\n",
    "    - <a href='#4.1'>4.1. Data Preprocessing</a>\n",
    "         - <a href='#4.1.1'>4.1.1 Converting Categorical Variables to Dummy Variables\n",
    "         - <a href='#4.1.2'>4.1.2 Scaling All Variables\n",
    "         - <a href='#4.1.3'>4.1.3 Correlation Analysis\n",
    "    - <a href='#4.2'>4.2. Baseline Model - Logistic Regression</a>\n",
    "    - <a href='#4.3'>4.3. Random Forest</a>\n",
    "    - <a href='#4.4'>4.4. XGBoost</a>"
   ]
  },
  {
   "cell_type": "code",
   "execution_count": null,
   "metadata": {
    "_cell_guid": "dcc60ed2-8897-4204-8cd4-ec4bfbe15d7d",
    "_uuid": "258f335c-11ab-4026-b9b9-7de322fa2a17"
   },
   "outputs": [],
   "source": [
    "#Importing libraries\n",
    "import numpy as np # linear algebra\n",
    "import pandas as pd # data processing\n",
    "\n",
    "import seaborn as sns # visualization\n",
    "sns.set(style = 'white')\n",
    "import matplotlib.ticker as mtick # For specifying the axes tick format \n",
    "import matplotlib.pyplot as plt #visualization\n",
    "\n",
    "import plotly.offline as py#visualization\n",
    "py.init_notebook_mode(connected=True)#visualization\n",
    "import plotly.graph_objs as go#visualization\n",
    "import plotly.tools as tls#visualization\n",
    "import plotly.figure_factory as ff#visualization\n",
    "\n",
    "\n",
    "from sklearn.model_selection import train_test_split #splitting training and testing set\n",
    "from sklearn.linear_model import LogisticRegression #Logistic Regression\n",
    "from sklearn.ensemble import RandomForestClassifier #Random Forest\n",
    "from xgboost import XGBClassifier #XGBoost\n",
    "\n",
    "from sklearn.metrics import accuracy_score, classification_report #Performance Measure\n",
    "from sklearn.metrics import roc_auc_score, roc_curve\n",
    "\n",
    "import warnings\n",
    "warnings.filterwarnings(\"ignore\")"
   ]
  },
  {
   "cell_type": "markdown",
   "metadata": {
    "_cell_guid": "819a2eaf-5839-4348-8c82-430008cdcd87",
    "_uuid": "bb1aa35e-8f43-4897-ae61-b443eacd1c12"
   },
   "source": [
    "# 1. Data Overview"
   ]
  },
  {
   "cell_type": "code",
   "execution_count": 1,
   "metadata": {
    "_cell_guid": "295970e8-b84e-446a-869f-98331b242ba3",
    "_uuid": "d787ebed-796d-4549-bcf5-fa6432318400"
   },
   "outputs": [
    {
     "ename": "NameError",
     "evalue": "name 'pd' is not defined",
     "output_type": "error",
     "traceback": [
      "\u001b[0;31m---------------------------------------------------------------------------\u001b[0m",
      "\u001b[0;31mNameError\u001b[0m                                 Traceback (most recent call last)",
      "\u001b[0;32m<ipython-input-1-1d6c95390554>\u001b[0m in \u001b[0;36m<module>\u001b[0;34m\u001b[0m\n\u001b[1;32m      1\u001b[0m \u001b[0;31m#Read csv and display first few rows\u001b[0m\u001b[0;34m\u001b[0m\u001b[0;34m\u001b[0m\u001b[0;34m\u001b[0m\u001b[0m\n\u001b[0;32m----> 2\u001b[0;31m \u001b[0mtelecom\u001b[0m \u001b[0;34m=\u001b[0m \u001b[0mpd\u001b[0m\u001b[0;34m.\u001b[0m\u001b[0mread_csv\u001b[0m\u001b[0;34m(\u001b[0m\u001b[0;34m'/kaggle/input/telco-customer-churn/WA_Fn-UseC_-Telco-Customer-Churn.csv'\u001b[0m\u001b[0;34m)\u001b[0m\u001b[0;34m\u001b[0m\u001b[0;34m\u001b[0m\u001b[0m\n\u001b[0m\u001b[1;32m      3\u001b[0m \u001b[0mtelecom\u001b[0m\u001b[0;34m.\u001b[0m\u001b[0mhead\u001b[0m\u001b[0;34m(\u001b[0m\u001b[0;34m)\u001b[0m\u001b[0;34m\u001b[0m\u001b[0;34m\u001b[0m\u001b[0m\n",
      "\u001b[0;31mNameError\u001b[0m: name 'pd' is not defined"
     ]
    }
   ],
   "source": [
    "#Read csv and display first few rows\n",
    "telecom = pd.read_csv('WA_Fn-UseC_-Telco-Customer-Churn.csv')\n",
    "telecom.head()"
   ]
  },
  {
   "cell_type": "code",
   "execution_count": null,
   "metadata": {
    "_cell_guid": "fb981188-7460-4e89-a953-7a0dcb9f6ebc",
    "_uuid": "02a4ae91-3bdd-48fe-b759-fd789051b6e9",
    "scrolled": true
   },
   "outputs": [],
   "source": [
    "#Data overview\n",
    "print (\"Rows     : \" ,telecom.shape[0])\n",
    "print (\"Columns  : \" ,telecom.shape[1])\n",
    "print (\"\\nFeatures : \\n\" ,telecom.columns.tolist())\n",
    "print (\"\\nData types : \\n\" ,telecom.dtypes)\n",
    "print (\"\\nUnique values :  \\n\",telecom.nunique())"
   ]
  },
  {
   "cell_type": "markdown",
   "metadata": {
    "_cell_guid": "79e27709-534c-4bad-b82e-6a467eb49265",
    "_uuid": "10287fc3-5a37-4c70-beec-281a4400e144"
   },
   "source": [
    "# 2. Data Manipulation"
   ]
  },
  {
   "cell_type": "markdown",
   "metadata": {
    "_cell_guid": "e96a538c-a373-4ffb-b362-db7cdbf600c9",
    "_uuid": "76f46725-67a7-4fff-b2bc-8a751b520884"
   },
   "source": [
    "# 2.1 Convert Data Types"
   ]
  },
  {
   "cell_type": "markdown",
   "metadata": {
    "_cell_guid": "b1e7a952-4fac-45b9-885b-88b5c45756c9",
    "_uuid": "33681844-9103-4df0-bf08-62aaa5a29fed"
   },
   "source": [
    "We noticed the type of 'Total Charges' is object, we want to convert the type into a numerical data type."
   ]
  },
  {
   "cell_type": "code",
   "execution_count": null,
   "metadata": {
    "_cell_guid": "d2580bf2-a963-4aac-aa76-03d6717fcc4f",
    "_uuid": "74360321-fda1-4759-84bc-412e392bbd1d"
   },
   "outputs": [],
   "source": [
    "# Converting Total Charges to a numerical data type, using pandas.to_numeric\n",
    "# if errors='coerce',then invalid parsing will be set as NaN.\n",
    "telecom.TotalCharges = pd.to_numeric(telecom.TotalCharges,errors='coerce')\n",
    "print (\"\\nMissing values :  \\n\",telecom.isnull().sum())"
   ]
  },
  {
   "cell_type": "markdown",
   "metadata": {
    "_cell_guid": "2c34b712-50ff-429c-b28b-c16564e1a12b",
    "_uuid": "14d5b128-c22a-4fbc-b933-c20d7b9fdb5f"
   },
   "source": [
    "# 2.2 Missing Value"
   ]
  },
  {
   "cell_type": "markdown",
   "metadata": {
    "_cell_guid": "5d1cc0f0-fc2e-4aa6-913e-6fe0d992901d",
    "_uuid": "cd6950e3-186e-41cb-9bd4-ad1c1aede59f"
   },
   "source": [
    "After looking at the above output, we can say that there are 11 missing values for Total Charges. \n",
    "\n",
    "Steps to handle missing values:\n",
    "1. Calculate the % of missing values.\n",
    "2. If the % is very small, the easiest way is to delete the records, as there's a minimal impact to the dataset.\n",
    "3. If the % is small, impute missing values with avg/median or try other imputation methods (eg. KNN).It can only work with numeric data. \n",
    "4. If the % is signicant, general imputation method may not work, as it may introduce too much bias into the dataset. The variable is not accurate. Delete/replace the variable.\n",
    "5. Try different algorithms. Some algorithms can factor in the missing values and learn the best imputation values for the missing data based on the training loss reduction (ie. XGBoost). Some others have the option to just ignore them (ie. LightGBM — use_missing=false)\n",
    "\n",
    "\n",
    "In our case, we only found 11 missing values, which is around 0.1% out of 7043 rows, let us remove these 11 rows from our dataset"
   ]
  },
  {
   "cell_type": "code",
   "execution_count": null,
   "metadata": {
    "_cell_guid": "1cc9694c-0ec4-4a74-99ec-e20c75022a46",
    "_uuid": "182c8a80-1a94-47c4-b3ae-c6753d245a6a"
   },
   "outputs": [],
   "source": [
    "#Removing 11 missing values,\n",
    "#When inplace = True , the data is modified in place, which means it will return nothing and the dataframe is now updated. \n",
    "telecom.dropna(inplace = True)\n",
    "\n",
    "#double-check if missing value has been removed.\n",
    "print (\"Rows     : \" ,telecom.shape[0])"
   ]
  },
  {
   "cell_type": "markdown",
   "metadata": {
    "_cell_guid": "b8f2376d-175f-4add-83dc-ea791e5b9fef",
    "_uuid": "7fc70cdf-f5ab-47b5-b3db-df384ba83957"
   },
   "source": [
    "# 3. Exploratory Data Analysis\n",
    "\n",
    "Let us first start with exploring our data set, to better understand the patterns in the data and potentially form some hypothesis. First we will look at Correlation analysis, and then observe the distribution of individual variables and then slice and dice our data for any interesting trends."
   ]
  },
  {
   "cell_type": "markdown",
   "metadata": {
    "_cell_guid": "54356e00-63bd-44a3-81ff-df4e0cc0e8ad",
    "_uuid": "12429d77-ca06-4b6a-92ea-f918b1bf1142"
   },
   "source": [
    "# 3.1 Target Variable - Churn Distribution"
   ]
  },
  {
   "cell_type": "markdown",
   "metadata": {
    "_cell_guid": "c07052fd-2352-4654-af72-2eded641294c",
    "_uuid": "275d24a0-4422-4e85-b856-35f659a2b402"
   },
   "source": [
    "We are trying to predict if the client left the company in the previous month. Therefore we have a binary classification problem with a slightly unbalanced target:\n",
    "\n",
    "* Churn: No - 73.4%\n",
    "* Churn: Yes - 26.6%"
   ]
  },
  {
   "cell_type": "markdown",
   "metadata": {
    "_cell_guid": "901b5c58-ee80-45b3-bed3-8d95542b65cc",
    "_uuid": "1836993c-d0d4-4f9f-aeef-b2148dccd471"
   },
   "source": [
    "Note: How to handle imbalanced data?\n",
    "\n",
    "- Oversampling \n",
    "- Undersampling \n",
    "- Try different algorithms by adjusting the weights (Hyperparameters tuning)"
   ]
  },
  {
   "cell_type": "code",
   "execution_count": null,
   "metadata": {
    "_cell_guid": "842a630b-aefa-4bbd-8f4f-07bad74b733e",
    "_uuid": "89b999e6-7046-401a-897e-a11d3e8e4d03"
   },
   "outputs": [],
   "source": [
    "ax = (telecom['Churn'].value_counts()*100.0 /len(telecom))\\\n",
    ".plot.pie(autopct='%.1f%%',figsize =(5,5), fontsize = 12 )                                                                           \n",
    "ax.yaxis.set_major_formatter(mtick.PercentFormatter())\n",
    "ax.set_title('Churn Distribution', fontsize = 12)"
   ]
  },
  {
   "cell_type": "code",
   "execution_count": null,
   "metadata": {
    "_cell_guid": "bf16bd44-3733-4294-8bf1-8031d6c7d800",
    "_uuid": "2ac6c90f-7d71-402c-8a66-dd1af5b83867"
   },
   "outputs": [],
   "source": [
    "#Separating churn and non churn customers for analysis\n",
    "churn     = telecom[telecom[\"Churn\"] == \"Yes\"]\n",
    "not_churn = telecom[telecom[\"Churn\"] == \"No\"]"
   ]
  },
  {
   "cell_type": "code",
   "execution_count": null,
   "metadata": {
    "_cell_guid": "c4455918-e5d8-4283-bf8a-b85f263713c0",
    "_uuid": "2ec1de0c-30c7-4de3-8e82-e14476e5989f"
   },
   "outputs": [],
   "source": [
    "#Write a function to configure pie chart\n",
    "\n",
    "def plot_pie(column) :\n",
    "    \n",
    "    trace1 = go.Pie(values  = churn[column].value_counts().values.tolist(),\n",
    "                    labels  = churn[column].value_counts().keys().tolist(),\n",
    "                    hoverinfo = \"label+percent+name\",\n",
    "                    domain  = dict(x = [0,.48]),\n",
    "                    name    = \"Churn Customers\",\n",
    "                    marker  = dict(line = dict(width = 2,\n",
    "                                               color = \"rgb(243,243,243)\")\n",
    "                                        ),\n",
    "                    hole    = .6\n",
    "                   )\n",
    "    \n",
    "    trace2 = go.Pie(values  = not_churn[column].value_counts().values.tolist(),\n",
    "                    labels  = not_churn[column].value_counts().keys().tolist(),\n",
    "                    hoverinfo = \"label+percent+name\",\n",
    "                    marker  = dict(line = dict(width = 2,\n",
    "                                               color = \"rgb(243,243,243)\")\n",
    "                                  ),\n",
    "                    domain  = dict(x = [.52,1]),\n",
    "                    hole    = .6,\n",
    "                    name    = \"Non churn Customers\" \n",
    "                   )\n",
    "    \n",
    "    layout = go.Layout(dict(title = column + \" distribution in customer attrition \",\n",
    "                            plot_bgcolor  = \"rgb(243,243,243)\",\n",
    "                            paper_bgcolor = \"rgb(243,243,243)\",\n",
    "                            annotations = [dict(text = \"Churn\",\n",
    "                                                font = dict(size = 13),\n",
    "                                                showarrow = False,\n",
    "                                                x = .22, y = .5),\n",
    "                                           dict(text = \"Non churn\",\n",
    "                                                font = dict(size = 13),\n",
    "                                                showarrow = False,\n",
    "                                                x = .80,y = .5\n",
    "                                            )\n",
    "                                          ]\n",
    "                           )\n",
    "                      )\n",
    "    data = [trace1,trace2]\n",
    "    fig  = go.Figure(data = data,layout = layout)\n",
    "    py.iplot(fig)"
   ]
  },
  {
   "cell_type": "markdown",
   "metadata": {
    "_cell_guid": "f4a10b7b-f0df-4aef-b658-f3c623933da4",
    "_uuid": "dfe123eb-6e09-42be-a944-4d61e311ff9a"
   },
   "source": [
    "# 3.2 Demographic Analysis\n",
    "\n",
    "Let's first understand the gender, age range, partnerand dependent status of the customers"
   ]
  },
  {
   "cell_type": "markdown",
   "metadata": {
    "_cell_guid": "0cd2cca6-75cb-46a8-aa0c-b73bd929979e",
    "_uuid": "81e96fa3-4513-4cad-8463-96e3ea337fc9"
   },
   "source": [
    "## 3.2.1 Gender\n",
    "\n",
    "- About half of the customers in our data set are male while the other half are female\n",
    "- Gender is not an indicative of churn."
   ]
  },
  {
   "cell_type": "code",
   "execution_count": null,
   "metadata": {
    "_cell_guid": "7e9ba06d-12ef-41d5-bcb0-a38619158209",
    "_uuid": "72a59dfa-ff7b-4d6a-b813-9a3d304739aa"
   },
   "outputs": [],
   "source": [
    "plot_pie(\"gender\")"
   ]
  },
  {
   "cell_type": "markdown",
   "metadata": {
    "_cell_guid": "fb9dd5f0-75d1-4e99-99f1-3ea5c41b2015",
    "_uuid": "34e03b1c-edf2-4b30-8a8d-7ce75283fcc7"
   },
   "source": [
    "## 3.2.2 Senior Citizen"
   ]
  },
  {
   "cell_type": "markdown",
   "metadata": {
    "_cell_guid": "49439b39-0ee1-4b4b-93cc-688c6365d9a3",
    "_uuid": "c61df7d1-95c0-427a-9d3b-27e9d75272c4"
   },
   "source": [
    " - There are only 16% of the customers who are senior citizens. Thus most of our customers in the data are younger people.\n",
    " - Senior Citizen has a higher churn rate:  25.5% Churn customers are Senior Citizen, as compared to 12.9% of Non-churn customers are Senior Citizen"
   ]
  },
  {
   "cell_type": "code",
   "execution_count": null,
   "metadata": {
    "_cell_guid": "b5014417-14b2-4f5a-959f-46fffc08e107",
    "_uuid": "c651a2bf-9e91-4926-aa82-33e36d1fc98c"
   },
   "outputs": [],
   "source": [
    "ax = (telecom['SeniorCitizen'].value_counts()*100.0 /len(telecom))\\\n",
    ".plot.pie(autopct='%.1f%%', labels = ['No', 'Yes'],figsize =(5,5), fontsize = 12 )                                                                           \n",
    "ax.yaxis.set_major_formatter(mtick.PercentFormatter())\n",
    "ax.set_ylabel('Senior Citizens',fontsize = 12)\n",
    "ax.set_title('% of Senior Citizens', fontsize = 12)"
   ]
  },
  {
   "cell_type": "code",
   "execution_count": null,
   "metadata": {
    "_cell_guid": "b9e55b82-abcb-4783-b8dd-977959184436",
    "_uuid": "f2d7ea38-3d6f-45b3-b1dd-76010d7f0536"
   },
   "outputs": [],
   "source": [
    "plot_pie(\"SeniorCitizen\")"
   ]
  },
  {
   "cell_type": "markdown",
   "metadata": {
    "_cell_guid": "1eef3603-2f2d-43bf-96f6-33f1614aad3f",
    "_uuid": "035f59b1-1153-46ed-ac33-fefad584bca1"
   },
   "source": [
    "## 3.2.3 Partner and Dependent Status"
   ]
  },
  {
   "cell_type": "markdown",
   "metadata": {
    "_cell_guid": "61ba04fb-24e9-430c-ae44-6ecb7c8f6f80",
    "_uuid": "a1604eef-440e-41e4-b78a-b8ebc35d8f7f"
   },
   "source": [
    " - About half of the customers have a partner, while only 30% of the total customers have dependents. \n",
    " - Customers without partners are more likely to churn.\n",
    " - Customers without dependents are more likely to churn."
   ]
  },
  {
   "cell_type": "code",
   "execution_count": null,
   "metadata": {
    "_cell_guid": "2b023d47-1b4f-442b-bac0-cef1af6cb018",
    "_uuid": "55ad26a9-b662-4203-a140-ede4ff49ae01"
   },
   "outputs": [],
   "source": [
    "ax = (telecom['Partner'].value_counts()*100.0 /len(telecom))\\\n",
    ".plot.pie(autopct='%.1f%%', labels = ['No', 'Yes'],figsize =(5,5), fontsize = 12 )                                                                           \n",
    "ax.yaxis.set_major_formatter(mtick.PercentFormatter())\n",
    "ax.set_ylabel('Partner',fontsize = 12)\n",
    "ax.set_title('% of Partner', fontsize = 12)"
   ]
  },
  {
   "cell_type": "code",
   "execution_count": null,
   "metadata": {
    "_cell_guid": "29f65c61-1872-4a8a-b7d1-a781c51d1ad1",
    "_uuid": "f91e39b4-a9b2-46f4-8f29-2e195f571637"
   },
   "outputs": [],
   "source": [
    "ax= (telecom['Dependents'].value_counts()*100.0 /len(telecom))\\\n",
    ".plot.pie(autopct='%.1f%%', labels = ['No', 'Yes'],figsize =(5,5), fontsize = 12 )   \n",
    "ax.yaxis.set_major_formatter(mtick.PercentFormatter())\n",
    "ax.set_ylabel('Dependents',fontsize = 12)\n",
    "ax.set_title('% of Dependents', fontsize = 12)"
   ]
  },
  {
   "cell_type": "code",
   "execution_count": null,
   "metadata": {
    "_cell_guid": "bb5cd704-116b-4f0f-98c9-b88b131520f9",
    "_uuid": "3f2bdaf6-05e4-48cc-b798-ae1df70f50a1"
   },
   "outputs": [],
   "source": [
    "plot_pie(\"Partner\")\n",
    "plot_pie(\"Dependents\")"
   ]
  },
  {
   "cell_type": "markdown",
   "metadata": {
    "_cell_guid": "5547a03d-6c4e-466e-81d6-018ba8a83119",
    "_uuid": "7dc13fbc-b688-447d-b19f-3634f26f120f"
   },
   "source": [
    "# 3.3 Customer Account Information"
   ]
  },
  {
   "cell_type": "markdown",
   "metadata": {
    "_cell_guid": "e8c5714b-0cc6-4ba7-ba48-60c0f9d2efb5",
    "_uuid": "ec6cfba4-48d5-4026-93c4-9ab6da8270e9"
   },
   "source": [
    "# 3.3.1 Tenure\n",
    "\n",
    "- Recent customers are more likely to churn\n",
    "- For non-churn customers, they tend to stay longer with the telecom company."
   ]
  },
  {
   "cell_type": "code",
   "execution_count": null,
   "metadata": {
    "_cell_guid": "ab32b0f5-b737-4ce0-85e4-b6ba2679c918",
    "_uuid": "dbd2d6eb-efb7-4844-afaf-bff839c7427f"
   },
   "outputs": [],
   "source": [
    "def kdeplot(feature):\n",
    "    plt.figure(figsize=(9, 4))\n",
    "    plt.title(\"KDE for {}\".format(feature))\n",
    "    ax0 = sns.kdeplot(telecom[telecom['Churn'] == 'No'][feature].dropna(), color= 'navy', label= 'Churn: No')\n",
    "    ax1 = sns.kdeplot(telecom[telecom['Churn'] == 'Yes'][feature].dropna(), color= 'orange', label= 'Churn: Yes')\n",
    "\n",
    "kdeplot('tenure')"
   ]
  },
  {
   "cell_type": "markdown",
   "metadata": {
    "_cell_guid": "34d4c336-5582-442c-b856-22f6ffc3ac5f",
    "_uuid": "6f65937b-0207-47c8-bfc9-b45999479b80"
   },
   "source": [
    "# 3.3.2 Contract Type\n",
    "\n",
    "- 55% Month-to-month, 24% Two-year, 21% One-year\n",
    "- Among churn customers, 89% are from month-to-month."
   ]
  },
  {
   "cell_type": "code",
   "execution_count": null,
   "metadata": {
    "_cell_guid": "59eab1af-3cf7-436b-819a-78cd87f810ea",
    "_uuid": "90262de1-4dc0-45e2-a6d8-522be9e49711"
   },
   "outputs": [],
   "source": [
    "ax = (telecom['Contract'].value_counts()*100.0 /len(telecom))\\\n",
    ".plot.pie(autopct='%.1f%%',figsize =(5,5), fontsize = 12 )                                                                           \n",
    "ax.yaxis.set_major_formatter(mtick.PercentFormatter())\n",
    "ax.set_ylabel('Contract',fontsize = 12)\n",
    "ax.set_title('% of Contract', fontsize = 12)"
   ]
  },
  {
   "cell_type": "code",
   "execution_count": null,
   "metadata": {
    "_cell_guid": "5f4fdb80-a72c-4def-b3a0-5d370b9247f6",
    "_uuid": "40a71dde-610c-48b3-abeb-1536c4f28446"
   },
   "outputs": [],
   "source": [
    "plot_pie(\"Contract\")"
   ]
  },
  {
   "cell_type": "markdown",
   "metadata": {
    "_cell_guid": "83413792-4c73-4630-a70d-037c6f7d5aab",
    "_uuid": "7d9990fa-c9c5-4c1a-b369-5d0dba00b9a6"
   },
   "source": [
    "# 3.4 Services"
   ]
  },
  {
   "cell_type": "code",
   "execution_count": null,
   "metadata": {
    "_cell_guid": "0593b21c-da1f-4d96-9e8b-49436f8a2a00",
    "_uuid": "4ca5618d-c84b-439f-9f5d-411c88a0c394"
   },
   "outputs": [],
   "source": [
    "services = ['PhoneService','MultipleLines','InternetService','OnlineSecurity',\n",
    "           'OnlineBackup','DeviceProtection','TechSupport','StreamingTV','StreamingMovies']\n",
    "\n",
    "fig, axes = plt.subplots(nrows = 3,ncols = 3,figsize = (15,12))\n",
    "for i, item in enumerate(services):\n",
    "    if i < 3:\n",
    "        ax = telecom[item].value_counts().plot(kind = 'bar',ax=axes[i,0],rot = 0)\n",
    "        \n",
    "    elif i >=3 and i < 6:\n",
    "        ax = telecom[item].value_counts().plot(kind = 'bar',ax=axes[i-3,1],rot = 0)\n",
    "        \n",
    "    elif i < 9:\n",
    "        ax = telecom[item].value_counts().plot(kind = 'bar',ax=axes[i-6,2],rot = 0)\n",
    "    ax.set_title(item)"
   ]
  },
  {
   "cell_type": "markdown",
   "metadata": {
    "_cell_guid": "f1545de8-8590-4479-9d1f-98b146357151",
    "_uuid": "7ba121fc-e577-44a4-9ae9-9e17ba70c6c8"
   },
   "source": [
    "# 3.5 Monthly and Total Charges"
   ]
  },
  {
   "cell_type": "markdown",
   "metadata": {
    "_cell_guid": "b4c487e7-3aae-4a7f-a3f2-f69cd10e1d73",
    "_uuid": "0e294343-efca-40da-a226-90c247810db2"
   },
   "source": [
    "- We observe that the total charges increases as the monthly bill for a customer increases.\n",
    "- Higher % of cusotmers churn when the monthly charges are high.\n",
    "- Higher churn when the total charges are lower."
   ]
  },
  {
   "cell_type": "code",
   "execution_count": null,
   "metadata": {
    "_cell_guid": "57c92786-b012-4414-a314-a08d7353aca3",
    "_uuid": "71039b5d-3898-4566-abab-ba650df63be8"
   },
   "outputs": [],
   "source": [
    "telecom[['MonthlyCharges', 'TotalCharges']].plot.scatter(x = 'MonthlyCharges',\n",
    "                                                              y='TotalCharges')"
   ]
  },
  {
   "cell_type": "code",
   "execution_count": null,
   "metadata": {
    "_cell_guid": "5ccaee2d-0e2d-4f45-a176-36ab03614d3d",
    "_uuid": "596610dd-1bcf-4f28-becd-4573e74f7299"
   },
   "outputs": [],
   "source": [
    "kdeplot(\"MonthlyCharges\")\n",
    "kdeplot(\"TotalCharges\")"
   ]
  },
  {
   "cell_type": "markdown",
   "metadata": {
    "_cell_guid": "be449d52-da61-4f5d-95d8-22d7c82aa001",
    "_uuid": "828c7228-d63e-4663-b424-6d502083ad9b"
   },
   "source": [
    "# 4. Model Building\n",
    "\n",
    "We will develop Logistic Regression, Random Forest, and XG Boost during this workshop"
   ]
  },
  {
   "cell_type": "markdown",
   "metadata": {
    "_cell_guid": "d7c8cab8-0fb7-465f-b942-1fd0dc1731cc",
    "_uuid": "c6d046d7-049d-4aa5-832a-d4060cb21a1e"
   },
   "source": [
    "# 4.1 Data Preprocessing"
   ]
  },
  {
   "cell_type": "markdown",
   "metadata": {
    "_cell_guid": "51f5d010-1263-42a4-b355-e0d02bf3270d",
    "_uuid": "f0883f14-76a8-46dc-a7fb-11a49a84b4ca"
   },
   "source": [
    "# 4.1.1 Convert Categorical Variables to dummy variables"
   ]
  },
  {
   "cell_type": "markdown",
   "metadata": {
    "_cell_guid": "cf1ba2b3-1055-4d05-9deb-6dfd875d83f5",
    "_uuid": "2397b059-33bc-4d9a-b626-31905a7800a2"
   },
   "source": [
    "Many machine learning algorithms can support categorical values without further manipulation but there are many more algorithms that do not. Therefore we need to turn these categorical variables(text attributes) into numerical values for further processing.\n",
    "\n",
    "A common apporach is called one hot encoding, which is to convert each category value into a new column and assigns a 1 or 0 (True/False) value to the column. This has the benefit of not weighting a value improperly but does have the downside of adding more columns to the dataset.\n",
    "\n",
    "Pandas supports this feature using get_dummies."
   ]
  },
  {
   "cell_type": "code",
   "execution_count": null,
   "metadata": {
    "_cell_guid": "d738d45a-6129-47c1-9889-795f364f20bd",
    "_uuid": "188b9d0b-0d35-4cdf-8b44-3f62a9f0be19"
   },
   "outputs": [],
   "source": [
    "#Convertin the predictor variable in a binary numeric variable\n",
    "telecom['Churn'].replace(to_replace='Yes', value=1, inplace=True)\n",
    "telecom['Churn'].replace(to_replace='No',  value=0, inplace=True)\n",
    "\n",
    "Id_col = ['customerID']\n",
    "target_col = ['Churn']\n",
    "\n",
    "#Let's convert all the categorical variables into dummy variables\n",
    "cat_cols = telecom.nunique()[telecom.nunique()<5].keys().tolist()\n",
    "cat_cols = [x for x in cat_cols if x not in target_col + Id_col]\n",
    "num_cols = [x for x in telecom.columns if x not in cat_cols + target_col + Id_col]\n",
    "telecom2 = pd.get_dummies(data=telecom, columns = cat_cols)\n",
    "telecom2.head()"
   ]
  },
  {
   "cell_type": "markdown",
   "metadata": {
    "_cell_guid": "d1fe1b7e-ddec-4651-81cd-2188409e8667",
    "_uuid": "f274d54d-1df7-43f0-ab9e-3118125eae24"
   },
   "source": [
    "# 4.1.2 Scaling all variables"
   ]
  },
  {
   "cell_type": "code",
   "execution_count": null,
   "metadata": {
    "_cell_guid": "b1b2ce82-02bf-4a3b-a678-a7e45a308786",
    "_uuid": "0bc1cedf-ce58-49d2-bfcc-682b6fbba9e0"
   },
   "outputs": [],
   "source": [
    "# We will use the data frame where we had created dummy variables\n",
    "y = telecom2['Churn'].values\n",
    "X = telecom2.drop(columns = ['customerID','Churn'])\n",
    "\n",
    "# Scaling all the variables to a range of 0 to 1\n",
    "from sklearn.preprocessing import MinMaxScaler\n",
    "features = X.columns.values\n",
    "scaler = MinMaxScaler(feature_range = (0,1))\n",
    "scaler.fit(X)\n",
    "X = pd.DataFrame(scaler.transform(X))\n",
    "X.columns = features"
   ]
  },
  {
   "cell_type": "markdown",
   "metadata": {
    "_cell_guid": "a851bc6e-90a6-4469-942c-940623d12ac4",
    "_uuid": "30fdf57c-f7d4-4b8e-bc4a-21b4da245fda"
   },
   "source": [
    "# 4.1.3 Correlation Analysis"
   ]
  },
  {
   "cell_type": "code",
   "execution_count": null,
   "metadata": {
    "_cell_guid": "3587af70-0e4d-43d4-b94c-22eedadf8934",
    "_uuid": "9e59e28e-86f0-45ae-90e1-482cca99f0df"
   },
   "outputs": [],
   "source": [
    "#Get Correlation of \"Churn\" with other variables:\n",
    "plt.figure(figsize=(15,8))\n",
    "telecom2.corr()['Churn'].sort_values(ascending = False).plot(kind='bar')"
   ]
  },
  {
   "cell_type": "markdown",
   "metadata": {
    "_cell_guid": "3c70ae07-6599-4900-a1f8-ab43205e4da3",
    "_uuid": "165e9ff3-e2bc-40fa-9c18-1efdb304055e"
   },
   "source": [
    "Month to month contracts, absence of online security and tech support seem to be positively correlated with churn. While, tenure, two year contracts seem to be negatively correlated with churn. \n",
    "\n",
    "Interestingly, services such as Online security, streaming TV, online backup, tech support, etc. without internet connection seem to be negatively related to churn.\n",
    "\n",
    "We will explore the patterns for the above correlations below before we delve into modelling and identifying the important variables."
   ]
  },
  {
   "cell_type": "markdown",
   "metadata": {
    "_cell_guid": "a8b9cf32-4a54-4ce8-8f10-47ae9fc6f847",
    "_uuid": "1dfaf9ea-eef8-42fb-8b02-55ae9d0a2246"
   },
   "source": [
    "# 4.2 Baseline Model - Logistic Regression"
   ]
  },
  {
   "cell_type": "markdown",
   "metadata": {},
   "source": [
    "The goal in ML is to build a model that generalizes well to the new data. Therefore the dataset is split into the Training dataset and Testing dataset. \n",
    "\n",
    "Testing dataset serves as a proxy for new data to evaluate a trained ML model and determine if the model has over-fitted the data. \n",
    "\n",
    "Therefore we split the dataset by using 70% for training, and remaining 30% for testing."
   ]
  },
  {
   "cell_type": "code",
   "execution_count": null,
   "metadata": {
    "_cell_guid": "8097e485-a4c9-4834-9f3a-e54386fdc5f0",
    "_uuid": "90a2df00-3605-4829-8246-951604a04b9c"
   },
   "outputs": [],
   "source": [
    "# Create Train & Test Data\n",
    "X_train, X_test, y_train, y_test = train_test_split(X, y, test_size=0.3, random_state=101)"
   ]
  },
  {
   "cell_type": "markdown",
   "metadata": {},
   "source": [
    "Predicting customer churn is a binary classification (Churn vs Non-churn) problem, therefore Logistic Regression will be used to serve as a baseline model.\n",
    "\n",
    "Logistic Regression is characterized by a logisitic function, also called the sigmoid function, to model a categorical dependent variable based on one or more independent variables. "
   ]
  },
  {
   "cell_type": "markdown",
   "metadata": {},
   "source": [
    "Performance Matrics to evaluate ML Models.\n",
    "\n",
    "- Accuracy Score - ratio of number of correct predictions to the total number of input samples. It works well only if te dataset is balanced (equal number of samples belonging to each class) If the dataset is imbalanced, it may give us a false sense of achieving high accuracy (the model starts to cheat itself)\n",
    "\n",
    "- Precision: It is the number of correct positive results divided by the number of positive results predicted by the classifier. \n",
    "  Precision = TP / (TP+FP) it attempts to answer what proportion of positive identifications was actually correct?\n",
    " \n",
    "- Recall: It is the number of correct positive results divided by the number of all samples that should have been identified as positive\n",
    "  Recall = TP / (TP + FN) it attempts to answer what proportion of actual positives was identified correctly?\n",
    "  \n",
    "- Area Under ROCurve: ROC (Receiver Operating Characteristics) Curve is a plot of the proportion of true positives vs. the proportion of false positives at different probability cutoffs, AUC represents degree of separability. It tells how much the model is capable of distinguishing between classes. Higher the AUC, better the model is predicting 0s as 0s and 1s as 1s. \n",
    "\n",
    "- Feature Importance measures the predicting power of input features based on how useful they are at predicting a target variables. "
   ]
  },
  {
   "cell_type": "code",
   "execution_count": null,
   "metadata": {
    "_cell_guid": "dc97d61b-7827-4ff5-85c4-b3e4d7c55061",
    "_uuid": "08ef88d9-00c9-45d1-8ebe-0e6173e74b6f"
   },
   "outputs": [],
   "source": [
    "# Running logistic regression model\n",
    "LogReg_Model = LogisticRegression()\n",
    "LogReg_Result = LogReg_Model.fit(X_train, y_train)\n",
    "#Prediction\n",
    "LogReg_Prediction = LogReg_Model.predict(X_test)\n",
    "LogReg_Probabilities = LogReg_Model.predict_proba(X_test)\n",
    "\n",
    "print(\"Logistic Regression\")\n",
    "print(\"\\n Classification Report: \\n\", classification_report(y_test,LogReg_Prediction))\n",
    "print(\"Accuracy Score: \",accuracy_score(y_test,LogReg_Prediction))\n",
    "\n",
    "#roc AUC\n",
    "LogReg_AUC = roc_auc_score(y_test, LogReg_Prediction)\n",
    "print(\"Area under curve : \", LogReg_AUC, \"\\n\")\n",
    "fpr,tpr,threasholds = roc_curve(y_test,LogReg_Probabilities[:,1])\n",
    "\n",
    "#Feature Importance\n",
    "Coef = pd.Series(LogReg_Model.coef_[0],\n",
    "                 index=X.columns.values)\n",
    "\n",
    "print(\"Feature Importance by Coefficients : \\n\",Coef.sort_values(ascending = True))"
   ]
  },
  {
   "cell_type": "markdown",
   "metadata": {
    "_cell_guid": "973b127d-3663-46ea-a5dd-01ab0ecb7351",
    "_uuid": "e875a2c0-a624-4121-b6c4-2cfd40797f4b"
   },
   "source": [
    "**Observations**\n",
    "\n",
    "We can see that some variables have a negative relation to our predicted variable (Churn), while some have positive relation. Negative relation means that likeliness of churn decreases with that variable. Let us summarize some of the interesting features below:\n",
    "* As we saw in our EDA, having a 2-year contract reduces chances of churn. 2-year contract along with tenure have the most negative relation with Churn as predicted by logistic regressions\n",
    "* Total charges, monthly contracts, fibre optic internet services and seniority can lead to higher churn rates."
   ]
  },
  {
   "cell_type": "markdown",
   "metadata": {
    "_cell_guid": "a6311107-a4e8-4e84-8191-89f4bebede19",
    "_uuid": "53999710-8345-41a5-87ca-0fd765dcd4e1"
   },
   "source": [
    "# 4.3 Random Forest"
   ]
  },
  {
   "cell_type": "markdown",
   "metadata": {},
   "source": [
    "Random forests are an ensemble learning method for classifiction. Random Forests grows many classification decision trees. To classify a new object from an input vector, put the input vector down each of the trees in the forest. Each tree gives a classification, and we say the tree \"votes\" for that class. The forest chooses the classification having the most votes."
   ]
  },
  {
   "cell_type": "code",
   "execution_count": null,
   "metadata": {
    "_cell_guid": "5e8767de-45ef-4b45-a174-fef0746f8a2c",
    "_uuid": "14704ea1-d988-423c-80f9-e4ea5447eb53"
   },
   "outputs": [],
   "source": [
    "RF_Model = RandomForestClassifier(n_estimators=500)\n",
    "RF_Model.fit(X_train, y_train)\n",
    "\n",
    "RF_Result = RF_Model.fit(X_train, y_train)\n",
    "RF_Prediction = RF_Model.predict(X_test)\n",
    "RF_Probabilities = RF_Model.predict_proba(X_test)\n",
    "\n",
    "print(\"Random Forest\")\n",
    "print(\"\\n Classification Report: \\n\", classification_report(y_test,RF_Prediction))\n",
    "print(\"Accuracy Score: \",accuracy_score(y_test,RF_Prediction))\n",
    "\n",
    "#roc AUC\n",
    "RF_AUC = roc_auc_score(y_test, RF_Prediction)\n",
    "print(\"Area under curve : \", RF_AUC, \"\\n\")\n",
    "fpr,tpr,threasholds = roc_curve(y_test,RF_Probabilities[:,1])\n",
    "\n",
    "#Feature Importance\n",
    "feature_importance=RF_Model.feature_importances_\n",
    "Coef = pd.Series(feature_importance,\n",
    "                 index=X.columns.values)\n",
    "\n",
    "print(\"Feature Importance : \\n\",Coef.sort_values(ascending = False))"
   ]
  },
  {
   "cell_type": "markdown",
   "metadata": {
    "_cell_guid": "929b9853-6499-44dc-9d6e-467f2cc671c4",
    "_uuid": "340ed319-483a-4545-85e4-1e4d71af614f"
   },
   "source": [
    "**Observations:**\n",
    "\n",
    "* From random forest algorithm, total charges, tenure and monthly contract, monthly charges, monthly contracts are the most important predictor variables to predict churn.\n",
    "* The results from random forest are very similar to that of the logistic regression and in line to what we had expected from our EDA"
   ]
  },
  {
   "cell_type": "markdown",
   "metadata": {
    "_cell_guid": "feb6b546-16e2-4119-9fc4-09b4e8a791bb",
    "_uuid": "333720b2-a964-41d6-8b7d-04631347aa4a"
   },
   "source": [
    "# 4.4 XGBoost"
   ]
  },
  {
   "cell_type": "markdown",
   "metadata": {},
   "source": [
    "XGBoost is an implementation of gradient boosting decision trees designed for speed and perormance. It is effective for a wide range of regression and classification problems.\n",
    "\n",
    "\n",
    "Gradient boosting is an approach where new models are created that predict the residuals or errors of prior models, Models are added sequentially until no further improvements can be ade. And then added together to make the final prediction. It is calld gradient boosting because it uses a gradient descent algorithm to minimize the loss when adding new models. \n",
    "\n",
    "XGBoost works well with imbalanced dataset as it offers a way to tune the training algorithm to pay more attention to misclassification of the minority class for datasets with a skewed class distribution. \n",
    "\n",
    "Hyperparamter Tuning: scale_pos_weight (positive class refers to the minority class Y=1), by default it will be set to 1\n",
    "\n"
   ]
  },
  {
   "cell_type": "code",
   "execution_count": null,
   "metadata": {
    "_cell_guid": "1678d27c-2d04-4047-a575-85713d5ce88f",
    "_uuid": "92d13d81-05c5-496a-ad01-0d4c4332b4ef"
   },
   "outputs": [],
   "source": [
    "XGBoost_Model = XGBClassifier(base_score=0.5, booster='gbtree', colsample_bylevel=1,\n",
    "                    colsample_bytree=1, gamma=0, learning_rate=0.05, max_delta_step=0,\n",
    "                    max_depth = 3, min_child_weight=1, missing=None, n_estimators=100,\n",
    "                    n_jobs=1, nthread=None, objective='binary:logistic', random_state=0,\n",
    "                    reg_alpha=0, reg_lambda=1, scale_pos_weight=1, seed=None,\n",
    "                    subsample=1)\n",
    "\n",
    "XGBoost_Model.fit(X_train, y_train)\n",
    "\n",
    "XGBoost_Result = XGBoost_Model.fit(X_train, y_train)\n",
    "XGBoost_Prediction = XGBoost_Model.predict(X_test)\n",
    "XGBoost_Probabilities = XGBoost_Model.predict_proba(X_test)\n",
    "\n",
    "print(\"XGBoost\")\n",
    "print(\"\\n Classification Report: \\n\", classification_report(y_test,XGBoost_Prediction))\n",
    "print(\"Accuracy Score: \",accuracy_score(y_test,XGBoost_Prediction))\n",
    "\n",
    "#roc AUC\n",
    "XGBoost_AUC = roc_auc_score(y_test, XGBoost_Prediction)\n",
    "print(\"Area under curve : \", XGBoost_AUC, \"\\n\")\n",
    "fpr,tpr,threasholds = roc_curve(y_test,XGBoost_Probabilities[:,1])\n",
    "\n",
    "#Feature Importance\n",
    "feature_importance=XGBoost_Model.feature_importances_\n",
    "Coef = pd.Series(feature_importance,\n",
    "                 index=X.columns.values)\n",
    "\n",
    "print(\"Feature Importance : \\n\",Coef.sort_values(ascending = False))"
   ]
  }
 ],
 "metadata": {
  "kernelspec": {
   "display_name": "Python 3",
   "language": "python",
   "name": "python3"
  },
  "language_info": {
   "codemirror_mode": {
    "name": "ipython",
    "version": 3
   },
   "file_extension": ".py",
   "mimetype": "text/x-python",
   "name": "python",
   "nbconvert_exporter": "python",
   "pygments_lexer": "ipython3",
   "version": "3.8.8"
  }
 },
 "nbformat": 4,
 "nbformat_minor": 4
}
