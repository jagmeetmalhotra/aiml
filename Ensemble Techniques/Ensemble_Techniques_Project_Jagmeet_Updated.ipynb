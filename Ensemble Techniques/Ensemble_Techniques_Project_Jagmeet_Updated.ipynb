{
 "cells": [
  {
   "cell_type": "markdown",
   "id": "bfaf327e",
   "metadata": {},
   "source": [
    "### DOMAIN: Telecom\n",
    "#### CONTEXT: A telecom company wants to use their historical customer data to predict behaviour to retain customers. You can analyse all relevant customer data and develop focused customer retention programs.\n",
    "##### •  DATA DESCRIPTION: Each row represents a customer, each column contains customer’s attributes described on the column Metadata. The\n",
    "data set includes information about:\n",
    "##### • Customers who left within the last month – the column is called Churn\n",
    "##### • Services that each customer has signed up for – phone, multiple lines, internet, online security, online backup, device protection, tech support, and streaming TV and movies\n",
    "##### • Customer account information – how long they’ve been a customer, contract, payment method, paperless billing, monthly charges, and total charges\n",
    "##### • Demographic info about customers – gender, age range, and if they have partners and dependents"
   ]
  },
  {
   "cell_type": "markdown",
   "id": "7820006d",
   "metadata": {},
   "source": [
    "###    • PROJECT OBJECTIVE: To Build a model that will help to identify the potential customers who have a higher probability to churn. This helps the company to understand the pinpoints and patterns of customer churn and will increase the focus on strategizing customer retention."
   ]
  },
  {
   "cell_type": "markdown",
   "id": "f2377a6f",
   "metadata": {},
   "source": [
    "### 1. Data Understanding & Exploration: [5 Marks]"
   ]
  },
  {
   "cell_type": "code",
   "execution_count": 1,
   "id": "54063aa8",
   "metadata": {},
   "outputs": [],
   "source": [
    "import numpy as np\n",
    "import pandas as pd\n",
    "import matplotlib.pyplot as plt\n",
    "%matplotlib inline\n",
    "import seaborn as sns\n",
    "import scipy.stats as stats\n",
    "import warnings\n",
    "warnings.filterwarnings(\"ignore\")"
   ]
  },
  {
   "cell_type": "code",
   "execution_count": 2,
   "id": "6559040c",
   "metadata": {},
   "outputs": [
    {
     "data": {
      "text/html": [
       "<div>\n",
       "<style scoped>\n",
       "    .dataframe tbody tr th:only-of-type {\n",
       "        vertical-align: middle;\n",
       "    }\n",
       "\n",
       "    .dataframe tbody tr th {\n",
       "        vertical-align: top;\n",
       "    }\n",
       "\n",
       "    .dataframe thead th {\n",
       "        text-align: right;\n",
       "    }\n",
       "</style>\n",
       "<table border=\"1\" class=\"dataframe\">\n",
       "  <thead>\n",
       "    <tr style=\"text-align: right;\">\n",
       "      <th></th>\n",
       "      <th>customerID</th>\n",
       "      <th>gender</th>\n",
       "      <th>SeniorCitizen</th>\n",
       "      <th>Partner</th>\n",
       "      <th>Dependents</th>\n",
       "      <th>tenure</th>\n",
       "      <th>PhoneService</th>\n",
       "      <th>MultipleLines</th>\n",
       "      <th>InternetService</th>\n",
       "      <th>OnlineSecurity</th>\n",
       "    </tr>\n",
       "  </thead>\n",
       "  <tbody>\n",
       "    <tr>\n",
       "      <th>0</th>\n",
       "      <td>7590-VHVEG</td>\n",
       "      <td>Female</td>\n",
       "      <td>0</td>\n",
       "      <td>Yes</td>\n",
       "      <td>No</td>\n",
       "      <td>1</td>\n",
       "      <td>No</td>\n",
       "      <td>No phone service</td>\n",
       "      <td>DSL</td>\n",
       "      <td>No</td>\n",
       "    </tr>\n",
       "    <tr>\n",
       "      <th>1</th>\n",
       "      <td>5575-GNVDE</td>\n",
       "      <td>Male</td>\n",
       "      <td>0</td>\n",
       "      <td>No</td>\n",
       "      <td>No</td>\n",
       "      <td>34</td>\n",
       "      <td>Yes</td>\n",
       "      <td>No</td>\n",
       "      <td>DSL</td>\n",
       "      <td>Yes</td>\n",
       "    </tr>\n",
       "    <tr>\n",
       "      <th>2</th>\n",
       "      <td>3668-QPYBK</td>\n",
       "      <td>Male</td>\n",
       "      <td>0</td>\n",
       "      <td>No</td>\n",
       "      <td>No</td>\n",
       "      <td>2</td>\n",
       "      <td>Yes</td>\n",
       "      <td>No</td>\n",
       "      <td>DSL</td>\n",
       "      <td>Yes</td>\n",
       "    </tr>\n",
       "    <tr>\n",
       "      <th>3</th>\n",
       "      <td>7795-CFOCW</td>\n",
       "      <td>Male</td>\n",
       "      <td>0</td>\n",
       "      <td>No</td>\n",
       "      <td>No</td>\n",
       "      <td>45</td>\n",
       "      <td>No</td>\n",
       "      <td>No phone service</td>\n",
       "      <td>DSL</td>\n",
       "      <td>Yes</td>\n",
       "    </tr>\n",
       "    <tr>\n",
       "      <th>4</th>\n",
       "      <td>9237-HQITU</td>\n",
       "      <td>Female</td>\n",
       "      <td>0</td>\n",
       "      <td>No</td>\n",
       "      <td>No</td>\n",
       "      <td>2</td>\n",
       "      <td>Yes</td>\n",
       "      <td>No</td>\n",
       "      <td>Fiber optic</td>\n",
       "      <td>No</td>\n",
       "    </tr>\n",
       "  </tbody>\n",
       "</table>\n",
       "</div>"
      ],
      "text/plain": [
       "   customerID  gender  SeniorCitizen Partner Dependents  tenure PhoneService  \\\n",
       "0  7590-VHVEG  Female              0     Yes         No       1           No   \n",
       "1  5575-GNVDE    Male              0      No         No      34          Yes   \n",
       "2  3668-QPYBK    Male              0      No         No       2          Yes   \n",
       "3  7795-CFOCW    Male              0      No         No      45           No   \n",
       "4  9237-HQITU  Female              0      No         No       2          Yes   \n",
       "\n",
       "      MultipleLines InternetService OnlineSecurity  \n",
       "0  No phone service             DSL             No  \n",
       "1                No             DSL            Yes  \n",
       "2                No             DSL            Yes  \n",
       "3  No phone service             DSL            Yes  \n",
       "4                No     Fiber optic             No  "
      ]
     },
     "execution_count": 2,
     "metadata": {},
     "output_type": "execute_result"
    }
   ],
   "source": [
    "# 1.A Read ‘TelcomCustomer-Churn_1.csv’ as a DataFrame and assign it to a variable. [1 Mark]\n",
    "tcc1 = pd.read_csv(\"TelcomCustomer-Churn_1.csv\")\n",
    "tcc1.head()"
   ]
  },
  {
   "cell_type": "code",
   "execution_count": 3,
   "id": "7c2124e9",
   "metadata": {},
   "outputs": [
    {
     "data": {
      "text/html": [
       "<div>\n",
       "<style scoped>\n",
       "    .dataframe tbody tr th:only-of-type {\n",
       "        vertical-align: middle;\n",
       "    }\n",
       "\n",
       "    .dataframe tbody tr th {\n",
       "        vertical-align: top;\n",
       "    }\n",
       "\n",
       "    .dataframe thead th {\n",
       "        text-align: right;\n",
       "    }\n",
       "</style>\n",
       "<table border=\"1\" class=\"dataframe\">\n",
       "  <thead>\n",
       "    <tr style=\"text-align: right;\">\n",
       "      <th></th>\n",
       "      <th>customerID</th>\n",
       "      <th>OnlineBackup</th>\n",
       "      <th>DeviceProtection</th>\n",
       "      <th>TechSupport</th>\n",
       "      <th>StreamingTV</th>\n",
       "      <th>StreamingMovies</th>\n",
       "      <th>Contract</th>\n",
       "      <th>PaperlessBilling</th>\n",
       "      <th>PaymentMethod</th>\n",
       "      <th>MonthlyCharges</th>\n",
       "      <th>TotalCharges</th>\n",
       "      <th>Churn</th>\n",
       "    </tr>\n",
       "  </thead>\n",
       "  <tbody>\n",
       "    <tr>\n",
       "      <th>0</th>\n",
       "      <td>7590-VHVEG</td>\n",
       "      <td>Yes</td>\n",
       "      <td>No</td>\n",
       "      <td>No</td>\n",
       "      <td>No</td>\n",
       "      <td>No</td>\n",
       "      <td>Month-to-month</td>\n",
       "      <td>Yes</td>\n",
       "      <td>Electronic check</td>\n",
       "      <td>29.85</td>\n",
       "      <td>29.85</td>\n",
       "      <td>No</td>\n",
       "    </tr>\n",
       "    <tr>\n",
       "      <th>1</th>\n",
       "      <td>5575-GNVDE</td>\n",
       "      <td>No</td>\n",
       "      <td>Yes</td>\n",
       "      <td>No</td>\n",
       "      <td>No</td>\n",
       "      <td>No</td>\n",
       "      <td>One year</td>\n",
       "      <td>No</td>\n",
       "      <td>Mailed check</td>\n",
       "      <td>56.95</td>\n",
       "      <td>1889.5</td>\n",
       "      <td>No</td>\n",
       "    </tr>\n",
       "    <tr>\n",
       "      <th>2</th>\n",
       "      <td>3668-QPYBK</td>\n",
       "      <td>Yes</td>\n",
       "      <td>No</td>\n",
       "      <td>No</td>\n",
       "      <td>No</td>\n",
       "      <td>No</td>\n",
       "      <td>Month-to-month</td>\n",
       "      <td>Yes</td>\n",
       "      <td>Mailed check</td>\n",
       "      <td>53.85</td>\n",
       "      <td>108.15</td>\n",
       "      <td>Yes</td>\n",
       "    </tr>\n",
       "    <tr>\n",
       "      <th>3</th>\n",
       "      <td>7795-CFOCW</td>\n",
       "      <td>No</td>\n",
       "      <td>Yes</td>\n",
       "      <td>Yes</td>\n",
       "      <td>No</td>\n",
       "      <td>No</td>\n",
       "      <td>One year</td>\n",
       "      <td>No</td>\n",
       "      <td>Bank transfer (automatic)</td>\n",
       "      <td>42.30</td>\n",
       "      <td>1840.75</td>\n",
       "      <td>No</td>\n",
       "    </tr>\n",
       "    <tr>\n",
       "      <th>4</th>\n",
       "      <td>9237-HQITU</td>\n",
       "      <td>No</td>\n",
       "      <td>No</td>\n",
       "      <td>No</td>\n",
       "      <td>No</td>\n",
       "      <td>No</td>\n",
       "      <td>Month-to-month</td>\n",
       "      <td>Yes</td>\n",
       "      <td>Electronic check</td>\n",
       "      <td>70.70</td>\n",
       "      <td>151.65</td>\n",
       "      <td>Yes</td>\n",
       "    </tr>\n",
       "  </tbody>\n",
       "</table>\n",
       "</div>"
      ],
      "text/plain": [
       "   customerID OnlineBackup DeviceProtection TechSupport StreamingTV  \\\n",
       "0  7590-VHVEG          Yes               No          No          No   \n",
       "1  5575-GNVDE           No              Yes          No          No   \n",
       "2  3668-QPYBK          Yes               No          No          No   \n",
       "3  7795-CFOCW           No              Yes         Yes          No   \n",
       "4  9237-HQITU           No               No          No          No   \n",
       "\n",
       "  StreamingMovies        Contract PaperlessBilling              PaymentMethod  \\\n",
       "0              No  Month-to-month              Yes           Electronic check   \n",
       "1              No        One year               No               Mailed check   \n",
       "2              No  Month-to-month              Yes               Mailed check   \n",
       "3              No        One year               No  Bank transfer (automatic)   \n",
       "4              No  Month-to-month              Yes           Electronic check   \n",
       "\n",
       "   MonthlyCharges TotalCharges Churn  \n",
       "0           29.85        29.85    No  \n",
       "1           56.95       1889.5    No  \n",
       "2           53.85       108.15   Yes  \n",
       "3           42.30      1840.75    No  \n",
       "4           70.70       151.65   Yes  "
      ]
     },
     "execution_count": 3,
     "metadata": {},
     "output_type": "execute_result"
    }
   ],
   "source": [
    "# 1.B Read ‘TelcomCustomer-Churn_2.csv’ as a DataFrame and assign it to a variable. [1 Mark]\n",
    "tcc2 = pd.read_csv(\"TelcomCustomer-Churn_2.csv\")\n",
    "tcc2.head()"
   ]
  },
  {
   "cell_type": "code",
   "execution_count": 4,
   "id": "f8507b13",
   "metadata": {},
   "outputs": [
    {
     "data": {
      "text/html": [
       "<div>\n",
       "<style scoped>\n",
       "    .dataframe tbody tr th:only-of-type {\n",
       "        vertical-align: middle;\n",
       "    }\n",
       "\n",
       "    .dataframe tbody tr th {\n",
       "        vertical-align: top;\n",
       "    }\n",
       "\n",
       "    .dataframe thead th {\n",
       "        text-align: right;\n",
       "    }\n",
       "</style>\n",
       "<table border=\"1\" class=\"dataframe\">\n",
       "  <thead>\n",
       "    <tr style=\"text-align: right;\">\n",
       "      <th></th>\n",
       "      <th>customerID_x</th>\n",
       "      <th>gender</th>\n",
       "      <th>SeniorCitizen</th>\n",
       "      <th>Partner</th>\n",
       "      <th>Dependents</th>\n",
       "      <th>tenure</th>\n",
       "      <th>PhoneService</th>\n",
       "      <th>MultipleLines</th>\n",
       "      <th>InternetService</th>\n",
       "      <th>OnlineSecurity</th>\n",
       "      <th>...</th>\n",
       "      <th>DeviceProtection</th>\n",
       "      <th>TechSupport</th>\n",
       "      <th>StreamingTV</th>\n",
       "      <th>StreamingMovies</th>\n",
       "      <th>Contract</th>\n",
       "      <th>PaperlessBilling</th>\n",
       "      <th>PaymentMethod</th>\n",
       "      <th>MonthlyCharges</th>\n",
       "      <th>TotalCharges</th>\n",
       "      <th>Churn</th>\n",
       "    </tr>\n",
       "  </thead>\n",
       "  <tbody>\n",
       "    <tr>\n",
       "      <th>0</th>\n",
       "      <td>7590-VHVEG</td>\n",
       "      <td>Female</td>\n",
       "      <td>0</td>\n",
       "      <td>Yes</td>\n",
       "      <td>No</td>\n",
       "      <td>1</td>\n",
       "      <td>No</td>\n",
       "      <td>No phone service</td>\n",
       "      <td>DSL</td>\n",
       "      <td>No</td>\n",
       "      <td>...</td>\n",
       "      <td>No</td>\n",
       "      <td>No</td>\n",
       "      <td>No</td>\n",
       "      <td>No</td>\n",
       "      <td>Month-to-month</td>\n",
       "      <td>Yes</td>\n",
       "      <td>Electronic check</td>\n",
       "      <td>29.85</td>\n",
       "      <td>29.85</td>\n",
       "      <td>No</td>\n",
       "    </tr>\n",
       "    <tr>\n",
       "      <th>1</th>\n",
       "      <td>5575-GNVDE</td>\n",
       "      <td>Male</td>\n",
       "      <td>0</td>\n",
       "      <td>No</td>\n",
       "      <td>No</td>\n",
       "      <td>34</td>\n",
       "      <td>Yes</td>\n",
       "      <td>No</td>\n",
       "      <td>DSL</td>\n",
       "      <td>Yes</td>\n",
       "      <td>...</td>\n",
       "      <td>Yes</td>\n",
       "      <td>No</td>\n",
       "      <td>No</td>\n",
       "      <td>No</td>\n",
       "      <td>One year</td>\n",
       "      <td>No</td>\n",
       "      <td>Mailed check</td>\n",
       "      <td>56.95</td>\n",
       "      <td>1889.5</td>\n",
       "      <td>No</td>\n",
       "    </tr>\n",
       "    <tr>\n",
       "      <th>2</th>\n",
       "      <td>3668-QPYBK</td>\n",
       "      <td>Male</td>\n",
       "      <td>0</td>\n",
       "      <td>No</td>\n",
       "      <td>No</td>\n",
       "      <td>2</td>\n",
       "      <td>Yes</td>\n",
       "      <td>No</td>\n",
       "      <td>DSL</td>\n",
       "      <td>Yes</td>\n",
       "      <td>...</td>\n",
       "      <td>No</td>\n",
       "      <td>No</td>\n",
       "      <td>No</td>\n",
       "      <td>No</td>\n",
       "      <td>Month-to-month</td>\n",
       "      <td>Yes</td>\n",
       "      <td>Mailed check</td>\n",
       "      <td>53.85</td>\n",
       "      <td>108.15</td>\n",
       "      <td>Yes</td>\n",
       "    </tr>\n",
       "    <tr>\n",
       "      <th>3</th>\n",
       "      <td>7795-CFOCW</td>\n",
       "      <td>Male</td>\n",
       "      <td>0</td>\n",
       "      <td>No</td>\n",
       "      <td>No</td>\n",
       "      <td>45</td>\n",
       "      <td>No</td>\n",
       "      <td>No phone service</td>\n",
       "      <td>DSL</td>\n",
       "      <td>Yes</td>\n",
       "      <td>...</td>\n",
       "      <td>Yes</td>\n",
       "      <td>Yes</td>\n",
       "      <td>No</td>\n",
       "      <td>No</td>\n",
       "      <td>One year</td>\n",
       "      <td>No</td>\n",
       "      <td>Bank transfer (automatic)</td>\n",
       "      <td>42.30</td>\n",
       "      <td>1840.75</td>\n",
       "      <td>No</td>\n",
       "    </tr>\n",
       "    <tr>\n",
       "      <th>4</th>\n",
       "      <td>9237-HQITU</td>\n",
       "      <td>Female</td>\n",
       "      <td>0</td>\n",
       "      <td>No</td>\n",
       "      <td>No</td>\n",
       "      <td>2</td>\n",
       "      <td>Yes</td>\n",
       "      <td>No</td>\n",
       "      <td>Fiber optic</td>\n",
       "      <td>No</td>\n",
       "      <td>...</td>\n",
       "      <td>No</td>\n",
       "      <td>No</td>\n",
       "      <td>No</td>\n",
       "      <td>No</td>\n",
       "      <td>Month-to-month</td>\n",
       "      <td>Yes</td>\n",
       "      <td>Electronic check</td>\n",
       "      <td>70.70</td>\n",
       "      <td>151.65</td>\n",
       "      <td>Yes</td>\n",
       "    </tr>\n",
       "  </tbody>\n",
       "</table>\n",
       "<p>5 rows × 22 columns</p>\n",
       "</div>"
      ],
      "text/plain": [
       "  customerID_x  gender  SeniorCitizen Partner Dependents  tenure PhoneService  \\\n",
       "0   7590-VHVEG  Female              0     Yes         No       1           No   \n",
       "1   5575-GNVDE    Male              0      No         No      34          Yes   \n",
       "2   3668-QPYBK    Male              0      No         No       2          Yes   \n",
       "3   7795-CFOCW    Male              0      No         No      45           No   \n",
       "4   9237-HQITU  Female              0      No         No       2          Yes   \n",
       "\n",
       "      MultipleLines InternetService OnlineSecurity  ... DeviceProtection  \\\n",
       "0  No phone service             DSL             No  ...               No   \n",
       "1                No             DSL            Yes  ...              Yes   \n",
       "2                No             DSL            Yes  ...               No   \n",
       "3  No phone service             DSL            Yes  ...              Yes   \n",
       "4                No     Fiber optic             No  ...               No   \n",
       "\n",
       "  TechSupport StreamingTV StreamingMovies        Contract PaperlessBilling  \\\n",
       "0          No          No              No  Month-to-month              Yes   \n",
       "1          No          No              No        One year               No   \n",
       "2          No          No              No  Month-to-month              Yes   \n",
       "3         Yes          No              No        One year               No   \n",
       "4          No          No              No  Month-to-month              Yes   \n",
       "\n",
       "               PaymentMethod MonthlyCharges TotalCharges  Churn  \n",
       "0           Electronic check          29.85        29.85     No  \n",
       "1               Mailed check          56.95       1889.5     No  \n",
       "2               Mailed check          53.85       108.15    Yes  \n",
       "3  Bank transfer (automatic)          42.30      1840.75     No  \n",
       "4           Electronic check          70.70       151.65    Yes  \n",
       "\n",
       "[5 rows x 22 columns]"
      ]
     },
     "execution_count": 4,
     "metadata": {},
     "output_type": "execute_result"
    }
   ],
   "source": [
    "#. Merge both the DataFrames on key ‘customerID’ to form a single DataFrame [2 Mark]\n",
    "# Ensuring that all matching and unique rows are taken care in each data set \n",
    "tcc=pd.merge(tcc1,tcc2, left_index=True, right_index=True)\n",
    "tcc.head()"
   ]
  },
  {
   "cell_type": "code",
   "execution_count": 5,
   "id": "70ff71ef",
   "metadata": {},
   "outputs": [
    {
     "data": {
      "text/plain": [
       "(7043, 10)"
      ]
     },
     "execution_count": 5,
     "metadata": {},
     "output_type": "execute_result"
    }
   ],
   "source": [
    "# 1.D Verify if all the columns are incorporated in the merged DataFrame by using simple comparison Operator in Python. [1 Marks]\n",
    "tcc1.shape"
   ]
  },
  {
   "cell_type": "code",
   "execution_count": 6,
   "id": "99cc85e5",
   "metadata": {},
   "outputs": [
    {
     "data": {
      "text/plain": [
       "(7043, 12)"
      ]
     },
     "execution_count": 6,
     "metadata": {},
     "output_type": "execute_result"
    }
   ],
   "source": [
    "tcc2.shape"
   ]
  },
  {
   "cell_type": "code",
   "execution_count": 7,
   "id": "6d673a4f",
   "metadata": {},
   "outputs": [
    {
     "data": {
      "text/plain": [
       "(7043, 22)"
      ]
     },
     "execution_count": 7,
     "metadata": {},
     "output_type": "execute_result"
    }
   ],
   "source": [
    "tcc.shape"
   ]
  },
  {
   "cell_type": "code",
   "execution_count": 8,
   "id": "fb259af2",
   "metadata": {},
   "outputs": [
    {
     "data": {
      "text/plain": [
       "Index(['customerID', 'gender', 'SeniorCitizen', 'Partner', 'Dependents',\n",
       "       'tenure', 'PhoneService', 'MultipleLines', 'InternetService',\n",
       "       'OnlineSecurity'],\n",
       "      dtype='object')"
      ]
     },
     "execution_count": 8,
     "metadata": {},
     "output_type": "execute_result"
    }
   ],
   "source": [
    "# No loss of rows or extra 7043 rows in final data from \n",
    "# which mean 1:1 mapping between two files\n",
    "# Columns also merged properly 10 + 12 = 22. \n",
    "# checking columns \n",
    "tcc1.columns"
   ]
  },
  {
   "cell_type": "code",
   "execution_count": 9,
   "id": "d343a100",
   "metadata": {},
   "outputs": [
    {
     "data": {
      "text/plain": [
       "Index(['customerID', 'OnlineBackup', 'DeviceProtection', 'TechSupport',\n",
       "       'StreamingTV', 'StreamingMovies', 'Contract', 'PaperlessBilling',\n",
       "       'PaymentMethod', 'MonthlyCharges', 'TotalCharges', 'Churn'],\n",
       "      dtype='object')"
      ]
     },
     "execution_count": 9,
     "metadata": {},
     "output_type": "execute_result"
    }
   ],
   "source": [
    "tcc2.columns"
   ]
  },
  {
   "cell_type": "code",
   "execution_count": 10,
   "id": "bd2ad6b0",
   "metadata": {},
   "outputs": [
    {
     "data": {
      "text/plain": [
       "Index(['customerID_x', 'gender', 'SeniorCitizen', 'Partner', 'Dependents',\n",
       "       'tenure', 'PhoneService', 'MultipleLines', 'InternetService',\n",
       "       'OnlineSecurity', 'customerID_y', 'OnlineBackup', 'DeviceProtection',\n",
       "       'TechSupport', 'StreamingTV', 'StreamingMovies', 'Contract',\n",
       "       'PaperlessBilling', 'PaymentMethod', 'MonthlyCharges', 'TotalCharges',\n",
       "       'Churn'],\n",
       "      dtype='object')"
      ]
     },
     "execution_count": 10,
     "metadata": {},
     "output_type": "execute_result"
    }
   ],
   "source": [
    "tcc.columns"
   ]
  },
  {
   "cell_type": "code",
   "execution_count": 11,
   "id": "6964a45a",
   "metadata": {},
   "outputs": [],
   "source": [
    "# Both files had distinct columns. Total columns in final datafram become 10+12 = 22 "
   ]
  },
  {
   "cell_type": "code",
   "execution_count": 12,
   "id": "6bb560ed",
   "metadata": {},
   "outputs": [
    {
     "name": "stdout",
     "output_type": "stream",
     "text": [
      "<class 'pandas.core.frame.DataFrame'>\n",
      "RangeIndex: 7043 entries, 0 to 7042\n",
      "Data columns (total 22 columns):\n",
      " #   Column            Non-Null Count  Dtype  \n",
      "---  ------            --------------  -----  \n",
      " 0   customerID_x      7043 non-null   object \n",
      " 1   gender            7043 non-null   object \n",
      " 2   SeniorCitizen     7043 non-null   int64  \n",
      " 3   Partner           7043 non-null   object \n",
      " 4   Dependents        7043 non-null   object \n",
      " 5   tenure            7043 non-null   int64  \n",
      " 6   PhoneService      7043 non-null   object \n",
      " 7   MultipleLines     7043 non-null   object \n",
      " 8   InternetService   7043 non-null   object \n",
      " 9   OnlineSecurity    7043 non-null   object \n",
      " 10  customerID_y      7043 non-null   object \n",
      " 11  OnlineBackup      7043 non-null   object \n",
      " 12  DeviceProtection  7043 non-null   object \n",
      " 13  TechSupport       7043 non-null   object \n",
      " 14  StreamingTV       7043 non-null   object \n",
      " 15  StreamingMovies   7043 non-null   object \n",
      " 16  Contract          7043 non-null   object \n",
      " 17  PaperlessBilling  7043 non-null   object \n",
      " 18  PaymentMethod     7043 non-null   object \n",
      " 19  MonthlyCharges    7043 non-null   float64\n",
      " 20  TotalCharges      7043 non-null   object \n",
      " 21  Churn             7043 non-null   object \n",
      "dtypes: float64(1), int64(2), object(19)\n",
      "memory usage: 1.2+ MB\n"
     ]
    }
   ],
   "source": [
    "tcc.info()"
   ]
  },
  {
   "cell_type": "markdown",
   "id": "3616e39d",
   "metadata": {},
   "source": [
    "### 2. Data Cleaning & Analysis: [5 Marks]"
   ]
  },
  {
   "cell_type": "code",
   "execution_count": 13,
   "id": "d6345d62",
   "metadata": {},
   "outputs": [],
   "source": [
    "# 2.A. Impute missing/unexpected values in the DataFrame. [2 Marks]\n",
    "# Recplce '' to NaN to see if there are null columns in the dataset"
   ]
  },
  {
   "cell_type": "code",
   "execution_count": 14,
   "id": "6f789b5e",
   "metadata": {},
   "outputs": [
    {
     "data": {
      "text/plain": [
       "customerID_x        0\n",
       "gender              0\n",
       "SeniorCitizen       0\n",
       "Partner             0\n",
       "Dependents          0\n",
       "tenure              0\n",
       "PhoneService        0\n",
       "MultipleLines       0\n",
       "InternetService     0\n",
       "OnlineSecurity      0\n",
       "customerID_y        0\n",
       "OnlineBackup        0\n",
       "DeviceProtection    0\n",
       "TechSupport         0\n",
       "StreamingTV         0\n",
       "StreamingMovies     0\n",
       "Contract            0\n",
       "PaperlessBilling    0\n",
       "PaymentMethod       0\n",
       "MonthlyCharges      0\n",
       "TotalCharges        0\n",
       "Churn               0\n",
       "dtype: int64"
      ]
     },
     "execution_count": 14,
     "metadata": {},
     "output_type": "execute_result"
    }
   ],
   "source": [
    "tcc.isna().sum()"
   ]
  },
  {
   "cell_type": "code",
   "execution_count": 15,
   "id": "2ae643d7",
   "metadata": {},
   "outputs": [
    {
     "data": {
      "text/plain": [
       "customerID_x         0\n",
       "gender               0\n",
       "SeniorCitizen        0\n",
       "Partner              0\n",
       "Dependents           0\n",
       "tenure               0\n",
       "PhoneService         0\n",
       "MultipleLines        0\n",
       "InternetService      0\n",
       "OnlineSecurity       0\n",
       "customerID_y         0\n",
       "OnlineBackup         0\n",
       "DeviceProtection     0\n",
       "TechSupport          0\n",
       "StreamingTV          0\n",
       "StreamingMovies      0\n",
       "Contract             0\n",
       "PaperlessBilling     0\n",
       "PaymentMethod        0\n",
       "MonthlyCharges       0\n",
       "TotalCharges        11\n",
       "Churn                0\n",
       "dtype: int64"
      ]
     },
     "execution_count": 15,
     "metadata": {},
     "output_type": "execute_result"
    }
   ],
   "source": [
    "# Checking of there are any blank columns \n",
    "tcc.replace(\" \", np.nan).isna().sum()"
   ]
  },
  {
   "cell_type": "code",
   "execution_count": 16,
   "id": "12236563",
   "metadata": {},
   "outputs": [
    {
     "data": {
      "text/html": [
       "<div>\n",
       "<style scoped>\n",
       "    .dataframe tbody tr th:only-of-type {\n",
       "        vertical-align: middle;\n",
       "    }\n",
       "\n",
       "    .dataframe tbody tr th {\n",
       "        vertical-align: top;\n",
       "    }\n",
       "\n",
       "    .dataframe thead th {\n",
       "        text-align: right;\n",
       "    }\n",
       "</style>\n",
       "<table border=\"1\" class=\"dataframe\">\n",
       "  <thead>\n",
       "    <tr style=\"text-align: right;\">\n",
       "      <th></th>\n",
       "      <th>customerID_x</th>\n",
       "      <th>gender</th>\n",
       "      <th>SeniorCitizen</th>\n",
       "      <th>Partner</th>\n",
       "      <th>Dependents</th>\n",
       "      <th>tenure</th>\n",
       "      <th>PhoneService</th>\n",
       "      <th>MultipleLines</th>\n",
       "      <th>InternetService</th>\n",
       "      <th>OnlineSecurity</th>\n",
       "      <th>...</th>\n",
       "      <th>DeviceProtection</th>\n",
       "      <th>TechSupport</th>\n",
       "      <th>StreamingTV</th>\n",
       "      <th>StreamingMovies</th>\n",
       "      <th>Contract</th>\n",
       "      <th>PaperlessBilling</th>\n",
       "      <th>PaymentMethod</th>\n",
       "      <th>MonthlyCharges</th>\n",
       "      <th>TotalCharges</th>\n",
       "      <th>Churn</th>\n",
       "    </tr>\n",
       "  </thead>\n",
       "  <tbody>\n",
       "    <tr>\n",
       "      <th>488</th>\n",
       "      <td>4472-LVYGI</td>\n",
       "      <td>Female</td>\n",
       "      <td>0</td>\n",
       "      <td>Yes</td>\n",
       "      <td>Yes</td>\n",
       "      <td>0</td>\n",
       "      <td>No</td>\n",
       "      <td>No phone service</td>\n",
       "      <td>DSL</td>\n",
       "      <td>Yes</td>\n",
       "      <td>...</td>\n",
       "      <td>Yes</td>\n",
       "      <td>Yes</td>\n",
       "      <td>Yes</td>\n",
       "      <td>No</td>\n",
       "      <td>Two year</td>\n",
       "      <td>Yes</td>\n",
       "      <td>Bank transfer (automatic)</td>\n",
       "      <td>52.55</td>\n",
       "      <td></td>\n",
       "      <td>No</td>\n",
       "    </tr>\n",
       "    <tr>\n",
       "      <th>753</th>\n",
       "      <td>3115-CZMZD</td>\n",
       "      <td>Male</td>\n",
       "      <td>0</td>\n",
       "      <td>No</td>\n",
       "      <td>Yes</td>\n",
       "      <td>0</td>\n",
       "      <td>Yes</td>\n",
       "      <td>No</td>\n",
       "      <td>No</td>\n",
       "      <td>No internet service</td>\n",
       "      <td>...</td>\n",
       "      <td>No internet service</td>\n",
       "      <td>No internet service</td>\n",
       "      <td>No internet service</td>\n",
       "      <td>No internet service</td>\n",
       "      <td>Two year</td>\n",
       "      <td>No</td>\n",
       "      <td>Mailed check</td>\n",
       "      <td>20.25</td>\n",
       "      <td></td>\n",
       "      <td>No</td>\n",
       "    </tr>\n",
       "    <tr>\n",
       "      <th>936</th>\n",
       "      <td>5709-LVOEQ</td>\n",
       "      <td>Female</td>\n",
       "      <td>0</td>\n",
       "      <td>Yes</td>\n",
       "      <td>Yes</td>\n",
       "      <td>0</td>\n",
       "      <td>Yes</td>\n",
       "      <td>No</td>\n",
       "      <td>DSL</td>\n",
       "      <td>Yes</td>\n",
       "      <td>...</td>\n",
       "      <td>Yes</td>\n",
       "      <td>No</td>\n",
       "      <td>Yes</td>\n",
       "      <td>Yes</td>\n",
       "      <td>Two year</td>\n",
       "      <td>No</td>\n",
       "      <td>Mailed check</td>\n",
       "      <td>80.85</td>\n",
       "      <td></td>\n",
       "      <td>No</td>\n",
       "    </tr>\n",
       "    <tr>\n",
       "      <th>1082</th>\n",
       "      <td>4367-NUYAO</td>\n",
       "      <td>Male</td>\n",
       "      <td>0</td>\n",
       "      <td>Yes</td>\n",
       "      <td>Yes</td>\n",
       "      <td>0</td>\n",
       "      <td>Yes</td>\n",
       "      <td>Yes</td>\n",
       "      <td>No</td>\n",
       "      <td>No internet service</td>\n",
       "      <td>...</td>\n",
       "      <td>No internet service</td>\n",
       "      <td>No internet service</td>\n",
       "      <td>No internet service</td>\n",
       "      <td>No internet service</td>\n",
       "      <td>Two year</td>\n",
       "      <td>No</td>\n",
       "      <td>Mailed check</td>\n",
       "      <td>25.75</td>\n",
       "      <td></td>\n",
       "      <td>No</td>\n",
       "    </tr>\n",
       "    <tr>\n",
       "      <th>1340</th>\n",
       "      <td>1371-DWPAZ</td>\n",
       "      <td>Female</td>\n",
       "      <td>0</td>\n",
       "      <td>Yes</td>\n",
       "      <td>Yes</td>\n",
       "      <td>0</td>\n",
       "      <td>No</td>\n",
       "      <td>No phone service</td>\n",
       "      <td>DSL</td>\n",
       "      <td>Yes</td>\n",
       "      <td>...</td>\n",
       "      <td>Yes</td>\n",
       "      <td>Yes</td>\n",
       "      <td>Yes</td>\n",
       "      <td>No</td>\n",
       "      <td>Two year</td>\n",
       "      <td>No</td>\n",
       "      <td>Credit card (automatic)</td>\n",
       "      <td>56.05</td>\n",
       "      <td></td>\n",
       "      <td>No</td>\n",
       "    </tr>\n",
       "    <tr>\n",
       "      <th>3331</th>\n",
       "      <td>7644-OMVMY</td>\n",
       "      <td>Male</td>\n",
       "      <td>0</td>\n",
       "      <td>Yes</td>\n",
       "      <td>Yes</td>\n",
       "      <td>0</td>\n",
       "      <td>Yes</td>\n",
       "      <td>No</td>\n",
       "      <td>No</td>\n",
       "      <td>No internet service</td>\n",
       "      <td>...</td>\n",
       "      <td>No internet service</td>\n",
       "      <td>No internet service</td>\n",
       "      <td>No internet service</td>\n",
       "      <td>No internet service</td>\n",
       "      <td>Two year</td>\n",
       "      <td>No</td>\n",
       "      <td>Mailed check</td>\n",
       "      <td>19.85</td>\n",
       "      <td></td>\n",
       "      <td>No</td>\n",
       "    </tr>\n",
       "    <tr>\n",
       "      <th>3826</th>\n",
       "      <td>3213-VVOLG</td>\n",
       "      <td>Male</td>\n",
       "      <td>0</td>\n",
       "      <td>Yes</td>\n",
       "      <td>Yes</td>\n",
       "      <td>0</td>\n",
       "      <td>Yes</td>\n",
       "      <td>Yes</td>\n",
       "      <td>No</td>\n",
       "      <td>No internet service</td>\n",
       "      <td>...</td>\n",
       "      <td>No internet service</td>\n",
       "      <td>No internet service</td>\n",
       "      <td>No internet service</td>\n",
       "      <td>No internet service</td>\n",
       "      <td>Two year</td>\n",
       "      <td>No</td>\n",
       "      <td>Mailed check</td>\n",
       "      <td>25.35</td>\n",
       "      <td></td>\n",
       "      <td>No</td>\n",
       "    </tr>\n",
       "    <tr>\n",
       "      <th>4380</th>\n",
       "      <td>2520-SGTTA</td>\n",
       "      <td>Female</td>\n",
       "      <td>0</td>\n",
       "      <td>Yes</td>\n",
       "      <td>Yes</td>\n",
       "      <td>0</td>\n",
       "      <td>Yes</td>\n",
       "      <td>No</td>\n",
       "      <td>No</td>\n",
       "      <td>No internet service</td>\n",
       "      <td>...</td>\n",
       "      <td>No internet service</td>\n",
       "      <td>No internet service</td>\n",
       "      <td>No internet service</td>\n",
       "      <td>No internet service</td>\n",
       "      <td>Two year</td>\n",
       "      <td>No</td>\n",
       "      <td>Mailed check</td>\n",
       "      <td>20.00</td>\n",
       "      <td></td>\n",
       "      <td>No</td>\n",
       "    </tr>\n",
       "    <tr>\n",
       "      <th>5218</th>\n",
       "      <td>2923-ARZLG</td>\n",
       "      <td>Male</td>\n",
       "      <td>0</td>\n",
       "      <td>Yes</td>\n",
       "      <td>Yes</td>\n",
       "      <td>0</td>\n",
       "      <td>Yes</td>\n",
       "      <td>No</td>\n",
       "      <td>No</td>\n",
       "      <td>No internet service</td>\n",
       "      <td>...</td>\n",
       "      <td>No internet service</td>\n",
       "      <td>No internet service</td>\n",
       "      <td>No internet service</td>\n",
       "      <td>No internet service</td>\n",
       "      <td>One year</td>\n",
       "      <td>Yes</td>\n",
       "      <td>Mailed check</td>\n",
       "      <td>19.70</td>\n",
       "      <td></td>\n",
       "      <td>No</td>\n",
       "    </tr>\n",
       "    <tr>\n",
       "      <th>6670</th>\n",
       "      <td>4075-WKNIU</td>\n",
       "      <td>Female</td>\n",
       "      <td>0</td>\n",
       "      <td>Yes</td>\n",
       "      <td>Yes</td>\n",
       "      <td>0</td>\n",
       "      <td>Yes</td>\n",
       "      <td>Yes</td>\n",
       "      <td>DSL</td>\n",
       "      <td>No</td>\n",
       "      <td>...</td>\n",
       "      <td>Yes</td>\n",
       "      <td>Yes</td>\n",
       "      <td>Yes</td>\n",
       "      <td>No</td>\n",
       "      <td>Two year</td>\n",
       "      <td>No</td>\n",
       "      <td>Mailed check</td>\n",
       "      <td>73.35</td>\n",
       "      <td></td>\n",
       "      <td>No</td>\n",
       "    </tr>\n",
       "    <tr>\n",
       "      <th>6754</th>\n",
       "      <td>2775-SEFEE</td>\n",
       "      <td>Male</td>\n",
       "      <td>0</td>\n",
       "      <td>No</td>\n",
       "      <td>Yes</td>\n",
       "      <td>0</td>\n",
       "      <td>Yes</td>\n",
       "      <td>Yes</td>\n",
       "      <td>DSL</td>\n",
       "      <td>Yes</td>\n",
       "      <td>...</td>\n",
       "      <td>No</td>\n",
       "      <td>Yes</td>\n",
       "      <td>No</td>\n",
       "      <td>No</td>\n",
       "      <td>Two year</td>\n",
       "      <td>Yes</td>\n",
       "      <td>Bank transfer (automatic)</td>\n",
       "      <td>61.90</td>\n",
       "      <td></td>\n",
       "      <td>No</td>\n",
       "    </tr>\n",
       "  </tbody>\n",
       "</table>\n",
       "<p>11 rows × 22 columns</p>\n",
       "</div>"
      ],
      "text/plain": [
       "     customerID_x  gender  SeniorCitizen Partner Dependents  tenure  \\\n",
       "488    4472-LVYGI  Female              0     Yes        Yes       0   \n",
       "753    3115-CZMZD    Male              0      No        Yes       0   \n",
       "936    5709-LVOEQ  Female              0     Yes        Yes       0   \n",
       "1082   4367-NUYAO    Male              0     Yes        Yes       0   \n",
       "1340   1371-DWPAZ  Female              0     Yes        Yes       0   \n",
       "3331   7644-OMVMY    Male              0     Yes        Yes       0   \n",
       "3826   3213-VVOLG    Male              0     Yes        Yes       0   \n",
       "4380   2520-SGTTA  Female              0     Yes        Yes       0   \n",
       "5218   2923-ARZLG    Male              0     Yes        Yes       0   \n",
       "6670   4075-WKNIU  Female              0     Yes        Yes       0   \n",
       "6754   2775-SEFEE    Male              0      No        Yes       0   \n",
       "\n",
       "     PhoneService     MultipleLines InternetService       OnlineSecurity  ...  \\\n",
       "488            No  No phone service             DSL                  Yes  ...   \n",
       "753           Yes                No              No  No internet service  ...   \n",
       "936           Yes                No             DSL                  Yes  ...   \n",
       "1082          Yes               Yes              No  No internet service  ...   \n",
       "1340           No  No phone service             DSL                  Yes  ...   \n",
       "3331          Yes                No              No  No internet service  ...   \n",
       "3826          Yes               Yes              No  No internet service  ...   \n",
       "4380          Yes                No              No  No internet service  ...   \n",
       "5218          Yes                No              No  No internet service  ...   \n",
       "6670          Yes               Yes             DSL                   No  ...   \n",
       "6754          Yes               Yes             DSL                  Yes  ...   \n",
       "\n",
       "         DeviceProtection          TechSupport          StreamingTV  \\\n",
       "488                   Yes                  Yes                  Yes   \n",
       "753   No internet service  No internet service  No internet service   \n",
       "936                   Yes                   No                  Yes   \n",
       "1082  No internet service  No internet service  No internet service   \n",
       "1340                  Yes                  Yes                  Yes   \n",
       "3331  No internet service  No internet service  No internet service   \n",
       "3826  No internet service  No internet service  No internet service   \n",
       "4380  No internet service  No internet service  No internet service   \n",
       "5218  No internet service  No internet service  No internet service   \n",
       "6670                  Yes                  Yes                  Yes   \n",
       "6754                   No                  Yes                   No   \n",
       "\n",
       "          StreamingMovies  Contract PaperlessBilling  \\\n",
       "488                    No  Two year              Yes   \n",
       "753   No internet service  Two year               No   \n",
       "936                   Yes  Two year               No   \n",
       "1082  No internet service  Two year               No   \n",
       "1340                   No  Two year               No   \n",
       "3331  No internet service  Two year               No   \n",
       "3826  No internet service  Two year               No   \n",
       "4380  No internet service  Two year               No   \n",
       "5218  No internet service  One year              Yes   \n",
       "6670                   No  Two year               No   \n",
       "6754                   No  Two year              Yes   \n",
       "\n",
       "                  PaymentMethod MonthlyCharges TotalCharges  Churn  \n",
       "488   Bank transfer (automatic)          52.55                  No  \n",
       "753                Mailed check          20.25                  No  \n",
       "936                Mailed check          80.85                  No  \n",
       "1082               Mailed check          25.75                  No  \n",
       "1340    Credit card (automatic)          56.05                  No  \n",
       "3331               Mailed check          19.85                  No  \n",
       "3826               Mailed check          25.35                  No  \n",
       "4380               Mailed check          20.00                  No  \n",
       "5218               Mailed check          19.70                  No  \n",
       "6670               Mailed check          73.35                  No  \n",
       "6754  Bank transfer (automatic)          61.90                  No  \n",
       "\n",
       "[11 rows x 22 columns]"
      ]
     },
     "execution_count": 16,
     "metadata": {},
     "output_type": "execute_result"
    }
   ],
   "source": [
    "# Checking for any blank column identified in Total charges\n",
    "tcc[tcc[\"TotalCharges\"] == \" \"]"
   ]
  },
  {
   "cell_type": "code",
   "execution_count": 17,
   "id": "9b2e171a",
   "metadata": {},
   "outputs": [],
   "source": [
    "# All these are cusomters that have newly srarted with tenure 0 \n",
    "#Hence replacing total charges for them to 0. \n",
    "#This is based on the deduction that in the cases where tenure in 1 months Total charges is equal to monthy charge\n",
    "tcc=tcc.replace(\" \", 0)"
   ]
  },
  {
   "cell_type": "code",
   "execution_count": 18,
   "id": "a7224d99",
   "metadata": {},
   "outputs": [
    {
     "data": {
      "text/html": [
       "<div>\n",
       "<style scoped>\n",
       "    .dataframe tbody tr th:only-of-type {\n",
       "        vertical-align: middle;\n",
       "    }\n",
       "\n",
       "    .dataframe tbody tr th {\n",
       "        vertical-align: top;\n",
       "    }\n",
       "\n",
       "    .dataframe thead th {\n",
       "        text-align: right;\n",
       "    }\n",
       "</style>\n",
       "<table border=\"1\" class=\"dataframe\">\n",
       "  <thead>\n",
       "    <tr style=\"text-align: right;\">\n",
       "      <th></th>\n",
       "      <th>customerID_x</th>\n",
       "      <th>gender</th>\n",
       "      <th>SeniorCitizen</th>\n",
       "      <th>Partner</th>\n",
       "      <th>Dependents</th>\n",
       "      <th>tenure</th>\n",
       "      <th>PhoneService</th>\n",
       "      <th>MultipleLines</th>\n",
       "      <th>InternetService</th>\n",
       "      <th>OnlineSecurity</th>\n",
       "      <th>...</th>\n",
       "      <th>DeviceProtection</th>\n",
       "      <th>TechSupport</th>\n",
       "      <th>StreamingTV</th>\n",
       "      <th>StreamingMovies</th>\n",
       "      <th>Contract</th>\n",
       "      <th>PaperlessBilling</th>\n",
       "      <th>PaymentMethod</th>\n",
       "      <th>MonthlyCharges</th>\n",
       "      <th>TotalCharges</th>\n",
       "      <th>Churn</th>\n",
       "    </tr>\n",
       "  </thead>\n",
       "  <tbody>\n",
       "  </tbody>\n",
       "</table>\n",
       "<p>0 rows × 22 columns</p>\n",
       "</div>"
      ],
      "text/plain": [
       "Empty DataFrame\n",
       "Columns: [customerID_x, gender, SeniorCitizen, Partner, Dependents, tenure, PhoneService, MultipleLines, InternetService, OnlineSecurity, customerID_y, OnlineBackup, DeviceProtection, TechSupport, StreamingTV, StreamingMovies, Contract, PaperlessBilling, PaymentMethod, MonthlyCharges, TotalCharges, Churn]\n",
       "Index: []\n",
       "\n",
       "[0 rows x 22 columns]"
      ]
     },
     "execution_count": 18,
     "metadata": {},
     "output_type": "execute_result"
    }
   ],
   "source": [
    "tcc[tcc[\"TotalCharges\"] == \" \"]"
   ]
  },
  {
   "cell_type": "code",
   "execution_count": 19,
   "id": "444cc2dc",
   "metadata": {},
   "outputs": [],
   "source": [
    "# No null/blank values remaining"
   ]
  },
  {
   "cell_type": "code",
   "execution_count": 20,
   "id": "444ebc83",
   "metadata": {},
   "outputs": [],
   "source": [
    "# 2.B Make sure all the variables with continuous values are of ‘Float’ type. [2 Marks]\n",
    "#[For Example: MonthlyCharges, TotalCharges]\n",
    "tcc = tcc.astype({\n",
    "    'TotalCharges': 'float64'\n",
    "    })"
   ]
  },
  {
   "cell_type": "code",
   "execution_count": 21,
   "id": "88343655",
   "metadata": {},
   "outputs": [],
   "source": [
    "#2.C Create a function that will accept a DataFrame as input and return pie-charts for all the appropriate Categorical features. Clearly show percentage\n",
    "# distribution in the pie-chart. [4 Marks]\n",
    "\n",
    "def plot_pieChart_for_categorialData( data, category ):\n",
    "    sizes = data[category].value_counts(sort = True)\n",
    "    labels = np.unique(data[category])\n",
    "    plt.pie(sizes, labels = labels, autopct='%1.1f%%')"
   ]
  },
  {
   "cell_type": "code",
   "execution_count": 22,
   "id": "62ead3c3",
   "metadata": {},
   "outputs": [],
   "source": [
    "# Building Pie charts for each category\n",
    "# 'gender', 'SeniorCitizen', 'Partner', 'Dependents',\n",
    "# 'PhoneService', 'MultipleLines', 'InternetService',\n",
    "# 'OnlineSecurity', 'OnlineBackup', 'DeviceProtection',\n",
    "# 'TechSupport', 'StreamingTV', 'StreamingMovies', 'Contract',\n",
    "# 'PaperlessBilling', 'PaymentMethod', 'Churn'"
   ]
  },
  {
   "cell_type": "code",
   "execution_count": 23,
   "id": "06c9d83f",
   "metadata": {},
   "outputs": [
    {
     "data": {
      "image/png": "[encoded data removed]",
      "text/plain": [
       "<Figure size 432x288 with 1 Axes>"
      ]
     },
     "metadata": {},
     "output_type": "display_data"
    }
   ],
   "source": [
    "# gender\n",
    "plot_pieChart_for_categorialData(tcc, 'gender')"
   ]
  },
  {
   "cell_type": "code",
   "execution_count": 24,
   "id": "f552846c",
   "metadata": {},
   "outputs": [
    {
     "data": {
      "image/png": "[encoded data removed]",
      "text/plain": [
       "<Figure size 432x288 with 1 Axes>"
      ]
     },
     "metadata": {},
     "output_type": "display_data"
    }
   ],
   "source": [
    "#SeniorCitizen\n",
    "plot_pieChart_for_categorialData(tcc, 'SeniorCitizen')"
   ]
  },
  {
   "cell_type": "code",
   "execution_count": 25,
   "id": "32a01071",
   "metadata": {},
   "outputs": [
    {
     "data": {
      "image/png": "[encoded data removed]",
      "text/plain": [
       "<Figure size 432x288 with 1 Axes>"
      ]
     },
     "metadata": {},
     "output_type": "display_data"
    }
   ],
   "source": [
    "#Partner\n",
    "plot_pieChart_for_categorialData(tcc, 'Partner')"
   ]
  },
  {
   "cell_type": "code",
   "execution_count": 26,
   "id": "25470a0b",
   "metadata": {},
   "outputs": [],
   "source": [
    "# Almost half of the customers live with partner "
   ]
  },
  {
   "cell_type": "code",
   "execution_count": 27,
   "id": "c62ce59a",
   "metadata": {},
   "outputs": [
    {
     "data": {
      "image/png": "[encoded data removed]",
      "text/plain": [
       "<Figure size 432x288 with 1 Axes>"
      ]
     },
     "metadata": {},
     "output_type": "display_data"
    }
   ],
   "source": [
    "# Dependents\n",
    "plot_pieChart_for_categorialData(tcc, 'Dependents')"
   ]
  },
  {
   "cell_type": "code",
   "execution_count": 28,
   "id": "581f6496",
   "metadata": {},
   "outputs": [],
   "source": [
    "# Only 30% of the customers have dependents"
   ]
  },
  {
   "cell_type": "code",
   "execution_count": 29,
   "id": "06a21aa2",
   "metadata": {},
   "outputs": [
    {
     "data": {
      "image/png": "[encoded data removed]",
      "text/plain": [
       "<Figure size 432x288 with 1 Axes>"
      ]
     },
     "metadata": {},
     "output_type": "display_data"
    }
   ],
   "source": [
    "# PhoneService\n",
    "plot_pieChart_for_categorialData(tcc, 'PhoneService')"
   ]
  },
  {
   "cell_type": "code",
   "execution_count": 30,
   "id": "8f5ace24",
   "metadata": {},
   "outputs": [],
   "source": [
    "# Only 10% of the customers use the connection for phone"
   ]
  },
  {
   "cell_type": "code",
   "execution_count": 31,
   "id": "48c81fd5",
   "metadata": {},
   "outputs": [
    {
     "data": {
      "image/png": "[encoded data removed]",
      "text/plain": [
       "<Figure size 432x288 with 1 Axes>"
      ]
     },
     "metadata": {},
     "output_type": "display_data"
    }
   ],
   "source": [
    "#MultipleLines\n",
    "plot_pieChart_for_categorialData(tcc, 'MultipleLines')"
   ]
  },
  {
   "cell_type": "code",
   "execution_count": 32,
   "id": "469c551a",
   "metadata": {},
   "outputs": [
    {
     "data": {
      "image/png": "[encoded data removed]",
      "text/plain": [
       "<Figure size 432x288 with 1 Axes>"
      ]
     },
     "metadata": {},
     "output_type": "display_data"
    }
   ],
   "source": [
    "#InternetService\n",
    "plot_pieChart_for_categorialData(tcc, 'InternetService')"
   ]
  },
  {
   "cell_type": "code",
   "execution_count": 33,
   "id": "3ccf936c",
   "metadata": {},
   "outputs": [
    {
     "data": {
      "image/png": "[encoded data removed]",
      "text/plain": [
       "<Figure size 432x288 with 1 Axes>"
      ]
     },
     "metadata": {},
     "output_type": "display_data"
    }
   ],
   "source": [
    "#OnlineSecurity\n",
    "plot_pieChart_for_categorialData(tcc, 'OnlineSecurity')"
   ]
  },
  {
   "cell_type": "code",
   "execution_count": 34,
   "id": "66fd9066",
   "metadata": {},
   "outputs": [
    {
     "data": {
      "image/png": "[encoded data removed]",
      "text/plain": [
       "<Figure size 432x288 with 1 Axes>"
      ]
     },
     "metadata": {},
     "output_type": "display_data"
    }
   ],
   "source": [
    "#OnlineBackup\n",
    "plot_pieChart_for_categorialData(tcc, 'OnlineBackup')"
   ]
  },
  {
   "cell_type": "code",
   "execution_count": 35,
   "id": "b69836ae",
   "metadata": {},
   "outputs": [
    {
     "data": {
      "image/png": "[encoded data removed]",
      "text/plain": [
       "<Figure size 432x288 with 1 Axes>"
      ]
     },
     "metadata": {},
     "output_type": "display_data"
    }
   ],
   "source": [
    "#DeviceProtection\n",
    "plot_pieChart_for_categorialData(tcc, 'DeviceProtection')"
   ]
  },
  {
   "cell_type": "code",
   "execution_count": 36,
   "id": "947b5fa8",
   "metadata": {},
   "outputs": [
    {
     "data": {
      "image/png": "[encoded data removed]",
      "text/plain": [
       "<Figure size 432x288 with 1 Axes>"
      ]
     },
     "metadata": {},
     "output_type": "display_data"
    }
   ],
   "source": [
    "#TechSupport\n",
    "plot_pieChart_for_categorialData(tcc, 'TechSupport')"
   ]
  },
  {
   "cell_type": "code",
   "execution_count": 37,
   "id": "996934d5",
   "metadata": {},
   "outputs": [
    {
     "data": {
      "image/png": "[encoded data removed]",
      "text/plain": [
       "<Figure size 432x288 with 1 Axes>"
      ]
     },
     "metadata": {},
     "output_type": "display_data"
    }
   ],
   "source": [
    "#StreamingTV\n",
    "plot_pieChart_for_categorialData(tcc, 'StreamingTV')"
   ]
  },
  {
   "cell_type": "code",
   "execution_count": 38,
   "id": "8b6fe966",
   "metadata": {},
   "outputs": [
    {
     "data": {
      "image/png": "[encoded data removed]",
      "text/plain": [
       "<Figure size 432x288 with 1 Axes>"
      ]
     },
     "metadata": {},
     "output_type": "display_data"
    }
   ],
   "source": [
    "#StreamingMovies\n",
    "plot_pieChart_for_categorialData(tcc, 'StreamingMovies')"
   ]
  },
  {
   "cell_type": "code",
   "execution_count": 39,
   "id": "3bc85f3f",
   "metadata": {},
   "outputs": [
    {
     "data": {
      "image/png": "[encoded data removed]",
      "text/plain": [
       "<Figure size 432x288 with 1 Axes>"
      ]
     },
     "metadata": {},
     "output_type": "display_data"
    }
   ],
   "source": [
    "#Contract\n",
    "plot_pieChart_for_categorialData(tcc, 'Contract')"
   ]
  },
  {
   "cell_type": "code",
   "execution_count": 40,
   "id": "b4156140",
   "metadata": {},
   "outputs": [
    {
     "data": {
      "image/png": "[encoded data removed]",
      "text/plain": [
       "<Figure size 432x288 with 1 Axes>"
      ]
     },
     "metadata": {},
     "output_type": "display_data"
    }
   ],
   "source": [
    "#PaperlessBilling\n",
    "plot_pieChart_for_categorialData(tcc, 'PaperlessBilling')"
   ]
  },
  {
   "cell_type": "code",
   "execution_count": 41,
   "id": "282ec1be",
   "metadata": {},
   "outputs": [
    {
     "data": {
      "image/png": "[encoded data removed]",
      "text/plain": [
       "<Figure size 432x288 with 1 Axes>"
      ]
     },
     "metadata": {},
     "output_type": "display_data"
    }
   ],
   "source": [
    "#PaymentMethod\n",
    "plot_pieChart_for_categorialData(tcc, 'PaymentMethod')"
   ]
  },
  {
   "cell_type": "code",
   "execution_count": 42,
   "id": "319243d2",
   "metadata": {},
   "outputs": [
    {
     "data": {
      "image/png": "[encoded data removed]",
      "text/plain": [
       "<Figure size 432x288 with 1 Axes>"
      ]
     },
     "metadata": {},
     "output_type": "display_data"
    }
   ],
   "source": [
    "#Churn - Variable that we will use for prediction later\n",
    "plot_pieChart_for_categorialData(tcc, 'Churn')"
   ]
  },
  {
   "cell_type": "markdown",
   "id": "ab006799",
   "metadata": {},
   "source": [
    "### 2.D. Share insights for Q2.c. [2 Marks]"
   ]
  },
  {
   "cell_type": "markdown",
   "id": "e1af7668",
   "metadata": {},
   "source": [
    "2.D. Share insights for Q2.c. [2 Marks]\n",
    "1. Curn is appx. 25% i.e. 25 % of our customers leave our services which looks very high.\n",
    "2. Bank transfer is most popular method od payment, other methods stand equal at almost ~22%\n",
    "3. Only 40% of cusotmers have moved to paperless billing\n",
    "4. 55% of the customers pay on a monthly basis. Need to watch this category i.e. why they are not commiting to longer periods. Will cause churn.\n",
    "5. Only 21% cusomters stream movies via the internet service.\n",
    "6. Almost similar percentage stream TV via the internet service.\n",
    "7. ~21% cusotmers took Tech support help for internet services\n",
    "8. ~21% of the customers use Device Protection, online security and online back-up services\n",
    "9. ~21% people are not using internet services from us. 44% are old DSL service\n",
    "10. 10% of the customers have multiple lines from us.\n",
    "11. Gender ratio of our customer is equal in percentages\n",
    "12. 16% of our customers are senior citizens\n",
    "13. Only 10% of customers use phone services. Mostly they use us for internet services\n",
    "14. ~half of our customers live with partners\n",
    "15. Almost 30% of our customers have dependents / kids."
   ]
  },
  {
   "cell_type": "markdown",
   "id": "73467bbc",
   "metadata": {},
   "source": [
    "### 2.E. Encode all the appropriate Categorical features with the best suitable approach. [2 Marks]"
   ]
  },
  {
   "cell_type": "code",
   "execution_count": 43,
   "id": "92f55ef9",
   "metadata": {},
   "outputs": [],
   "source": [
    "# Label Encoding\n",
    "# 'gender','Partner', 'Dependents',\n",
    "# 'PhoneService', 'MultipleLines', 'InternetService',\n",
    "# 'OnlineSecurity', 'OnlineBackup', 'DeviceProtection',\n",
    "# 'TechSupport', 'StreamingTV', 'StreamingMovies', 'Contract',\n",
    "# 'PaperlessBilling', 'PaymentMethod', 'Churn'\n",
    "# Did label encoding on above parmeter, though some of the variables had 3 values but that was highly corelated \n",
    "# with if the customer had internet or not. Hence conveted it to label encoding\n",
    "\n",
    "replaceStruct = {\n",
    "                \"gender\":         {\"Male\": 1, \"Female\": 0 },\n",
    "                \"Partner\":        {\"No\": 0, \"Yes\": 1 },\n",
    "                \"Dependents\":     {\"No\": 0, \"Yes\": 1 },\n",
    "                \"PhoneService\":   {\"No\": 0, \"Yes\": 1 },\n",
    "                \"MultipleLines\":  {\"No phone service\":0, \"No\":0, \"Yes\":1    },\n",
    "                \"OnlineSecurity\": {\"No internet service\":0,\"No\":0, \"Yes\":1  },\n",
    "                \"OnlineBackup\":   {\"No internet service\":0,\"No\":0, \"Yes\":1  },\n",
    "                \"DeviceProtection\":{\"No internet service\":0,\"No\":0, \"Yes\":1 },\n",
    "                \"TechSupport\"     :{\"No internet service\":0,\"No\":0, \"Yes\":1 },\n",
    "                \"StreamingTV\"     :{\"No internet service\":0,\"No\":0, \"Yes\":1 },\n",
    "                \"StreamingMovies\" :{\"No internet service\":0,\"No\":0, \"Yes\":1 },\n",
    "                \"PaperlessBilling\":{\"No\": 0, \"Yes\": 1 },\n",
    "                \"Churn\"           :{\"No\": 0, \"Yes\": 1 }\n",
    "                }"
   ]
  },
  {
   "cell_type": "code",
   "execution_count": 44,
   "id": "fb70b6b1",
   "metadata": {},
   "outputs": [],
   "source": [
    "tcc=tcc.replace(replaceStruct)"
   ]
  },
  {
   "cell_type": "code",
   "execution_count": 45,
   "id": "109c4610",
   "metadata": {},
   "outputs": [],
   "source": [
    "# Performed one hot envoding on rest of the columns.\n",
    "oneHotCols=[\"PaymentMethod\",\"Contract\", \"InternetService\"]\n",
    "tcc=pd.get_dummies(tcc, columns=oneHotCols)"
   ]
  },
  {
   "cell_type": "code",
   "execution_count": 46,
   "id": "07717bbb",
   "metadata": {},
   "outputs": [
    {
     "data": {
      "text/html": [
       "<div>\n",
       "<style scoped>\n",
       "    .dataframe tbody tr th:only-of-type {\n",
       "        vertical-align: middle;\n",
       "    }\n",
       "\n",
       "    .dataframe tbody tr th {\n",
       "        vertical-align: top;\n",
       "    }\n",
       "\n",
       "    .dataframe thead th {\n",
       "        text-align: right;\n",
       "    }\n",
       "</style>\n",
       "<table border=\"1\" class=\"dataframe\">\n",
       "  <thead>\n",
       "    <tr style=\"text-align: right;\">\n",
       "      <th></th>\n",
       "      <th>customerID_x</th>\n",
       "      <th>gender</th>\n",
       "      <th>SeniorCitizen</th>\n",
       "      <th>Partner</th>\n",
       "      <th>Dependents</th>\n",
       "      <th>tenure</th>\n",
       "      <th>PhoneService</th>\n",
       "      <th>MultipleLines</th>\n",
       "      <th>OnlineSecurity</th>\n",
       "      <th>customerID_y</th>\n",
       "      <th>...</th>\n",
       "      <th>PaymentMethod_Bank transfer (automatic)</th>\n",
       "      <th>PaymentMethod_Credit card (automatic)</th>\n",
       "      <th>PaymentMethod_Electronic check</th>\n",
       "      <th>PaymentMethod_Mailed check</th>\n",
       "      <th>Contract_Month-to-month</th>\n",
       "      <th>Contract_One year</th>\n",
       "      <th>Contract_Two year</th>\n",
       "      <th>InternetService_DSL</th>\n",
       "      <th>InternetService_Fiber optic</th>\n",
       "      <th>InternetService_No</th>\n",
       "    </tr>\n",
       "  </thead>\n",
       "  <tbody>\n",
       "    <tr>\n",
       "      <th>0</th>\n",
       "      <td>7590-VHVEG</td>\n",
       "      <td>0</td>\n",
       "      <td>0</td>\n",
       "      <td>1</td>\n",
       "      <td>0</td>\n",
       "      <td>1</td>\n",
       "      <td>0</td>\n",
       "      <td>0</td>\n",
       "      <td>0</td>\n",
       "      <td>7590-VHVEG</td>\n",
       "      <td>...</td>\n",
       "      <td>0</td>\n",
       "      <td>0</td>\n",
       "      <td>1</td>\n",
       "      <td>0</td>\n",
       "      <td>1</td>\n",
       "      <td>0</td>\n",
       "      <td>0</td>\n",
       "      <td>1</td>\n",
       "      <td>0</td>\n",
       "      <td>0</td>\n",
       "    </tr>\n",
       "    <tr>\n",
       "      <th>1</th>\n",
       "      <td>5575-GNVDE</td>\n",
       "      <td>1</td>\n",
       "      <td>0</td>\n",
       "      <td>0</td>\n",
       "      <td>0</td>\n",
       "      <td>34</td>\n",
       "      <td>1</td>\n",
       "      <td>0</td>\n",
       "      <td>1</td>\n",
       "      <td>5575-GNVDE</td>\n",
       "      <td>...</td>\n",
       "      <td>0</td>\n",
       "      <td>0</td>\n",
       "      <td>0</td>\n",
       "      <td>1</td>\n",
       "      <td>0</td>\n",
       "      <td>1</td>\n",
       "      <td>0</td>\n",
       "      <td>1</td>\n",
       "      <td>0</td>\n",
       "      <td>0</td>\n",
       "    </tr>\n",
       "    <tr>\n",
       "      <th>2</th>\n",
       "      <td>3668-QPYBK</td>\n",
       "      <td>1</td>\n",
       "      <td>0</td>\n",
       "      <td>0</td>\n",
       "      <td>0</td>\n",
       "      <td>2</td>\n",
       "      <td>1</td>\n",
       "      <td>0</td>\n",
       "      <td>1</td>\n",
       "      <td>3668-QPYBK</td>\n",
       "      <td>...</td>\n",
       "      <td>0</td>\n",
       "      <td>0</td>\n",
       "      <td>0</td>\n",
       "      <td>1</td>\n",
       "      <td>1</td>\n",
       "      <td>0</td>\n",
       "      <td>0</td>\n",
       "      <td>1</td>\n",
       "      <td>0</td>\n",
       "      <td>0</td>\n",
       "    </tr>\n",
       "    <tr>\n",
       "      <th>3</th>\n",
       "      <td>7795-CFOCW</td>\n",
       "      <td>1</td>\n",
       "      <td>0</td>\n",
       "      <td>0</td>\n",
       "      <td>0</td>\n",
       "      <td>45</td>\n",
       "      <td>0</td>\n",
       "      <td>0</td>\n",
       "      <td>1</td>\n",
       "      <td>7795-CFOCW</td>\n",
       "      <td>...</td>\n",
       "      <td>1</td>\n",
       "      <td>0</td>\n",
       "      <td>0</td>\n",
       "      <td>0</td>\n",
       "      <td>0</td>\n",
       "      <td>1</td>\n",
       "      <td>0</td>\n",
       "      <td>1</td>\n",
       "      <td>0</td>\n",
       "      <td>0</td>\n",
       "    </tr>\n",
       "    <tr>\n",
       "      <th>4</th>\n",
       "      <td>9237-HQITU</td>\n",
       "      <td>0</td>\n",
       "      <td>0</td>\n",
       "      <td>0</td>\n",
       "      <td>0</td>\n",
       "      <td>2</td>\n",
       "      <td>1</td>\n",
       "      <td>0</td>\n",
       "      <td>0</td>\n",
       "      <td>9237-HQITU</td>\n",
       "      <td>...</td>\n",
       "      <td>0</td>\n",
       "      <td>0</td>\n",
       "      <td>1</td>\n",
       "      <td>0</td>\n",
       "      <td>1</td>\n",
       "      <td>0</td>\n",
       "      <td>0</td>\n",
       "      <td>0</td>\n",
       "      <td>1</td>\n",
       "      <td>0</td>\n",
       "    </tr>\n",
       "  </tbody>\n",
       "</table>\n",
       "<p>5 rows × 29 columns</p>\n",
       "</div>"
      ],
      "text/plain": [
       "  customerID_x  gender  SeniorCitizen  Partner  Dependents  tenure  \\\n",
       "0   7590-VHVEG       0              0        1           0       1   \n",
       "1   5575-GNVDE       1              0        0           0      34   \n",
       "2   3668-QPYBK       1              0        0           0       2   \n",
       "3   7795-CFOCW       1              0        0           0      45   \n",
       "4   9237-HQITU       0              0        0           0       2   \n",
       "\n",
       "   PhoneService  MultipleLines  OnlineSecurity customerID_y  ...  \\\n",
       "0             0              0               0   7590-VHVEG  ...   \n",
       "1             1              0               1   5575-GNVDE  ...   \n",
       "2             1              0               1   3668-QPYBK  ...   \n",
       "3             0              0               1   7795-CFOCW  ...   \n",
       "4             1              0               0   9237-HQITU  ...   \n",
       "\n",
       "   PaymentMethod_Bank transfer (automatic)  \\\n",
       "0                                        0   \n",
       "1                                        0   \n",
       "2                                        0   \n",
       "3                                        1   \n",
       "4                                        0   \n",
       "\n",
       "   PaymentMethod_Credit card (automatic)  PaymentMethod_Electronic check  \\\n",
       "0                                      0                               1   \n",
       "1                                      0                               0   \n",
       "2                                      0                               0   \n",
       "3                                      0                               0   \n",
       "4                                      0                               1   \n",
       "\n",
       "   PaymentMethod_Mailed check  Contract_Month-to-month  Contract_One year  \\\n",
       "0                           0                        1                  0   \n",
       "1                           1                        0                  1   \n",
       "2                           1                        1                  0   \n",
       "3                           0                        0                  1   \n",
       "4                           0                        1                  0   \n",
       "\n",
       "   Contract_Two year  InternetService_DSL  InternetService_Fiber optic  \\\n",
       "0                  0                    1                            0   \n",
       "1                  0                    1                            0   \n",
       "2                  0                    1                            0   \n",
       "3                  0                    1                            0   \n",
       "4                  0                    0                            1   \n",
       "\n",
       "   InternetService_No  \n",
       "0                   0  \n",
       "1                   0  \n",
       "2                   0  \n",
       "3                   0  \n",
       "4                   0  \n",
       "\n",
       "[5 rows x 29 columns]"
      ]
     },
     "execution_count": 46,
     "metadata": {},
     "output_type": "execute_result"
    }
   ],
   "source": [
    "tcc.head()"
   ]
  },
  {
   "cell_type": "code",
   "execution_count": 47,
   "id": "fc90e71b",
   "metadata": {},
   "outputs": [],
   "source": [
    "#dropping columns not required for analysis \n",
    "tcc.drop([\"customerID_x\",\"customerID_y\"],axis=1,inplace=True)"
   ]
  },
  {
   "cell_type": "markdown",
   "id": "52f30eb3",
   "metadata": {},
   "source": [
    "### 2.F. Split the data into 80% train and 20% test. [1 Marks]"
   ]
  },
  {
   "cell_type": "code",
   "execution_count": 48,
   "id": "99017ba5",
   "metadata": {},
   "outputs": [
    {
     "data": {
      "text/plain": [
       "(7043, 27)"
      ]
     },
     "execution_count": 48,
     "metadata": {},
     "output_type": "execute_result"
    }
   ],
   "source": [
    "from sklearn.model_selection import train_test_split\n",
    "tcc.shape"
   ]
  },
  {
   "cell_type": "code",
   "execution_count": 49,
   "id": "3bc9c87c",
   "metadata": {},
   "outputs": [
    {
     "name": "stdout",
     "output_type": "stream",
     "text": [
      "<class 'pandas.core.frame.DataFrame'>\n",
      "RangeIndex: 7043 entries, 0 to 7042\n",
      "Data columns (total 27 columns):\n",
      " #   Column                                   Non-Null Count  Dtype  \n",
      "---  ------                                   --------------  -----  \n",
      " 0   gender                                   7043 non-null   int64  \n",
      " 1   SeniorCitizen                            7043 non-null   int64  \n",
      " 2   Partner                                  7043 non-null   int64  \n",
      " 3   Dependents                               7043 non-null   int64  \n",
      " 4   tenure                                   7043 non-null   int64  \n",
      " 5   PhoneService                             7043 non-null   int64  \n",
      " 6   MultipleLines                            7043 non-null   int64  \n",
      " 7   OnlineSecurity                           7043 non-null   int64  \n",
      " 8   OnlineBackup                             7043 non-null   int64  \n",
      " 9   DeviceProtection                         7043 non-null   int64  \n",
      " 10  TechSupport                              7043 non-null   int64  \n",
      " 11  StreamingTV                              7043 non-null   int64  \n",
      " 12  StreamingMovies                          7043 non-null   int64  \n",
      " 13  PaperlessBilling                         7043 non-null   int64  \n",
      " 14  MonthlyCharges                           7043 non-null   float64\n",
      " 15  TotalCharges                             7043 non-null   float64\n",
      " 16  Churn                                    7043 non-null   int64  \n",
      " 17  PaymentMethod_Bank transfer (automatic)  7043 non-null   uint8  \n",
      " 18  PaymentMethod_Credit card (automatic)    7043 non-null   uint8  \n",
      " 19  PaymentMethod_Electronic check           7043 non-null   uint8  \n",
      " 20  PaymentMethod_Mailed check               7043 non-null   uint8  \n",
      " 21  Contract_Month-to-month                  7043 non-null   uint8  \n",
      " 22  Contract_One year                        7043 non-null   uint8  \n",
      " 23  Contract_Two year                        7043 non-null   uint8  \n",
      " 24  InternetService_DSL                      7043 non-null   uint8  \n",
      " 25  InternetService_Fiber optic              7043 non-null   uint8  \n",
      " 26  InternetService_No                       7043 non-null   uint8  \n",
      "dtypes: float64(2), int64(15), uint8(10)\n",
      "memory usage: 1004.3 KB\n"
     ]
    }
   ],
   "source": [
    "tcc.info()"
   ]
  },
  {
   "cell_type": "code",
   "execution_count": 50,
   "id": "a797d5cc",
   "metadata": {},
   "outputs": [],
   "source": [
    "#Segregating Target Variable from Churn( value to be predicted)\n",
    "y = tcc['Churn'].values\n",
    "X = tcc.drop(columns = ['Churn'])"
   ]
  },
  {
   "cell_type": "code",
   "execution_count": 51,
   "id": "9068ccd6",
   "metadata": {},
   "outputs": [],
   "source": [
    "X_train, X_test, y_train, y_test = train_test_split(X,y,test_size = 0.20, train_size =0.80,stratify=y)"
   ]
  },
  {
   "cell_type": "markdown",
   "id": "79109d68",
   "metadata": {},
   "source": [
    "### 2.E Normalize/Standardize the data with the best suitable approach."
   ]
  },
  {
   "cell_type": "code",
   "execution_count": 52,
   "id": "b4dd8fa1",
   "metadata": {},
   "outputs": [],
   "source": [
    "# Applying standard scaler for Numerical values  \n",
    "from sklearn.preprocessing import MinMaxScaler\n",
    "from sklearn.preprocessing import StandardScaler, OneHotEncoder\n",
    "scaler = StandardScaler()\n",
    "\n",
    "vars = ['tenure', 'MonthlyCharges', 'TotalCharges']\n",
    "X_train[vars] = scaler.fit_transform(X_train[vars])\n",
    "X_test[vars] = scaler.fit_transform(X_test[vars])"
   ]
  },
  {
   "cell_type": "markdown",
   "id": "6670cbd2",
   "metadata": {},
   "source": [
    "### 3. Model building and Improvement: "
   ]
  },
  {
   "cell_type": "markdown",
   "id": "a6fb0332",
   "metadata": {},
   "source": [
    "#### 3. A. Train a model using XGBoost. Also print best performing parameters along with train and test performance. [5 Marks]"
   ]
  },
  {
   "cell_type": "code",
   "execution_count": 53,
   "id": "911489cb",
   "metadata": {},
   "outputs": [
    {
     "name": "stdout",
     "output_type": "stream",
     "text": [
      "===================================================================\n",
      "XGBoost - Baselined \n",
      "===================================================================\n",
      "\n",
      " Classification Report: \n",
      "               precision    recall  f1-score   support\n",
      "\n",
      "           0       0.83      0.89      0.86      1035\n",
      "           1       0.62      0.51      0.56       374\n",
      "\n",
      "    accuracy                           0.79      1409\n",
      "   macro avg       0.72      0.70      0.71      1409\n",
      "weighted avg       0.78      0.79      0.78      1409\n",
      "\n",
      "Accuracy Score:  0.7856635911994322\n",
      "Feature Importance : \n",
      " InternetService_Fiber optic                0.387830\n",
      "Contract_Month-to-month                    0.275763\n",
      "InternetService_No                         0.038264\n",
      "Contract_Two year                          0.035622\n",
      "InternetService_DSL                        0.024594\n",
      "PhoneService                               0.023077\n",
      "PaymentMethod_Electronic check             0.017651\n",
      "Contract_One year                          0.015482\n",
      "tenure                                     0.015383\n",
      "StreamingTV                                0.014907\n",
      "SeniorCitizen                              0.012166\n",
      "TechSupport                                0.012105\n",
      "StreamingMovies                            0.012051\n",
      "PaperlessBilling                           0.011660\n",
      "MultipleLines                              0.011577\n",
      "OnlineSecurity                             0.010854\n",
      "TotalCharges                               0.009569\n",
      "MonthlyCharges                             0.009021\n",
      "DeviceProtection                           0.008774\n",
      "OnlineBackup                               0.008502\n",
      "PaymentMethod_Bank transfer (automatic)    0.008367\n",
      "PaymentMethod_Credit card (automatic)      0.007981\n",
      "gender                                     0.007683\n",
      "Dependents                                 0.007618\n",
      "PaymentMethod_Mailed check                 0.006896\n",
      "Partner                                    0.006605\n",
      "dtype: float32\n"
     ]
    }
   ],
   "source": [
    "from xgboost import XGBClassifier \n",
    "from sklearn.metrics import accuracy_score, classification_report \n",
    "from sklearn.metrics import roc_auc_score, roc_curve\n",
    "\n",
    "\n",
    "XGBoost_Model = XGBClassifier( max_depth = 5, n_estimators=200, objective='binary:logistic')\n",
    "XGBoost_Model.fit(X_train, y_train)\n",
    "XGBoost_Result = XGBoost_Model.fit(X_train, y_train)\n",
    "XGBoost_Prediction = XGBoost_Model.predict(X_test)\n",
    "XGBoost_Probabilities = XGBoost_Model.predict_proba(X_test)\n",
    "\n",
    "print(\"===================================================================\")\n",
    "print(\"XGBoost - Baselined \")\n",
    "print(\"===================================================================\")\n",
    "print(\"\\n Classification Report: \\n\", classification_report(y_test,XGBoost_Prediction))\n",
    "print(\"Accuracy Score: \",accuracy_score(y_test,XGBoost_Prediction))\n",
    "\n",
    "\n",
    "#Features that are important to us \n",
    "feature_importance=XGBoost_Model.feature_importances_\n",
    "Coef = pd.Series(feature_importance,\n",
    "                 index=X.columns.values)\n",
    "\n",
    "print(\"Feature Importance : \\n\",Coef.sort_values(ascending = False))"
   ]
  },
  {
   "cell_type": "markdown",
   "id": "62daf5ed",
   "metadata": {},
   "source": [
    "## Features that cause maximum churn are \n",
    "#### 1. Contract_Month-to-month\n",
    "#### 2. InternetService_Fiber optic\n",
    "#### i.e. cusotmers who are on monthly payment and have not yet switched to fibreoptics services will have maximum churn"
   ]
  },
  {
   "cell_type": "markdown",
   "id": "a09fd8b0",
   "metadata": {},
   "source": [
    "### 3. B. Improve performance of the XGBoost as much as possible. \n",
    "### Also print best performing parameters along with train and test performance"
   ]
  },
  {
   "cell_type": "code",
   "execution_count": 54,
   "id": "21e5c4e1",
   "metadata": {},
   "outputs": [
    {
     "name": "stdout",
     "output_type": "stream",
     "text": [
      "Fitting 5 folds for each of 36 candidates, totalling 180 fits\n"
     ]
    }
   ],
   "source": [
    "from sklearn.model_selection import GridSearchCV\n",
    "xgBoost_grid_cv = {\"max_depth\": [2,4,6,8],\n",
    "                \"min_child_weight\":[1,3,5],\n",
    "                \"n_estimators\": [100,200,300]\n",
    "                }\n",
    "\n",
    "# Setup grid hyperparameter search for LogisticRegression\n",
    "xgBoost = GridSearchCV(XGBClassifier(),\n",
    "                          param_grid=xgBoost_grid_cv,\n",
    "                          cv=5,\n",
    "                          verbose=True)\n",
    "\n",
    "# Fit grid hyperparameter search model\n",
    "xgBoost.fit(X_train, y_train);"
   ]
  },
  {
   "cell_type": "code",
   "execution_count": 55,
   "id": "16b2d22f",
   "metadata": {},
   "outputs": [
    {
     "data": {
      "text/plain": [
       "{'max_depth': 2, 'min_child_weight': 1, 'n_estimators': 100}"
      ]
     },
     "execution_count": 55,
     "metadata": {},
     "output_type": "execute_result"
    }
   ],
   "source": [
    "xgBoost.best_params_"
   ]
  },
  {
   "cell_type": "code",
   "execution_count": 56,
   "id": "bfc668fd",
   "metadata": {},
   "outputs": [
    {
     "data": {
      "text/plain": [
       "0.7998580553584103"
      ]
     },
     "execution_count": 56,
     "metadata": {},
     "output_type": "execute_result"
    }
   ],
   "source": [
    "xgBoost.score(X_test, y_test)"
   ]
  },
  {
   "cell_type": "code",
   "execution_count": 57,
   "id": "0a727a34",
   "metadata": {},
   "outputs": [
    {
     "name": "stdout",
     "output_type": "stream",
     "text": [
      "===================================================================\n",
      "XGBoost - Tuned \n",
      "===================================================================\n",
      "\n",
      " Classification Report - Tuned: \n",
      "               precision    recall  f1-score   support\n",
      "\n",
      "           0       0.83      0.91      0.87      1035\n",
      "           1       0.66      0.50      0.57       374\n",
      "\n",
      "    accuracy                           0.80      1409\n",
      "   macro avg       0.75      0.70      0.72      1409\n",
      "weighted avg       0.79      0.80      0.79      1409\n",
      "\n"
     ]
    }
   ],
   "source": [
    "XGBoost_Model = XGBClassifier( max_depth = 2, min_child_weight=1, n_estimators=100)\n",
    "XGBoost_Model.fit(X_train, y_train)\n",
    "XGBoost_Result = XGBoost_Model.fit(X_train, y_train)\n",
    "XGBoost_Result = XGBoost_Model.fit(X_train, y_train)\n",
    "XGBoost_Prediction = XGBoost_Model.predict(X_test)\n",
    "print(\"===================================================================\")\n",
    "print(\"XGBoost - Tuned \")\n",
    "print(\"===================================================================\")\n",
    "print(\"\\n Classification Report - Tuned: \\n\", classification_report(y_test,XGBoost_Prediction))"
   ]
  },
  {
   "cell_type": "markdown",
   "id": "e926e6da",
   "metadata": {},
   "source": [
    "## Though the accuracy is between 76 to 81%, we also ensure that the recall and precision for churn classification is best when  number of estimatiors are 100 max depth is 2 and min_child_weight = 1. There parmeters ensure good recall and precision scores for churn = 1 / \"Yes\" \n",
    "## Two key feature to consider are \n",
    "## 1. Contract_Month-to-month \n",
    "## 2. InternetService_Fiber optic \n",
    "### People who pay monthly and have not yet switched to fibreoptics there is a higer churn.\n",
    "\n",
    "# Recommendation: Suggestion give big discounts on contracts making it attractive for customer Try giving free upgrades to fibleoptics connections, may be a competitor is doing that and we are loosing the customers to competitors. "
   ]
  },
  {
   "cell_type": "markdown",
   "id": "a0c3d9b2",
   "metadata": {},
   "source": [
    "# PART B :\n",
    "## DOMAIN: IT\n",
    "### • CONTEXT: The purpose is to build a machine learning pipeline that will work autonomously irrespective of Data and users can save efforts involved in building pipelines for each dataset.\n",
    "### • PROJECT OBJECTIVE: Build a machine learning pipeline that will run autonomously with the csv file and return best performing model.\n",
    "##### • STEPS AND TASK [30 Marks]:\n",
    "#### 1. Build a simple ML pipeline which will accept a single ‘.csv’ file as input and return a trained base model that can be used for predictions. You can use 1 Dataset from Part 1 (single/merged).\n",
    "#### 2. Create separate functions for various purposes.\n",
    "#### 3. Various base models should be trained to select the best performing model.\n",
    "#### 4. Pickle file should be saved for the best performing model. Include best coding practices in the code:\n",
    "##### • Modularization\n",
    "##### • Maintainability\n",
    "##### • Well commented code etc."
   ]
  },
  {
   "cell_type": "code",
   "execution_count": 58,
   "id": "3237c289",
   "metadata": {},
   "outputs": [],
   "source": [
    "# Importing libraries required for the run\n",
    "from sklearn.svm import SVC\n",
    "from sklearn.pipeline import Pipeline\n",
    "from sklearn.model_selection import train_test_split\n",
    "from sklearn.pipeline import Pipeline\n",
    "from sklearn.compose import ColumnTransformer\n",
    "from sklearn.impute import SimpleImputer\n",
    "from sklearn.preprocessing import StandardScaler, OneHotEncoder, MinMaxScaler\n",
    "from sklearn.metrics import confusion_matrix\n",
    "from sklearn.linear_model import LogisticRegression\n",
    "from sklearn.ensemble import RandomForestClassifier, AdaBoostClassifier\n",
    "from xgboost import XGBClassifier \n",
    "from sklearn.tree import DecisionTreeClassifier\n",
    "from sklearn.metrics import accuracy_score, classification_report "
   ]
  },
  {
   "cell_type": "markdown",
   "id": "b2ed6121",
   "metadata": {},
   "source": [
    "## PART B. 1: Build a simple ML pipeline which will accept a single ‘.csv’ file as  input and return a trained base model that can be used for predictions. You can use 1 Dataset from Part 1 "
   ]
  },
  {
   "cell_type": "code",
   "execution_count": 59,
   "id": "99da4b4f",
   "metadata": {},
   "outputs": [],
   "source": [
    "# Reading the data for pipeline project\n",
    "tcc1_pl = pd.read_csv(\"TelcomCustomer-Churn_1.csv\")\n",
    "tcc2_pl = pd.read_csv(\"TelcomCustomer-Churn_2.csv\")\n",
    "# merging the data \n",
    "tcc_pl =pd.merge(tcc1_pl,tcc2_pl, left_index=True, right_index=True)"
   ]
  },
  {
   "cell_type": "code",
   "execution_count": 60,
   "id": "3c45588d",
   "metadata": {},
   "outputs": [],
   "source": [
    "# Create input features in X and y is target column to be predicted \n",
    "y = tcc_pl['Churn']\n",
    "X = tcc_pl.drop(columns = ['Churn'])"
   ]
  },
  {
   "cell_type": "code",
   "execution_count": 61,
   "id": "aafeb190",
   "metadata": {},
   "outputs": [],
   "source": [
    "# Sampling dat for trianing and testing \n",
    "X_train, X_test, y_train, y_test = train_test_split(X,y,test_size = 0.20, train_size =0.80,stratify=y)"
   ]
  },
  {
   "cell_type": "code",
   "execution_count": 62,
   "id": "9de37fb8",
   "metadata": {},
   "outputs": [
    {
     "data": {
      "text/plain": [
       "Index(['customerID_x', 'gender', 'SeniorCitizen', 'Partner', 'Dependents',\n",
       "       'tenure', 'PhoneService', 'MultipleLines', 'InternetService',\n",
       "       'OnlineSecurity', 'customerID_y', 'OnlineBackup', 'DeviceProtection',\n",
       "       'TechSupport', 'StreamingTV', 'StreamingMovies', 'Contract',\n",
       "       'PaperlessBilling', 'PaymentMethod', 'MonthlyCharges', 'TotalCharges',\n",
       "       'Churn'],\n",
       "      dtype='object')"
      ]
     },
     "execution_count": 62,
     "metadata": {},
     "output_type": "execute_result"
    }
   ],
   "source": [
    "# Understanding list of columns. Since previouly we have done detailed analysis of the columns we understand\n",
    "# which columns need to be dropped \n",
    "# which are categorial columns \n",
    "# which are numerical columns \n",
    "tcc_pl.columns"
   ]
  },
  {
   "cell_type": "markdown",
   "id": "862d3291",
   "metadata": {},
   "source": [
    "## PART B. 2 : Create separate functions for various purposes."
   ]
  },
  {
   "cell_type": "code",
   "execution_count": 63,
   "id": "11f465ff",
   "metadata": {},
   "outputs": [],
   "source": [
    "# List og features not required for analysis \n",
    "drop_feature = ['customerID_x','customerID_y']"
   ]
  },
  {
   "cell_type": "code",
   "execution_count": 64,
   "id": "6512f639",
   "metadata": {},
   "outputs": [],
   "source": [
    "# Numeric Features in the data set \n",
    "num_feature = ['tenure','MonthlyCharges','TotalCharges',]"
   ]
  },
  {
   "cell_type": "code",
   "execution_count": 65,
   "id": "e9b9b8dc",
   "metadata": {},
   "outputs": [],
   "source": [
    "# Categorial Features in the data set\n",
    "cat_feature = ['gender', 'SeniorCitizen', 'Partner', 'Dependents',\n",
    "       'PhoneService', 'MultipleLines', 'InternetService',\n",
    "       'OnlineSecurity', 'OnlineBackup', 'DeviceProtection',\n",
    "       'TechSupport', 'StreamingTV', 'StreamingMovies', 'Contract',\n",
    "       'PaperlessBilling', 'PaymentMethod']"
   ]
  },
  {
   "cell_type": "code",
   "execution_count": 66,
   "id": "174aad49",
   "metadata": {},
   "outputs": [],
   "source": [
    "# Part B.2 : Function for removing spaces\n",
    "# From above analysis in case study 1 we know we need to remove spaces from TotalCharges columns \n",
    "# Defining a function that replaces blanks with not a number \n",
    "\n",
    "def remove_spaces(input_df):\n",
    "    input_df[\"TotalCharges\"] = input_df[\"TotalCharges\"].replace(\" \", np.nan)\n",
    "    return input_df\n",
    "\n",
    "\n",
    "class SpaceRemoveTrf():\n",
    "    def __init__(self, func):\n",
    "        self.func = func\n",
    "\n",
    "    def transform(self, input_df, **transform_params):\n",
    "        return self.func(input_df)\n",
    "\n",
    "    def fit(self, X, y=None, **fit_params):\n",
    "        return self"
   ]
  },
  {
   "cell_type": "code",
   "execution_count": 67,
   "id": "d4c8d2d2",
   "metadata": {},
   "outputs": [],
   "source": [
    "# Part B.2 : Function for simplifying categorial data \n",
    "# There are certain text elements in the data that have same meaning as not having connection.\n",
    "# Replacig them with \"No\" to reduce noise of classification during one hot encoding \n",
    "# Categorial Variable Simplification function \n",
    "\n",
    "def categorial_col_simplify(input_df):\n",
    "    input_df[\"StreamingMovies\"]  = input_df[\"StreamingMovies\"].replace(\"No internet service\", \"No\")\n",
    "    input_df[\"MultipleLines\"]    = input_df[\"MultipleLines\"].replace(\"No phone service\", \"No\")\n",
    "    input_df[\"OnlineSecurity\"]   = input_df[\"OnlineSecurity\"].replace(\"No internet service\", \"No\")\n",
    "    input_df[\"OnlineBackup\"]     = input_df[\"OnlineBackup\"].replace(\"No internet service\", \"No\")\n",
    "    input_df[\"DeviceProtection\"] = input_df[\"DeviceProtection\"].replace(\"No internet service\", \"No\")\n",
    "    input_df[\"TechSupport\"]      = input_df[\"TechSupport\"].replace(\"No internet service\", \"No\")\n",
    "    input_df[\"StreamingTV\"]      = input_df[\"StreamingTV\"].replace(\"No internet service\", \"No\")\n",
    "    return input_df\n",
    "\n",
    "    \n",
    "    \n",
    "class CategorialColSimplificationTrf():\n",
    "    def __init__(self, func):\n",
    "        self.func = func\n",
    "\n",
    "    def transform(self, input_df, **transform_params):\n",
    "        return self.func(input_df)\n",
    "\n",
    "    def fit(self, X, y=None, **fit_params):\n",
    "        return self"
   ]
  },
  {
   "cell_type": "code",
   "execution_count": 68,
   "id": "b64a39c0",
   "metadata": {},
   "outputs": [],
   "source": [
    "# From analysis prevouly we know that places were we have NaN we replace it with Zero as they are \n",
    "# new customers that have not yet paid any amount \n",
    "# Then we apply standard scaler to all numeric values\n",
    "numeric_trf = Pipeline(steps=[('meanimputer', SimpleImputer(strategy='constant', fill_value=0)),\n",
    "                              ('stdscaler', StandardScaler())\n",
    "                             ])\n"
   ]
  },
  {
   "cell_type": "code",
   "execution_count": 69,
   "id": "27b9ed35",
   "metadata": {},
   "outputs": [],
   "source": [
    "# Then we do one hot encoding for all categorial values\n",
    "categorical_trf = Pipeline(steps=[\n",
    "                                  ('onehotenc', OneHotEncoder(handle_unknown='ignore'))\n",
    "                                 ])"
   ]
  },
  {
   "cell_type": "code",
   "execution_count": 70,
   "id": "d4841378",
   "metadata": {},
   "outputs": [],
   "source": [
    "# Columns tranformformation \n",
    "#1. Drop columns not required \n",
    "#2. Numeric columns missing to be replaced with 0\n",
    "#3. Apply standard scaler on numeric columns \n",
    "#4. One hot encode categorial columnns.\n",
    "col_trf = ColumnTransformer(transformers=[('drop_columns', 'drop', drop_feature),\n",
    "                                          ('numeric_processing',numeric_trf, num_feature),\n",
    "                                          ('categorical_processing', categorical_trf, cat_feature)\n",
    "                                         ], remainder='drop')"
   ]
  },
  {
   "cell_type": "code",
   "execution_count": 71,
   "id": "2f236bc1",
   "metadata": {},
   "outputs": [],
   "source": [
    "#Define pipeline \n",
    "#1. Remove spaces \n",
    "#2. Simplify categorial variables\n",
    "#3. transform\n",
    "pipeline = Pipeline([\n",
    "                     ('space_remover', SpaceRemoveTrf(remove_spaces)),\n",
    "                     ('simplifyCatVar', CategorialColSimplificationTrf(categorial_col_simplify)),\n",
    "                     ('transform_column', col_trf),\n",
    "                    ])"
   ]
  },
  {
   "cell_type": "code",
   "execution_count": 72,
   "id": "1126d59d",
   "metadata": {},
   "outputs": [
    {
     "data": {
      "text/plain": [
       "Pipeline(steps=[('space_remover',\n",
       "                 <__main__.SpaceRemoveTrf object at 0x7fb3bd7559d0>),\n",
       "                ('simplifyCatVar',\n",
       "                 <__main__.CategorialColSimplificationTrf object at 0x7fb3bd755910>),\n",
       "                ('transform_column',\n",
       "                 ColumnTransformer(transformers=[('drop_columns', 'drop',\n",
       "                                                  ['customerID_x',\n",
       "                                                   'customerID_y']),\n",
       "                                                 ('numeric_processing',\n",
       "                                                  Pipeline(steps=[('meanimputer',\n",
       "                                                                   SimpleImputer(fill_value...\n",
       "                                                   'TotalCharges']),\n",
       "                                                 ('categorical_processing',\n",
       "                                                  Pipeline(steps=[('onehotenc',\n",
       "                                                                   OneHotEncoder(handle_unknown='ignore'))]),\n",
       "                                                  ['gender', 'SeniorCitizen',\n",
       "                                                   'Partner', 'Dependents',\n",
       "                                                   'PhoneService',\n",
       "                                                   'MultipleLines',\n",
       "                                                   'InternetService',\n",
       "                                                   'OnlineSecurity',\n",
       "                                                   'OnlineBackup',\n",
       "                                                   'DeviceProtection',\n",
       "                                                   'TechSupport', 'StreamingTV',\n",
       "                                                   'StreamingMovies',\n",
       "                                                   'Contract',\n",
       "                                                   'PaperlessBilling',\n",
       "                                                   'PaymentMethod'])]))])"
      ]
     },
     "execution_count": 72,
     "metadata": {},
     "output_type": "execute_result"
    }
   ],
   "source": [
    "pipeline.fit(X_train)"
   ]
  },
  {
   "cell_type": "markdown",
   "id": "472c50dd",
   "metadata": {},
   "source": [
    "## Part B. 3 : Various base models should be trained to select the best performing model"
   ]
  },
  {
   "cell_type": "code",
   "execution_count": 73,
   "id": "06688f27",
   "metadata": {},
   "outputs": [],
   "source": [
    "# Running differnt models and trying to find the model that does best classification"
   ]
  },
  {
   "cell_type": "code",
   "execution_count": 74,
   "id": "62ccdb39",
   "metadata": {},
   "outputs": [],
   "source": [
    "#1. Logistic Regression \n",
    "pipeline_lr = Pipeline([\n",
    "                     ('space_remover', SpaceRemoveTrf(remove_spaces)),\n",
    "                     ('simplifyCatVar', CategorialColSimplificationTrf(categorial_col_simplify)),\n",
    "                     ('transform_column', col_trf),\n",
    "                     ('logistics', LogisticRegression())\n",
    "                    ])"
   ]
  },
  {
   "cell_type": "code",
   "execution_count": 75,
   "id": "5798044c",
   "metadata": {},
   "outputs": [],
   "source": [
    "#2. Decision Tree\n",
    "pipeline_dt = Pipeline([\n",
    "                     ('space_remover', SpaceRemoveTrf(remove_spaces)),\n",
    "                     ('simplifyCatVar', CategorialColSimplificationTrf(categorial_col_simplify)),\n",
    "                     ('transform_column', col_trf),\n",
    "                     ('dt_classifier',DecisionTreeClassifier())\n",
    "                    ])"
   ]
  },
  {
   "cell_type": "code",
   "execution_count": 76,
   "id": "d94f027e",
   "metadata": {},
   "outputs": [],
   "source": [
    "#3. Randomforest\n",
    "pipeline_rf = Pipeline([\n",
    "                     ('space_remover', SpaceRemoveTrf(remove_spaces)),\n",
    "                     ('simplifyCatVar', CategorialColSimplificationTrf(categorial_col_simplify)),\n",
    "                     ('transform_column', col_trf),\n",
    "                     ('rf_classifier',RandomForestClassifier())\n",
    "                    ])"
   ]
  },
  {
   "cell_type": "code",
   "execution_count": 77,
   "id": "b99086f3",
   "metadata": {},
   "outputs": [],
   "source": [
    "#4. XGBClassifier\n",
    "pipeline_xgb = Pipeline([\n",
    "                     ('space_remover', SpaceRemoveTrf(remove_spaces)),\n",
    "                     ('simplifyCatVar', CategorialColSimplificationTrf(categorial_col_simplify)),\n",
    "                     ('transform_column', col_trf),\n",
    "                     ('rf_classifier',XGBClassifier())\n",
    "                    ])"
   ]
  },
  {
   "cell_type": "code",
   "execution_count": 78,
   "id": "c57ce4df",
   "metadata": {},
   "outputs": [],
   "source": [
    "#5. AdaBoostClassifier\n",
    "pipeline_ada = Pipeline([\n",
    "                     ('space_remover', SpaceRemoveTrf(remove_spaces)),\n",
    "                     ('simplifyCatVar', CategorialColSimplificationTrf(categorial_col_simplify)),\n",
    "                     ('transform_column', col_trf),\n",
    "                     ('rf_classifier',AdaBoostClassifier())\n",
    "                    ])"
   ]
  },
  {
   "cell_type": "code",
   "execution_count": 79,
   "id": "c9e64696",
   "metadata": {},
   "outputs": [],
   "source": [
    "## Llist of pipelines for anlaysis \n",
    "pipelines = [pipeline_lr, pipeline_dt, pipeline_rf, pipeline_xgb, pipeline_ada]"
   ]
  },
  {
   "cell_type": "code",
   "execution_count": 80,
   "id": "31a8ae58",
   "metadata": {},
   "outputs": [],
   "source": [
    "#Trying to get which algorithm gives best score  \n",
    "best_accuracy=0.0\n",
    "best_classifier=0\n",
    "best_pipeline=\"\""
   ]
  },
  {
   "cell_type": "code",
   "execution_count": 81,
   "id": "39a68d15",
   "metadata": {},
   "outputs": [],
   "source": [
    "# Dictionary of pipelines and classifier types for ease of reference\n",
    "pipe_dict = {0: 'Logistic Regression', 1: 'Decision Tree', 2: 'RandomForest', 3:'XGB Classifier',4:'Adaboost'}\n",
    "\n",
    "# Fit the pipelines\n",
    "for pipe in pipelines:\n",
    "\tpipe.fit(X_train, y_train)"
   ]
  },
  {
   "cell_type": "code",
   "execution_count": 82,
   "id": "d5098a69",
   "metadata": {},
   "outputs": [
    {
     "name": "stdout",
     "output_type": "stream",
     "text": [
      "Logistic Regression Test Accuracy: 0.7927608232789212\n",
      "Decision Tree Test Accuracy: 0.7444996451383961\n",
      "RandomForest Test Accuracy: 0.7856635911994322\n",
      "XGB Classifier Test Accuracy: 0.7863733144073811\n",
      "Adaboost Test Accuracy: 0.801277501774308\n"
     ]
    }
   ],
   "source": [
    "# FDing the accuracy scores for each method\n",
    "for i,model in enumerate(pipelines):\n",
    "    print(\"{} Test Accuracy: {}\".format(pipe_dict[i],model.score(X_test,y_test)))"
   ]
  },
  {
   "cell_type": "code",
   "execution_count": 83,
   "id": "b0c8773d",
   "metadata": {},
   "outputs": [
    {
     "name": "stdout",
     "output_type": "stream",
     "text": [
      "Classifier with best accuracy:Adaboost\n"
     ]
    }
   ],
   "source": [
    "# Find the clasifier with best score\n",
    "for i,model in enumerate(pipelines):\n",
    "    if model.score(X_test,y_test)>best_accuracy:\n",
    "        best_accuracy=model.score(X_test,y_test)\n",
    "        best_pipeline=model\n",
    "        best_classifier=i\n",
    "print('Classifier with best accuracy:{}'.format(pipe_dict[best_classifier]))"
   ]
  },
  {
   "cell_type": "markdown",
   "id": "52cd646a",
   "metadata": {},
   "source": [
    "# PART B.4 : Pickle file should be saved for the best performing model."
   ]
  },
  {
   "cell_type": "code",
   "execution_count": 84,
   "id": "542dc7b6",
   "metadata": {},
   "outputs": [
    {
     "data": {
      "text/plain": [
       "['pipeline_ada.pkl']"
      ]
     },
     "execution_count": 84,
     "metadata": {},
     "output_type": "execute_result"
    }
   ],
   "source": [
    "# Exporting the pileline with best code \n",
    "import joblib\n",
    "joblib.dump(pipeline_ada, 'pipeline_ada.pkl')"
   ]
  },
  {
   "cell_type": "code",
   "execution_count": 85,
   "id": "810921d3",
   "metadata": {},
   "outputs": [],
   "source": [
    "# The pickle file can later be imported and run independlty. \n",
    "# Conisder a new session\n",
    "# Loading the pickle file \n",
    "pipeline_loaded_ada = joblib.load('pipeline_ada.pkl')"
   ]
  },
  {
   "cell_type": "code",
   "execution_count": 86,
   "id": "19f04d93",
   "metadata": {},
   "outputs": [
    {
     "data": {
      "text/plain": [
       "Pipeline(steps=[('space_remover',\n",
       "                 <__main__.SpaceRemoveTrf object at 0x7fb3bf2c5580>),\n",
       "                ('simplifyCatVar',\n",
       "                 <__main__.CategorialColSimplificationTrf object at 0x7fb3bf2c5490>),\n",
       "                ('transform_column',\n",
       "                 ColumnTransformer(transformers=[('drop_columns', 'drop',\n",
       "                                                  ['customerID_x',\n",
       "                                                   'customerID_y']),\n",
       "                                                 ('numeric_processing',\n",
       "                                                  Pipeline(steps=[('meanimputer',\n",
       "                                                                   SimpleImputer(fill_value...\n",
       "                                                  Pipeline(steps=[('onehotenc',\n",
       "                                                                   OneHotEncoder(handle_unknown='ignore'))]),\n",
       "                                                  ['gender', 'SeniorCitizen',\n",
       "                                                   'Partner', 'Dependents',\n",
       "                                                   'PhoneService',\n",
       "                                                   'MultipleLines',\n",
       "                                                   'InternetService',\n",
       "                                                   'OnlineSecurity',\n",
       "                                                   'OnlineBackup',\n",
       "                                                   'DeviceProtection',\n",
       "                                                   'TechSupport', 'StreamingTV',\n",
       "                                                   'StreamingMovies',\n",
       "                                                   'Contract',\n",
       "                                                   'PaperlessBilling',\n",
       "                                                   'PaymentMethod'])])),\n",
       "                ('rf_classifier', AdaBoostClassifier())])"
      ]
     },
     "execution_count": 86,
     "metadata": {},
     "output_type": "execute_result"
    }
   ],
   "source": [
    "pipeline_loaded_ada.fit(X_test, y_test)"
   ]
  },
  {
   "cell_type": "code",
   "execution_count": 87,
   "id": "6716387c",
   "metadata": {},
   "outputs": [
    {
     "data": {
      "text/plain": [
       "0.8041163946061036"
      ]
     },
     "execution_count": 87,
     "metadata": {},
     "output_type": "execute_result"
    }
   ],
   "source": [
    "pipeline_loaded_ada.score(X_test,y_test)"
   ]
  },
  {
   "cell_type": "code",
   "execution_count": null,
   "id": "ff25a86e",
   "metadata": {},
   "outputs": [],
   "source": []
  }
 ],
 "metadata": {
  "kernelspec": {
   "display_name": "Python 3",
   "language": "python",
   "name": "python3"
  },
  "language_info": {
   "codemirror_mode": {
    "name": "ipython",
    "version": 3
   },
   "file_extension": ".py",
   "mimetype": "text/x-python",
   "name": "python",
   "nbconvert_exporter": "python",
   "pygments_lexer": "ipython3",
   "version": "3.8.8"
  }
 },
 "nbformat": 4,
 "nbformat_minor": 5
}
