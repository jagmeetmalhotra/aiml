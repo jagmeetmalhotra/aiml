{
 "cells": [
  {
   "cell_type": "code",
   "execution_count": 31,
   "id": "80bde1f6",
   "metadata": {},
   "outputs": [
    {
     "data": {
      "text/plain": [
       "15.857142857142858"
      ]
     },
     "execution_count": 31,
     "metadata": {},
     "output_type": "execute_result"
    }
   ],
   "source": [
    "import statistics\n",
    "from statistics import mean\n",
    "my_list=[2, 4, 4, 3, 8, 67, 23]\n",
    "mean(my_list)"
   ]
  },
  {
   "cell_type": "code",
   "execution_count": 25,
   "id": "469cf9ed",
   "metadata": {},
   "outputs": [
    {
     "data": {
      "text/plain": [
       "2.357715743980127"
      ]
     },
     "execution_count": 25,
     "metadata": {},
     "output_type": "execute_result"
    }
   ],
   "source": [
    "statistics.stdev(my_list)"
   ]
  },
  {
   "cell_type": "code",
   "execution_count": 26,
   "id": "267fd276",
   "metadata": {},
   "outputs": [
    {
     "data": {
      "text/plain": [
       "10"
      ]
     },
     "execution_count": 26,
     "metadata": {},
     "output_type": "execute_result"
    }
   ],
   "source": [
    "statistics.mode(my_list)"
   ]
  },
  {
   "cell_type": "code",
   "execution_count": 32,
   "id": "e09e70ef",
   "metadata": {},
   "outputs": [
    {
     "data": {
      "text/plain": [
       "4"
      ]
     },
     "execution_count": 32,
     "metadata": {},
     "output_type": "execute_result"
    }
   ],
   "source": [
    "statistics.median(my_list)"
   ]
  },
  {
   "cell_type": "code",
   "execution_count": 28,
   "id": "2dc70805",
   "metadata": {},
   "outputs": [
    {
     "data": {
      "text/plain": [
       "0.07075471698113207"
      ]
     },
     "execution_count": 28,
     "metadata": {},
     "output_type": "execute_result"
    }
   ],
   "source": [
    "15000/212000"
   ]
  },
  {
   "cell_type": "code",
   "execution_count": 29,
   "id": "b5b90e6b",
   "metadata": {},
   "outputs": [
    {
     "data": {
      "text/plain": [
       "0.29880478087649404"
      ]
     },
     "execution_count": 29,
     "metadata": {},
     "output_type": "execute_result"
    }
   ],
   "source": [
    "1500/5020"
   ]
  },
  {
   "cell_type": "code",
   "execution_count": 30,
   "id": "637b5cab",
   "metadata": {},
   "outputs": [
    {
     "data": {
      "text/plain": [
       "0.13333333333333333"
      ]
     },
     "execution_count": 30,
     "metadata": {},
     "output_type": "execute_result"
    }
   ],
   "source": [
    "4000/30000"
   ]
  },
  {
   "cell_type": "code",
   "execution_count": 33,
   "id": "ea35fa71",
   "metadata": {},
   "outputs": [
    {
     "data": {
      "text/plain": [
       "0.8888888888888888"
      ]
     },
     "execution_count": 33,
     "metadata": {},
     "output_type": "execute_result"
    }
   ],
   "source": [
    "8/9"
   ]
  },
  {
   "cell_type": "code",
   "execution_count": null,
   "id": "f6417a06",
   "metadata": {},
   "outputs": [],
   "source": []
  }
 ],
 "metadata": {
  "kernelspec": {
   "display_name": "Python 3",
   "language": "python",
   "name": "python3"
  },
  "language_info": {
   "codemirror_mode": {
    "name": "ipython",
    "version": 3
   },
   "file_extension": ".py",
   "mimetype": "text/x-python",
   "name": "python",
   "nbconvert_exporter": "python",
   "pygments_lexer": "ipython3",
   "version": "3.8.8"
  }
 },
 "nbformat": 4,
 "nbformat_minor": 5
}
