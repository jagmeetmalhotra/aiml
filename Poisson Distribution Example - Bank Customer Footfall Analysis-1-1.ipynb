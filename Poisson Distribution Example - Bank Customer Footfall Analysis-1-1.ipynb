{
 "cells": [
  {
   "cell_type": "markdown",
   "metadata": {},
   "source": [
    "# Poisson Distribution\n",
    "## Problem Statement \n",
    "Given that a bank has a footfall of 6 people per minute, find out the\n",
    "\n",
    "a) probability distribution for upto 20 people per minute<br> b) probability of at least 4 people per minute"
   ]
  },
  {
   "cell_type": "code",
   "execution_count": 1,
   "metadata": {},
   "outputs": [],
   "source": [
    "# importing required packages\n",
    "import numpy as np\n",
    "import scipy.stats as stats\n",
    "import matplotlib.pyplot as plt"
   ]
  },
  {
   "cell_type": "code",
   "execution_count": 18,
   "metadata": {},
   "outputs": [],
   "source": [
    "#average rate, denoted with lambda in the formula for poisson distribution \n",
    "\n",
    "rate = 5"
   ]
  },
  {
   "cell_type": "code",
   "execution_count": 19,
   "metadata": {},
   "outputs": [],
   "source": [
    "#a numpy array of different no. of successes ranging from 0 to 19 to construct a probability distribution\n",
    "\n",
    "n=np.arange(0,25)"
   ]
  },
  {
   "cell_type": "code",
   "execution_count": 20,
   "metadata": {},
   "outputs": [],
   "source": [
    "#calculating the distribution and storing the distribution of probablitites in an array\n",
    "poisson = stats.poisson.pmf(n,rate)"
   ]
  },
  {
   "cell_type": "code",
   "execution_count": 21,
   "metadata": {},
   "outputs": [
    {
     "data": {
      "text/plain": [
       "array([6.73794700e-03, 3.36897350e-02, 8.42243375e-02, 1.40373896e-01,\n",
       "       1.75467370e-01, 1.75467370e-01, 1.46222808e-01, 1.04444863e-01,\n",
       "       6.52780393e-02, 3.62655774e-02, 1.81327887e-02, 8.24217669e-03,\n",
       "       3.43424029e-03, 1.32086165e-03, 4.71736303e-04, 1.57245434e-04,\n",
       "       4.91391982e-05, 1.44527054e-05, 4.01464038e-06, 1.05648431e-06,\n",
       "       2.64121077e-07, 6.28859708e-08, 1.42922661e-08, 3.10701437e-09,\n",
       "       6.47294660e-10])"
      ]
     },
     "execution_count": 21,
     "metadata": {},
     "output_type": "execute_result"
    }
   ],
   "source": [
    "#printing the probability distribution for different values of x\n",
    "poisson"
   ]
  },
  {
   "cell_type": "code",
   "execution_count": 22,
   "metadata": {},
   "outputs": [
    {
     "data": {
      "text/plain": [
       "0.1403738958142805"
      ]
     },
     "execution_count": 22,
     "metadata": {},
     "output_type": "execute_result"
    }
   ],
   "source": [
    "poisson[3]"
   ]
  },
  {
   "cell_type": "code",
   "execution_count": 7,
   "metadata": {},
   "outputs": [
    {
     "data": {
      "text/plain": [
       "0.8487961172233521"
      ]
     },
     "execution_count": 7,
     "metadata": {},
     "output_type": "execute_result"
    }
   ],
   "source": [
    "#probability of x>= 4, i.e, if we consider bank example, probablity of atleast 4 visitors per minute-\n",
    "#-given an average of 6 visitors per minute\n",
    "1 - (poisson[0]+poisson[1]+poisson[2]+poisson[3])"
   ]
  },
  {
   "cell_type": "code",
   "execution_count": 23,
   "metadata": {},
   "outputs": [
    {
     "data": {
      "image/png": "[encoded data removed]",
      "text/plain": [
       "<Figure size 432x288 with 1 Axes>"
      ]
     },
     "metadata": {
      "needs_background": "light"
     },
     "output_type": "display_data"
    }
   ],
   "source": [
    "#visualising the plot with pyplot\n",
    "\n",
    "plt.plot(n,poisson,'o-')\n",
    "plt.title('Poisson: $\\lambda$ = %i ' % rate)\n",
    "plt.xlabel('Number of Customers Arriving in a minute')\n",
    "plt.ylabel('Probability of Number of Customers arriving in a minute')\n",
    "plt.show()"
   ]
  },
  {
   "cell_type": "code",
   "execution_count": 9,
   "metadata": {},
   "outputs": [
    {
     "data": {
      "text/plain": [
       "0.9999948198310626"
      ]
     },
     "execution_count": 9,
     "metadata": {},
     "output_type": "execute_result"
    }
   ],
   "source": [
    "#Do note that the sum of probabilities in this distribution is not one in this particular distribution, can you tell why?\n",
    "sum(poisson)"
   ]
  },
  {
   "cell_type": "code",
   "execution_count": null,
   "metadata": {},
   "outputs": [],
   "source": []
  }
 ],
 "metadata": {
  "kernelspec": {
   "display_name": "Python 3",
   "language": "python",
   "name": "python3"
  },
  "language_info": {
   "codemirror_mode": {
    "name": "ipython",
    "version": 3
   },
   "file_extension": ".py",
   "mimetype": "text/x-python",
   "name": "python",
   "nbconvert_exporter": "python",
   "pygments_lexer": "ipython3",
   "version": "3.8.8"
  }
 },
 "nbformat": 4,
 "nbformat_minor": 2
}
