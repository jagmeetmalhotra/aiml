{
 "cells": [
  {
   "cell_type": "markdown",
   "metadata": {
    "colab_type": "text",
    "id": "ZVeb9ORhwDQh"
   },
   "source": [
    "##  CASE STUDY 1 - Uber Drive Analysis\n",
    "\n",
    "Steps - \n",
    "1.Import the libraries\n",
    "\n",
    "2.Get the data and observe it\n",
    "\n",
    "3.Check missing values, either remove it or fill it.\n",
    "\n",
    "4.Get summary of data using python function.\n",
    "\n",
    "5.Explore the data parameter wise\n",
    "\n",
    "Here we have information of destination(start and stop), time(start and stop), category and purpose of trip, miles covered.\n"
   ]
  },
  {
   "cell_type": "code",
   "execution_count": null,
   "metadata": {
    "colab": {},
    "colab_type": "code",
    "id": "UGQQthEEwDQj"
   },
   "outputs": [],
   "source": [
    "# Import the libraries \n",
    "import numpy as np\n",
    "import pandas as pd\n",
    "#"
   ]
  },
  {
   "cell_type": "code",
   "execution_count": null,
   "metadata": {},
   "outputs": [],
   "source": [
    "# Automatically print output of each line of code\n",
    "from IPython.core.interactiveshell import InteractiveShell\n",
    "InteractiveShell.ast_node_interactivity=\"all\""
   ]
  },
  {
   "cell_type": "code",
   "execution_count": null,
   "metadata": {
    "colab": {},
    "colab_type": "code",
    "id": "yIzrvGOhwDQq",
    "outputId": "d7b03d1f-2128-4b60-b783-19a47868e93a"
   },
   "outputs": [],
   "source": [
    "# Get the Data \n",
    "df = pd.read_csv('uberdrive.csv')\n",
    "\n",
    "#View the first 5 rows of data\n",
    "df.head()"
   ]
  },
  {
   "cell_type": "code",
   "execution_count": null,
   "metadata": {
    "colab": {},
    "colab_type": "code",
    "id": "gxNiDPVmwDQy",
    "outputId": "fc71bc3d-ef8f-4caa-9359-5f601a8969bd"
   },
   "outputs": [],
   "source": [
    "#View the last 5 rows of data\n",
    "df.tail()"
   ]
  },
  {
   "cell_type": "code",
   "execution_count": null,
   "metadata": {
    "colab": {},
    "colab_type": "code",
    "id": "08czDJMKwDQ5",
    "outputId": "84e7d527-45ec-45ac-f9a9-feaa49d9fc53"
   },
   "outputs": [],
   "source": [
    "# understand shape and size of data \n",
    "print(\"Shape of uber df: \",df.shape, \"Size of uber df: \", df.size, '\\n')"
   ]
  },
  {
   "cell_type": "markdown",
   "metadata": {
    "colab_type": "text",
    "id": "PPZ70HFrwDQ_"
   },
   "source": [
    "**The dataset has 1156 rows and 7 columns**"
   ]
  },
  {
   "cell_type": "code",
   "execution_count": null,
   "metadata": {
    "colab": {},
    "colab_type": "code",
    "id": "S6SZ2NXDwDRA",
    "outputId": "63c26095-afb1-4cc4-cc92-7977bcc7fb39"
   },
   "outputs": [],
   "source": [
    "#Get a summary of the numerical columns in the data\n",
    "df.describe(include='all')"
   ]
  },
  {
   "cell_type": "markdown",
   "metadata": {
    "colab_type": "text",
    "id": "EgEw5z3CwDRH"
   },
   "source": [
    "**The miles driven ranges from 0.5 miles to 12204 miles with an average of 21 miles**"
   ]
  },
  {
   "cell_type": "code",
   "execution_count": null,
   "metadata": {
    "colab": {},
    "colab_type": "code",
    "id": "EKnvNBNawDRI",
    "outputId": "3268b026-1c1d-4005-dcaa-197b5f1544c3"
   },
   "outputs": [],
   "source": [
    "#get more information about data\n",
    "df.info()"
   ]
  },
  {
   "cell_type": "markdown",
   "metadata": {
    "colab_type": "text",
    "id": "gMVbwLI9wDRP"
   },
   "source": [
    "**The dataset has 1 numerical variable and 6 categorical variables** <br>\n",
    "**The \"PURPOSE\" column has many missing values**"
   ]
  },
  {
   "cell_type": "code",
   "execution_count": null,
   "metadata": {
    "colab": {},
    "colab_type": "code",
    "id": "NimpM70-wDRR",
    "outputId": "1070e2fb-21fd-4ccc-ef8b-3a6c872a93b1"
   },
   "outputs": [],
   "source": [
    "#Get the number of missing values in each column\n",
    "df.isnull().sum()"
   ]
  },
  {
   "cell_type": "code",
   "execution_count": null,
   "metadata": {
    "colab": {},
    "colab_type": "code",
    "id": "hRlVFnrIwDRY",
    "outputId": "9c7f0d50-f999-4aa1-cb68-d92ef8b2c96b"
   },
   "outputs": [],
   "source": [
    "# Get the initial data with dropping the NA values\n",
    "df = df.dropna()\n",
    "\n",
    "#Get the shape of the dataframe after removing the null values\n",
    "df.shape"
   ]
  },
  {
   "cell_type": "markdown",
   "metadata": {
    "colab_type": "text",
    "id": "H5TwrIhgwDRe"
   },
   "source": [
    "**The dataset now contains 653 rows of non-null values**"
   ]
  },
  {
   "cell_type": "code",
   "execution_count": null,
   "metadata": {
    "colab": {},
    "colab_type": "code",
    "id": "ypMOyyxTwDRf",
    "outputId": "9af44cb6-7ea3-4f9e-803d-013033734b29"
   },
   "outputs": [],
   "source": [
    "#get the summary of data\n",
    "df.describe().T"
   ]
  },
  {
   "cell_type": "markdown",
   "metadata": {
    "colab_type": "text",
    "id": "Ik4XbvNiwDRl"
   },
   "source": [
    "### Lets explore the data parameter wise - \n",
    "\n",
    "1.Destination - (starting and stopping)\n",
    "\n",
    "2.Time - (hour of the day, day of week, month of year)\n",
    "\n",
    "3.Categories\n",
    "\n",
    "4.Purpose \n",
    "\n",
    "5.Grouping two parameters to get more insights\n"
   ]
  },
  {
   "cell_type": "markdown",
   "metadata": {
    "colab_type": "text",
    "id": "y34Jk9YFwDRm"
   },
   "source": [
    "# 1.Destination - (starting and stopping)"
   ]
  },
  {
   "cell_type": "code",
   "execution_count": null,
   "metadata": {
    "colab": {},
    "colab_type": "code",
    "id": "sGHyg-L_wDRo",
    "outputId": "5df0c803-da74-4183-ef95-4e3a89cccdb1"
   },
   "outputs": [],
   "source": [
    "# Get the starting destination, unique destination\n",
    "print(df['START*'].unique()) #names of unique start points\n",
    "print(len(df['START*'].unique())) #count of unique start points"
   ]
  },
  {
   "cell_type": "markdown",
   "metadata": {
    "colab_type": "text",
    "id": "1pfkl5BbwDRx"
   },
   "source": [
    "**There are 131 unique start destinations in the dataset**"
   ]
  },
  {
   "cell_type": "code",
   "execution_count": null,
   "metadata": {
    "colab": {},
    "colab_type": "code",
    "id": "qkZnN3tqwDRy",
    "outputId": "365c72be-6c56-469f-99e5-dc0f28c2b686"
   },
   "outputs": [],
   "source": [
    "# Get the starting destination, unique destination\n",
    "print(df['STOP*'].unique()) #names of unique start points\n",
    "print(len(df['STOP*'].unique())) #count of unique start points\n",
    "df['STOP*'].nunique() # Another way to get unique Stop location count"
   ]
  },
  {
   "cell_type": "markdown",
   "metadata": {
    "colab_type": "text",
    "id": "MgS-5KFKwDR3"
   },
   "source": [
    "**There are 137 unique start destinations in the dataset**"
   ]
  },
  {
   "cell_type": "code",
   "execution_count": null,
   "metadata": {
    "colab": {},
    "colab_type": "code",
    "id": "h3IVrGQRwDR4",
    "outputId": "23941c7b-f3fc-443b-c079-04f6275d98f9"
   },
   "outputs": [],
   "source": [
    "#Identify popular start destinations - top 10\n",
    "df['START*'].value_counts().head(10)"
   ]
  },
  {
   "cell_type": "markdown",
   "metadata": {
    "colab_type": "text",
    "id": "R2YWJ4kCwDR-"
   },
   "source": [
    "**We can say that Cary is most poplular starting point for this driver.**"
   ]
  },
  {
   "cell_type": "code",
   "execution_count": null,
   "metadata": {
    "colab": {},
    "colab_type": "code",
    "id": "RQN273JFwDSA",
    "outputId": "0cbce4f7-d42b-478e-dcd2-befdc17a43df"
   },
   "outputs": [],
   "source": [
    "#Identify popular stop destinations - top 10\n",
    "df['STOP*'].value_counts().head(10)"
   ]
  },
  {
   "cell_type": "markdown",
   "metadata": {
    "colab_type": "text",
    "id": "UP9H6On6wDSF"
   },
   "source": [
    "**Cary also features in the most popular stop destinations**"
   ]
  },
  {
   "cell_type": "code",
   "execution_count": null,
   "metadata": {
    "colab": {},
    "colab_type": "code",
    "id": "ncbUMB1WwDSG",
    "outputId": "07fa7218-9a7d-4569-e02f-c61f8b2523ba"
   },
   "outputs": [],
   "source": [
    "#Find out most farthest start and stop pair -top10\n",
    "#Dropping Unknown Location Value\n",
    "df2 = df[df['START*']!= 'Unknown Location']\n",
    "df2 = df2[df2['STOP*']!= 'Unknown Location']\n",
    "df2.groupby(['START*','STOP*'])['MILES*'].sum().sort_values(ascending=False).head(10)\n",
    "\n"
   ]
  },
  {
   "cell_type": "markdown",
   "metadata": {
    "colab_type": "text",
    "id": "GqT4U2aKwDSM"
   },
   "source": [
    "**Latta and Jacksonville are the farthest from each other**"
   ]
  },
  {
   "cell_type": "code",
   "execution_count": null,
   "metadata": {
    "colab": {},
    "colab_type": "code",
    "id": "fF_Cl-0IwDSO",
    "outputId": "09fb7282-40f2-4b22-ee78-bc3bbaf203a8"
   },
   "outputs": [],
   "source": [
    "#Find out most popular start and stop pair - top10\n",
    "df2.groupby(['START*','STOP*']).size().sort_values(ascending=False).head(10)\n"
   ]
  },
  {
   "cell_type": "markdown",
   "metadata": {
    "colab_type": "text",
    "id": "z719QXJawDSU"
   },
   "source": [
    "**The most popular start to destination pair is Cary-Morrisville**"
   ]
  },
  {
   "cell_type": "markdown",
   "metadata": {
    "colab_type": "text",
    "id": "26vD9T8BwDSV"
   },
   "source": [
    "## 2. Manipulating date & time objects"
   ]
  },
  {
   "cell_type": "code",
   "execution_count": null,
   "metadata": {
    "colab": {},
    "colab_type": "code",
    "id": "MIH8RSe_wDSW"
   },
   "outputs": [],
   "source": [
    "# START DATE and END_DATE have string format. Convert it to datetime object\n",
    "\n",
    "df.loc[:, 'START_DATE*'] = df['START_DATE*'].apply(lambda x: pd.datetime.strptime(x, '%m/%d/%Y %H:%M'))\n",
    "df.loc[:, 'END_DATE*'] = df['END_DATE*'].apply(lambda x: pd.datetime.strptime(x, '%m/%d/%Y %H:%M'))"
   ]
  },
  {
   "cell_type": "code",
   "execution_count": null,
   "metadata": {
    "colab": {},
    "colab_type": "code",
    "id": "Rx31Mx9BwDSd",
    "outputId": "2bc2aaff-cd4a-4c99-8946-de6238028324"
   },
   "outputs": [],
   "source": [
    "df.info()\n",
    "df.head(10)"
   ]
  },
  {
   "cell_type": "code",
   "execution_count": null,
   "metadata": {
    "colab": {},
    "colab_type": "code",
    "id": "nk_dPP5XwDSj"
   },
   "outputs": [],
   "source": [
    "#Calculate the duration for the rides\n",
    "df['DIFF'] = df['END_DATE*'] - df['START_DATE*']\n",
    "print(df['DIFF'])"
   ]
  },
  {
   "cell_type": "code",
   "execution_count": null,
   "metadata": {
    "colab": {},
    "colab_type": "code",
    "id": "B0iHZdDEwDSn"
   },
   "outputs": [],
   "source": [
    "#convert duration to numbers(minutes)\n",
    "df.loc[:, 'DIFF'] = df['DIFF'].apply(lambda x: pd.Timedelta.to_pytimedelta(x).days/(24*60) + pd.Timedelta.to_pytimedelta(x).seconds/60)"
   ]
  },
  {
   "cell_type": "code",
   "execution_count": null,
   "metadata": {
    "colab": {},
    "colab_type": "code",
    "id": "q9LxO4ipwDSt",
    "outputId": "65d4ddda-2929-45e9-d3b8-71950f06d5ab"
   },
   "outputs": [],
   "source": [
    "df['DIFF'].head()"
   ]
  },
  {
   "cell_type": "code",
   "execution_count": null,
   "metadata": {
    "colab": {},
    "colab_type": "code",
    "id": "wjFLXbDgwDSy",
    "outputId": "3cede55d-1682-4ec4-81a2-52261d4b3d08"
   },
   "outputs": [],
   "source": [
    "df['DIFF'].describe()"
   ]
  },
  {
   "cell_type": "markdown",
   "metadata": {
    "colab_type": "text",
    "id": "mQNLFL-XwDS3",
    "scrolled": true
   },
   "source": [
    "**Ride durations range from 2 minutes to 330 minutes with an average duration of 23 minutes**"
   ]
  },
  {
   "cell_type": "code",
   "execution_count": null,
   "metadata": {
    "colab": {},
    "colab_type": "code",
    "id": "9MdpwqqWwDS4"
   },
   "outputs": [],
   "source": [
    "#Capture Hour, Day, Month and Year of Ride in a separate column\n",
    "df['month'] = pd.to_datetime(df['START_DATE*']).dt.month\n",
    "df['Year'] = pd.to_datetime(df['START_DATE*']).dt.year\n",
    "df['Day'] = pd.to_datetime(df['START_DATE*']).dt.day\n",
    "df['Hour'] = pd.to_datetime(df['START_DATE*']).dt.hour"
   ]
  },
  {
   "cell_type": "code",
   "execution_count": null,
   "metadata": {
    "colab": {},
    "colab_type": "code",
    "id": "GkIufaCPwDTA"
   },
   "outputs": [],
   "source": [
    "#Capture day of week and rename to weekday names\n",
    "df['day_of_week'] = pd.to_datetime(df['START_DATE*']).dt.dayofweek\n",
    "days = {0:'Mon',1:'Tue',2:'Wed',3:'Thur',4:'Fri',5:'Sat',6:'Sun'}\n",
    "\n",
    "df['day_of_week'] = df['day_of_week'].apply(lambda x: days[x])"
   ]
  },
  {
   "cell_type": "code",
   "execution_count": null,
   "metadata": {
    "colab": {},
    "colab_type": "code",
    "id": "VPIz8dZtwDTG",
    "outputId": "174f38cf-8462-4176-b608-8df461acca82"
   },
   "outputs": [],
   "source": [
    "#Rename the numbers in the Month column to calendar months\n",
    "import calendar\n",
    "df['month'] = df['month'].apply(lambda x: calendar.month_abbr[x])\n",
    "df.head()"
   ]
  },
  {
   "cell_type": "code",
   "execution_count": null,
   "metadata": {
    "colab": {},
    "colab_type": "code",
    "id": "dS660no_wDTK",
    "outputId": "54a80b2a-5a79-4cc3-fdac-b94ef259b918"
   },
   "outputs": [],
   "source": [
    "#Extract the total number of trips per month, weekday\n",
    "print(df['month'].value_counts())\n",
    "print(df['day_of_week'].value_counts())"
   ]
  },
  {
   "cell_type": "markdown",
   "metadata": {
    "colab_type": "text",
    "id": "nwVlqaNwwDTP"
   },
   "source": [
    "**December has maximum number of trips and August has the least** <br>\n",
    "**Friday has the maximum number of trips**"
   ]
  },
  {
   "cell_type": "code",
   "execution_count": null,
   "metadata": {
    "colab": {},
    "colab_type": "code",
    "id": "gdD22R7CwDTQ",
    "outputId": "466f40b3-53e9-4b4b-9547-0a0489f9fd7a"
   },
   "outputs": [],
   "source": [
    "#Getting the average distance covered per month\n",
    "df.groupby('month').mean()['MILES*'].sort_values(ascending = False)\n"
   ]
  },
  {
   "cell_type": "markdown",
   "metadata": {
    "colab_type": "text",
    "id": "Hdl9g2PnwDTV"
   },
   "source": [
    "**Longest average distance is covered in Oct and least in Dec**"
   ]
  },
  {
   "cell_type": "code",
   "execution_count": null,
   "metadata": {
    "colab": {},
    "colab_type": "code",
    "id": "RtrNiSNRwDTW",
    "outputId": "e4e2c7bd-ef2a-4a67-9dd2-caf06943d218"
   },
   "outputs": [],
   "source": [
    "#Number of trips based of hour of day\n",
    "df['Hour'].value_counts()"
   ]
  },
  {
   "cell_type": "markdown",
   "metadata": {
    "colab_type": "text",
    "id": "IYtAFj79wDTc"
   },
   "source": [
    "**Afternoons and evenings seem to have the maximum number of trips**"
   ]
  },
  {
   "cell_type": "code",
   "execution_count": null,
   "metadata": {
    "colab": {},
    "colab_type": "code",
    "id": "u9j3w9KpwDTd",
    "outputId": "b5649596-37a2-4585-8f6a-5525ba85d15d"
   },
   "outputs": [],
   "source": [
    "# calculate trip speed for each trip\n",
    "df['Duration_hours'] = df['DIFF'] / 60\n",
    "df['Speed_Miles'] = df['MILES*'] / df['Duration_hours']\n",
    "df['Speed_Miles'].describe()\n",
    "df.head()\n",
    "#del df['Speed_KM']"
   ]
  },
  {
   "cell_type": "markdown",
   "metadata": {
    "colab_type": "text",
    "id": "aSdSx2_DwDTh"
   },
   "source": [
    "## 3. Category & Purpose"
   ]
  },
  {
   "cell_type": "code",
   "execution_count": null,
   "metadata": {
    "colab": {},
    "colab_type": "code",
    "id": "DuQLozhQwDTi",
    "outputId": "88a58511-5e74-4568-ef6e-aed220a1d9ea"
   },
   "outputs": [],
   "source": [
    "df['CATEGORY*'].value_counts()"
   ]
  },
  {
   "cell_type": "markdown",
   "metadata": {
    "colab_type": "text",
    "id": "xxYS7hWvwDTo"
   },
   "source": [
    "**Most trips are in the business category**"
   ]
  },
  {
   "cell_type": "code",
   "execution_count": null,
   "metadata": {
    "colab": {},
    "colab_type": "code",
    "id": "c-Asqv7vwDTp",
    "outputId": "d625c7ca-1493-44f0-c485-48434c4f68c9"
   },
   "outputs": [],
   "source": [
    "#Purpose\n",
    "df['PURPOSE*'].value_counts()\n"
   ]
  },
  {
   "cell_type": "markdown",
   "metadata": {
    "colab_type": "text",
    "id": "GVmxe3MOwDTu"
   },
   "source": [
    "**Most trips are for meetings**"
   ]
  },
  {
   "cell_type": "code",
   "execution_count": null,
   "metadata": {
    "colab": {},
    "colab_type": "code",
    "id": "NVv2zBtgwDTu",
    "outputId": "803717a2-eddf-4ff6-9fb4-50cdde88d6d2"
   },
   "outputs": [],
   "source": [
    "#Average distance traveled for each activity\n",
    "df.groupby('PURPOSE*').mean()['MILES*'].sort_values(ascending = False)"
   ]
  },
  {
   "cell_type": "markdown",
   "metadata": {
    "colab_type": "text",
    "id": "nM1Ie1lwwDT2"
   },
   "source": [
    "Now lets try to answer some questions from this data.\n",
    "\n",
    "Question1: How many miles was earned per category and purpose ?\n",
    "\n",
    "Question2: What is percentage of business miles vs personal?\n",
    "\n",
    "Question3: How much time was spend for drives per category and purpose? \n"
   ]
  },
  {
   "cell_type": "code",
   "execution_count": null,
   "metadata": {
    "colab": {},
    "colab_type": "code",
    "id": "zNFEuuolwDT3",
    "outputId": "4b340702-9696-400c-9dc6-1f63210b3914"
   },
   "outputs": [],
   "source": [
    "#Question1: How many miles was earned per purpose ?\n",
    "df.groupby('PURPOSE*').sum()['MILES*'].sort_values(ascending = False)"
   ]
  },
  {
   "cell_type": "code",
   "execution_count": null,
   "metadata": {
    "colab": {},
    "colab_type": "code",
    "id": "POWB38F6wDT-",
    "outputId": "cd266d72-7c16-4072-d5aa-0cf0f688ad71"
   },
   "outputs": [],
   "source": [
    "#Question2: How many miles was earned per category  ?\n",
    "Miles_per_cat=df.groupby('CATEGORY*').sum()['MILES*']"
   ]
  },
  {
   "cell_type": "code",
   "execution_count": null,
   "metadata": {},
   "outputs": [],
   "source": [
    "Miles_per_cat*100/Miles_per_cat.sum()"
   ]
  },
  {
   "cell_type": "code",
   "execution_count": null,
   "metadata": {},
   "outputs": [],
   "source": [
    "df.groupby('CATEGORY*').sum()['Duration_hours']"
   ]
  },
  {
   "cell_type": "code",
   "execution_count": null,
   "metadata": {},
   "outputs": [],
   "source": [
    "df.groupby('PURPOSE*').sum()['Duration_hours']"
   ]
  },
  {
   "cell_type": "markdown",
   "metadata": {
    "colab_type": "text",
    "id": "xueGzi8RwDUD"
   },
   "source": [
    "## Summary of findings from analysis"
   ]
  },
  {
   "cell_type": "code",
   "execution_count": null,
   "metadata": {
    "colab": {},
    "colab_type": "code",
    "id": "NtQcbbkZwDUE"
   },
   "outputs": [],
   "source": []
  },
  {
   "cell_type": "code",
   "execution_count": null,
   "metadata": {
    "colab": {},
    "colab_type": "code",
    "id": "S_TwELIlwDUI"
   },
   "outputs": [],
   "source": []
  }
 ],
 "metadata": {
  "colab": {
   "name": "Uber Data Analysis_Updated.ipynb",
   "provenance": []
  },
  "kernelspec": {
   "display_name": "Python 3",
   "language": "python",
   "name": "python3"
  },
  "language_info": {
   "codemirror_mode": {
    "name": "ipython",
    "version": 3
   },
   "file_extension": ".py",
   "mimetype": "text/x-python",
   "name": "python",
   "nbconvert_exporter": "python",
   "pygments_lexer": "ipython3",
   "version": "3.8.5"
  }
 },
 "nbformat": 4,
 "nbformat_minor": 1
}
