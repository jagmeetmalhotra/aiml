{
 "cells": [
  {
   "cell_type": "code",
   "execution_count": 5,
   "id": "d75f8235",
   "metadata": {},
   "outputs": [
    {
     "name": "stdout",
     "output_type": "stream",
     "text": [
      "[0 1 2 3 4 5 6 7 8 9]\n",
      "[ True  True  True False False False False False False False]\n"
     ]
    }
   ],
   "source": [
    "import numpy as np\n",
    "demo_array=np.arange(0,10)\n",
    "print(demo_array)\n",
    "print(demo_array<3)"
   ]
  },
  {
   "cell_type": "code",
   "execution_count": 6,
   "id": "fbbbf8c8",
   "metadata": {},
   "outputs": [
    {
     "name": "stdout",
     "output_type": "stream",
     "text": [
      "[0 1 2 3 4 5]\n"
     ]
    }
   ],
   "source": [
    "print(demo_array[demo_array<6])"
   ]
  },
  {
   "cell_type": "code",
   "execution_count": 7,
   "id": "a7f0e66e",
   "metadata": {},
   "outputs": [
    {
     "data": {
      "text/plain": [
       "9"
      ]
     },
     "execution_count": 7,
     "metadata": {},
     "output_type": "execute_result"
    }
   ],
   "source": [
    "np.max(demo_array)"
   ]
  },
  {
   "cell_type": "code",
   "execution_count": 10,
   "id": "5047f8dd",
   "metadata": {},
   "outputs": [
    {
     "data": {
      "text/plain": [
       "array([[13, 35, 74, 48],\n",
       "       [27, 37, 37, 38],\n",
       "       [73, 39, 93, 39]])"
      ]
     },
     "execution_count": 10,
     "metadata": {},
     "output_type": "execute_result"
    }
   ],
   "source": [
    "demo_matrix=np.array(([13,35,74,48],[27,37,37,38],[73,39,93,39]))\n",
    "demo_matrix"
   ]
  },
  {
   "cell_type": "code",
   "execution_count": 12,
   "id": "881b3236",
   "metadata": {},
   "outputs": [
    {
     "data": {
      "text/plain": [
       "array([[35, 74],\n",
       "       [37, 37],\n",
       "       [39, 93]])"
      ]
     },
     "execution_count": 12,
     "metadata": {},
     "output_type": "execute_result"
    }
   ],
   "source": [
    "demo_matrix[:,(1,2)]"
   ]
  },
  {
   "cell_type": "code",
   "execution_count": 14,
   "id": "c14edc1e",
   "metadata": {},
   "outputs": [
    {
     "data": {
      "text/plain": [
       "array([10, 11, 12, 13, 14, 15, 16, 17, 18, 19, 20])"
      ]
     },
     "execution_count": 14,
     "metadata": {},
     "output_type": "execute_result"
    }
   ],
   "source": [
    "demo_array=np.arange(10,21)\n",
    "demo_array"
   ]
  },
  {
   "cell_type": "code",
   "execution_count": 17,
   "id": "0b7af3fc",
   "metadata": {},
   "outputs": [
    {
     "data": {
      "text/plain": [
       "array([10, 11, 12, 13, 14, 15, 16])"
      ]
     },
     "execution_count": 17,
     "metadata": {},
     "output_type": "execute_result"
    }
   ],
   "source": [
    "subset_demo_array = demo_array[0:7]\n",
    "subset_demo_array"
   ]
  },
  {
   "cell_type": "code",
   "execution_count": 18,
   "id": "e64dad1d",
   "metadata": {},
   "outputs": [
    {
     "data": {
      "text/plain": [
       "array([101, 101, 101, 101, 101, 101, 101])"
      ]
     },
     "execution_count": 18,
     "metadata": {},
     "output_type": "execute_result"
    }
   ],
   "source": [
    "subset_demo_array[:]=101\n",
    "subset_demo_array"
   ]
  },
  {
   "cell_type": "code",
   "execution_count": null,
   "id": "ae115c95",
   "metadata": {},
   "outputs": [],
   "source": []
  }
 ],
 "metadata": {
  "kernelspec": {
   "display_name": "Python 3",
   "language": "python",
   "name": "python3"
  },
  "language_info": {
   "codemirror_mode": {
    "name": "ipython",
    "version": 3
   },
   "file_extension": ".py",
   "mimetype": "text/x-python",
   "name": "python",
   "nbconvert_exporter": "python",
   "pygments_lexer": "ipython3",
   "version": "3.8.8"
  }
 },
 "nbformat": 4,
 "nbformat_minor": 5
}
