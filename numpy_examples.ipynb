{
 "cells": [
  {
   "cell_type": "markdown",
   "metadata": {},
   "source": [
    "# NumPy\n",
    "\n",
    "numpy is python's package for doing math that is more advanced than +-*/\n",
    "\n",
    "This includes special functions like cosine, exponential, sqrt, ...\n",
    "\n",
    "On top of this we can use numpy to generate samples from many types of random variables\n",
    "\n",
    "numpy also has a powerful data type to define vectors, matrices, and tensors\n",
    "\n",
    "With these data types numpy also allows us to do linear algebra - matrix multiplication and matrix-vector solutions"
   ]
  },
  {
   "cell_type": "code",
   "execution_count": 15,
   "metadata": {},
   "outputs": [],
   "source": [
    "# the first step of using numpy is to tell python to use it\n",
    "import numpy as np"
   ]
  },
  {
   "cell_type": "code",
   "execution_count": 16,
   "metadata": {},
   "outputs": [
    {
     "name": "stdout",
     "output_type": "stream",
     "text": [
      "-1.0\n",
      "1.1\n",
      "5.2\n"
     ]
    }
   ],
   "source": [
    "print(np.cos(np.pi))\n",
    "print(np.sqrt(1.21))\n",
    "print(np.log(np.exp(5.2)))"
   ]
  },
  {
   "cell_type": "code",
   "execution_count": 17,
   "metadata": {},
   "outputs": [
    {
     "name": "stdout",
     "output_type": "stream",
     "text": [
      "[1 2 3]\n",
      "\n",
      "[[1 2 1]\n",
      " [4 5 9]\n",
      " [1 8 9]]\n",
      "\n",
      "[[1 4 1]\n",
      " [2 5 8]\n",
      " [1 9 9]]\n"
     ]
    }
   ],
   "source": [
    "# we can create numpy arrays by converting lists\n",
    "# this is a vector\n",
    "vec = np.array([1,2,3])\n",
    "print(vec)\n",
    "# we can create matrices by converting lists of lists\n",
    "mat = np.array([[1,2,1],[4,5,9],[1,8,9]])\n",
    "print('')\n",
    "print(mat)\n",
    "print('')\n",
    "print(mat.T)"
   ]
  },
  {
   "cell_type": "code",
   "execution_count": 18,
   "metadata": {},
   "outputs": [
    {
     "name": "stdout",
     "output_type": "stream",
     "text": [
      "[ 0  1  2  3  4  5  6  7  8  9 10 11 12 13 14]\n",
      "\n",
      "[ 3  9 15]\n"
     ]
    }
   ],
   "source": [
    "# there are lots of other ways to create numpy arrays\n",
    "vec2 = np.arange(0,15)\n",
    "print(vec2)\n",
    "print('')\n",
    "vec3 = np.arange(3,21,6)\n",
    "print(vec3)\n"
   ]
  },
  {
   "cell_type": "code",
   "execution_count": 19,
   "metadata": {},
   "outputs": [
    {
     "name": "stdout",
     "output_type": "stream",
     "text": [
      "[0.         0.55555556 1.11111111 1.66666667 2.22222222 2.77777778\n",
      " 3.33333333 3.88888889 4.44444444 5.        ]\n",
      "\n",
      "[[0.         0.55555556]\n",
      " [1.11111111 1.66666667]\n",
      " [2.22222222 2.77777778]\n",
      " [3.33333333 3.88888889]\n",
      " [4.44444444 5.        ]]\n",
      "[[0.         0.55555556]\n",
      " [1.11111111 1.66666667]\n",
      " [2.22222222 2.77777778]\n",
      " [3.33333333 3.88888889]\n",
      " [4.44444444 5.        ]]\n",
      "[0.         0.55555556 1.11111111 1.66666667 2.22222222 2.77777778\n",
      " 3.33333333 3.88888889 4.44444444 5.        ]\n"
     ]
    }
   ],
   "source": [
    "\n",
    "vec4 = np.linspace(0,5,10)\n",
    "print(vec4)\n",
    "print('')\n",
    "print(vec4.reshape(5,2))\n",
    "vec4_reshaped = vec4.reshape(5,2)\n",
    "print(vec4_reshaped)\n",
    "print(vec4)"
   ]
  },
  {
   "cell_type": "code",
   "execution_count": 20,
   "metadata": {},
   "outputs": [
    {
     "name": "stdout",
     "output_type": "stream",
     "text": [
      "[[0. 0. 0.]\n",
      " [0. 0. 0.]\n",
      " [0. 0. 0.]\n",
      " [0. 0. 0.]\n",
      " [0. 0. 0.]]\n",
      "\n",
      "[[1. 1. 1. 1. 1.]\n",
      " [1. 1. 1. 1. 1.]\n",
      " [1. 1. 1. 1. 1.]]\n",
      "\n",
      "[[1. 0. 0. 0. 0.]\n",
      " [0. 1. 0. 0. 0.]\n",
      " [0. 0. 1. 0. 0.]\n",
      " [0. 0. 0. 1. 0.]\n",
      " [0. 0. 0. 0. 1.]]\n"
     ]
    }
   ],
   "source": [
    "mat2 = np.zeros([5,3])\n",
    "print(mat2)\n",
    "mat3 = np.ones((3,5))\n",
    "print('')\n",
    "print(mat3)\n",
    "mat4 = np.eye(5)\n",
    "print('')\n",
    "print(mat4)"
   ]
  },
  {
   "cell_type": "code",
   "execution_count": 21,
   "metadata": {},
   "outputs": [
    {
     "name": "stdout",
     "output_type": "stream",
     "text": [
      "[1 2 3 4 5]\n",
      "[3 4 5 6 7]\n",
      "[ 4  6  8 10 12]\n",
      "[ 3  8 15 24 35]\n",
      "[1.         0.5        0.33333333 0.25       0.2       ]\n",
      "[1.73205081 2.         2.23606798 2.44948974 2.64575131]\n"
     ]
    }
   ],
   "source": [
    "# we can +-*/ arrays together if they're the right size\n",
    "vec5 = np.arange(1,6)\n",
    "vec6 = np.arange(3,8)\n",
    "print(vec5)\n",
    "print(vec6)\n",
    "print(vec5+vec6)\n",
    "print(vec5*vec6)\n",
    "print(1/vec5)\n",
    "print(np.sqrt(vec6))"
   ]
  },
  {
   "cell_type": "code",
   "execution_count": 22,
   "metadata": {},
   "outputs": [
    {
     "name": "stdout",
     "output_type": "stream",
     "text": [
      "[[1 2 1]\n",
      " [4 5 9]\n",
      " [1 8 9]]\n",
      "\n",
      "[1 2 3]\n",
      "\n",
      "[ 8 41 44]\n"
     ]
    }
   ],
   "source": [
    "# we can do matrix multiplication\n",
    "print(mat)\n",
    "print('')\n",
    "print(vec)\n",
    "print()\n",
    "product = np.matmul(mat,vec)\n",
    "print(product)"
   ]
  },
  {
   "cell_type": "code",
   "execution_count": 23,
   "metadata": {},
   "outputs": [
    {
     "name": "stdout",
     "output_type": "stream",
     "text": [
      "[1. 2. 3.]\n",
      "\n",
      "[[ 0.5         0.18518519 -0.24074074]\n",
      " [ 0.5        -0.14814815  0.09259259]\n",
      " [-0.5         0.11111111  0.05555556]]\n"
     ]
    }
   ],
   "source": [
    "print(np.linalg.solve(mat,product))\n",
    "print('')\n",
    "print(np.linalg.inv(mat))"
   ]
  },
  {
   "cell_type": "code",
   "execution_count": 24,
   "metadata": {},
   "outputs": [
    {
     "name": "stdout",
     "output_type": "stream",
     "text": [
      "['blue' 'red' 'orange' 'purple' 'purple' 'orange' 'Red' '6']\n",
      "['6' 'Red' 'blue' 'orange' 'purple' 'red']\n"
     ]
    }
   ],
   "source": [
    "# we can find the unique values in an array\n",
    "vec7 = np.array(['blue','red','orange','purple','purple','orange','Red',6])\n",
    "print(vec7)\n",
    "print(np.unique(vec7))"
   ]
  },
  {
   "cell_type": "code",
   "execution_count": 25,
   "metadata": {},
   "outputs": [
    {
     "name": "stdout",
     "output_type": "stream",
     "text": [
      "[[0.64861108 0.23385747 0.57303187 0.70819923 0.78492511]\n",
      " [0.44359969 0.36170667 0.83773448 0.98564671 0.75986176]\n",
      " [0.15847906 0.477543   0.98934954 0.06461887 0.17425507]\n",
      " [0.81302801 0.38060956 0.0747944  0.91470987 0.41776917]\n",
      " [0.60691725 0.65545265 0.01085822 0.9209951  0.0899208 ]]\n",
      "\n",
      "[[-3.55702317  2.12140359  0.70379071  0.73836319 -0.37078681]\n",
      " [-0.47206693 -0.58162134  0.9569869  -0.49577682  0.1022353 ]\n",
      " [-0.16856326  0.81201137  0.77629135 -2.07010476 -0.30531091]\n",
      " [ 0.07129996  0.6248255  -0.85902862 -1.8831032   0.00388922]\n",
      " [-0.09893375 -2.00467035 -0.0378239   0.92710741  0.10823116]\n",
      " [ 0.1318712   0.64830528 -0.31670936  0.16661694 -1.45385978]\n",
      " [ 0.42632643  0.44154802  0.61334278 -0.9025564   0.23036323]\n",
      " [ 0.1217577  -0.7056504   0.62577094  0.74957902 -0.11499762]\n",
      " [ 0.78418689 -1.62882116  0.90893389 -1.66416216  1.25697547]\n",
      " [-1.24687363  0.48292205  0.37585276  0.18455466  0.21320537]]\n"
     ]
    }
   ],
   "source": [
    "# we can also use numpy to generate samples of a random variable\n",
    "rand_mat = np.random.rand(5,5) # uniform random variable\n",
    "print(rand_mat)\n",
    "rand_mat2 = np.random.randn(10,5) # standard normal random variable\n",
    "print('')\n",
    "print(rand_mat2)"
   ]
  },
  {
   "cell_type": "code",
   "execution_count": 26,
   "metadata": {},
   "outputs": [
    {
     "name": "stdout",
     "output_type": "stream",
     "text": [
      "0.5234589860148116\n",
      "1.0111047680171688\n"
     ]
    }
   ],
   "source": [
    "# we can also use numpy for statistical tools on arrays\n",
    "print(np.mean(rand_mat))\n",
    "print(np.std(rand_mat2))"
   ]
  },
  {
   "cell_type": "code",
   "execution_count": 27,
   "metadata": {},
   "outputs": [
    {
     "name": "stdout",
     "output_type": "stream",
     "text": [
      "0.010858223961757174\n",
      "2.1214035877333357\n"
     ]
    }
   ],
   "source": [
    "print(np.min(rand_mat))\n",
    "print(np.max(rand_mat2))"
   ]
  },
  {
   "cell_type": "code",
   "execution_count": 28,
   "metadata": {},
   "outputs": [],
   "source": [
    "# break here for next video!"
   ]
  },
  {
   "cell_type": "code",
   "execution_count": 29,
   "metadata": {},
   "outputs": [
    {
     "name": "stdout",
     "output_type": "stream",
     "text": [
      "[ 0.77732029  1.44905503  0.69637575 -0.25063898 -1.32642624  0.44327151\n",
      "  1.37999873  0.88152016 -0.50354578  0.58297045 -1.85427334 -1.75974606\n",
      " -2.22477832 -1.26717065 -0.80012003  0.62659914  0.29401351 -1.29365003\n",
      "  0.94291771]\n",
      "1.3799987272226917\n"
     ]
    }
   ],
   "source": [
    "# how do we access entries in a numpy vector\n",
    "rand_vec = np.random.randn(19)\n",
    "print(rand_vec)\n",
    "print(rand_vec[6])"
   ]
  },
  {
   "cell_type": "code",
   "execution_count": 30,
   "metadata": {},
   "outputs": [
    {
     "name": "stdout",
     "output_type": "stream",
     "text": [
      "[-1.32642624  0.44327151  1.37999873  0.88152016 -0.50354578]\n"
     ]
    }
   ],
   "source": [
    "# we can access multiple entries at once using :\n",
    "print(rand_vec[4:9])"
   ]
  },
  {
   "cell_type": "code",
   "execution_count": 31,
   "metadata": {},
   "outputs": [
    {
     "name": "stdout",
     "output_type": "stream",
     "text": [
      "[ 0  3  6  9 12]\n",
      "[ 0.77732029 -0.25063898  1.37999873  0.58297045 -2.22477832]\n"
     ]
    }
   ],
   "source": [
    "# we can also access multiple non-consecutive entries using np.arange\n",
    "print(np.arange(0,15,3))\n",
    "print(rand_vec[np.arange(0,15,3)])"
   ]
  },
  {
   "cell_type": "code",
   "execution_count": 32,
   "metadata": {},
   "outputs": [
    {
     "name": "stdout",
     "output_type": "stream",
     "text": [
      "[[0.64861108 0.23385747 0.57303187 0.70819923 0.78492511]\n",
      " [0.44359969 0.36170667 0.83773448 0.98564671 0.75986176]\n",
      " [0.15847906 0.477543   0.98934954 0.06461887 0.17425507]\n",
      " [0.81302801 0.38060956 0.0747944  0.91470987 0.41776917]\n",
      " [0.60691725 0.65545265 0.01085822 0.9209951  0.0899208 ]]\n",
      "0.8377344782690709\n",
      "0.8377344782690709\n"
     ]
    }
   ],
   "source": [
    "# what about matrices\n",
    "print(rand_mat)\n",
    "print(rand_mat[1][2])\n",
    "print(rand_mat[1,2])\n"
   ]
  },
  {
   "cell_type": "code",
   "execution_count": 33,
   "metadata": {},
   "outputs": [
    {
     "name": "stdout",
     "output_type": "stream",
     "text": [
      "[[0.23385747 0.57303187]\n",
      " [0.36170667 0.83773448]]\n"
     ]
    }
   ],
   "source": [
    "print(rand_mat[0:2,1:3])"
   ]
  },
  {
   "cell_type": "code",
   "execution_count": 34,
   "metadata": {},
   "outputs": [
    {
     "name": "stdout",
     "output_type": "stream",
     "text": [
      "[ 0.77732029  1.44905503  0.69637575 -0.25063898 -1.32642624  0.44327151\n",
      "  1.37999873  0.88152016 -0.50354578  0.58297045 -1.85427334 -1.75974606\n",
      " -2.22477832 -1.26717065 -0.80012003  0.62659914  0.29401351 -1.29365003\n",
      "  0.94291771]\n",
      "\n",
      "[ 0.77732029  1.44905503  0.69637575  4.          4.          0.44327151\n",
      "  1.37999873  0.88152016 -0.50354578  0.58297045 -1.85427334 -1.75974606\n",
      " -2.22477832 -1.26717065 -0.80012003  0.62659914  0.29401351 -1.29365003\n",
      "  0.94291771]\n",
      "\n",
      "[ 0.77732029  1.44905503  0.69637575  1.          2.          0.44327151\n",
      "  1.37999873  0.88152016 -0.50354578  0.58297045 -1.85427334 -1.75974606\n",
      " -2.22477832 -1.26717065 -0.80012003  0.62659914  0.29401351 -1.29365003\n",
      "  0.94291771]\n"
     ]
    }
   ],
   "source": [
    "# let's change some values in an array!\n",
    "print(rand_vec)\n",
    "rand_vec[3:5] = 4\n",
    "print('')\n",
    "print(rand_vec)\n",
    "rand_vec[3:5] = [1,2]\n",
    "print('')\n",
    "print(rand_vec)"
   ]
  },
  {
   "cell_type": "code",
   "execution_count": 35,
   "metadata": {},
   "outputs": [
    {
     "name": "stdout",
     "output_type": "stream",
     "text": [
      "[[0.64861108 0.23385747 0.57303187 0.70819923 0.78492511]\n",
      " [0.44359969 0.36170667 0.83773448 0.98564671 0.75986176]\n",
      " [0.15847906 0.477543   0.98934954 0.06461887 0.17425507]\n",
      " [0.81302801 0.38060956 0.0747944  0.91470987 0.41776917]\n",
      " [0.60691725 0.65545265 0.01085822 0.9209951  0.0899208 ]]\n",
      "\n",
      "[[0.64861108 0.23385747 0.57303187 0.70819923 0.78492511]\n",
      " [0.44359969 0.36170667 0.83773448 0.         0.        ]\n",
      " [0.15847906 0.477543   0.98934954 0.         0.        ]\n",
      " [0.81302801 0.38060956 0.0747944  0.91470987 0.41776917]\n",
      " [0.60691725 0.65545265 0.01085822 0.9209951  0.0899208 ]]\n"
     ]
    }
   ],
   "source": [
    "print(rand_mat)\n",
    "rand_mat[1:3,3:5] = 0\n",
    "print('')\n",
    "print(rand_mat)"
   ]
  },
  {
   "cell_type": "code",
   "execution_count": 36,
   "metadata": {},
   "outputs": [
    {
     "name": "stdout",
     "output_type": "stream",
     "text": [
      "[[0.64861108 0.23385747 0.57303187]\n",
      " [0.44359969 0.36170667 0.83773448]]\n",
      "[[3. 3. 3.]\n",
      " [3. 3. 3.]]\n"
     ]
    }
   ],
   "source": [
    "sub_mat = rand_mat[0:2,0:3]\n",
    "print(sub_mat)\n",
    "sub_mat[:] = 3\n",
    "print(sub_mat)\n"
   ]
  },
  {
   "cell_type": "code",
   "execution_count": 37,
   "metadata": {},
   "outputs": [
    {
     "name": "stdout",
     "output_type": "stream",
     "text": [
      "[[3.         3.         3.         0.70819923 0.78492511]\n",
      " [3.         3.         3.         0.         0.        ]\n",
      " [0.15847906 0.477543   0.98934954 0.         0.        ]\n",
      " [0.81302801 0.38060956 0.0747944  0.91470987 0.41776917]\n",
      " [0.60691725 0.65545265 0.01085822 0.9209951  0.0899208 ]]\n"
     ]
    }
   ],
   "source": [
    "print(rand_mat)"
   ]
  },
  {
   "cell_type": "code",
   "execution_count": 38,
   "metadata": {},
   "outputs": [
    {
     "name": "stdout",
     "output_type": "stream",
     "text": [
      "[[99. 99. 99.]\n",
      " [99. 99. 99.]]\n",
      "[[3.         3.         3.         0.70819923 0.78492511]\n",
      " [3.         3.         3.         0.         0.        ]\n",
      " [0.15847906 0.477543   0.98934954 0.         0.        ]\n",
      " [0.81302801 0.38060956 0.0747944  0.91470987 0.41776917]\n",
      " [0.60691725 0.65545265 0.01085822 0.9209951  0.0899208 ]]\n"
     ]
    }
   ],
   "source": [
    "sub_mat2 = rand_mat[0:2,0:3].copy()\n",
    "sub_mat2[:] = 99\n",
    "print(sub_mat2)\n",
    "print(rand_mat)\n"
   ]
  },
  {
   "cell_type": "code",
   "execution_count": 39,
   "metadata": {},
   "outputs": [],
   "source": [
    "# break here for next video"
   ]
  },
  {
   "cell_type": "code",
   "execution_count": 40,
   "metadata": {},
   "outputs": [
    {
     "name": "stdout",
     "output_type": "stream",
     "text": [
      "[-0.88562467  0.5148713  -0.47112207 -0.20372057  1.33379937  0.15290067\n",
      "  0.6791536  -1.32910634 -0.06472117  1.78249083  0.2110884   0.41571271\n",
      " -0.06754128  0.37456064 -0.43511237]\n",
      "[False  True False False  True  True  True False False  True  True  True\n",
      " False  True False]\n",
      "[0.5148713  1.33379937 0.15290067 0.6791536  1.78249083 0.2110884\n",
      " 0.41571271 0.37456064]\n"
     ]
    }
   ],
   "source": [
    "# we can also access entries with logicals\n",
    "rand_vec = np.random.randn(15)\n",
    "\n",
    "print(rand_vec)\n",
    "print(rand_vec>0)\n",
    "print(rand_vec[rand_vec>0])"
   ]
  },
  {
   "cell_type": "code",
   "execution_count": 41,
   "metadata": {},
   "outputs": [
    {
     "name": "stdout",
     "output_type": "stream",
     "text": [
      "[[-3.55702317  2.12140359  0.70379071  0.73836319 -0.37078681]\n",
      " [-0.47206693 -0.58162134  0.9569869  -0.49577682  0.1022353 ]\n",
      " [-0.16856326  0.81201137  0.77629135 -2.07010476 -0.30531091]\n",
      " [ 0.07129996  0.6248255  -0.85902862 -1.8831032   0.00388922]\n",
      " [-0.09893375 -2.00467035 -0.0378239   0.92710741  0.10823116]\n",
      " [ 0.1318712   0.64830528 -0.31670936  0.16661694 -1.45385978]\n",
      " [ 0.42632643  0.44154802  0.61334278 -0.9025564   0.23036323]\n",
      " [ 0.1217577  -0.7056504   0.62577094  0.74957902 -0.11499762]\n",
      " [ 0.78418689 -1.62882116  0.90893389 -1.66416216  1.25697547]\n",
      " [-1.24687363  0.48292205  0.37585276  0.18455466  0.21320537]]\n",
      "[2.12140359 0.70379071 0.73836319 0.9569869  0.1022353  0.81201137\n",
      " 0.77629135 0.07129996 0.6248255  0.00388922 0.92710741 0.10823116\n",
      " 0.1318712  0.64830528 0.16661694 0.42632643 0.44154802 0.61334278\n",
      " 0.23036323 0.1217577  0.62577094 0.74957902 0.78418689 0.90893389\n",
      " 1.25697547 0.48292205 0.37585276 0.18455466 0.21320537]\n"
     ]
    }
   ],
   "source": [
    "print(rand_mat2)\n",
    "print(rand_mat2[rand_mat2>0])"
   ]
  },
  {
   "cell_type": "code",
   "execution_count": 42,
   "metadata": {},
   "outputs": [
    {
     "name": "stdout",
     "output_type": "stream",
     "text": [
      "[-0.88562467  0.5148713  -0.47112207 -0.20372057  1.33379937  0.15290067\n",
      "  0.6791536  -1.32910634 -0.06472117  1.78249083  0.2110884   0.41571271\n",
      " -0.06754128  0.37456064 -0.43511237]\n",
      "\n",
      "[-0.88562467 -5.         -0.47112207 -0.20372057 -5.          0.15290067\n",
      " -5.         -1.32910634 -0.06472117 -5.          0.2110884   0.41571271\n",
      " -0.06754128  0.37456064 -0.43511237]\n"
     ]
    }
   ],
   "source": [
    "\n",
    "print(rand_vec)\n",
    "print('')\n",
    "rand_vec[rand_vec>0.5] = -5\n",
    "print(rand_vec)"
   ]
  },
  {
   "cell_type": "code",
   "execution_count": 43,
   "metadata": {},
   "outputs": [],
   "source": [
    "# let's save some arrays on the disk for use later!\n",
    "np.save('saved_file_name',rand_mat2)\n"
   ]
  },
  {
   "cell_type": "code",
   "execution_count": 44,
   "metadata": {},
   "outputs": [],
   "source": [
    "np.savez('zipped_file_name',rand_mat=rand_mat,rand_mat2=rand_mat2)"
   ]
  },
  {
   "cell_type": "code",
   "execution_count": 45,
   "metadata": {},
   "outputs": [
    {
     "name": "stdout",
     "output_type": "stream",
     "text": [
      "[[-3.55702317  2.12140359  0.70379071  0.73836319 -0.37078681]\n",
      " [-0.47206693 -0.58162134  0.9569869  -0.49577682  0.1022353 ]\n",
      " [-0.16856326  0.81201137  0.77629135 -2.07010476 -0.30531091]\n",
      " [ 0.07129996  0.6248255  -0.85902862 -1.8831032   0.00388922]\n",
      " [-0.09893375 -2.00467035 -0.0378239   0.92710741  0.10823116]\n",
      " [ 0.1318712   0.64830528 -0.31670936  0.16661694 -1.45385978]\n",
      " [ 0.42632643  0.44154802  0.61334278 -0.9025564   0.23036323]\n",
      " [ 0.1217577  -0.7056504   0.62577094  0.74957902 -0.11499762]\n",
      " [ 0.78418689 -1.62882116  0.90893389 -1.66416216  1.25697547]\n",
      " [-1.24687363  0.48292205  0.37585276  0.18455466  0.21320537]]\n",
      "\n",
      "<numpy.lib.npyio.NpzFile object at 0x7ff67241e340>\n"
     ]
    }
   ],
   "source": [
    "# now let's load it\n",
    "loaded_vec = np.load('saved_file_name.npy')\n",
    "loaded_zip = np.load('zipped_file_name.npz')\n",
    "\n",
    "print(loaded_vec)\n",
    "print('')\n",
    "print(loaded_zip)"
   ]
  },
  {
   "cell_type": "code",
   "execution_count": 46,
   "metadata": {},
   "outputs": [
    {
     "name": "stdout",
     "output_type": "stream",
     "text": [
      "[[3.         3.         3.         0.70819923 0.78492511]\n",
      " [3.         3.         3.         0.         0.        ]\n",
      " [0.15847906 0.477543   0.98934954 0.         0.        ]\n",
      " [0.81302801 0.38060956 0.0747944  0.91470987 0.41776917]\n",
      " [0.60691725 0.65545265 0.01085822 0.9209951  0.0899208 ]]\n",
      "\n",
      "[[-3.55702317  2.12140359  0.70379071  0.73836319 -0.37078681]\n",
      " [-0.47206693 -0.58162134  0.9569869  -0.49577682  0.1022353 ]\n",
      " [-0.16856326  0.81201137  0.77629135 -2.07010476 -0.30531091]\n",
      " [ 0.07129996  0.6248255  -0.85902862 -1.8831032   0.00388922]\n",
      " [-0.09893375 -2.00467035 -0.0378239   0.92710741  0.10823116]\n",
      " [ 0.1318712   0.64830528 -0.31670936  0.16661694 -1.45385978]\n",
      " [ 0.42632643  0.44154802  0.61334278 -0.9025564   0.23036323]\n",
      " [ 0.1217577  -0.7056504   0.62577094  0.74957902 -0.11499762]\n",
      " [ 0.78418689 -1.62882116  0.90893389 -1.66416216  1.25697547]\n",
      " [-1.24687363  0.48292205  0.37585276  0.18455466  0.21320537]]\n",
      "[[3.         3.         3.         0.70819923 0.78492511]\n",
      " [3.         3.         3.         0.         0.        ]\n",
      " [0.15847906 0.477543   0.98934954 0.         0.        ]\n",
      " [0.81302801 0.38060956 0.0747944  0.91470987 0.41776917]\n",
      " [0.60691725 0.65545265 0.01085822 0.9209951  0.0899208 ]]\n"
     ]
    }
   ],
   "source": [
    "print(loaded_zip['rand_mat'])\n",
    "print('')\n",
    "print(loaded_zip['rand_mat2'])\n",
    "\n",
    "new_array  = loaded_zip['rand_mat']\n",
    "print(new_array)"
   ]
  },
  {
   "cell_type": "code",
   "execution_count": 47,
   "metadata": {},
   "outputs": [
    {
     "name": "stdout",
     "output_type": "stream",
     "text": [
      "[[3.         3.         3.         0.70819923 0.78492511]\n",
      " [3.         3.         3.         0.         0.        ]\n",
      " [0.15847906 0.477543   0.98934954 0.         0.        ]\n",
      " [0.81302801 0.38060956 0.0747944  0.91470987 0.41776917]\n",
      " [0.60691725 0.65545265 0.01085822 0.9209951  0.0899208 ]]\n",
      "\n",
      "[[3.         3.         3.         0.70819923 0.78492511]\n",
      " [3.         3.         3.         0.         0.        ]\n",
      " [0.15847906 0.477543   0.98934954 0.         0.        ]\n",
      " [0.81302801 0.38060956 0.0747944  0.91470987 0.41776917]\n",
      " [0.60691725 0.65545265 0.01085822 0.9209951  0.0899208 ]]\n"
     ]
    }
   ],
   "source": [
    "# we can also save/load as text files...but only single variables\n",
    "np.savetxt('text_file_name.txt',rand_mat,delimiter=',')\n",
    "rand_mat_txt = np.loadtxt('text_file_name.txt',delimiter=',')\n",
    "print(rand_mat)\n",
    "print('')\n",
    "print(rand_mat_txt)"
   ]
  },
  {
   "cell_type": "code",
   "execution_count": null,
   "metadata": {},
   "outputs": [],
   "source": []
  },
  {
   "cell_type": "code",
   "execution_count": 48,
   "metadata": {},
   "outputs": [
    {
     "name": "stdout",
     "output_type": "stream",
     "text": [
      "[ 0  6 12 18]\n"
     ]
    }
   ],
   "source": [
    "print(np.arange(0,22,6))"
   ]
  },
  {
   "cell_type": "code",
   "execution_count": 49,
   "metadata": {},
   "outputs": [],
   "source": [
    "test_array = [10, 11.5, 12, 13.5, 14,15]"
   ]
  },
  {
   "cell_type": "code",
   "execution_count": 50,
   "metadata": {},
   "outputs": [
    {
     "data": {
      "text/plain": [
       "[12]"
      ]
     },
     "execution_count": 50,
     "metadata": {},
     "output_type": "execute_result"
    }
   ],
   "source": [
    "test_array[2:3]"
   ]
  },
  {
   "cell_type": "code",
   "execution_count": 51,
   "metadata": {},
   "outputs": [],
   "source": [
    "mat = np.array([1,2,3,4,5])"
   ]
  },
  {
   "cell_type": "code",
   "execution_count": 52,
   "metadata": {},
   "outputs": [
    {
     "data": {
      "text/plain": [
       "array([1, 2, 3, 4, 5])"
      ]
     },
     "execution_count": 52,
     "metadata": {},
     "output_type": "execute_result"
    }
   ],
   "source": [
    "mat"
   ]
  },
  {
   "cell_type": "code",
   "execution_count": 53,
   "metadata": {},
   "outputs": [],
   "source": [
    "new_mat = mat"
   ]
  },
  {
   "cell_type": "code",
   "execution_count": 55,
   "metadata": {},
   "outputs": [],
   "source": [
    "new_mat[2] = 9"
   ]
  },
  {
   "cell_type": "code",
   "execution_count": 56,
   "metadata": {},
   "outputs": [
    {
     "data": {
      "text/plain": [
       "array([1, 2, 9, 4, 5])"
      ]
     },
     "execution_count": 56,
     "metadata": {},
     "output_type": "execute_result"
    }
   ],
   "source": [
    "mat"
   ]
  },
  {
   "cell_type": "code",
   "execution_count": 61,
   "metadata": {},
   "outputs": [],
   "source": [
    "import pandas as pd\n",
    "s1 = pd.Series(['a', 'b'])\n",
    "s2 = pd.Series(['c', 'd'])"
   ]
  },
  {
   "cell_type": "code",
   "execution_count": 62,
   "metadata": {},
   "outputs": [
    {
     "data": {
      "text/plain": [
       "0    a\n",
       "1    b\n",
       "0    c\n",
       "1    d\n",
       "dtype: object"
      ]
     },
     "execution_count": 62,
     "metadata": {},
     "output_type": "execute_result"
    }
   ],
   "source": [
    "pd.concat([s1, s2])"
   ]
  },
  {
   "cell_type": "code",
   "execution_count": 63,
   "metadata": {},
   "outputs": [
    {
     "data": {
      "text/plain": [
       "0    a\n",
       "1    b\n",
       "0    c\n",
       "1    d\n",
       "dtype: object"
      ]
     },
     "execution_count": 63,
     "metadata": {},
     "output_type": "execute_result"
    }
   ],
   "source": [
    "pd.concat([s1, s2], axis=0)"
   ]
  },
  {
   "cell_type": "code",
   "execution_count": 64,
   "metadata": {},
   "outputs": [
    {
     "data": {
      "text/html": [
       "<div>\n",
       "<style scoped>\n",
       "    .dataframe tbody tr th:only-of-type {\n",
       "        vertical-align: middle;\n",
       "    }\n",
       "\n",
       "    .dataframe tbody tr th {\n",
       "        vertical-align: top;\n",
       "    }\n",
       "\n",
       "    .dataframe thead th {\n",
       "        text-align: right;\n",
       "    }\n",
       "</style>\n",
       "<table border=\"1\" class=\"dataframe\">\n",
       "  <thead>\n",
       "    <tr style=\"text-align: right;\">\n",
       "      <th></th>\n",
       "      <th>0</th>\n",
       "      <th>1</th>\n",
       "    </tr>\n",
       "  </thead>\n",
       "  <tbody>\n",
       "    <tr>\n",
       "      <th>0</th>\n",
       "      <td>a</td>\n",
       "      <td>c</td>\n",
       "    </tr>\n",
       "    <tr>\n",
       "      <th>1</th>\n",
       "      <td>b</td>\n",
       "      <td>d</td>\n",
       "    </tr>\n",
       "  </tbody>\n",
       "</table>\n",
       "</div>"
      ],
      "text/plain": [
       "   0  1\n",
       "0  a  c\n",
       "1  b  d"
      ]
     },
     "execution_count": 64,
     "metadata": {},
     "output_type": "execute_result"
    }
   ],
   "source": [
    "pd.concat([s1, s2], axis=1)"
   ]
  },
  {
   "cell_type": "code",
   "execution_count": 65,
   "metadata": {},
   "outputs": [
    {
     "ename": "TypeError",
     "evalue": "'function' object is not subscriptable",
     "output_type": "error",
     "traceback": [
      "\u001b[0;31m---------------------------------------------------------------------------\u001b[0m",
      "\u001b[0;31mTypeError\u001b[0m                                 Traceback (most recent call last)",
      "\u001b[0;32m<ipython-input-65-4caaa4a2fc88>\u001b[0m in \u001b[0;36m<module>\u001b[0;34m\u001b[0m\n\u001b[0;32m----> 1\u001b[0;31m \u001b[0mpd\u001b[0m\u001b[0;34m.\u001b[0m\u001b[0mconcat\u001b[0m\u001b[0;34m[\u001b[0m\u001b[0ms1\u001b[0m\u001b[0;34m,\u001b[0m \u001b[0ms2\u001b[0m\u001b[0;34m]\u001b[0m\u001b[0;34m\u001b[0m\u001b[0;34m\u001b[0m\u001b[0m\n\u001b[0m",
      "\u001b[0;31mTypeError\u001b[0m: 'function' object is not subscriptable"
     ]
    }
   ],
   "source": [
    "pd.concat[s1, s2]"
   ]
  },
  {
   "cell_type": "code",
   "execution_count": 86,
   "metadata": {},
   "outputs": [
    {
     "data": {
      "text/plain": [
       "array([[0.        , 2.12140359, 0.70379071, 0.73836319, 0.        ],\n",
       "       [0.        , 0.        , 0.9569869 , 0.        , 0.1022353 ],\n",
       "       [0.        , 0.81201137, 0.77629135, 0.        , 0.        ],\n",
       "       [0.07129996, 0.6248255 , 0.        , 0.        , 0.00388922],\n",
       "       [0.        , 0.        , 0.        , 0.92710741, 0.10823116],\n",
       "       [0.1318712 , 0.64830528, 0.        , 0.16661694, 0.        ],\n",
       "       [0.42632643, 0.44154802, 0.61334278, 0.        , 0.23036323],\n",
       "       [0.1217577 , 0.        , 0.62577094, 0.74957902, 0.        ],\n",
       "       [0.78418689, 0.        , 0.90893389, 0.        , 1.25697547],\n",
       "       [0.        , 0.48292205, 0.37585276, 0.18455466, 0.21320537]])"
      ]
     },
     "execution_count": 86,
     "metadata": {},
     "output_type": "execute_result"
    }
   ],
   "source": [
    "loaded_vec[loaded_vec<0]=0\n",
    "loaded_vec"
   ]
  },
  {
   "cell_type": "code",
   "execution_count": 82,
   "metadata": {},
   "outputs": [
    {
     "ename": "TypeError",
     "evalue": "'int' object is not iterable",
     "output_type": "error",
     "traceback": [
      "\u001b[0;31m---------------------------------------------------------------------------\u001b[0m",
      "\u001b[0;31mTypeError\u001b[0m                                 Traceback (most recent call last)",
      "\u001b[0;32m<ipython-input-82-93266d48ef80>\u001b[0m in \u001b[0;36m<module>\u001b[0;34m\u001b[0m\n\u001b[0;32m----> 1\u001b[0;31m \u001b[0;32mfor\u001b[0m \u001b[0mi\u001b[0m \u001b[0;32min\u001b[0m \u001b[0mlen\u001b[0m\u001b[0;34m(\u001b[0m\u001b[0mloaded_vec\u001b[0m\u001b[0;34m)\u001b[0m\u001b[0;34m:\u001b[0m\u001b[0;34m\u001b[0m\u001b[0;34m\u001b[0m\u001b[0m\n\u001b[0m\u001b[1;32m      2\u001b[0m     \u001b[0;32mif\u001b[0m \u001b[0mloaded_vec\u001b[0m\u001b[0;34m[\u001b[0m\u001b[0mi\u001b[0m\u001b[0;34m]\u001b[0m\u001b[0;34m<\u001b[0m\u001b[0;36m0\u001b[0m\u001b[0;34m:\u001b[0m\u001b[0;34m\u001b[0m\u001b[0;34m\u001b[0m\u001b[0m\n\u001b[1;32m      3\u001b[0m         \u001b[0mloaded_vec\u001b[0m\u001b[0;34m[\u001b[0m\u001b[0mi\u001b[0m\u001b[0;34m]\u001b[0m\u001b[0;34m=\u001b[0m\u001b[0;36m0\u001b[0m\u001b[0;34m\u001b[0m\u001b[0;34m\u001b[0m\u001b[0m\n",
      "\u001b[0;31mTypeError\u001b[0m: 'int' object is not iterable"
     ]
    }
   ],
   "source": [
    "for i in len(loaded_vec):\n",
    "    if loaded_vec[i]<0:\n",
    "        loaded_vec[i]=0"
   ]
  },
  {
   "cell_type": "code",
   "execution_count": 83,
   "metadata": {},
   "outputs": [
    {
     "ename": "ValueError",
     "evalue": "The truth value of an array with more than one element is ambiguous. Use a.any() or a.all()",
     "output_type": "error",
     "traceback": [
      "\u001b[0;31m---------------------------------------------------------------------------\u001b[0m",
      "\u001b[0;31mValueError\u001b[0m                                Traceback (most recent call last)",
      "\u001b[0;32m<ipython-input-83-5c480ab3b055>\u001b[0m in \u001b[0;36m<module>\u001b[0;34m\u001b[0m\n\u001b[1;32m      1\u001b[0m \u001b[0;32mfor\u001b[0m \u001b[0mi\u001b[0m \u001b[0;32min\u001b[0m \u001b[0mrange\u001b[0m\u001b[0;34m(\u001b[0m\u001b[0;36m0\u001b[0m\u001b[0;34m,\u001b[0m\u001b[0mlen\u001b[0m\u001b[0;34m(\u001b[0m\u001b[0mloaded_vec\u001b[0m\u001b[0;34m)\u001b[0m\u001b[0;34m+\u001b[0m\u001b[0;36m1\u001b[0m\u001b[0;34m)\u001b[0m\u001b[0;34m:\u001b[0m\u001b[0;34m\u001b[0m\u001b[0;34m\u001b[0m\u001b[0m\n\u001b[0;32m----> 2\u001b[0;31m     \u001b[0;32mif\u001b[0m \u001b[0mloaded_vec\u001b[0m\u001b[0;34m[\u001b[0m\u001b[0mi\u001b[0m\u001b[0;34m]\u001b[0m\u001b[0;34m<\u001b[0m\u001b[0;36m0\u001b[0m\u001b[0;34m:\u001b[0m\u001b[0;34m\u001b[0m\u001b[0;34m\u001b[0m\u001b[0m\n\u001b[0m\u001b[1;32m      3\u001b[0m         \u001b[0mloaded_vec\u001b[0m\u001b[0;34m[\u001b[0m\u001b[0mi\u001b[0m\u001b[0;34m]\u001b[0m\u001b[0;34m=\u001b[0m\u001b[0;36m0\u001b[0m\u001b[0;34m\u001b[0m\u001b[0;34m\u001b[0m\u001b[0m\n",
      "\u001b[0;31mValueError\u001b[0m: The truth value of an array with more than one element is ambiguous. Use a.any() or a.all()"
     ]
    }
   ],
   "source": [
    "for i in range(0,len(loaded_vec)+1):\n",
    "    if loaded_vec[i]<0:\n",
    "        loaded_vec[i]=0"
   ]
  },
  {
   "cell_type": "code",
   "execution_count": 69,
   "metadata": {},
   "outputs": [
    {
     "data": {
      "text/plain": [
       "array([[-3.55702317,  2.12140359,  0.70379071,  0.73836319, -0.37078681],\n",
       "       [-0.47206693, -0.58162134,  0.9569869 , -0.49577682,  0.1022353 ],\n",
       "       [-0.16856326,  0.81201137,  0.77629135, -2.07010476, -0.30531091],\n",
       "       [ 0.07129996,  0.6248255 , -0.85902862, -1.8831032 ,  0.00388922],\n",
       "       [-0.09893375, -2.00467035, -0.0378239 ,  0.92710741,  0.10823116],\n",
       "       [ 0.1318712 ,  0.64830528, -0.31670936,  0.16661694, -1.45385978],\n",
       "       [ 0.42632643,  0.44154802,  0.61334278, -0.9025564 ,  0.23036323],\n",
       "       [ 0.1217577 , -0.7056504 ,  0.62577094,  0.74957902, -0.11499762],\n",
       "       [ 0.78418689, -1.62882116,  0.90893389, -1.66416216,  1.25697547],\n",
       "       [-1.24687363,  0.48292205,  0.37585276,  0.18455466,  0.21320537]])"
      ]
     },
     "execution_count": 69,
     "metadata": {},
     "output_type": "execute_result"
    }
   ],
   "source": [
    "loaded_vec"
   ]
  },
  {
   "cell_type": "code",
   "execution_count": 71,
   "metadata": {},
   "outputs": [],
   "source": [
    "data = {'prodID': ['101', '102', '103', '104', '104'], 'prodname': ['X', 'Y', 'Z', 'X', 'W'], 'profit': ['2738', '2727', '3497', '7347', '3743']}\n",
    "\n",
    "df = pd.DataFrame(data, index=['one','two','three','four','five'])"
   ]
  },
  {
   "cell_type": "code",
   "execution_count": 72,
   "metadata": {},
   "outputs": [
    {
     "name": "stdout",
     "output_type": "stream",
     "text": [
      "X\n"
     ]
    }
   ],
   "source": [
    "print(df.loc['four','prodname'])"
   ]
  },
  {
   "cell_type": "code",
   "execution_count": 73,
   "metadata": {},
   "outputs": [
    {
     "name": "stdout",
     "output_type": "stream",
     "text": [
      "X\n"
     ]
    }
   ],
   "source": [
    "print(df['prodname'][3])"
   ]
  },
  {
   "cell_type": "code",
   "execution_count": 75,
   "metadata": {},
   "outputs": [
    {
     "name": "stdout",
     "output_type": "stream",
     "text": [
      "X\n"
     ]
    }
   ],
   "source": [
    "print(df.iloc[3,1])"
   ]
  },
  {
   "cell_type": "code",
   "execution_count": 76,
   "metadata": {},
   "outputs": [],
   "source": [
    "import numpy as RANGE"
   ]
  },
  {
   "cell_type": "code",
   "execution_count": 77,
   "metadata": {},
   "outputs": [
    {
     "data": {
      "text/plain": [
       "array([-0.8, -0.6, -0.4, -0.2])"
      ]
     },
     "execution_count": 77,
     "metadata": {},
     "output_type": "execute_result"
    }
   ],
   "source": [
    "RANGE.arange(-0.8,0,0.2)"
   ]
  },
  {
   "cell_type": "code",
   "execution_count": 80,
   "metadata": {},
   "outputs": [
    {
     "name": "stdout",
     "output_type": "stream",
     "text": [
      "140696476025472\n",
      "140696476025472\n",
      "Same Location\n"
     ]
    }
   ],
   "source": [
    "import pandas as pd\n",
    "df1 = pd.DataFrame([1,2,3,4,5])\n",
    "df2 = df1\n",
    "A=id(df1)\n",
    "B=id(df2)\n",
    "print(A)\n",
    "print(B)\n",
    "if A==B:\n",
    "       print(\"Same Location\")\n",
    "else:\n",
    "    print(\"Different location\")"
   ]
  },
  {
   "cell_type": "code",
   "execution_count": null,
   "metadata": {},
   "outputs": [],
   "source": []
  }
 ],
 "metadata": {
  "kernelspec": {
   "display_name": "Python 3",
   "language": "python",
   "name": "python3"
  },
  "language_info": {
   "codemirror_mode": {
    "name": "ipython",
    "version": 3
   },
   "file_extension": ".py",
   "mimetype": "text/x-python",
   "name": "python",
   "nbconvert_exporter": "python",
   "pygments_lexer": "ipython3",
   "version": "3.8.8"
  }
 },
 "nbformat": 4,
 "nbformat_minor": 2
}
