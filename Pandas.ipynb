{
 "cells": [
  {
   "cell_type": "markdown",
   "id": "6bc0935b",
   "metadata": {},
   "source": [
    "# Pandas\n",
    "Same as excel Spreadsheet\n",
    "One individual column is series\n",
    "Dataframe is like excel spreadsheet\n"
   ]
  },
  {
   "cell_type": "code",
   "execution_count": 2,
   "id": "892e2420",
   "metadata": {},
   "outputs": [],
   "source": [
    "import pandas as pd\n",
    "import numpy as np"
   ]
  },
  {
   "cell_type": "code",
   "execution_count": 3,
   "id": "cce009eb",
   "metadata": {},
   "outputs": [],
   "source": [
    "mylist=[5.4,6.1,1.7,99.8]\n",
    "myarray=np.array(mylist)"
   ]
  },
  {
   "cell_type": "code",
   "execution_count": 4,
   "id": "86f42b90",
   "metadata": {},
   "outputs": [
    {
     "name": "stdout",
     "output_type": "stream",
     "text": [
      "0     5.4\n",
      "1     6.1\n",
      "2     1.7\n",
      "3    99.8\n",
      "dtype: float64\n",
      "0     5.4\n",
      "1     6.1\n",
      "2     1.7\n",
      "3    99.8\n",
      "dtype: float64\n"
     ]
    }
   ],
   "source": [
    "#convert list and np array in series\n",
    "myseries1=pd.Series(data=mylist)\n",
    "print(myseries1)\n",
    "myseries2=pd.Series(data=myarray)\n",
    "print(myseries2)"
   ]
  },
  {
   "cell_type": "code",
   "execution_count": 5,
   "id": "215f49c1",
   "metadata": {},
   "outputs": [
    {
     "name": "stdout",
     "output_type": "stream",
     "text": [
      "1.7\n"
     ]
    }
   ],
   "source": [
    "#print own individual items \n",
    "print(myseries1[2])"
   ]
  },
  {
   "cell_type": "code",
   "execution_count": null,
   "id": "5d076cf3",
   "metadata": {},
   "outputs": [],
   "source": []
  }
 ],
 "metadata": {
  "kernelspec": {
   "display_name": "Python 3",
   "language": "python",
   "name": "python3"
  },
  "language_info": {
   "codemirror_mode": {
    "name": "ipython",
    "version": 3
   },
   "file_extension": ".py",
   "mimetype": "text/x-python",
   "name": "python",
   "nbconvert_exporter": "python",
   "pygments_lexer": "ipython3",
   "version": "3.8.8"
  }
 },
 "nbformat": 4,
 "nbformat_minor": 5
}
