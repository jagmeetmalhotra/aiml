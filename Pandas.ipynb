{
 "cells": [
  {
   "cell_type": "markdown",
   "id": "6bc0935b",
   "metadata": {},
   "source": [
    "# Pandas\n",
    "Same as excel Spreadsheet\n",
    "One individual column is series\n",
    "Dataframe is like excel spreadsheet\n"
   ]
  },
  {
   "cell_type": "code",
   "execution_count": 1,
   "id": "892e2420",
   "metadata": {},
   "outputs": [],
   "source": [
    "import pandas as pd\n",
    "import numpy as np"
   ]
  },
  {
   "cell_type": "code",
   "execution_count": 2,
   "id": "cce009eb",
   "metadata": {},
   "outputs": [],
   "source": [
    "mylist=[5.4,6.1,1.7,99.8]\n",
    "myarray=np.array(mylist)"
   ]
  },
  {
   "cell_type": "code",
   "execution_count": 3,
   "id": "86f42b90",
   "metadata": {},
   "outputs": [
    {
     "name": "stdout",
     "output_type": "stream",
     "text": [
      "0     5.4\n",
      "1     6.1\n",
      "2     1.7\n",
      "3    99.8\n",
      "dtype: float64\n",
      "0     5.4\n",
      "1     6.1\n",
      "2     1.7\n",
      "3    99.8\n",
      "dtype: float64\n"
     ]
    }
   ],
   "source": [
    "#convert list and np array in series\n",
    "myseries1=pd.Series(data=mylist)\n",
    "print(myseries1)\n",
    "myseries2=pd.Series(data=myarray)\n",
    "print(myseries2)"
   ]
  },
  {
   "cell_type": "code",
   "execution_count": 4,
   "id": "215f49c1",
   "metadata": {},
   "outputs": [
    {
     "name": "stdout",
     "output_type": "stream",
     "text": [
      "1.7\n"
     ]
    }
   ],
   "source": [
    "#print own individual items \n",
    "print(myseries1[2])"
   ]
  },
  {
   "cell_type": "code",
   "execution_count": 6,
   "id": "5d076cf3",
   "metadata": {},
   "outputs": [
    {
     "name": "stdout",
     "output_type": "stream",
     "text": [
      "first      5.4\n",
      "second     6.1\n",
      "third      1.7\n",
      "fourth    99.8\n",
      "dtype: float64\n"
     ]
    }
   ],
   "source": [
    "# we can add labels to the entries in the series \n",
    "mylabels=['first','second','third','fourth']\n",
    "myseries3 = pd.Series(data=mylist, index=mylabels)\n",
    "print(myseries3)"
   ]
  },
  {
   "cell_type": "code",
   "execution_count": 7,
   "id": "8816ee70",
   "metadata": {},
   "outputs": [
    {
     "name": "stdout",
     "output_type": "stream",
     "text": [
      "first      5.4\n",
      "second     6.1\n",
      "third      1.7\n",
      "fourth    99.8\n",
      "dtype: float64\n"
     ]
    }
   ],
   "source": [
    "# we need not be explicity about entries of pd.Series\n",
    "myseries4 = pd.Series(mylist, mylabels)\n",
    "print(myseries4)"
   ]
  },
  {
   "cell_type": "code",
   "execution_count": 8,
   "id": "17919628",
   "metadata": {},
   "outputs": [
    {
     "name": "stdout",
     "output_type": "stream",
     "text": [
      "6.1\n"
     ]
    }
   ],
   "source": [
    "#access enties at a particular index location\n",
    "print(myseries4['second'])"
   ]
  },
  {
   "cell_type": "code",
   "execution_count": 9,
   "id": "9cc1f612",
   "metadata": {},
   "outputs": [
    {
     "name": "stdout",
     "output_type": "stream",
     "text": [
      "first     5.5\n",
      "third     1.1\n",
      "fourth    1.8\n",
      "fifth     1.6\n",
      "dtype: float64\n",
      "\n",
      "fifth       NaN\n",
      "first      10.9\n",
      "fourth    101.6\n",
      "second      NaN\n",
      "third       2.8\n",
      "dtype: float64\n"
     ]
    }
   ],
   "source": [
    "myseries5=pd.Series([5.5,1.1,1.8,1.6],['first','third','fourth','fifth'])\n",
    "print(myseries5)\n",
    "print('')\n",
    "print(myseries5+myseries4)"
   ]
  },
  {
   "cell_type": "code",
   "execution_count": 10,
   "id": "0098f49d",
   "metadata": {},
   "outputs": [],
   "source": [
    "#concatenate two series "
   ]
  },
  {
   "cell_type": "code",
   "execution_count": 12,
   "id": "4191de19",
   "metadata": {},
   "outputs": [
    {
     "data": {
      "text/html": [
       "<div>\n",
       "<style scoped>\n",
       "    .dataframe tbody tr th:only-of-type {\n",
       "        vertical-align: middle;\n",
       "    }\n",
       "\n",
       "    .dataframe tbody tr th {\n",
       "        vertical-align: top;\n",
       "    }\n",
       "\n",
       "    .dataframe thead th {\n",
       "        text-align: right;\n",
       "    }\n",
       "</style>\n",
       "<table border=\"1\" class=\"dataframe\">\n",
       "  <thead>\n",
       "    <tr style=\"text-align: right;\">\n",
       "      <th></th>\n",
       "      <th>0</th>\n",
       "      <th>1</th>\n",
       "    </tr>\n",
       "  </thead>\n",
       "  <tbody>\n",
       "    <tr>\n",
       "      <th>first</th>\n",
       "      <td>5.4</td>\n",
       "      <td>5.5</td>\n",
       "    </tr>\n",
       "    <tr>\n",
       "      <th>second</th>\n",
       "      <td>6.1</td>\n",
       "      <td>NaN</td>\n",
       "    </tr>\n",
       "    <tr>\n",
       "      <th>third</th>\n",
       "      <td>1.7</td>\n",
       "      <td>1.1</td>\n",
       "    </tr>\n",
       "    <tr>\n",
       "      <th>fourth</th>\n",
       "      <td>99.8</td>\n",
       "      <td>1.8</td>\n",
       "    </tr>\n",
       "    <tr>\n",
       "      <th>fifth</th>\n",
       "      <td>NaN</td>\n",
       "      <td>1.6</td>\n",
       "    </tr>\n",
       "  </tbody>\n",
       "</table>\n",
       "</div>"
      ],
      "text/plain": [
       "           0    1\n",
       "first    5.4  5.5\n",
       "second   6.1  NaN\n",
       "third    1.7  1.1\n",
       "fourth  99.8  1.8\n",
       "fifth    NaN  1.6"
      ]
     },
     "execution_count": 12,
     "metadata": {},
     "output_type": "execute_result"
    }
   ],
   "source": [
    "df1=pd.concat([myseries4,myseries5],axis=1,sort=False) # axis 0 is row concat, 1 column concat\n",
    "df1"
   ]
  },
  {
   "cell_type": "code",
   "execution_count": 13,
   "id": "1544493d",
   "metadata": {},
   "outputs": [
    {
     "data": {
      "text/plain": [
       "first      5.4\n",
       "second     6.1\n",
       "third      1.7\n",
       "fourth    99.8\n",
       "first      5.5\n",
       "third      1.1\n",
       "fourth     1.8\n",
       "fifth      1.6\n",
       "dtype: float64"
      ]
     },
     "execution_count": 13,
     "metadata": {},
     "output_type": "execute_result"
    }
   ],
   "source": [
    "df1=pd.concat([myseries4,myseries5],axis=0,sort=False) # axis 0 is row concat, 1 column concat\n",
    "df1"
   ]
  },
  {
   "cell_type": "code",
   "execution_count": 25,
   "id": "b7ee0cdb",
   "metadata": {},
   "outputs": [
    {
     "data": {
      "text/html": [
       "<div>\n",
       "<style scoped>\n",
       "    .dataframe tbody tr th:only-of-type {\n",
       "        vertical-align: middle;\n",
       "    }\n",
       "\n",
       "    .dataframe tbody tr th {\n",
       "        vertical-align: top;\n",
       "    }\n",
       "\n",
       "    .dataframe thead th {\n",
       "        text-align: right;\n",
       "    }\n",
       "</style>\n",
       "<table border=\"1\" class=\"dataframe\">\n",
       "  <thead>\n",
       "    <tr style=\"text-align: right;\">\n",
       "      <th></th>\n",
       "      <th>0</th>\n",
       "      <th>1</th>\n",
       "      <th>2</th>\n",
       "      <th>3</th>\n",
       "      <th>4</th>\n",
       "    </tr>\n",
       "  </thead>\n",
       "  <tbody>\n",
       "    <tr>\n",
       "      <th>0</th>\n",
       "      <td>0.415025</td>\n",
       "      <td>0.348445</td>\n",
       "      <td>-0.219402</td>\n",
       "      <td>0.012729</td>\n",
       "      <td>-0.639470</td>\n",
       "    </tr>\n",
       "    <tr>\n",
       "      <th>1</th>\n",
       "      <td>-0.909467</td>\n",
       "      <td>-0.436826</td>\n",
       "      <td>1.892386</td>\n",
       "      <td>1.311527</td>\n",
       "      <td>0.080170</td>\n",
       "    </tr>\n",
       "    <tr>\n",
       "      <th>2</th>\n",
       "      <td>-0.484513</td>\n",
       "      <td>-1.414736</td>\n",
       "      <td>-0.327050</td>\n",
       "      <td>0.852031</td>\n",
       "      <td>-0.351033</td>\n",
       "    </tr>\n",
       "    <tr>\n",
       "      <th>3</th>\n",
       "      <td>-1.590225</td>\n",
       "      <td>-0.121706</td>\n",
       "      <td>-0.222405</td>\n",
       "      <td>0.443465</td>\n",
       "      <td>1.011950</td>\n",
       "    </tr>\n",
       "    <tr>\n",
       "      <th>4</th>\n",
       "      <td>-0.647810</td>\n",
       "      <td>-0.396453</td>\n",
       "      <td>-0.215646</td>\n",
       "      <td>-1.297188</td>\n",
       "      <td>0.766725</td>\n",
       "    </tr>\n",
       "  </tbody>\n",
       "</table>\n",
       "</div>"
      ],
      "text/plain": [
       "          0         1         2         3         4\n",
       "0  0.415025  0.348445 -0.219402  0.012729 -0.639470\n",
       "1 -0.909467 -0.436826  1.892386  1.311527  0.080170\n",
       "2 -0.484513 -1.414736 -0.327050  0.852031 -0.351033\n",
       "3 -1.590225 -0.121706 -0.222405  0.443465  1.011950\n",
       "4 -0.647810 -0.396453 -0.215646 -1.297188  0.766725"
      ]
     },
     "execution_count": 25,
     "metadata": {},
     "output_type": "execute_result"
    }
   ],
   "source": [
    "#create a new dataframe\n",
    "df2=pd.DataFrame(np.random.randn(5,5))\n",
    "df2"
   ]
  },
  {
   "cell_type": "code",
   "execution_count": 26,
   "id": "92d7496d",
   "metadata": {},
   "outputs": [
    {
     "data": {
      "text/html": [
       "<div>\n",
       "<style scoped>\n",
       "    .dataframe tbody tr th:only-of-type {\n",
       "        vertical-align: middle;\n",
       "    }\n",
       "\n",
       "    .dataframe tbody tr th {\n",
       "        vertical-align: top;\n",
       "    }\n",
       "\n",
       "    .dataframe thead th {\n",
       "        text-align: right;\n",
       "    }\n",
       "</style>\n",
       "<table border=\"1\" class=\"dataframe\">\n",
       "  <thead>\n",
       "    <tr style=\"text-align: right;\">\n",
       "      <th></th>\n",
       "      <th>1st col</th>\n",
       "      <th>2nd col</th>\n",
       "      <th>3rd col</th>\n",
       "      <th>4th col</th>\n",
       "      <th>5th col</th>\n",
       "    </tr>\n",
       "  </thead>\n",
       "  <tbody>\n",
       "    <tr>\n",
       "      <th>1st row</th>\n",
       "      <td>0.350556</td>\n",
       "      <td>-1.504685</td>\n",
       "      <td>0.689255</td>\n",
       "      <td>0.492378</td>\n",
       "      <td>2.245821</td>\n",
       "    </tr>\n",
       "    <tr>\n",
       "      <th>2nd row</th>\n",
       "      <td>0.272125</td>\n",
       "      <td>-0.783298</td>\n",
       "      <td>-0.657994</td>\n",
       "      <td>-0.134819</td>\n",
       "      <td>0.103181</td>\n",
       "    </tr>\n",
       "    <tr>\n",
       "      <th>3rd row</th>\n",
       "      <td>0.363253</td>\n",
       "      <td>-1.224783</td>\n",
       "      <td>0.430183</td>\n",
       "      <td>-1.947706</td>\n",
       "      <td>0.105462</td>\n",
       "    </tr>\n",
       "    <tr>\n",
       "      <th>4th row</th>\n",
       "      <td>0.892515</td>\n",
       "      <td>0.924074</td>\n",
       "      <td>-0.808555</td>\n",
       "      <td>-1.218231</td>\n",
       "      <td>0.133485</td>\n",
       "    </tr>\n",
       "    <tr>\n",
       "      <th>5th row</th>\n",
       "      <td>-0.215506</td>\n",
       "      <td>0.096828</td>\n",
       "      <td>-0.311196</td>\n",
       "      <td>-0.412519</td>\n",
       "      <td>0.015759</td>\n",
       "    </tr>\n",
       "  </tbody>\n",
       "</table>\n",
       "</div>"
      ],
      "text/plain": [
       "          1st col   2nd col   3rd col   4th col   5th col\n",
       "1st row  0.350556 -1.504685  0.689255  0.492378  2.245821\n",
       "2nd row  0.272125 -0.783298 -0.657994 -0.134819  0.103181\n",
       "3rd row  0.363253 -1.224783  0.430183 -1.947706  0.105462\n",
       "4th row  0.892515  0.924074 -0.808555 -1.218231  0.133485\n",
       "5th row -0.215506  0.096828 -0.311196 -0.412519  0.015759"
      ]
     },
     "execution_count": 26,
     "metadata": {},
     "output_type": "execute_result"
    }
   ],
   "source": [
    "df3=pd.DataFrame(np.random.randn(5,5),index=['1st row','2nd row','3rd row','4th row','5th row'], \n",
    "                 columns=['1st col','2nd col','3rd col','4th col','5th col'])\n",
    "df3"
   ]
  },
  {
   "cell_type": "code",
   "execution_count": 27,
   "id": "60d35e2b",
   "metadata": {},
   "outputs": [
    {
     "name": "stdout",
     "output_type": "stream",
     "text": [
      "1st row   -1.504685\n",
      "2nd row   -0.783298\n",
      "3rd row   -1.224783\n",
      "4th row    0.924074\n",
      "5th row    0.096828\n",
      "Name: 2nd col, dtype: float64\n"
     ]
    }
   ],
   "source": [
    "#in Pandas the first value alone in column and not rows\n",
    "print(df3['2nd col'])"
   ]
  },
  {
   "cell_type": "code",
   "execution_count": 32,
   "id": "9378cc7f",
   "metadata": {},
   "outputs": [
    {
     "name": "stdout",
     "output_type": "stream",
     "text": [
      "          2nd col   3rd col\n",
      "1st row -1.504685  0.689255\n",
      "2nd row -0.783298 -0.657994\n",
      "3rd row -1.224783  0.430183\n",
      "4th row  0.924074 -0.808555\n",
      "5th row  0.096828 -0.311196\n"
     ]
    }
   ],
   "source": [
    "print(df3[['2nd col','3rd col']])"
   ]
  },
  {
   "cell_type": "code",
   "execution_count": 35,
   "id": "fcb37bd5",
   "metadata": {},
   "outputs": [
    {
     "name": "stdout",
     "output_type": "stream",
     "text": [
      "1st col    0.272125\n",
      "2nd col   -0.783298\n",
      "3rd col   -0.657994\n",
      "4th col   -0.134819\n",
      "5th col    0.103181\n",
      "Name: 2nd row, dtype: float64\n"
     ]
    }
   ],
   "source": [
    "#loc for accessing the rows in the dataframe\n",
    "print(df3.loc['2nd row'])"
   ]
  },
  {
   "cell_type": "code",
   "execution_count": 36,
   "id": "2152dbf2",
   "metadata": {},
   "outputs": [
    {
     "name": "stdout",
     "output_type": "stream",
     "text": [
      "1st col    0.363253\n",
      "2nd col   -1.224783\n",
      "3rd col    0.430183\n",
      "4th col   -1.947706\n",
      "5th col    0.105462\n",
      "Name: 3rd row, dtype: float64\n"
     ]
    }
   ],
   "source": [
    "#iloc index location , even though re-labeled it exist\n",
    "print(df3.iloc[2])"
   ]
  },
  {
   "cell_type": "code",
   "execution_count": 37,
   "id": "c0b235c2",
   "metadata": {},
   "outputs": [
    {
     "data": {
      "text/html": [
       "<div>\n",
       "<style scoped>\n",
       "    .dataframe tbody tr th:only-of-type {\n",
       "        vertical-align: middle;\n",
       "    }\n",
       "\n",
       "    .dataframe tbody tr th {\n",
       "        vertical-align: top;\n",
       "    }\n",
       "\n",
       "    .dataframe thead th {\n",
       "        text-align: right;\n",
       "    }\n",
       "</style>\n",
       "<table border=\"1\" class=\"dataframe\">\n",
       "  <thead>\n",
       "    <tr style=\"text-align: right;\">\n",
       "      <th></th>\n",
       "      <th>2nd col</th>\n",
       "      <th>3rd col</th>\n",
       "    </tr>\n",
       "  </thead>\n",
       "  <tbody>\n",
       "    <tr>\n",
       "      <th>4th row</th>\n",
       "      <td>0.924074</td>\n",
       "      <td>-0.808555</td>\n",
       "    </tr>\n",
       "    <tr>\n",
       "      <th>1st row</th>\n",
       "      <td>-1.504685</td>\n",
       "      <td>0.689255</td>\n",
       "    </tr>\n",
       "  </tbody>\n",
       "</table>\n",
       "</div>"
      ],
      "text/plain": [
       "          2nd col   3rd col\n",
       "4th row  0.924074 -0.808555\n",
       "1st row -1.504685  0.689255"
      ]
     },
     "execution_count": 37,
     "metadata": {},
     "output_type": "execute_result"
    }
   ],
   "source": [
    "df3.loc[['4th row','1st row'],['2nd col','3rd col']]"
   ]
  },
  {
   "cell_type": "code",
   "execution_count": 38,
   "id": "e4439db6",
   "metadata": {},
   "outputs": [
    {
     "data": {
      "text/html": [
       "<div>\n",
       "<style scoped>\n",
       "    .dataframe tbody tr th:only-of-type {\n",
       "        vertical-align: middle;\n",
       "    }\n",
       "\n",
       "    .dataframe tbody tr th {\n",
       "        vertical-align: top;\n",
       "    }\n",
       "\n",
       "    .dataframe thead th {\n",
       "        text-align: right;\n",
       "    }\n",
       "</style>\n",
       "<table border=\"1\" class=\"dataframe\">\n",
       "  <thead>\n",
       "    <tr style=\"text-align: right;\">\n",
       "      <th></th>\n",
       "      <th>1st col</th>\n",
       "      <th>2nd col</th>\n",
       "      <th>3rd col</th>\n",
       "      <th>4th col</th>\n",
       "      <th>5th col</th>\n",
       "    </tr>\n",
       "  </thead>\n",
       "  <tbody>\n",
       "    <tr>\n",
       "      <th>1st row</th>\n",
       "      <td>True</td>\n",
       "      <td>False</td>\n",
       "      <td>True</td>\n",
       "      <td>True</td>\n",
       "      <td>True</td>\n",
       "    </tr>\n",
       "    <tr>\n",
       "      <th>2nd row</th>\n",
       "      <td>True</td>\n",
       "      <td>False</td>\n",
       "      <td>False</td>\n",
       "      <td>False</td>\n",
       "      <td>True</td>\n",
       "    </tr>\n",
       "    <tr>\n",
       "      <th>3rd row</th>\n",
       "      <td>True</td>\n",
       "      <td>False</td>\n",
       "      <td>True</td>\n",
       "      <td>False</td>\n",
       "      <td>True</td>\n",
       "    </tr>\n",
       "    <tr>\n",
       "      <th>4th row</th>\n",
       "      <td>True</td>\n",
       "      <td>True</td>\n",
       "      <td>False</td>\n",
       "      <td>False</td>\n",
       "      <td>True</td>\n",
       "    </tr>\n",
       "    <tr>\n",
       "      <th>5th row</th>\n",
       "      <td>False</td>\n",
       "      <td>True</td>\n",
       "      <td>False</td>\n",
       "      <td>False</td>\n",
       "      <td>True</td>\n",
       "    </tr>\n",
       "  </tbody>\n",
       "</table>\n",
       "</div>"
      ],
      "text/plain": [
       "         1st col  2nd col  3rd col  4th col  5th col\n",
       "1st row     True    False     True     True     True\n",
       "2nd row     True    False    False    False     True\n",
       "3rd row     True    False     True    False     True\n",
       "4th row     True     True    False    False     True\n",
       "5th row    False     True    False    False     True"
      ]
     },
     "execution_count": 38,
     "metadata": {},
     "output_type": "execute_result"
    }
   ],
   "source": [
    "#logical indexing\n",
    "df3>0"
   ]
  },
  {
   "cell_type": "code",
   "execution_count": 40,
   "id": "48463d3a",
   "metadata": {},
   "outputs": [
    {
     "name": "stdout",
     "output_type": "stream",
     "text": [
      "          1st col   2nd col   3rd col   4th col   5th col\n",
      "1st row  0.350556       NaN  0.689255  0.492378  2.245821\n",
      "2nd row  0.272125       NaN       NaN       NaN  0.103181\n",
      "3rd row  0.363253       NaN  0.430183       NaN  0.105462\n",
      "4th row  0.892515  0.924074       NaN       NaN  0.133485\n",
      "5th row       NaN  0.096828       NaN       NaN  0.015759\n"
     ]
    }
   ],
   "source": [
    "print(df3[df3>0])"
   ]
  },
  {
   "cell_type": "code",
   "execution_count": 41,
   "id": "064cc920",
   "metadata": {},
   "outputs": [],
   "source": [
    "df3['6th col']=np.random.randn(5,1)"
   ]
  },
  {
   "cell_type": "code",
   "execution_count": 42,
   "id": "a7cf59aa",
   "metadata": {},
   "outputs": [
    {
     "data": {
      "text/html": [
       "<div>\n",
       "<style scoped>\n",
       "    .dataframe tbody tr th:only-of-type {\n",
       "        vertical-align: middle;\n",
       "    }\n",
       "\n",
       "    .dataframe tbody tr th {\n",
       "        vertical-align: top;\n",
       "    }\n",
       "\n",
       "    .dataframe thead th {\n",
       "        text-align: right;\n",
       "    }\n",
       "</style>\n",
       "<table border=\"1\" class=\"dataframe\">\n",
       "  <thead>\n",
       "    <tr style=\"text-align: right;\">\n",
       "      <th></th>\n",
       "      <th>1st col</th>\n",
       "      <th>2nd col</th>\n",
       "      <th>3rd col</th>\n",
       "      <th>4th col</th>\n",
       "      <th>5th col</th>\n",
       "      <th>6th col</th>\n",
       "    </tr>\n",
       "  </thead>\n",
       "  <tbody>\n",
       "    <tr>\n",
       "      <th>1st row</th>\n",
       "      <td>0.350556</td>\n",
       "      <td>-1.504685</td>\n",
       "      <td>0.689255</td>\n",
       "      <td>0.492378</td>\n",
       "      <td>2.245821</td>\n",
       "      <td>-1.436546</td>\n",
       "    </tr>\n",
       "    <tr>\n",
       "      <th>2nd row</th>\n",
       "      <td>0.272125</td>\n",
       "      <td>-0.783298</td>\n",
       "      <td>-0.657994</td>\n",
       "      <td>-0.134819</td>\n",
       "      <td>0.103181</td>\n",
       "      <td>-0.185790</td>\n",
       "    </tr>\n",
       "    <tr>\n",
       "      <th>3rd row</th>\n",
       "      <td>0.363253</td>\n",
       "      <td>-1.224783</td>\n",
       "      <td>0.430183</td>\n",
       "      <td>-1.947706</td>\n",
       "      <td>0.105462</td>\n",
       "      <td>-1.082623</td>\n",
       "    </tr>\n",
       "    <tr>\n",
       "      <th>4th row</th>\n",
       "      <td>0.892515</td>\n",
       "      <td>0.924074</td>\n",
       "      <td>-0.808555</td>\n",
       "      <td>-1.218231</td>\n",
       "      <td>0.133485</td>\n",
       "      <td>0.013307</td>\n",
       "    </tr>\n",
       "    <tr>\n",
       "      <th>5th row</th>\n",
       "      <td>-0.215506</td>\n",
       "      <td>0.096828</td>\n",
       "      <td>-0.311196</td>\n",
       "      <td>-0.412519</td>\n",
       "      <td>0.015759</td>\n",
       "      <td>0.706538</td>\n",
       "    </tr>\n",
       "  </tbody>\n",
       "</table>\n",
       "</div>"
      ],
      "text/plain": [
       "          1st col   2nd col   3rd col   4th col   5th col   6th col\n",
       "1st row  0.350556 -1.504685  0.689255  0.492378  2.245821 -1.436546\n",
       "2nd row  0.272125 -0.783298 -0.657994 -0.134819  0.103181 -0.185790\n",
       "3rd row  0.363253 -1.224783  0.430183 -1.947706  0.105462 -1.082623\n",
       "4th row  0.892515  0.924074 -0.808555 -1.218231  0.133485  0.013307\n",
       "5th row -0.215506  0.096828 -0.311196 -0.412519  0.015759  0.706538"
      ]
     },
     "execution_count": 42,
     "metadata": {},
     "output_type": "execute_result"
    }
   ],
   "source": [
    "df3"
   ]
  },
  {
   "cell_type": "code",
   "execution_count": 43,
   "id": "ee5f72cc",
   "metadata": {},
   "outputs": [
    {
     "data": {
      "text/html": [
       "<div>\n",
       "<style scoped>\n",
       "    .dataframe tbody tr th:only-of-type {\n",
       "        vertical-align: middle;\n",
       "    }\n",
       "\n",
       "    .dataframe tbody tr th {\n",
       "        vertical-align: top;\n",
       "    }\n",
       "\n",
       "    .dataframe thead th {\n",
       "        text-align: right;\n",
       "    }\n",
       "</style>\n",
       "<table border=\"1\" class=\"dataframe\">\n",
       "  <thead>\n",
       "    <tr style=\"text-align: right;\">\n",
       "      <th></th>\n",
       "      <th>2nd col</th>\n",
       "      <th>3rd col</th>\n",
       "      <th>4th col</th>\n",
       "      <th>5th col</th>\n",
       "      <th>6th col</th>\n",
       "    </tr>\n",
       "  </thead>\n",
       "  <tbody>\n",
       "    <tr>\n",
       "      <th>1st row</th>\n",
       "      <td>-1.504685</td>\n",
       "      <td>0.689255</td>\n",
       "      <td>0.492378</td>\n",
       "      <td>2.245821</td>\n",
       "      <td>-1.436546</td>\n",
       "    </tr>\n",
       "    <tr>\n",
       "      <th>2nd row</th>\n",
       "      <td>-0.783298</td>\n",
       "      <td>-0.657994</td>\n",
       "      <td>-0.134819</td>\n",
       "      <td>0.103181</td>\n",
       "      <td>-0.185790</td>\n",
       "    </tr>\n",
       "    <tr>\n",
       "      <th>3rd row</th>\n",
       "      <td>-1.224783</td>\n",
       "      <td>0.430183</td>\n",
       "      <td>-1.947706</td>\n",
       "      <td>0.105462</td>\n",
       "      <td>-1.082623</td>\n",
       "    </tr>\n",
       "    <tr>\n",
       "      <th>4th row</th>\n",
       "      <td>0.924074</td>\n",
       "      <td>-0.808555</td>\n",
       "      <td>-1.218231</td>\n",
       "      <td>0.133485</td>\n",
       "      <td>0.013307</td>\n",
       "    </tr>\n",
       "    <tr>\n",
       "      <th>5th row</th>\n",
       "      <td>0.096828</td>\n",
       "      <td>-0.311196</td>\n",
       "      <td>-0.412519</td>\n",
       "      <td>0.015759</td>\n",
       "      <td>0.706538</td>\n",
       "    </tr>\n",
       "  </tbody>\n",
       "</table>\n",
       "</div>"
      ],
      "text/plain": [
       "          2nd col   3rd col   4th col   5th col   6th col\n",
       "1st row -1.504685  0.689255  0.492378  2.245821 -1.436546\n",
       "2nd row -0.783298 -0.657994 -0.134819  0.103181 -0.185790\n",
       "3rd row -1.224783  0.430183 -1.947706  0.105462 -1.082623\n",
       "4th row  0.924074 -0.808555 -1.218231  0.133485  0.013307\n",
       "5th row  0.096828 -0.311196 -0.412519  0.015759  0.706538"
      ]
     },
     "execution_count": 43,
     "metadata": {},
     "output_type": "execute_result"
    }
   ],
   "source": [
    "#drop column from dataframe\n",
    "df3.drop('1st col',axis=1)"
   ]
  },
  {
   "cell_type": "code",
   "execution_count": 44,
   "id": "e334746d",
   "metadata": {},
   "outputs": [
    {
     "data": {
      "text/html": [
       "<div>\n",
       "<style scoped>\n",
       "    .dataframe tbody tr th:only-of-type {\n",
       "        vertical-align: middle;\n",
       "    }\n",
       "\n",
       "    .dataframe tbody tr th {\n",
       "        vertical-align: top;\n",
       "    }\n",
       "\n",
       "    .dataframe thead th {\n",
       "        text-align: right;\n",
       "    }\n",
       "</style>\n",
       "<table border=\"1\" class=\"dataframe\">\n",
       "  <thead>\n",
       "    <tr style=\"text-align: right;\">\n",
       "      <th></th>\n",
       "      <th>1st col</th>\n",
       "      <th>2nd col</th>\n",
       "      <th>3rd col</th>\n",
       "      <th>4th col</th>\n",
       "      <th>5th col</th>\n",
       "      <th>6th col</th>\n",
       "    </tr>\n",
       "  </thead>\n",
       "  <tbody>\n",
       "    <tr>\n",
       "      <th>1st row</th>\n",
       "      <td>0.350556</td>\n",
       "      <td>-1.504685</td>\n",
       "      <td>0.689255</td>\n",
       "      <td>0.492378</td>\n",
       "      <td>2.245821</td>\n",
       "      <td>-1.436546</td>\n",
       "    </tr>\n",
       "    <tr>\n",
       "      <th>2nd row</th>\n",
       "      <td>0.272125</td>\n",
       "      <td>-0.783298</td>\n",
       "      <td>-0.657994</td>\n",
       "      <td>-0.134819</td>\n",
       "      <td>0.103181</td>\n",
       "      <td>-0.185790</td>\n",
       "    </tr>\n",
       "    <tr>\n",
       "      <th>3rd row</th>\n",
       "      <td>0.363253</td>\n",
       "      <td>-1.224783</td>\n",
       "      <td>0.430183</td>\n",
       "      <td>-1.947706</td>\n",
       "      <td>0.105462</td>\n",
       "      <td>-1.082623</td>\n",
       "    </tr>\n",
       "    <tr>\n",
       "      <th>4th row</th>\n",
       "      <td>0.892515</td>\n",
       "      <td>0.924074</td>\n",
       "      <td>-0.808555</td>\n",
       "      <td>-1.218231</td>\n",
       "      <td>0.133485</td>\n",
       "      <td>0.013307</td>\n",
       "    </tr>\n",
       "    <tr>\n",
       "      <th>5th row</th>\n",
       "      <td>-0.215506</td>\n",
       "      <td>0.096828</td>\n",
       "      <td>-0.311196</td>\n",
       "      <td>-0.412519</td>\n",
       "      <td>0.015759</td>\n",
       "      <td>0.706538</td>\n",
       "    </tr>\n",
       "  </tbody>\n",
       "</table>\n",
       "</div>"
      ],
      "text/plain": [
       "          1st col   2nd col   3rd col   4th col   5th col   6th col\n",
       "1st row  0.350556 -1.504685  0.689255  0.492378  2.245821 -1.436546\n",
       "2nd row  0.272125 -0.783298 -0.657994 -0.134819  0.103181 -0.185790\n",
       "3rd row  0.363253 -1.224783  0.430183 -1.947706  0.105462 -1.082623\n",
       "4th row  0.892515  0.924074 -0.808555 -1.218231  0.133485  0.013307\n",
       "5th row -0.215506  0.096828 -0.311196 -0.412519  0.015759  0.706538"
      ]
     },
     "execution_count": 44,
     "metadata": {},
     "output_type": "execute_result"
    }
   ],
   "source": [
    "df3"
   ]
  },
  {
   "cell_type": "code",
   "execution_count": 45,
   "id": "18114c36",
   "metadata": {},
   "outputs": [
    {
     "data": {
      "text/html": [
       "<div>\n",
       "<style scoped>\n",
       "    .dataframe tbody tr th:only-of-type {\n",
       "        vertical-align: middle;\n",
       "    }\n",
       "\n",
       "    .dataframe tbody tr th {\n",
       "        vertical-align: top;\n",
       "    }\n",
       "\n",
       "    .dataframe thead th {\n",
       "        text-align: right;\n",
       "    }\n",
       "</style>\n",
       "<table border=\"1\" class=\"dataframe\">\n",
       "  <thead>\n",
       "    <tr style=\"text-align: right;\">\n",
       "      <th></th>\n",
       "      <th>2nd col</th>\n",
       "      <th>3rd col</th>\n",
       "      <th>4th col</th>\n",
       "      <th>5th col</th>\n",
       "      <th>6th col</th>\n",
       "    </tr>\n",
       "  </thead>\n",
       "  <tbody>\n",
       "    <tr>\n",
       "      <th>1st row</th>\n",
       "      <td>-1.504685</td>\n",
       "      <td>0.689255</td>\n",
       "      <td>0.492378</td>\n",
       "      <td>2.245821</td>\n",
       "      <td>-1.436546</td>\n",
       "    </tr>\n",
       "    <tr>\n",
       "      <th>2nd row</th>\n",
       "      <td>-0.783298</td>\n",
       "      <td>-0.657994</td>\n",
       "      <td>-0.134819</td>\n",
       "      <td>0.103181</td>\n",
       "      <td>-0.185790</td>\n",
       "    </tr>\n",
       "    <tr>\n",
       "      <th>3rd row</th>\n",
       "      <td>-1.224783</td>\n",
       "      <td>0.430183</td>\n",
       "      <td>-1.947706</td>\n",
       "      <td>0.105462</td>\n",
       "      <td>-1.082623</td>\n",
       "    </tr>\n",
       "    <tr>\n",
       "      <th>4th row</th>\n",
       "      <td>0.924074</td>\n",
       "      <td>-0.808555</td>\n",
       "      <td>-1.218231</td>\n",
       "      <td>0.133485</td>\n",
       "      <td>0.013307</td>\n",
       "    </tr>\n",
       "    <tr>\n",
       "      <th>5th row</th>\n",
       "      <td>0.096828</td>\n",
       "      <td>-0.311196</td>\n",
       "      <td>-0.412519</td>\n",
       "      <td>0.015759</td>\n",
       "      <td>0.706538</td>\n",
       "    </tr>\n",
       "  </tbody>\n",
       "</table>\n",
       "</div>"
      ],
      "text/plain": [
       "          2nd col   3rd col   4th col   5th col   6th col\n",
       "1st row -1.504685  0.689255  0.492378  2.245821 -1.436546\n",
       "2nd row -0.783298 -0.657994 -0.134819  0.103181 -0.185790\n",
       "3rd row -1.224783  0.430183 -1.947706  0.105462 -1.082623\n",
       "4th row  0.924074 -0.808555 -1.218231  0.133485  0.013307\n",
       "5th row  0.096828 -0.311196 -0.412519  0.015759  0.706538"
      ]
     },
     "execution_count": 45,
     "metadata": {},
     "output_type": "execute_result"
    }
   ],
   "source": [
    "df4=df3.drop('1st col',axis=1)\n",
    "df4"
   ]
  },
  {
   "cell_type": "code",
   "execution_count": 55,
   "id": "97adfff0",
   "metadata": {},
   "outputs": [
    {
     "data": {
      "text/html": [
       "<div>\n",
       "<style scoped>\n",
       "    .dataframe tbody tr th:only-of-type {\n",
       "        vertical-align: middle;\n",
       "    }\n",
       "\n",
       "    .dataframe tbody tr th {\n",
       "        vertical-align: top;\n",
       "    }\n",
       "\n",
       "    .dataframe thead th {\n",
       "        text-align: right;\n",
       "    }\n",
       "</style>\n",
       "<table border=\"1\" class=\"dataframe\">\n",
       "  <thead>\n",
       "    <tr style=\"text-align: right;\">\n",
       "      <th></th>\n",
       "      <th>1st col</th>\n",
       "      <th>2nd col</th>\n",
       "      <th>3rd col</th>\n",
       "      <th>4th col</th>\n",
       "      <th>5th col</th>\n",
       "      <th>6th col</th>\n",
       "    </tr>\n",
       "  </thead>\n",
       "  <tbody>\n",
       "    <tr>\n",
       "      <th>1st row</th>\n",
       "      <td>0.350556</td>\n",
       "      <td>-1.504685</td>\n",
       "      <td>0.689255</td>\n",
       "      <td>0.492378</td>\n",
       "      <td>2.245821</td>\n",
       "      <td>-1.436546</td>\n",
       "    </tr>\n",
       "    <tr>\n",
       "      <th>3rd row</th>\n",
       "      <td>0.363253</td>\n",
       "      <td>-1.224783</td>\n",
       "      <td>0.430183</td>\n",
       "      <td>-1.947706</td>\n",
       "      <td>0.105462</td>\n",
       "      <td>-1.082623</td>\n",
       "    </tr>\n",
       "    <tr>\n",
       "      <th>4th row</th>\n",
       "      <td>0.892515</td>\n",
       "      <td>0.924074</td>\n",
       "      <td>-0.808555</td>\n",
       "      <td>-1.218231</td>\n",
       "      <td>0.133485</td>\n",
       "      <td>0.013307</td>\n",
       "    </tr>\n",
       "    <tr>\n",
       "      <th>5th row</th>\n",
       "      <td>-0.215506</td>\n",
       "      <td>0.096828</td>\n",
       "      <td>-0.311196</td>\n",
       "      <td>-0.412519</td>\n",
       "      <td>0.015759</td>\n",
       "      <td>0.706538</td>\n",
       "    </tr>\n",
       "  </tbody>\n",
       "</table>\n",
       "</div>"
      ],
      "text/plain": [
       "          1st col   2nd col   3rd col   4th col   5th col   6th col\n",
       "1st row  0.350556 -1.504685  0.689255  0.492378  2.245821 -1.436546\n",
       "3rd row  0.363253 -1.224783  0.430183 -1.947706  0.105462 -1.082623\n",
       "4th row  0.892515  0.924074 -0.808555 -1.218231  0.133485  0.013307\n",
       "5th row -0.215506  0.096828 -0.311196 -0.412519  0.015759  0.706538"
      ]
     },
     "execution_count": 55,
     "metadata": {},
     "output_type": "execute_result"
    }
   ],
   "source": [
    "#drop the row axis=0\n",
    "df5=df3.drop('2nd row',axis=0)\n",
    "df5"
   ]
  },
  {
   "cell_type": "code",
   "execution_count": 56,
   "id": "d244b204",
   "metadata": {},
   "outputs": [
    {
     "data": {
      "text/html": [
       "<div>\n",
       "<style scoped>\n",
       "    .dataframe tbody tr th:only-of-type {\n",
       "        vertical-align: middle;\n",
       "    }\n",
       "\n",
       "    .dataframe tbody tr th {\n",
       "        vertical-align: top;\n",
       "    }\n",
       "\n",
       "    .dataframe thead th {\n",
       "        text-align: right;\n",
       "    }\n",
       "</style>\n",
       "<table border=\"1\" class=\"dataframe\">\n",
       "  <thead>\n",
       "    <tr style=\"text-align: right;\">\n",
       "      <th></th>\n",
       "      <th>index</th>\n",
       "      <th>1st col</th>\n",
       "      <th>2nd col</th>\n",
       "      <th>3rd col</th>\n",
       "      <th>4th col</th>\n",
       "      <th>5th col</th>\n",
       "      <th>6th col</th>\n",
       "    </tr>\n",
       "  </thead>\n",
       "  <tbody>\n",
       "    <tr>\n",
       "      <th>0</th>\n",
       "      <td>1st row</td>\n",
       "      <td>0.350556</td>\n",
       "      <td>-1.504685</td>\n",
       "      <td>0.689255</td>\n",
       "      <td>0.492378</td>\n",
       "      <td>2.245821</td>\n",
       "      <td>-1.436546</td>\n",
       "    </tr>\n",
       "    <tr>\n",
       "      <th>1</th>\n",
       "      <td>3rd row</td>\n",
       "      <td>0.363253</td>\n",
       "      <td>-1.224783</td>\n",
       "      <td>0.430183</td>\n",
       "      <td>-1.947706</td>\n",
       "      <td>0.105462</td>\n",
       "      <td>-1.082623</td>\n",
       "    </tr>\n",
       "    <tr>\n",
       "      <th>2</th>\n",
       "      <td>4th row</td>\n",
       "      <td>0.892515</td>\n",
       "      <td>0.924074</td>\n",
       "      <td>-0.808555</td>\n",
       "      <td>-1.218231</td>\n",
       "      <td>0.133485</td>\n",
       "      <td>0.013307</td>\n",
       "    </tr>\n",
       "    <tr>\n",
       "      <th>3</th>\n",
       "      <td>5th row</td>\n",
       "      <td>-0.215506</td>\n",
       "      <td>0.096828</td>\n",
       "      <td>-0.311196</td>\n",
       "      <td>-0.412519</td>\n",
       "      <td>0.015759</td>\n",
       "      <td>0.706538</td>\n",
       "    </tr>\n",
       "  </tbody>\n",
       "</table>\n",
       "</div>"
      ],
      "text/plain": [
       "     index   1st col   2nd col   3rd col   4th col   5th col   6th col\n",
       "0  1st row  0.350556 -1.504685  0.689255  0.492378  2.245821 -1.436546\n",
       "1  3rd row  0.363253 -1.224783  0.430183 -1.947706  0.105462 -1.082623\n",
       "2  4th row  0.892515  0.924074 -0.808555 -1.218231  0.133485  0.013307\n",
       "3  5th row -0.215506  0.096828 -0.311196 -0.412519  0.015759  0.706538"
      ]
     },
     "execution_count": 56,
     "metadata": {},
     "output_type": "execute_result"
    }
   ],
   "source": [
    "#remove index tables\n",
    "df5.reset_index()"
   ]
  },
  {
   "cell_type": "code",
   "execution_count": 48,
   "id": "d89d5dcd",
   "metadata": {},
   "outputs": [
    {
     "data": {
      "text/html": [
       "<div>\n",
       "<style scoped>\n",
       "    .dataframe tbody tr th:only-of-type {\n",
       "        vertical-align: middle;\n",
       "    }\n",
       "\n",
       "    .dataframe tbody tr th {\n",
       "        vertical-align: top;\n",
       "    }\n",
       "\n",
       "    .dataframe thead th {\n",
       "        text-align: right;\n",
       "    }\n",
       "</style>\n",
       "<table border=\"1\" class=\"dataframe\">\n",
       "  <thead>\n",
       "    <tr style=\"text-align: right;\">\n",
       "      <th></th>\n",
       "      <th>1st col</th>\n",
       "      <th>2nd col</th>\n",
       "      <th>3rd col</th>\n",
       "      <th>4th col</th>\n",
       "      <th>5th col</th>\n",
       "      <th>6th col</th>\n",
       "    </tr>\n",
       "  </thead>\n",
       "  <tbody>\n",
       "    <tr>\n",
       "      <th>1st row</th>\n",
       "      <td>0.350556</td>\n",
       "      <td>-1.504685</td>\n",
       "      <td>0.689255</td>\n",
       "      <td>0.492378</td>\n",
       "      <td>2.245821</td>\n",
       "      <td>-1.436546</td>\n",
       "    </tr>\n",
       "    <tr>\n",
       "      <th>3rd row</th>\n",
       "      <td>0.363253</td>\n",
       "      <td>-1.224783</td>\n",
       "      <td>0.430183</td>\n",
       "      <td>-1.947706</td>\n",
       "      <td>0.105462</td>\n",
       "      <td>-1.082623</td>\n",
       "    </tr>\n",
       "    <tr>\n",
       "      <th>4th row</th>\n",
       "      <td>0.892515</td>\n",
       "      <td>0.924074</td>\n",
       "      <td>-0.808555</td>\n",
       "      <td>-1.218231</td>\n",
       "      <td>0.133485</td>\n",
       "      <td>0.013307</td>\n",
       "    </tr>\n",
       "    <tr>\n",
       "      <th>5th row</th>\n",
       "      <td>-0.215506</td>\n",
       "      <td>0.096828</td>\n",
       "      <td>-0.311196</td>\n",
       "      <td>-0.412519</td>\n",
       "      <td>0.015759</td>\n",
       "      <td>0.706538</td>\n",
       "    </tr>\n",
       "  </tbody>\n",
       "</table>\n",
       "</div>"
      ],
      "text/plain": [
       "          1st col   2nd col   3rd col   4th col   5th col   6th col\n",
       "1st row  0.350556 -1.504685  0.689255  0.492378  2.245821 -1.436546\n",
       "3rd row  0.363253 -1.224783  0.430183 -1.947706  0.105462 -1.082623\n",
       "4th row  0.892515  0.924074 -0.808555 -1.218231  0.133485  0.013307\n",
       "5th row -0.215506  0.096828 -0.311196 -0.412519  0.015759  0.706538"
      ]
     },
     "execution_count": 48,
     "metadata": {},
     "output_type": "execute_result"
    }
   ],
   "source": [
    "df5"
   ]
  },
  {
   "cell_type": "code",
   "execution_count": 57,
   "id": "a9be3e72",
   "metadata": {},
   "outputs": [
    {
     "data": {
      "text/html": [
       "<div>\n",
       "<style scoped>\n",
       "    .dataframe tbody tr th:only-of-type {\n",
       "        vertical-align: middle;\n",
       "    }\n",
       "\n",
       "    .dataframe tbody tr th {\n",
       "        vertical-align: top;\n",
       "    }\n",
       "\n",
       "    .dataframe thead th {\n",
       "        text-align: right;\n",
       "    }\n",
       "</style>\n",
       "<table border=\"1\" class=\"dataframe\">\n",
       "  <thead>\n",
       "    <tr style=\"text-align: right;\">\n",
       "      <th></th>\n",
       "      <th>index</th>\n",
       "      <th>1st col</th>\n",
       "      <th>2nd col</th>\n",
       "      <th>3rd col</th>\n",
       "      <th>4th col</th>\n",
       "      <th>5th col</th>\n",
       "      <th>6th col</th>\n",
       "    </tr>\n",
       "  </thead>\n",
       "  <tbody>\n",
       "    <tr>\n",
       "      <th>0</th>\n",
       "      <td>1st row</td>\n",
       "      <td>0.350556</td>\n",
       "      <td>-1.504685</td>\n",
       "      <td>0.689255</td>\n",
       "      <td>0.492378</td>\n",
       "      <td>2.245821</td>\n",
       "      <td>-1.436546</td>\n",
       "    </tr>\n",
       "    <tr>\n",
       "      <th>1</th>\n",
       "      <td>3rd row</td>\n",
       "      <td>0.363253</td>\n",
       "      <td>-1.224783</td>\n",
       "      <td>0.430183</td>\n",
       "      <td>-1.947706</td>\n",
       "      <td>0.105462</td>\n",
       "      <td>-1.082623</td>\n",
       "    </tr>\n",
       "    <tr>\n",
       "      <th>2</th>\n",
       "      <td>4th row</td>\n",
       "      <td>0.892515</td>\n",
       "      <td>0.924074</td>\n",
       "      <td>-0.808555</td>\n",
       "      <td>-1.218231</td>\n",
       "      <td>0.133485</td>\n",
       "      <td>0.013307</td>\n",
       "    </tr>\n",
       "    <tr>\n",
       "      <th>3</th>\n",
       "      <td>5th row</td>\n",
       "      <td>-0.215506</td>\n",
       "      <td>0.096828</td>\n",
       "      <td>-0.311196</td>\n",
       "      <td>-0.412519</td>\n",
       "      <td>0.015759</td>\n",
       "      <td>0.706538</td>\n",
       "    </tr>\n",
       "  </tbody>\n",
       "</table>\n",
       "</div>"
      ],
      "text/plain": [
       "     index   1st col   2nd col   3rd col   4th col   5th col   6th col\n",
       "0  1st row  0.350556 -1.504685  0.689255  0.492378  2.245821 -1.436546\n",
       "1  3rd row  0.363253 -1.224783  0.430183 -1.947706  0.105462 -1.082623\n",
       "2  4th row  0.892515  0.924074 -0.808555 -1.218231  0.133485  0.013307\n",
       "3  5th row -0.215506  0.096828 -0.311196 -0.412519  0.015759  0.706538"
      ]
     },
     "execution_count": 57,
     "metadata": {},
     "output_type": "execute_result"
    }
   ],
   "source": [
    "df5.reset_index(inplace=True)\n",
    "df5"
   ]
  },
  {
   "cell_type": "code",
   "execution_count": 58,
   "id": "25228b91",
   "metadata": {},
   "outputs": [],
   "source": [
    "df5['new name']=['this','is','the','row']"
   ]
  },
  {
   "cell_type": "code",
   "execution_count": 59,
   "id": "4367747e",
   "metadata": {},
   "outputs": [
    {
     "data": {
      "text/html": [
       "<div>\n",
       "<style scoped>\n",
       "    .dataframe tbody tr th:only-of-type {\n",
       "        vertical-align: middle;\n",
       "    }\n",
       "\n",
       "    .dataframe tbody tr th {\n",
       "        vertical-align: top;\n",
       "    }\n",
       "\n",
       "    .dataframe thead th {\n",
       "        text-align: right;\n",
       "    }\n",
       "</style>\n",
       "<table border=\"1\" class=\"dataframe\">\n",
       "  <thead>\n",
       "    <tr style=\"text-align: right;\">\n",
       "      <th></th>\n",
       "      <th>index</th>\n",
       "      <th>1st col</th>\n",
       "      <th>2nd col</th>\n",
       "      <th>3rd col</th>\n",
       "      <th>4th col</th>\n",
       "      <th>5th col</th>\n",
       "      <th>6th col</th>\n",
       "      <th>new name</th>\n",
       "    </tr>\n",
       "  </thead>\n",
       "  <tbody>\n",
       "    <tr>\n",
       "      <th>0</th>\n",
       "      <td>1st row</td>\n",
       "      <td>0.350556</td>\n",
       "      <td>-1.504685</td>\n",
       "      <td>0.689255</td>\n",
       "      <td>0.492378</td>\n",
       "      <td>2.245821</td>\n",
       "      <td>-1.436546</td>\n",
       "      <td>this</td>\n",
       "    </tr>\n",
       "    <tr>\n",
       "      <th>1</th>\n",
       "      <td>3rd row</td>\n",
       "      <td>0.363253</td>\n",
       "      <td>-1.224783</td>\n",
       "      <td>0.430183</td>\n",
       "      <td>-1.947706</td>\n",
       "      <td>0.105462</td>\n",
       "      <td>-1.082623</td>\n",
       "      <td>is</td>\n",
       "    </tr>\n",
       "    <tr>\n",
       "      <th>2</th>\n",
       "      <td>4th row</td>\n",
       "      <td>0.892515</td>\n",
       "      <td>0.924074</td>\n",
       "      <td>-0.808555</td>\n",
       "      <td>-1.218231</td>\n",
       "      <td>0.133485</td>\n",
       "      <td>0.013307</td>\n",
       "      <td>the</td>\n",
       "    </tr>\n",
       "    <tr>\n",
       "      <th>3</th>\n",
       "      <td>5th row</td>\n",
       "      <td>-0.215506</td>\n",
       "      <td>0.096828</td>\n",
       "      <td>-0.311196</td>\n",
       "      <td>-0.412519</td>\n",
       "      <td>0.015759</td>\n",
       "      <td>0.706538</td>\n",
       "      <td>row</td>\n",
       "    </tr>\n",
       "  </tbody>\n",
       "</table>\n",
       "</div>"
      ],
      "text/plain": [
       "     index   1st col   2nd col   3rd col   4th col   5th col   6th col  \\\n",
       "0  1st row  0.350556 -1.504685  0.689255  0.492378  2.245821 -1.436546   \n",
       "1  3rd row  0.363253 -1.224783  0.430183 -1.947706  0.105462 -1.082623   \n",
       "2  4th row  0.892515  0.924074 -0.808555 -1.218231  0.133485  0.013307   \n",
       "3  5th row -0.215506  0.096828 -0.311196 -0.412519  0.015759  0.706538   \n",
       "\n",
       "  new name  \n",
       "0     this  \n",
       "1       is  \n",
       "2      the  \n",
       "3      row  "
      ]
     },
     "execution_count": 59,
     "metadata": {},
     "output_type": "execute_result"
    }
   ],
   "source": [
    "df5"
   ]
  },
  {
   "cell_type": "code",
   "execution_count": 62,
   "id": "3c39f3a7",
   "metadata": {},
   "outputs": [
    {
     "ename": "KeyError",
     "evalue": "\"None of ['new name'] are in the columns\"",
     "output_type": "error",
     "traceback": [
      "\u001b[0;31m---------------------------------------------------------------------------\u001b[0m",
      "\u001b[0;31mKeyError\u001b[0m                                  Traceback (most recent call last)",
      "\u001b[0;32m<ipython-input-62-98d2ad7eae26>\u001b[0m in \u001b[0;36m<module>\u001b[0;34m\u001b[0m\n\u001b[0;32m----> 1\u001b[0;31m \u001b[0mdf5\u001b[0m\u001b[0;34m.\u001b[0m\u001b[0mset_index\u001b[0m\u001b[0;34m(\u001b[0m\u001b[0;34m'new name'\u001b[0m\u001b[0;34m,\u001b[0m\u001b[0minplace\u001b[0m\u001b[0;34m=\u001b[0m\u001b[0;32mTrue\u001b[0m\u001b[0;34m)\u001b[0m\u001b[0;34m\u001b[0m\u001b[0;34m\u001b[0m\u001b[0m\n\u001b[0m\u001b[1;32m      2\u001b[0m \u001b[0mdf5\u001b[0m\u001b[0;34m\u001b[0m\u001b[0;34m\u001b[0m\u001b[0m\n",
      "\u001b[0;32m~/opt/anaconda3/lib/python3.8/site-packages/pandas/core/frame.py\u001b[0m in \u001b[0;36mset_index\u001b[0;34m(self, keys, drop, append, inplace, verify_integrity)\u001b[0m\n\u001b[1;32m   4725\u001b[0m \u001b[0;34m\u001b[0m\u001b[0m\n\u001b[1;32m   4726\u001b[0m         \u001b[0;32mif\u001b[0m \u001b[0mmissing\u001b[0m\u001b[0;34m:\u001b[0m\u001b[0;34m\u001b[0m\u001b[0;34m\u001b[0m\u001b[0m\n\u001b[0;32m-> 4727\u001b[0;31m             \u001b[0;32mraise\u001b[0m \u001b[0mKeyError\u001b[0m\u001b[0;34m(\u001b[0m\u001b[0;34mf\"None of {missing} are in the columns\"\u001b[0m\u001b[0;34m)\u001b[0m\u001b[0;34m\u001b[0m\u001b[0;34m\u001b[0m\u001b[0m\n\u001b[0m\u001b[1;32m   4728\u001b[0m \u001b[0;34m\u001b[0m\u001b[0m\n\u001b[1;32m   4729\u001b[0m         \u001b[0;32mif\u001b[0m \u001b[0minplace\u001b[0m\u001b[0;34m:\u001b[0m\u001b[0;34m\u001b[0m\u001b[0;34m\u001b[0m\u001b[0m\n",
      "\u001b[0;31mKeyError\u001b[0m: \"None of ['new name'] are in the columns\""
     ]
    }
   ],
   "source": [
    "df5.set_index('new name',inplace=True)"
   ]
  },
  {
   "cell_type": "markdown",
   "id": "d8b36b96",
   "metadata": {},
   "source": []
  },
  {
   "cell_type": "code",
   "execution_count": null,
   "id": "0cecff24",
   "metadata": {},
   "outputs": [],
   "source": [
    "df"
   ]
  }
 ],
 "metadata": {
  "kernelspec": {
   "display_name": "Python 3",
   "language": "python",
   "name": "python3"
  },
  "language_info": {
   "codemirror_mode": {
    "name": "ipython",
    "version": 3
   },
   "file_extension": ".py",
   "mimetype": "text/x-python",
   "name": "python",
   "nbconvert_exporter": "python",
   "pygments_lexer": "ipython3",
   "version": "3.8.8"
  }
 },
 "nbformat": 4,
 "nbformat_minor": 5
}
