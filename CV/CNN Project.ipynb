{
 "cells": [
  {
   "cell_type": "markdown",
   "metadata": {
    "id": "ODjTVw-CNoRL"
   },
   "source": [
    "#Import and understand the data"
   ]
  },
  {
   "cell_type": "code",
   "execution_count": 57,
   "metadata": {
    "executionInfo": {
     "elapsed": 4064,
     "status": "ok",
     "timestamp": 1650129843941,
     "user": {
      "displayName": "Sanjay Arakkan",
      "userId": "14929584495435146374"
     },
     "user_tz": -330
    },
    "id": "kKmjsRxmPIQT"
   },
   "outputs": [],
   "source": [
    "# import packages\n",
    "\n",
    "import numpy as np\n",
    "import pandas as pd\n",
    "import matplotlib.pyplot as plt\n",
    "%matplotlib inline\n",
    "import seaborn as sns\n",
    "import pathlib\n",
    "import os\n",
    "import cv2\n",
    "\n",
    "import tensorflow as tf\n",
    "from tensorflow import keras\n",
    "from sklearn.model_selection import train_test_split"
   ]
  },
  {
   "cell_type": "code",
   "execution_count": 58,
   "metadata": {
    "colab": {
     "base_uri": "https://localhost:8080/"
    },
    "executionInfo": {
     "elapsed": 5,
     "status": "ok",
     "timestamp": 1650129843941,
     "user": {
      "displayName": "Sanjay Arakkan",
      "userId": "14929584495435146374"
     },
     "user_tz": -330
    },
    "id": "f2aJ9dU4UATc",
    "outputId": "563447a4-8f95-44b5-831e-dc076fd4a183"
   },
   "outputs": [
    {
     "name": "stdout",
     "output_type": "stream",
     "text": [
      "2.0.0\n"
     ]
    }
   ],
   "source": [
    "print(tf.__version__)"
   ]
  },
  {
   "cell_type": "code",
   "execution_count": 59,
   "metadata": {
    "executionInfo": {
     "elapsed": 3,
     "status": "ok",
     "timestamp": 1650129843941,
     "user": {
      "displayName": "Sanjay Arakkan",
      "userId": "14929584495435146374"
     },
     "user_tz": -330
    },
    "id": "_t17npWFtAoi"
   },
   "outputs": [],
   "source": [
    "# extract zip\n",
    "\n",
    "#!unzip \"/content/drive/MyDrive/greatlearning/CNN Project/Dataset - Plant-seedlings-classification.zip\" -d \"/content/drive/MyDrive/greatlearning/CNN Project/Plant Seedling Classification\""
   ]
  },
  {
   "cell_type": "code",
   "execution_count": 60,
   "metadata": {
    "executionInfo": {
     "elapsed": 4,
     "status": "ok",
     "timestamp": 1650129843942,
     "user": {
      "displayName": "Sanjay Arakkan",
      "userId": "14929584495435146374"
     },
     "user_tz": -330
    },
    "id": "NM0vPx2UMz4q"
   },
   "outputs": [],
   "source": [
    "# map the images from train folder with train labels to form a dataframe\n",
    "\n",
    "data_dir = \"./plant-seedlings-classification\""
   ]
  },
  {
   "cell_type": "code",
   "execution_count": 61,
   "metadata": {
    "executionInfo": {
     "elapsed": 4,
     "status": "ok",
     "timestamp": 1650129843942,
     "user": {
      "displayName": "Sanjay Arakkan",
      "userId": "14929584495435146374"
     },
     "user_tz": -330
    },
    "id": "1BOto_ueUwL5"
   },
   "outputs": [],
   "source": [
    "size = 64\n",
    "\n",
    "train_data = data_dir + \"/train\"\n",
    "classes = os.listdir(train_data)\n",
    "\n",
    "file_name = []\n",
    "species = []\n",
    "image_data = []"
   ]
  },
  {
   "cell_type": "code",
   "execution_count": 62,
   "metadata": {
    "executionInfo": {
     "elapsed": 4,
     "status": "ok",
     "timestamp": 1650129843942,
     "user": {
      "displayName": "Sanjay Arakkan",
      "userId": "14929584495435146374"
     },
     "user_tz": -330
    },
    "id": "tfUG9TNNZDHZ"
   },
   "outputs": [],
   "source": [
    "def extractImage(path):\n",
    "  images = os.listdir(path)\n",
    "  for image_name in images:\n",
    "    image = cv2.imread(path + \"/\" + image_name)\n",
    "    image_data.append(preprocessImage(image))\n",
    "    species.append(path.split(\"/\")[-1])\n",
    "    file_name.append(image_name)"
   ]
  },
  {
   "cell_type": "code",
   "execution_count": 63,
   "metadata": {
    "executionInfo": {
     "elapsed": 4,
     "status": "ok",
     "timestamp": 1650129843942,
     "user": {
      "displayName": "Sanjay Arakkan",
      "userId": "14929584495435146374"
     },
     "user_tz": -330
    },
    "id": "smS_8vHSaCO3"
   },
   "outputs": [],
   "source": [
    "def preprocessImage(image):\n",
    "  image = np.array(image, dtype = \"float32\")\n",
    "  image = cv2.resize(image, (size, size))\n",
    "  image = np.reshape(image, (size, size, 3)) \n",
    "  image /= 255.0\n",
    "  return np.array(image, dtype = \"float32\")"
   ]
  },
  {
   "cell_type": "code",
   "execution_count": null,
   "metadata": {
    "executionInfo": {
     "elapsed": 75897,
     "status": "ok",
     "timestamp": 1650129919836,
     "user": {
      "displayName": "Sanjay Arakkan",
      "userId": "14929584495435146374"
     },
     "user_tz": -330
    },
    "id": "kF8M8lQmXB6_"
   },
   "outputs": [],
   "source": [
    "for class_name in classes:\n",
    "  if not class_name.startswith('.'):\n",
    "      extractImage(train_data + \"/\" + class_name)"
   ]
  },
  {
   "cell_type": "code",
   "execution_count": null,
   "metadata": {
    "executionInfo": {
     "elapsed": 7,
     "status": "ok",
     "timestamp": 1650129919837,
     "user": {
      "displayName": "Sanjay Arakkan",
      "userId": "14929584495435146374"
     },
     "user_tz": -330
    },
    "id": "tpne8q2qes7Z"
   },
   "outputs": [],
   "source": [
    "seed_df = pd.DataFrame({\"file name\": file_name, \"species\": species, \"image data\": image_data})"
   ]
  },
  {
   "cell_type": "code",
   "execution_count": null,
   "metadata": {
    "colab": {
     "base_uri": "https://localhost:8080/",
     "height": 206
    },
    "executionInfo": {
     "elapsed": 6756,
     "status": "ok",
     "timestamp": 1650129926587,
     "user": {
      "displayName": "Sanjay Arakkan",
      "userId": "14929584495435146374"
     },
     "user_tz": -330
    },
    "id": "tzjarIDsBXQ4",
    "outputId": "a3b9b5df-d7ec-4061-bfe6-3f8e7668d18f"
   },
   "outputs": [],
   "source": [
    "seed_df.head(5)"
   ]
  },
  {
   "cell_type": "code",
   "execution_count": null,
   "metadata": {
    "colab": {
     "base_uri": "https://localhost:8080/"
    },
    "executionInfo": {
     "elapsed": 14,
     "status": "ok",
     "timestamp": 1650129926588,
     "user": {
      "displayName": "Sanjay Arakkan",
      "userId": "14929584495435146374"
     },
     "user_tz": -330
    },
    "id": "p55XafWlC8G2",
    "outputId": "10c22e27-7f7d-4f3d-ccab-b2104e3e1255"
   },
   "outputs": [],
   "source": [
    "seed_df.info()"
   ]
  },
  {
   "cell_type": "code",
   "execution_count": null,
   "metadata": {},
   "outputs": [],
   "source": [
    "image_data.shape()"
   ]
  },
  {
   "cell_type": "code",
   "execution_count": null,
   "metadata": {
    "executionInfo": {
     "elapsed": 324,
     "status": "ok",
     "timestamp": 1650131773913,
     "user": {
      "displayName": "Sanjay Arakkan",
      "userId": "14929584495435146374"
     },
     "user_tz": -330
    },
    "id": "r257r8Lj2Tq2"
   },
   "outputs": [],
   "source": [
    "# function that will select n random images\n",
    "\n",
    "def randomImages(input_num):\n",
    "  return seed_df[['image data', 'species']].sample(input_num)"
   ]
  },
  {
   "cell_type": "code",
   "execution_count": null,
   "metadata": {
    "colab": {
     "base_uri": "https://localhost:8080/",
     "height": 112
    },
    "executionInfo": {
     "elapsed": 2433,
     "status": "ok",
     "timestamp": 1650131778472,
     "user": {
      "displayName": "Sanjay Arakkan",
      "userId": "14929584495435146374"
     },
     "user_tz": -330
    },
    "id": "jBatKPQEgtH_",
    "outputId": "c0e716b3-c825-497f-be2b-f8600fcb2ef0"
   },
   "outputs": [],
   "source": [
    "randomImages(2)"
   ]
  },
  {
   "cell_type": "markdown",
   "metadata": {
    "id": "nl5U-OtWAXs6"
   },
   "source": [
    "#Data preprocessing"
   ]
  },
  {
   "cell_type": "code",
   "execution_count": null,
   "metadata": {
    "executionInfo": {
     "elapsed": 9,
     "status": "ok",
     "timestamp": 1650129926588,
     "user": {
      "displayName": "Sanjay Arakkan",
      "userId": "14929584495435146374"
     },
     "user_tz": -330
    },
    "id": "FJxGwH2lAa0d"
   },
   "outputs": [],
   "source": [
    "# create x and y\n",
    "\n",
    "X = np.array(image_data, dtype = 'float32')\n",
    "y = seed_df['species']\n",
    "X"
   ]
  },
  {
   "cell_type": "code",
   "execution_count": null,
   "metadata": {
    "executionInfo": {
     "elapsed": 8,
     "status": "ok",
     "timestamp": 1650129926588,
     "user": {
      "displayName": "Sanjay Arakkan",
      "userId": "14929584495435146374"
     },
     "user_tz": -330
    },
    "id": "FYS_d8S4B9D2"
   },
   "outputs": [],
   "source": [
    "file_name = []\n",
    "species = []\n",
    "image_data = []"
   ]
  },
  {
   "cell_type": "code",
   "execution_count": null,
   "metadata": {
    "executionInfo": {
     "elapsed": 8,
     "status": "ok",
     "timestamp": 1650129926588,
     "user": {
      "displayName": "Sanjay Arakkan",
      "userId": "14929584495435146374"
     },
     "user_tz": -330
    },
    "id": "MaIWiQ2cCQ31"
   },
   "outputs": [],
   "source": [
    "# encode the labels\n",
    "\n",
    "y = keras.utils.to_categorical(y.factorize()[0], len(classes))"
   ]
  },
  {
   "cell_type": "code",
   "execution_count": null,
   "metadata": {
    "colab": {
     "base_uri": "https://localhost:8080/"
    },
    "executionInfo": {
     "elapsed": 10,
     "status": "ok",
     "timestamp": 1650129926590,
     "user": {
      "displayName": "Sanjay Arakkan",
      "userId": "14929584495435146374"
     },
     "user_tz": -330
    },
    "id": "pQIomuwCFp8P",
    "outputId": "1734df82-0465-4d02-b52d-bf3d7c31ab76"
   },
   "outputs": [],
   "source": [
    "y"
   ]
  },
  {
   "cell_type": "code",
   "execution_count": null,
   "metadata": {
    "colab": {
     "base_uri": "https://localhost:8080/"
    },
    "executionInfo": {
     "elapsed": 8,
     "status": "ok",
     "timestamp": 1650129926590,
     "user": {
      "displayName": "Sanjay Arakkan",
      "userId": "14929584495435146374"
     },
     "user_tz": -330
    },
    "id": "VDeJqX2RXrl1",
    "outputId": "e2efacd2-1103-4738-d274-3771226c34ad"
   },
   "outputs": [],
   "source": [
    "y.shape"
   ]
  },
  {
   "cell_type": "code",
   "execution_count": null,
   "metadata": {
    "executionInfo": {
     "elapsed": 7,
     "status": "ok",
     "timestamp": 1650129926590,
     "user": {
      "displayName": "Sanjay Arakkan",
      "userId": "14929584495435146374"
     },
     "user_tz": -330
    },
    "id": "194pFw58F20W"
   },
   "outputs": [],
   "source": [
    "# image is already unified and normalized in the preprocessing method\n",
    "\n",
    "# unify\n",
    "\n",
    "# normalize"
   ]
  },
  {
   "cell_type": "markdown",
   "metadata": {
    "id": "9-6lfcZiJ8zo"
   },
   "source": [
    "#Model training"
   ]
  },
  {
   "cell_type": "code",
   "execution_count": null,
   "metadata": {
    "colab": {
     "base_uri": "https://localhost:8080/"
    },
    "executionInfo": {
     "elapsed": 7,
     "status": "ok",
     "timestamp": 1650129926590,
     "user": {
      "displayName": "Sanjay Arakkan",
      "userId": "14929584495435146374"
     },
     "user_tz": -330
    },
    "id": "iP_YM2oqJ-0D",
    "outputId": "fd577b12-40d7-4a32-beae-59c6d73ab197"
   },
   "outputs": [],
   "source": [
    "X.shape"
   ]
  },
  {
   "cell_type": "code",
   "execution_count": 48,
   "metadata": {
    "executionInfo": {
     "elapsed": 6,
     "status": "ok",
     "timestamp": 1650129926590,
     "user": {
      "displayName": "Sanjay Arakkan",
      "userId": "14929584495435146374"
     },
     "user_tz": -330
    },
    "id": "ARhFTsvHJ6_F"
   },
   "outputs": [],
   "source": [
    "# split the data \n",
    "\n",
    "X_train, X_test, y_train, y_test = train_test_split(X, y, test_size=0.33, random_state=42)"
   ]
  },
  {
   "cell_type": "code",
   "execution_count": 49,
   "metadata": {
    "executionInfo": {
     "elapsed": 319,
     "status": "ok",
     "timestamp": 1650130026943,
     "user": {
      "displayName": "Sanjay Arakkan",
      "userId": "14929584495435146374"
     },
     "user_tz": -330
    },
    "id": "a_pxgqb4SYtx"
   },
   "outputs": [
    {
     "name": "stderr",
     "output_type": "stream",
     "text": [
      "Using TensorFlow backend.\n"
     ]
    },
    {
     "ename": "ModuleNotFoundError",
     "evalue": "No module named 'keras.layers.normalization.batch_normalization'; 'keras.layers.normalization' is not a package",
     "output_type": "error",
     "traceback": [
      "\u001b[0;31m---------------------------------------------------------------------------\u001b[0m",
      "\u001b[0;31mModuleNotFoundError\u001b[0m                       Traceback (most recent call last)",
      "\u001b[0;32m/var/folders/d1/cxdjwgp51f5d7gdfhsq3484h0000gn/T/ipykernel_16824/2612247097.py\u001b[0m in \u001b[0;36m<module>\u001b[0;34m\u001b[0m\n\u001b[1;32m      2\u001b[0m \u001b[0;34m\u001b[0m\u001b[0m\n\u001b[1;32m      3\u001b[0m \u001b[0;32mfrom\u001b[0m \u001b[0mkeras\u001b[0m\u001b[0;34m.\u001b[0m\u001b[0mmodels\u001b[0m \u001b[0;32mimport\u001b[0m \u001b[0mSequential\u001b[0m\u001b[0;34m\u001b[0m\u001b[0;34m\u001b[0m\u001b[0m\n\u001b[0;32m----> 4\u001b[0;31m \u001b[0;32mfrom\u001b[0m \u001b[0mkeras\u001b[0m\u001b[0;34m.\u001b[0m\u001b[0mlayers\u001b[0m\u001b[0;34m.\u001b[0m\u001b[0mnormalization\u001b[0m\u001b[0;34m.\u001b[0m\u001b[0mbatch_normalization\u001b[0m \u001b[0;32mimport\u001b[0m \u001b[0mBatchNormalization\u001b[0m\u001b[0;34m\u001b[0m\u001b[0;34m\u001b[0m\u001b[0m\n\u001b[0m\u001b[1;32m      5\u001b[0m \u001b[0;32mfrom\u001b[0m \u001b[0mkeras\u001b[0m\u001b[0;34m.\u001b[0m\u001b[0mlayers\u001b[0m \u001b[0;32mimport\u001b[0m \u001b[0mDense\u001b[0m\u001b[0;34m,\u001b[0m \u001b[0mDropout\u001b[0m\u001b[0;34m,\u001b[0m \u001b[0mFlatten\u001b[0m\u001b[0;34m,\u001b[0m \u001b[0mActivation\u001b[0m\u001b[0;34m,\u001b[0m \u001b[0mConv2D\u001b[0m\u001b[0;34m,\u001b[0m \u001b[0mMaxPooling2D\u001b[0m\u001b[0;34m\u001b[0m\u001b[0;34m\u001b[0m\u001b[0m\n\u001b[1;32m      6\u001b[0m \u001b[0;32mfrom\u001b[0m \u001b[0mkeras\u001b[0m\u001b[0;34m.\u001b[0m\u001b[0mcallbacks\u001b[0m \u001b[0;32mimport\u001b[0m \u001b[0mEarlyStopping\u001b[0m\u001b[0;34m\u001b[0m\u001b[0;34m\u001b[0m\u001b[0m\n",
      "\u001b[0;31mModuleNotFoundError\u001b[0m: No module named 'keras.layers.normalization.batch_normalization'; 'keras.layers.normalization' is not a package"
     ]
    }
   ],
   "source": [
    "# create a CNN model\n",
    "\n",
    "from keras.models import Sequential\n",
    "from keras.layers.normalization.batch_normalization import BatchNormalization\n",
    "from keras.layers import Dense, Dropout, Flatten, Activation, Conv2D, MaxPooling2D\n",
    "from keras.callbacks import EarlyStopping\n",
    "\n",
    "model = Sequential([\n",
    "  Conv2D(64, 3, input_shape=(64, 64, 3)),\n",
    "  Activation('leaky_relu'),\n",
    "  BatchNormalization(),\n",
    "  Conv2D(128, 3),\n",
    "  Activation('leaky_relu'),\n",
    "  BatchNormalization(),\n",
    "  Conv2D(64, 3),\n",
    "  Activation('leaky_relu'),\n",
    "  BatchNormalization(),\n",
    "  Conv2D(32, 3),\n",
    "  Activation('leaky_relu'),\n",
    "  BatchNormalization(),\n",
    "  Flatten(),\n",
    "  Dense(128),\n",
    "  BatchNormalization(),\n",
    "  Dense(len(classes)),\n",
    "  Activation('softmax')\n",
    "])"
   ]
  },
  {
   "cell_type": "code",
   "execution_count": 50,
   "metadata": {
    "executionInfo": {
     "elapsed": 372,
     "status": "ok",
     "timestamp": 1650130030060,
     "user": {
      "displayName": "Sanjay Arakkan",
      "userId": "14929584495435146374"
     },
     "user_tz": -330
    },
    "id": "9oUkwIjqVbQ_"
   },
   "outputs": [
    {
     "ename": "NameError",
     "evalue": "name 'model' is not defined",
     "output_type": "error",
     "traceback": [
      "\u001b[0;31m---------------------------------------------------------------------------\u001b[0m",
      "\u001b[0;31mNameError\u001b[0m                                 Traceback (most recent call last)",
      "\u001b[0;32m/var/folders/d1/cxdjwgp51f5d7gdfhsq3484h0000gn/T/ipykernel_16824/1296730628.py\u001b[0m in \u001b[0;36m<module>\u001b[0;34m\u001b[0m\n\u001b[0;32m----> 1\u001b[0;31m model.compile(\n\u001b[0m\u001b[1;32m      2\u001b[0m   \u001b[0mloss\u001b[0m\u001b[0;34m=\u001b[0m\u001b[0;34m'categorical_crossentropy'\u001b[0m\u001b[0;34m,\u001b[0m\u001b[0;34m\u001b[0m\u001b[0;34m\u001b[0m\u001b[0m\n\u001b[1;32m      3\u001b[0m   \u001b[0moptimizer\u001b[0m\u001b[0;34m=\u001b[0m\u001b[0;34m'adam'\u001b[0m\u001b[0;34m,\u001b[0m\u001b[0;34m\u001b[0m\u001b[0;34m\u001b[0m\u001b[0m\n\u001b[1;32m      4\u001b[0m   \u001b[0mmetrics\u001b[0m\u001b[0;34m=\u001b[0m\u001b[0;34m[\u001b[0m\u001b[0;34m'accuracy'\u001b[0m\u001b[0;34m]\u001b[0m\u001b[0;34m\u001b[0m\u001b[0;34m\u001b[0m\u001b[0m\n\u001b[1;32m      5\u001b[0m )\n",
      "\u001b[0;31mNameError\u001b[0m: name 'model' is not defined"
     ]
    }
   ],
   "source": [
    "model.compile(\n",
    "  loss='categorical_crossentropy',\n",
    "  optimizer='adam',\n",
    "  metrics=['accuracy']\n",
    ")"
   ]
  },
  {
   "cell_type": "code",
   "execution_count": 51,
   "metadata": {
    "executionInfo": {
     "elapsed": 1,
     "status": "ok",
     "timestamp": 1650130031494,
     "user": {
      "displayName": "Sanjay Arakkan",
      "userId": "14929584495435146374"
     },
     "user_tz": -330
    },
    "id": "twsyGpb0XZ9K"
   },
   "outputs": [
    {
     "ename": "NameError",
     "evalue": "name 'model' is not defined",
     "output_type": "error",
     "traceback": [
      "\u001b[0;31m---------------------------------------------------------------------------\u001b[0m",
      "\u001b[0;31mNameError\u001b[0m                                 Traceback (most recent call last)",
      "\u001b[0;32m/var/folders/d1/cxdjwgp51f5d7gdfhsq3484h0000gn/T/ipykernel_16824/1363003330.py\u001b[0m in \u001b[0;36m<module>\u001b[0;34m\u001b[0m\n\u001b[0;32m----> 1\u001b[0;31m \u001b[0mmodel\u001b[0m\u001b[0;34m.\u001b[0m\u001b[0mbuild\u001b[0m\u001b[0;34m(\u001b[0m\u001b[0;34m)\u001b[0m\u001b[0;34m\u001b[0m\u001b[0;34m\u001b[0m\u001b[0m\n\u001b[0m",
      "\u001b[0;31mNameError\u001b[0m: name 'model' is not defined"
     ]
    }
   ],
   "source": [
    "model.build()"
   ]
  },
  {
   "cell_type": "code",
   "execution_count": 52,
   "metadata": {
    "colab": {
     "base_uri": "https://localhost:8080/"
    },
    "executionInfo": {
     "elapsed": 8,
     "status": "ok",
     "timestamp": 1650130032090,
     "user": {
      "displayName": "Sanjay Arakkan",
      "userId": "14929584495435146374"
     },
     "user_tz": -330
    },
    "id": "javTwI6KXbYp",
    "outputId": "4c16617a-64af-41a2-feae-44292d1fe6f0"
   },
   "outputs": [
    {
     "ename": "NameError",
     "evalue": "name 'model' is not defined",
     "output_type": "error",
     "traceback": [
      "\u001b[0;31m---------------------------------------------------------------------------\u001b[0m",
      "\u001b[0;31mNameError\u001b[0m                                 Traceback (most recent call last)",
      "\u001b[0;32m/var/folders/d1/cxdjwgp51f5d7gdfhsq3484h0000gn/T/ipykernel_16824/3470139634.py\u001b[0m in \u001b[0;36m<module>\u001b[0;34m\u001b[0m\n\u001b[0;32m----> 1\u001b[0;31m \u001b[0mmodel\u001b[0m\u001b[0;34m.\u001b[0m\u001b[0msummary\u001b[0m\u001b[0;34m(\u001b[0m\u001b[0;34m)\u001b[0m\u001b[0;34m\u001b[0m\u001b[0;34m\u001b[0m\u001b[0m\n\u001b[0m",
      "\u001b[0;31mNameError\u001b[0m: name 'model' is not defined"
     ]
    }
   ],
   "source": [
    "model.summary()"
   ]
  },
  {
   "cell_type": "code",
   "execution_count": 53,
   "metadata": {
    "executionInfo": {
     "elapsed": 565,
     "status": "ok",
     "timestamp": 1650130045471,
     "user": {
      "displayName": "Sanjay Arakkan",
      "userId": "14929584495435146374"
     },
     "user_tz": -330
    },
    "id": "U43C0LnzXcaH"
   },
   "outputs": [
    {
     "ename": "NameError",
     "evalue": "name 'EarlyStopping' is not defined",
     "output_type": "error",
     "traceback": [
      "\u001b[0;31m---------------------------------------------------------------------------\u001b[0m",
      "\u001b[0;31mNameError\u001b[0m                                 Traceback (most recent call last)",
      "\u001b[0;32m/var/folders/d1/cxdjwgp51f5d7gdfhsq3484h0000gn/T/ipykernel_16824/2763979226.py\u001b[0m in \u001b[0;36m<module>\u001b[0;34m\u001b[0m\n\u001b[0;32m----> 1\u001b[0;31m early_stopping = EarlyStopping(\n\u001b[0m\u001b[1;32m      2\u001b[0m   \u001b[0mmonitor\u001b[0m\u001b[0;34m=\u001b[0m\u001b[0;34m'val_accuracy'\u001b[0m\u001b[0;34m,\u001b[0m\u001b[0;34m\u001b[0m\u001b[0;34m\u001b[0m\u001b[0m\n\u001b[1;32m      3\u001b[0m   \u001b[0mpatience\u001b[0m\u001b[0;34m=\u001b[0m\u001b[0;36m10\u001b[0m\u001b[0;34m,\u001b[0m\u001b[0;34m\u001b[0m\u001b[0;34m\u001b[0m\u001b[0m\n\u001b[1;32m      4\u001b[0m   \u001b[0mverbose\u001b[0m\u001b[0;34m=\u001b[0m\u001b[0;36m1\u001b[0m\u001b[0;34m,\u001b[0m\u001b[0;34m\u001b[0m\u001b[0;34m\u001b[0m\u001b[0m\n\u001b[1;32m      5\u001b[0m   \u001b[0mmode\u001b[0m\u001b[0;34m=\u001b[0m\u001b[0;34m'auto'\u001b[0m\u001b[0;34m\u001b[0m\u001b[0;34m\u001b[0m\u001b[0m\n",
      "\u001b[0;31mNameError\u001b[0m: name 'EarlyStopping' is not defined"
     ]
    }
   ],
   "source": [
    "early_stopping = EarlyStopping(\n",
    "  monitor='val_accuracy',\n",
    "  patience=10,\n",
    "  verbose=1,\n",
    "  mode='auto'\n",
    ")"
   ]
  },
  {
   "cell_type": "code",
   "execution_count": 54,
   "metadata": {
    "executionInfo": {
     "elapsed": 1,
     "status": "ok",
     "timestamp": 1650130046084,
     "user": {
      "displayName": "Sanjay Arakkan",
      "userId": "14929584495435146374"
     },
     "user_tz": -330
    },
    "id": "PRX886B7XeHD"
   },
   "outputs": [
    {
     "ename": "NameError",
     "evalue": "name 'early_stopping' is not defined",
     "output_type": "error",
     "traceback": [
      "\u001b[0;31m---------------------------------------------------------------------------\u001b[0m",
      "\u001b[0;31mNameError\u001b[0m                                 Traceback (most recent call last)",
      "\u001b[0;32m/var/folders/d1/cxdjwgp51f5d7gdfhsq3484h0000gn/T/ipykernel_16824/4063942286.py\u001b[0m in \u001b[0;36m<module>\u001b[0;34m\u001b[0m\n\u001b[0;32m----> 1\u001b[0;31m \u001b[0mcallbacks\u001b[0m \u001b[0;34m=\u001b[0m \u001b[0;34m[\u001b[0m\u001b[0mearly_stopping\u001b[0m\u001b[0;34m]\u001b[0m\u001b[0;34m\u001b[0m\u001b[0;34m\u001b[0m\u001b[0m\n\u001b[0m",
      "\u001b[0;31mNameError\u001b[0m: name 'early_stopping' is not defined"
     ]
    }
   ],
   "source": [
    "callbacks = [early_stopping]  "
   ]
  },
  {
   "cell_type": "code",
   "execution_count": 55,
   "metadata": {
    "colab": {
     "base_uri": "https://localhost:8080/"
    },
    "executionInfo": {
     "elapsed": 4,
     "status": "ok",
     "timestamp": 1650130046552,
     "user": {
      "displayName": "Sanjay Arakkan",
      "userId": "14929584495435146374"
     },
     "user_tz": -330
    },
    "id": "FH2CL1-DZVEV",
    "outputId": "36a094cd-38c2-471a-8576-6775fc0e0752"
   },
   "outputs": [
    {
     "name": "stdout",
     "output_type": "stream",
     "text": [
      "(3182, 64, 64, 3)\n",
      "(1568, 64, 64, 3)\n",
      "(3182, 13)\n",
      "(1568, 13)\n"
     ]
    }
   ],
   "source": [
    "print(X_train.shape)\n",
    "print(X_test.shape)\n",
    "print(y_train.shape)\n",
    "print(y_test.shape)"
   ]
  },
  {
   "cell_type": "code",
   "execution_count": 56,
   "metadata": {
    "colab": {
     "base_uri": "https://localhost:8080/"
    },
    "executionInfo": {
     "elapsed": 392727,
     "status": "ok",
     "timestamp": 1650130446210,
     "user": {
      "displayName": "Sanjay Arakkan",
      "userId": "14929584495435146374"
     },
     "user_tz": -330
    },
    "id": "M2LjrgawXfRK",
    "outputId": "a3e30527-489a-42b1-e9c1-55ef384f9e65"
   },
   "outputs": [
    {
     "ename": "NameError",
     "evalue": "name 'model' is not defined",
     "output_type": "error",
     "traceback": [
      "\u001b[0;31m---------------------------------------------------------------------------\u001b[0m",
      "\u001b[0;31mNameError\u001b[0m                                 Traceback (most recent call last)",
      "\u001b[0;32m/var/folders/d1/cxdjwgp51f5d7gdfhsq3484h0000gn/T/ipykernel_16824/3650879401.py\u001b[0m in \u001b[0;36m<module>\u001b[0;34m\u001b[0m\n\u001b[1;32m      2\u001b[0m \u001b[0mepochs\u001b[0m \u001b[0;34m=\u001b[0m \u001b[0;36m100\u001b[0m\u001b[0;34m\u001b[0m\u001b[0;34m\u001b[0m\u001b[0m\n\u001b[1;32m      3\u001b[0m \u001b[0;34m\u001b[0m\u001b[0m\n\u001b[0;32m----> 4\u001b[0;31m model.fit(\n\u001b[0m\u001b[1;32m      5\u001b[0m   \u001b[0mX_train\u001b[0m\u001b[0;34m,\u001b[0m \u001b[0my_train\u001b[0m\u001b[0;34m,\u001b[0m\u001b[0;34m\u001b[0m\u001b[0;34m\u001b[0m\u001b[0m\n\u001b[1;32m      6\u001b[0m   \u001b[0mbatch_size\u001b[0m\u001b[0;34m=\u001b[0m\u001b[0mbatch_size\u001b[0m\u001b[0;34m,\u001b[0m\u001b[0;34m\u001b[0m\u001b[0;34m\u001b[0m\u001b[0m\n",
      "\u001b[0;31mNameError\u001b[0m: name 'model' is not defined"
     ]
    }
   ],
   "source": [
    "batch_size = 32\n",
    "epochs = 100\n",
    "\n",
    "model.fit(\n",
    "  X_train, y_train, \n",
    "  batch_size=batch_size, \n",
    "  epochs=epochs,\n",
    "  validation_data=(X_test, y_test),\n",
    "  callbacks=callbacks\n",
    ")"
   ]
  },
  {
   "cell_type": "markdown",
   "metadata": {
    "id": "OlyU0ku_cPTD"
   },
   "source": [
    "The model is highly overfit for the data that is available. To generalise the model more we need more data. This can be easily achieved through augmentation. But augmentation is not a part of this project. Hence it is not used."
   ]
  },
  {
   "cell_type": "code",
   "execution_count": 71,
   "metadata": {
    "executionInfo": {
     "elapsed": 336,
     "status": "ok",
     "timestamp": 1650131239168,
     "user": {
      "displayName": "Sanjay Arakkan",
      "userId": "14929584495435146374"
     },
     "user_tz": -330
    },
    "id": "h5IjM2_oXgjq"
   },
   "outputs": [],
   "source": [
    "pred = model.predict(X_test[9:10]) "
   ]
  },
  {
   "cell_type": "code",
   "execution_count": 72,
   "metadata": {
    "colab": {
     "base_uri": "https://localhost:8080/"
    },
    "executionInfo": {
     "elapsed": 427,
     "status": "ok",
     "timestamp": 1650131242124,
     "user": {
      "displayName": "Sanjay Arakkan",
      "userId": "14929584495435146374"
     },
     "user_tz": -330
    },
    "id": "1SbUNLA1dqzk",
    "outputId": "79e4e465-e67d-419f-d265-ea63f79571db"
   },
   "outputs": [
    {
     "data": {
      "text/plain": [
       "array([1.6721874e-03, 3.2256356e-08, 1.6461132e-06, 1.6649852e-03,\n",
       "       7.7531557e-05, 9.0594327e-01, 3.2114111e-02, 2.9227346e-07,\n",
       "       1.9135719e-04, 5.7616185e-02, 7.1680365e-04, 1.6115795e-06],\n",
       "      dtype=float32)"
      ]
     },
     "execution_count": 72,
     "metadata": {},
     "output_type": "execute_result"
    }
   ],
   "source": [
    "pred[0]"
   ]
  },
  {
   "cell_type": "code",
   "execution_count": 73,
   "metadata": {
    "colab": {
     "base_uri": "https://localhost:8080/"
    },
    "executionInfo": {
     "elapsed": 2,
     "status": "ok",
     "timestamp": 1650131243271,
     "user": {
      "displayName": "Sanjay Arakkan",
      "userId": "14929584495435146374"
     },
     "user_tz": -330
    },
    "id": "XQ7nMXk0eSxK",
    "outputId": "ae618c40-ef8f-4879-e877-b084fbf1fac8"
   },
   "outputs": [
    {
     "data": {
      "text/plain": [
       "5"
      ]
     },
     "execution_count": 73,
     "metadata": {},
     "output_type": "execute_result"
    }
   ],
   "source": [
    "pred[0].argmax()"
   ]
  },
  {
   "cell_type": "code",
   "execution_count": 80,
   "metadata": {
    "colab": {
     "base_uri": "https://localhost:8080/",
     "height": 35
    },
    "executionInfo": {
     "elapsed": 550,
     "status": "ok",
     "timestamp": 1650131336668,
     "user": {
      "displayName": "Sanjay Arakkan",
      "userId": "14929584495435146374"
     },
     "user_tz": -330
    },
    "id": "ZtT91BFhepCv",
    "outputId": "b11d2f2d-930f-42d0-c9f1-30c17744ee1e"
   },
   "outputs": [
    {
     "data": {
      "application/vnd.google.colaboratory.intrinsic+json": {
       "type": "string"
      },
      "text/plain": [
       "'Fat Hen'"
      ]
     },
     "execution_count": 80,
     "metadata": {},
     "output_type": "execute_result"
    }
   ],
   "source": [
    "classes[5]"
   ]
  },
  {
   "cell_type": "code",
   "execution_count": 81,
   "metadata": {
    "colab": {
     "base_uri": "https://localhost:8080/"
    },
    "executionInfo": {
     "elapsed": 317,
     "status": "ok",
     "timestamp": 1650131362249,
     "user": {
      "displayName": "Sanjay Arakkan",
      "userId": "14929584495435146374"
     },
     "user_tz": -330
    },
    "id": "DFcFl2I-etIO",
    "outputId": "607c4044-89f3-4320-f5b0-c538c036104e"
   },
   "outputs": [
    {
     "data": {
      "text/plain": [
       "5"
      ]
     },
     "execution_count": 81,
     "metadata": {},
     "output_type": "execute_result"
    }
   ],
   "source": [
    "y_test[9:10].argmax()"
   ]
  }
 ],
 "metadata": {
  "accelerator": "GPU",
  "colab": {
   "authorship_tag": "ABX9TyPNXiGGs+xlX2VyddP9fe+a",
   "collapsed_sections": [],
   "mount_file_id": "1sLIKptKVCBMy9aXPx1WWbHU0hrv_vRtf",
   "name": "CNN Project.ipynb",
   "provenance": []
  },
  "kernelspec": {
   "display_name": "Python 3 (ipykernel)",
   "language": "python",
   "name": "python3"
  },
  "language_info": {
   "codemirror_mode": {
    "name": "ipython",
    "version": 3
   },
   "file_extension": ".py",
   "mimetype": "text/x-python",
   "name": "python",
   "nbconvert_exporter": "python",
   "pygments_lexer": "ipython3",
   "version": "3.7.13"
  }
 },
 "nbformat": 4,
 "nbformat_minor": 1
}
