{
 "cells": [
  {
   "cell_type": "markdown",
   "metadata": {
    "id": "ODjTVw-CNoRL"
   },
   "source": [
    "#Import and understand the data"
   ]
  },
  {
   "cell_type": "code",
   "execution_count": 1,
   "metadata": {
    "executionInfo": {
     "elapsed": 4064,
     "status": "ok",
     "timestamp": 1650129843941,
     "user": {
      "displayName": "Sanjay Arakkan",
      "userId": "14929584495435146374"
     },
     "user_tz": -330
    },
    "id": "kKmjsRxmPIQT"
   },
   "outputs": [],
   "source": [
    "# import packages\n",
    "\n",
    "import numpy as np\n",
    "import pandas as pd\n",
    "import matplotlib.pyplot as plt\n",
    "%matplotlib inline\n",
    "import seaborn as sns\n",
    "import pathlib\n",
    "import os\n",
    "import cv2\n",
    "\n",
    "import tensorflow as tf\n",
    "from tensorflow import keras\n",
    "from sklearn.model_selection import train_test_split"
   ]
  },
  {
   "cell_type": "code",
   "execution_count": 2,
   "metadata": {
    "colab": {
     "base_uri": "https://localhost:8080/"
    },
    "executionInfo": {
     "elapsed": 5,
     "status": "ok",
     "timestamp": 1650129843941,
     "user": {
      "displayName": "Sanjay Arakkan",
      "userId": "14929584495435146374"
     },
     "user_tz": -330
    },
    "id": "f2aJ9dU4UATc",
    "outputId": "563447a4-8f95-44b5-831e-dc076fd4a183"
   },
   "outputs": [
    {
     "name": "stdout",
     "output_type": "stream",
     "text": [
      "2.0.0\n"
     ]
    }
   ],
   "source": [
    "print(tf.__version__)"
   ]
  },
  {
   "cell_type": "code",
   "execution_count": 3,
   "metadata": {
    "executionInfo": {
     "elapsed": 3,
     "status": "ok",
     "timestamp": 1650129843941,
     "user": {
      "displayName": "Sanjay Arakkan",
      "userId": "14929584495435146374"
     },
     "user_tz": -330
    },
    "id": "_t17npWFtAoi"
   },
   "outputs": [],
   "source": [
    "# extract zip\n",
    "\n",
    "#!unzip \"/content/drive/MyDrive/greatlearning/CNN Project/Dataset - Plant-seedlings-classification.zip\" -d \"/content/drive/MyDrive/greatlearning/CNN Project/Plant Seedling Classification\""
   ]
  },
  {
   "cell_type": "code",
   "execution_count": 4,
   "metadata": {
    "executionInfo": {
     "elapsed": 4,
     "status": "ok",
     "timestamp": 1650129843942,
     "user": {
      "displayName": "Sanjay Arakkan",
      "userId": "14929584495435146374"
     },
     "user_tz": -330
    },
    "id": "NM0vPx2UMz4q"
   },
   "outputs": [],
   "source": [
    "# map the images from train folder with train labels to form a dataframe\n",
    "\n",
    "data_dir = \"./plant-seedlings-classification\""
   ]
  },
  {
   "cell_type": "code",
   "execution_count": 5,
   "metadata": {
    "executionInfo": {
     "elapsed": 4,
     "status": "ok",
     "timestamp": 1650129843942,
     "user": {
      "displayName": "Sanjay Arakkan",
      "userId": "14929584495435146374"
     },
     "user_tz": -330
    },
    "id": "1BOto_ueUwL5"
   },
   "outputs": [
    {
     "ename": "FileNotFoundError",
     "evalue": "[Errno 2] No such file or directory: '/content/drive/MyDrive/greatlearning/CNN Project/Plant Seedling Classification/train'",
     "output_type": "error",
     "traceback": [
      "\u001b[0;31m---------------------------------------------------------------------------\u001b[0m",
      "\u001b[0;31mFileNotFoundError\u001b[0m                         Traceback (most recent call last)",
      "\u001b[0;32m/var/folders/d1/cxdjwgp51f5d7gdfhsq3484h0000gn/T/ipykernel_16824/1220013244.py\u001b[0m in \u001b[0;36m<module>\u001b[0;34m\u001b[0m\n\u001b[1;32m      2\u001b[0m \u001b[0;34m\u001b[0m\u001b[0m\n\u001b[1;32m      3\u001b[0m \u001b[0mtrain_data\u001b[0m \u001b[0;34m=\u001b[0m \u001b[0mdata_dir\u001b[0m \u001b[0;34m+\u001b[0m \u001b[0;34m\"/train\"\u001b[0m\u001b[0;34m\u001b[0m\u001b[0;34m\u001b[0m\u001b[0m\n\u001b[0;32m----> 4\u001b[0;31m \u001b[0mclasses\u001b[0m \u001b[0;34m=\u001b[0m \u001b[0mos\u001b[0m\u001b[0;34m.\u001b[0m\u001b[0mlistdir\u001b[0m\u001b[0;34m(\u001b[0m\u001b[0mtrain_data\u001b[0m\u001b[0;34m)\u001b[0m\u001b[0;34m\u001b[0m\u001b[0;34m\u001b[0m\u001b[0m\n\u001b[0m\u001b[1;32m      5\u001b[0m \u001b[0;34m\u001b[0m\u001b[0m\n\u001b[1;32m      6\u001b[0m \u001b[0mfile_name\u001b[0m \u001b[0;34m=\u001b[0m \u001b[0;34m[\u001b[0m\u001b[0;34m]\u001b[0m\u001b[0;34m\u001b[0m\u001b[0;34m\u001b[0m\u001b[0m\n",
      "\u001b[0;31mFileNotFoundError\u001b[0m: [Errno 2] No such file or directory: '/content/drive/MyDrive/greatlearning/CNN Project/Plant Seedling Classification/train'"
     ]
    }
   ],
   "source": [
    "size = 64\n",
    "\n",
    "train_data = data_dir + \"/train\"\n",
    "classes = os.listdir(train_data)\n",
    "\n",
    "file_name = []\n",
    "species = []\n",
    "image_data = []"
   ]
  },
  {
   "cell_type": "code",
   "execution_count": 6,
   "metadata": {
    "executionInfo": {
     "elapsed": 4,
     "status": "ok",
     "timestamp": 1650129843942,
     "user": {
      "displayName": "Sanjay Arakkan",
      "userId": "14929584495435146374"
     },
     "user_tz": -330
    },
    "id": "tfUG9TNNZDHZ"
   },
   "outputs": [],
   "source": [
    "def extractImage(path):\n",
    "  images = os.listdir(path)\n",
    "  for image_name in images:\n",
    "    image = cv2.imread(path + \"/\" + image_name)\n",
    "    image_data.append(preprocessImage(image))\n",
    "    species.append(path.split(\"/\")[-1])\n",
    "    file_name.append(image_name)"
   ]
  },
  {
   "cell_type": "code",
   "execution_count": 7,
   "metadata": {
    "executionInfo": {
     "elapsed": 4,
     "status": "ok",
     "timestamp": 1650129843942,
     "user": {
      "displayName": "Sanjay Arakkan",
      "userId": "14929584495435146374"
     },
     "user_tz": -330
    },
    "id": "smS_8vHSaCO3"
   },
   "outputs": [],
   "source": [
    "def preprocessImage(image):\n",
    "  image = np.array(image, dtype = \"float32\")\n",
    "  image = cv2.resize(image, (size, size))\n",
    "  image = np.reshape(image, (size, size, 3)) \n",
    "  image /= 255.0\n",
    "  return np.array(image, dtype = \"float32\")"
   ]
  },
  {
   "cell_type": "code",
   "execution_count": 8,
   "metadata": {
    "executionInfo": {
     "elapsed": 75897,
     "status": "ok",
     "timestamp": 1650129919836,
     "user": {
      "displayName": "Sanjay Arakkan",
      "userId": "14929584495435146374"
     },
     "user_tz": -330
    },
    "id": "kF8M8lQmXB6_"
   },
   "outputs": [],
   "source": [
    "for class_name in classes:\n",
    "  extractImage(train_data + \"/\" + class_name)"
   ]
  },
  {
   "cell_type": "code",
   "execution_count": 9,
   "metadata": {
    "executionInfo": {
     "elapsed": 7,
     "status": "ok",
     "timestamp": 1650129919837,
     "user": {
      "displayName": "Sanjay Arakkan",
      "userId": "14929584495435146374"
     },
     "user_tz": -330
    },
    "id": "tpne8q2qes7Z"
   },
   "outputs": [],
   "source": [
    "seed_df = pd.DataFrame({\"file name\": file_name, \"species\": species, \"image data\": image_data})"
   ]
  },
  {
   "cell_type": "code",
   "execution_count": 10,
   "metadata": {
    "colab": {
     "base_uri": "https://localhost:8080/",
     "height": 206
    },
    "executionInfo": {
     "elapsed": 6756,
     "status": "ok",
     "timestamp": 1650129926587,
     "user": {
      "displayName": "Sanjay Arakkan",
      "userId": "14929584495435146374"
     },
     "user_tz": -330
    },
    "id": "tzjarIDsBXQ4",
    "outputId": "a3b9b5df-d7ec-4061-bfe6-3f8e7668d18f"
   },
   "outputs": [
    {
     "data": {
      "text/html": [
       "\n",
       "  <div id=\"df-8a02e8b4-771c-44e4-8613-fed578c95692\">\n",
       "    <div class=\"colab-df-container\">\n",
       "      <div>\n",
       "<style scoped>\n",
       "    .dataframe tbody tr th:only-of-type {\n",
       "        vertical-align: middle;\n",
       "    }\n",
       "\n",
       "    .dataframe tbody tr th {\n",
       "        vertical-align: top;\n",
       "    }\n",
       "\n",
       "    .dataframe thead th {\n",
       "        text-align: right;\n",
       "    }\n",
       "</style>\n",
       "<table border=\"1\" class=\"dataframe\">\n",
       "  <thead>\n",
       "    <tr style=\"text-align: right;\">\n",
       "      <th></th>\n",
       "      <th>file name</th>\n",
       "      <th>species</th>\n",
       "      <th>image data</th>\n",
       "    </tr>\n",
       "  </thead>\n",
       "  <tbody>\n",
       "    <tr>\n",
       "      <th>0</th>\n",
       "      <td>0183fdf68.png</td>\n",
       "      <td>Black-grass</td>\n",
       "      <td>[[[0.18335631, 0.20590916, 0.23322994], [0.196...</td>\n",
       "    </tr>\n",
       "    <tr>\n",
       "      <th>1</th>\n",
       "      <td>0260cffa8.png</td>\n",
       "      <td>Black-grass</td>\n",
       "      <td>[[[0.08539273, 0.12687558, 0.1856991], [0.1201...</td>\n",
       "    </tr>\n",
       "    <tr>\n",
       "      <th>2</th>\n",
       "      <td>0050f38b3.png</td>\n",
       "      <td>Black-grass</td>\n",
       "      <td>[[[0.09251302, 0.18246017, 0.30734146], [0.143...</td>\n",
       "    </tr>\n",
       "    <tr>\n",
       "      <th>3</th>\n",
       "      <td>05eedce4d.png</td>\n",
       "      <td>Black-grass</td>\n",
       "      <td>[[[0.19176696, 0.32280248, 0.41664106], [0.198...</td>\n",
       "    </tr>\n",
       "    <tr>\n",
       "      <th>4</th>\n",
       "      <td>075d004bc.png</td>\n",
       "      <td>Black-grass</td>\n",
       "      <td>[[[0.6736582, 0.6736582, 0.6691586], [0.656164...</td>\n",
       "    </tr>\n",
       "  </tbody>\n",
       "</table>\n",
       "</div>\n",
       "      <button class=\"colab-df-convert\" onclick=\"convertToInteractive('df-8a02e8b4-771c-44e4-8613-fed578c95692')\"\n",
       "              title=\"Convert this dataframe to an interactive table.\"\n",
       "              style=\"display:none;\">\n",
       "        \n",
       "  <svg xmlns=\"http://www.w3.org/2000/svg\" height=\"24px\"viewBox=\"0 0 24 24\"\n",
       "       width=\"24px\">\n",
       "    <path d=\"M0 0h24v24H0V0z\" fill=\"none\"/>\n",
       "    <path d=\"M18.56 5.44l.94 2.06.94-2.06 2.06-.94-2.06-.94-.94-2.06-.94 2.06-2.06.94zm-11 1L8.5 8.5l.94-2.06 2.06-.94-2.06-.94L8.5 2.5l-.94 2.06-2.06.94zm10 10l.94 2.06.94-2.06 2.06-.94-2.06-.94-.94-2.06-.94 2.06-2.06.94z\"/><path d=\"M17.41 7.96l-1.37-1.37c-.4-.4-.92-.59-1.43-.59-.52 0-1.04.2-1.43.59L10.3 9.45l-7.72 7.72c-.78.78-.78 2.05 0 2.83L4 21.41c.39.39.9.59 1.41.59.51 0 1.02-.2 1.41-.59l7.78-7.78 2.81-2.81c.8-.78.8-2.07 0-2.86zM5.41 20L4 18.59l7.72-7.72 1.47 1.35L5.41 20z\"/>\n",
       "  </svg>\n",
       "      </button>\n",
       "      \n",
       "  <style>\n",
       "    .colab-df-container {\n",
       "      display:flex;\n",
       "      flex-wrap:wrap;\n",
       "      gap: 12px;\n",
       "    }\n",
       "\n",
       "    .colab-df-convert {\n",
       "      background-color: #E8F0FE;\n",
       "      border: none;\n",
       "      border-radius: 50%;\n",
       "      cursor: pointer;\n",
       "      display: none;\n",
       "      fill: #1967D2;\n",
       "      height: 32px;\n",
       "      padding: 0 0 0 0;\n",
       "      width: 32px;\n",
       "    }\n",
       "\n",
       "    .colab-df-convert:hover {\n",
       "      background-color: #E2EBFA;\n",
       "      box-shadow: 0px 1px 2px rgba(60, 64, 67, 0.3), 0px 1px 3px 1px rgba(60, 64, 67, 0.15);\n",
       "      fill: #174EA6;\n",
       "    }\n",
       "\n",
       "    [theme=dark] .colab-df-convert {\n",
       "      background-color: #3B4455;\n",
       "      fill: #D2E3FC;\n",
       "    }\n",
       "\n",
       "    [theme=dark] .colab-df-convert:hover {\n",
       "      background-color: #434B5C;\n",
       "      box-shadow: 0px 1px 3px 1px rgba(0, 0, 0, 0.15);\n",
       "      filter: drop-shadow(0px 1px 2px rgba(0, 0, 0, 0.3));\n",
       "      fill: #FFFFFF;\n",
       "    }\n",
       "  </style>\n",
       "\n",
       "      <script>\n",
       "        const buttonEl =\n",
       "          document.querySelector('#df-8a02e8b4-771c-44e4-8613-fed578c95692 button.colab-df-convert');\n",
       "        buttonEl.style.display =\n",
       "          google.colab.kernel.accessAllowed ? 'block' : 'none';\n",
       "\n",
       "        async function convertToInteractive(key) {\n",
       "          const element = document.querySelector('#df-8a02e8b4-771c-44e4-8613-fed578c95692');\n",
       "          const dataTable =\n",
       "            await google.colab.kernel.invokeFunction('convertToInteractive',\n",
       "                                                     [key], {});\n",
       "          if (!dataTable) return;\n",
       "\n",
       "          const docLinkHtml = 'Like what you see? Visit the ' +\n",
       "            '<a target=\"_blank\" href=https://colab.research.google.com/notebooks/data_table.ipynb>data table notebook</a>'\n",
       "            + ' to learn more about interactive tables.';\n",
       "          element.innerHTML = '';\n",
       "          dataTable['output_type'] = 'display_data';\n",
       "          await google.colab.output.renderOutput(dataTable, element);\n",
       "          const docLink = document.createElement('div');\n",
       "          docLink.innerHTML = docLinkHtml;\n",
       "          element.appendChild(docLink);\n",
       "        }\n",
       "      </script>\n",
       "    </div>\n",
       "  </div>\n",
       "  "
      ],
      "text/plain": [
       "       file name      species  \\\n",
       "0  0183fdf68.png  Black-grass   \n",
       "1  0260cffa8.png  Black-grass   \n",
       "2  0050f38b3.png  Black-grass   \n",
       "3  05eedce4d.png  Black-grass   \n",
       "4  075d004bc.png  Black-grass   \n",
       "\n",
       "                                          image data  \n",
       "0  [[[0.18335631, 0.20590916, 0.23322994], [0.196...  \n",
       "1  [[[0.08539273, 0.12687558, 0.1856991], [0.1201...  \n",
       "2  [[[0.09251302, 0.18246017, 0.30734146], [0.143...  \n",
       "3  [[[0.19176696, 0.32280248, 0.41664106], [0.198...  \n",
       "4  [[[0.6736582, 0.6736582, 0.6691586], [0.656164...  "
      ]
     },
     "execution_count": 10,
     "metadata": {},
     "output_type": "execute_result"
    }
   ],
   "source": [
    "seed_df.head(5)"
   ]
  },
  {
   "cell_type": "code",
   "execution_count": 11,
   "metadata": {
    "colab": {
     "base_uri": "https://localhost:8080/"
    },
    "executionInfo": {
     "elapsed": 14,
     "status": "ok",
     "timestamp": 1650129926588,
     "user": {
      "displayName": "Sanjay Arakkan",
      "userId": "14929584495435146374"
     },
     "user_tz": -330
    },
    "id": "p55XafWlC8G2",
    "outputId": "10c22e27-7f7d-4f3d-ccab-b2104e3e1255"
   },
   "outputs": [
    {
     "name": "stdout",
     "output_type": "stream",
     "text": [
      "<class 'pandas.core.frame.DataFrame'>\n",
      "RangeIndex: 4750 entries, 0 to 4749\n",
      "Data columns (total 3 columns):\n",
      " #   Column      Non-Null Count  Dtype \n",
      "---  ------      --------------  ----- \n",
      " 0   file name   4750 non-null   object\n",
      " 1   species     4750 non-null   object\n",
      " 2   image data  4750 non-null   object\n",
      "dtypes: object(3)\n",
      "memory usage: 111.5+ KB\n"
     ]
    }
   ],
   "source": [
    "seed_df.info()"
   ]
  },
  {
   "cell_type": "code",
   "execution_count": 89,
   "metadata": {
    "executionInfo": {
     "elapsed": 324,
     "status": "ok",
     "timestamp": 1650131773913,
     "user": {
      "displayName": "Sanjay Arakkan",
      "userId": "14929584495435146374"
     },
     "user_tz": -330
    },
    "id": "r257r8Lj2Tq2"
   },
   "outputs": [],
   "source": [
    "# function that will select n random images\n",
    "\n",
    "def randomImages(input_num):\n",
    "  return seed_df[['image data', 'species']].sample(input_num)"
   ]
  },
  {
   "cell_type": "code",
   "execution_count": 90,
   "metadata": {
    "colab": {
     "base_uri": "https://localhost:8080/",
     "height": 112
    },
    "executionInfo": {
     "elapsed": 2433,
     "status": "ok",
     "timestamp": 1650131778472,
     "user": {
      "displayName": "Sanjay Arakkan",
      "userId": "14929584495435146374"
     },
     "user_tz": -330
    },
    "id": "jBatKPQEgtH_",
    "outputId": "c0e716b3-c825-497f-be2b-f8600fcb2ef0"
   },
   "outputs": [
    {
     "data": {
      "text/html": [
       "\n",
       "  <div id=\"df-666b9f57-475c-42e4-80c8-5c9f1dd31d2e\">\n",
       "    <div class=\"colab-df-container\">\n",
       "      <div>\n",
       "<style scoped>\n",
       "    .dataframe tbody tr th:only-of-type {\n",
       "        vertical-align: middle;\n",
       "    }\n",
       "\n",
       "    .dataframe tbody tr th {\n",
       "        vertical-align: top;\n",
       "    }\n",
       "\n",
       "    .dataframe thead th {\n",
       "        text-align: right;\n",
       "    }\n",
       "</style>\n",
       "<table border=\"1\" class=\"dataframe\">\n",
       "  <thead>\n",
       "    <tr style=\"text-align: right;\">\n",
       "      <th></th>\n",
       "      <th>image data</th>\n",
       "      <th>species</th>\n",
       "    </tr>\n",
       "  </thead>\n",
       "  <tbody>\n",
       "    <tr>\n",
       "      <th>1401</th>\n",
       "      <td>[[[0.08776808, 0.1573223, 0.25532705], [0.0931...</td>\n",
       "      <td>Common Chickweed</td>\n",
       "    </tr>\n",
       "    <tr>\n",
       "      <th>1905</th>\n",
       "      <td>[[[0.29411766, 0.31764707, 0.32941177], [0.294...</td>\n",
       "      <td>Fat Hen</td>\n",
       "    </tr>\n",
       "  </tbody>\n",
       "</table>\n",
       "</div>\n",
       "      <button class=\"colab-df-convert\" onclick=\"convertToInteractive('df-666b9f57-475c-42e4-80c8-5c9f1dd31d2e')\"\n",
       "              title=\"Convert this dataframe to an interactive table.\"\n",
       "              style=\"display:none;\">\n",
       "        \n",
       "  <svg xmlns=\"http://www.w3.org/2000/svg\" height=\"24px\"viewBox=\"0 0 24 24\"\n",
       "       width=\"24px\">\n",
       "    <path d=\"M0 0h24v24H0V0z\" fill=\"none\"/>\n",
       "    <path d=\"M18.56 5.44l.94 2.06.94-2.06 2.06-.94-2.06-.94-.94-2.06-.94 2.06-2.06.94zm-11 1L8.5 8.5l.94-2.06 2.06-.94-2.06-.94L8.5 2.5l-.94 2.06-2.06.94zm10 10l.94 2.06.94-2.06 2.06-.94-2.06-.94-.94-2.06-.94 2.06-2.06.94z\"/><path d=\"M17.41 7.96l-1.37-1.37c-.4-.4-.92-.59-1.43-.59-.52 0-1.04.2-1.43.59L10.3 9.45l-7.72 7.72c-.78.78-.78 2.05 0 2.83L4 21.41c.39.39.9.59 1.41.59.51 0 1.02-.2 1.41-.59l7.78-7.78 2.81-2.81c.8-.78.8-2.07 0-2.86zM5.41 20L4 18.59l7.72-7.72 1.47 1.35L5.41 20z\"/>\n",
       "  </svg>\n",
       "      </button>\n",
       "      \n",
       "  <style>\n",
       "    .colab-df-container {\n",
       "      display:flex;\n",
       "      flex-wrap:wrap;\n",
       "      gap: 12px;\n",
       "    }\n",
       "\n",
       "    .colab-df-convert {\n",
       "      background-color: #E8F0FE;\n",
       "      border: none;\n",
       "      border-radius: 50%;\n",
       "      cursor: pointer;\n",
       "      display: none;\n",
       "      fill: #1967D2;\n",
       "      height: 32px;\n",
       "      padding: 0 0 0 0;\n",
       "      width: 32px;\n",
       "    }\n",
       "\n",
       "    .colab-df-convert:hover {\n",
       "      background-color: #E2EBFA;\n",
       "      box-shadow: 0px 1px 2px rgba(60, 64, 67, 0.3), 0px 1px 3px 1px rgba(60, 64, 67, 0.15);\n",
       "      fill: #174EA6;\n",
       "    }\n",
       "\n",
       "    [theme=dark] .colab-df-convert {\n",
       "      background-color: #3B4455;\n",
       "      fill: #D2E3FC;\n",
       "    }\n",
       "\n",
       "    [theme=dark] .colab-df-convert:hover {\n",
       "      background-color: #434B5C;\n",
       "      box-shadow: 0px 1px 3px 1px rgba(0, 0, 0, 0.15);\n",
       "      filter: drop-shadow(0px 1px 2px rgba(0, 0, 0, 0.3));\n",
       "      fill: #FFFFFF;\n",
       "    }\n",
       "  </style>\n",
       "\n",
       "      <script>\n",
       "        const buttonEl =\n",
       "          document.querySelector('#df-666b9f57-475c-42e4-80c8-5c9f1dd31d2e button.colab-df-convert');\n",
       "        buttonEl.style.display =\n",
       "          google.colab.kernel.accessAllowed ? 'block' : 'none';\n",
       "\n",
       "        async function convertToInteractive(key) {\n",
       "          const element = document.querySelector('#df-666b9f57-475c-42e4-80c8-5c9f1dd31d2e');\n",
       "          const dataTable =\n",
       "            await google.colab.kernel.invokeFunction('convertToInteractive',\n",
       "                                                     [key], {});\n",
       "          if (!dataTable) return;\n",
       "\n",
       "          const docLinkHtml = 'Like what you see? Visit the ' +\n",
       "            '<a target=\"_blank\" href=https://colab.research.google.com/notebooks/data_table.ipynb>data table notebook</a>'\n",
       "            + ' to learn more about interactive tables.';\n",
       "          element.innerHTML = '';\n",
       "          dataTable['output_type'] = 'display_data';\n",
       "          await google.colab.output.renderOutput(dataTable, element);\n",
       "          const docLink = document.createElement('div');\n",
       "          docLink.innerHTML = docLinkHtml;\n",
       "          element.appendChild(docLink);\n",
       "        }\n",
       "      </script>\n",
       "    </div>\n",
       "  </div>\n",
       "  "
      ],
      "text/plain": [
       "                                             image data           species\n",
       "1401  [[[0.08776808, 0.1573223, 0.25532705], [0.0931...  Common Chickweed\n",
       "1905  [[[0.29411766, 0.31764707, 0.32941177], [0.294...           Fat Hen"
      ]
     },
     "execution_count": 90,
     "metadata": {},
     "output_type": "execute_result"
    }
   ],
   "source": [
    "randomImages(2)"
   ]
  },
  {
   "cell_type": "markdown",
   "metadata": {
    "id": "nl5U-OtWAXs6"
   },
   "source": [
    "#Data preprocessing"
   ]
  },
  {
   "cell_type": "code",
   "execution_count": 13,
   "metadata": {
    "executionInfo": {
     "elapsed": 9,
     "status": "ok",
     "timestamp": 1650129926588,
     "user": {
      "displayName": "Sanjay Arakkan",
      "userId": "14929584495435146374"
     },
     "user_tz": -330
    },
    "id": "FJxGwH2lAa0d"
   },
   "outputs": [],
   "source": [
    "# create x and y\n",
    "\n",
    "X = np.array(image_data, dtype = 'float32')\n",
    "y = seed_df['species']"
   ]
  },
  {
   "cell_type": "code",
   "execution_count": 14,
   "metadata": {
    "executionInfo": {
     "elapsed": 8,
     "status": "ok",
     "timestamp": 1650129926588,
     "user": {
      "displayName": "Sanjay Arakkan",
      "userId": "14929584495435146374"
     },
     "user_tz": -330
    },
    "id": "FYS_d8S4B9D2"
   },
   "outputs": [],
   "source": [
    "file_name = []\n",
    "species = []\n",
    "image_data = []"
   ]
  },
  {
   "cell_type": "code",
   "execution_count": 15,
   "metadata": {
    "executionInfo": {
     "elapsed": 8,
     "status": "ok",
     "timestamp": 1650129926588,
     "user": {
      "displayName": "Sanjay Arakkan",
      "userId": "14929584495435146374"
     },
     "user_tz": -330
    },
    "id": "MaIWiQ2cCQ31"
   },
   "outputs": [],
   "source": [
    "# encode the labels\n",
    "\n",
    "y = keras.utils.to_categorical(y.factorize()[0], len(classes))"
   ]
  },
  {
   "cell_type": "code",
   "execution_count": 16,
   "metadata": {
    "colab": {
     "base_uri": "https://localhost:8080/"
    },
    "executionInfo": {
     "elapsed": 10,
     "status": "ok",
     "timestamp": 1650129926590,
     "user": {
      "displayName": "Sanjay Arakkan",
      "userId": "14929584495435146374"
     },
     "user_tz": -330
    },
    "id": "pQIomuwCFp8P",
    "outputId": "1734df82-0465-4d02-b52d-bf3d7c31ab76"
   },
   "outputs": [
    {
     "data": {
      "text/plain": [
       "array([[1., 0., 0., ..., 0., 0., 0.],\n",
       "       [1., 0., 0., ..., 0., 0., 0.],\n",
       "       [1., 0., 0., ..., 0., 0., 0.],\n",
       "       ...,\n",
       "       [0., 0., 0., ..., 0., 0., 1.],\n",
       "       [0., 0., 0., ..., 0., 0., 1.],\n",
       "       [0., 0., 0., ..., 0., 0., 1.]], dtype=float32)"
      ]
     },
     "execution_count": 16,
     "metadata": {},
     "output_type": "execute_result"
    }
   ],
   "source": [
    "y"
   ]
  },
  {
   "cell_type": "code",
   "execution_count": 17,
   "metadata": {
    "colab": {
     "base_uri": "https://localhost:8080/"
    },
    "executionInfo": {
     "elapsed": 8,
     "status": "ok",
     "timestamp": 1650129926590,
     "user": {
      "displayName": "Sanjay Arakkan",
      "userId": "14929584495435146374"
     },
     "user_tz": -330
    },
    "id": "VDeJqX2RXrl1",
    "outputId": "e2efacd2-1103-4738-d274-3771226c34ad"
   },
   "outputs": [
    {
     "data": {
      "text/plain": [
       "(4750, 12)"
      ]
     },
     "execution_count": 17,
     "metadata": {},
     "output_type": "execute_result"
    }
   ],
   "source": [
    "y.shape"
   ]
  },
  {
   "cell_type": "code",
   "execution_count": 18,
   "metadata": {
    "executionInfo": {
     "elapsed": 7,
     "status": "ok",
     "timestamp": 1650129926590,
     "user": {
      "displayName": "Sanjay Arakkan",
      "userId": "14929584495435146374"
     },
     "user_tz": -330
    },
    "id": "194pFw58F20W"
   },
   "outputs": [],
   "source": [
    "# image is already unified and normalized in the preprocessing method\n",
    "\n",
    "# unify\n",
    "\n",
    "# normalize"
   ]
  },
  {
   "cell_type": "markdown",
   "metadata": {
    "id": "9-6lfcZiJ8zo"
   },
   "source": [
    "#Model training"
   ]
  },
  {
   "cell_type": "code",
   "execution_count": 19,
   "metadata": {
    "colab": {
     "base_uri": "https://localhost:8080/"
    },
    "executionInfo": {
     "elapsed": 7,
     "status": "ok",
     "timestamp": 1650129926590,
     "user": {
      "displayName": "Sanjay Arakkan",
      "userId": "14929584495435146374"
     },
     "user_tz": -330
    },
    "id": "iP_YM2oqJ-0D",
    "outputId": "fd577b12-40d7-4a32-beae-59c6d73ab197"
   },
   "outputs": [
    {
     "data": {
      "text/plain": [
       "(4750, 64, 64, 3)"
      ]
     },
     "execution_count": 19,
     "metadata": {},
     "output_type": "execute_result"
    }
   ],
   "source": [
    "X.shape"
   ]
  },
  {
   "cell_type": "code",
   "execution_count": 20,
   "metadata": {
    "executionInfo": {
     "elapsed": 6,
     "status": "ok",
     "timestamp": 1650129926590,
     "user": {
      "displayName": "Sanjay Arakkan",
      "userId": "14929584495435146374"
     },
     "user_tz": -330
    },
    "id": "ARhFTsvHJ6_F"
   },
   "outputs": [],
   "source": [
    "# split the data \n",
    "\n",
    "X_train, X_test, y_train, y_test = train_test_split(X, y, test_size=0.33, random_state=42)"
   ]
  },
  {
   "cell_type": "code",
   "execution_count": 29,
   "metadata": {
    "executionInfo": {
     "elapsed": 319,
     "status": "ok",
     "timestamp": 1650130026943,
     "user": {
      "displayName": "Sanjay Arakkan",
      "userId": "14929584495435146374"
     },
     "user_tz": -330
    },
    "id": "a_pxgqb4SYtx"
   },
   "outputs": [],
   "source": [
    "# create a CNN model\n",
    "\n",
    "from keras.models import Sequential\n",
    "from keras.layers.normalization.batch_normalization import BatchNormalization\n",
    "from keras.layers import Dense, Dropout, Flatten, Activation, Conv2D, MaxPooling2D\n",
    "from keras.callbacks import EarlyStopping\n",
    "\n",
    "model = Sequential([\n",
    "  Conv2D(64, 3, input_shape=(64, 64, 3)),\n",
    "  Activation('leaky_relu'),\n",
    "  BatchNormalization(),\n",
    "  Conv2D(128, 3),\n",
    "  Activation('leaky_relu'),\n",
    "  BatchNormalization(),\n",
    "  Conv2D(64, 3),\n",
    "  Activation('leaky_relu'),\n",
    "  BatchNormalization(),\n",
    "  Conv2D(32, 3),\n",
    "  Activation('leaky_relu'),\n",
    "  BatchNormalization(),\n",
    "  Flatten(),\n",
    "  Dense(128),\n",
    "  BatchNormalization(),\n",
    "  Dense(len(classes)),\n",
    "  Activation('softmax')\n",
    "])"
   ]
  },
  {
   "cell_type": "code",
   "execution_count": 30,
   "metadata": {
    "executionInfo": {
     "elapsed": 372,
     "status": "ok",
     "timestamp": 1650130030060,
     "user": {
      "displayName": "Sanjay Arakkan",
      "userId": "14929584495435146374"
     },
     "user_tz": -330
    },
    "id": "9oUkwIjqVbQ_"
   },
   "outputs": [],
   "source": [
    "model.compile(\n",
    "  loss='categorical_crossentropy',\n",
    "  optimizer='adam',\n",
    "  metrics=['accuracy']\n",
    ")"
   ]
  },
  {
   "cell_type": "code",
   "execution_count": 31,
   "metadata": {
    "executionInfo": {
     "elapsed": 1,
     "status": "ok",
     "timestamp": 1650130031494,
     "user": {
      "displayName": "Sanjay Arakkan",
      "userId": "14929584495435146374"
     },
     "user_tz": -330
    },
    "id": "twsyGpb0XZ9K"
   },
   "outputs": [],
   "source": [
    "model.build()"
   ]
  },
  {
   "cell_type": "code",
   "execution_count": 32,
   "metadata": {
    "colab": {
     "base_uri": "https://localhost:8080/"
    },
    "executionInfo": {
     "elapsed": 8,
     "status": "ok",
     "timestamp": 1650130032090,
     "user": {
      "displayName": "Sanjay Arakkan",
      "userId": "14929584495435146374"
     },
     "user_tz": -330
    },
    "id": "javTwI6KXbYp",
    "outputId": "4c16617a-64af-41a2-feae-44292d1fe6f0"
   },
   "outputs": [
    {
     "name": "stdout",
     "output_type": "stream",
     "text": [
      "Model: \"sequential_1\"\n",
      "_________________________________________________________________\n",
      " Layer (type)                Output Shape              Param #   \n",
      "=================================================================\n",
      " conv2d_4 (Conv2D)           (None, 62, 62, 64)        1792      \n",
      "                                                                 \n",
      " activation_5 (Activation)   (None, 62, 62, 64)        0         \n",
      "                                                                 \n",
      " batch_normalization_5 (Batc  (None, 62, 62, 64)       256       \n",
      " hNormalization)                                                 \n",
      "                                                                 \n",
      " conv2d_5 (Conv2D)           (None, 60, 60, 128)       73856     \n",
      "                                                                 \n",
      " activation_6 (Activation)   (None, 60, 60, 128)       0         \n",
      "                                                                 \n",
      " batch_normalization_6 (Batc  (None, 60, 60, 128)      512       \n",
      " hNormalization)                                                 \n",
      "                                                                 \n",
      " conv2d_6 (Conv2D)           (None, 58, 58, 64)        73792     \n",
      "                                                                 \n",
      " activation_7 (Activation)   (None, 58, 58, 64)        0         \n",
      "                                                                 \n",
      " batch_normalization_7 (Batc  (None, 58, 58, 64)       256       \n",
      " hNormalization)                                                 \n",
      "                                                                 \n",
      " conv2d_7 (Conv2D)           (None, 56, 56, 32)        18464     \n",
      "                                                                 \n",
      " activation_8 (Activation)   (None, 56, 56, 32)        0         \n",
      "                                                                 \n",
      " batch_normalization_8 (Batc  (None, 56, 56, 32)       128       \n",
      " hNormalization)                                                 \n",
      "                                                                 \n",
      " flatten_1 (Flatten)         (None, 100352)            0         \n",
      "                                                                 \n",
      " dense_2 (Dense)             (None, 128)               12845184  \n",
      "                                                                 \n",
      " batch_normalization_9 (Batc  (None, 128)              512       \n",
      " hNormalization)                                                 \n",
      "                                                                 \n",
      " dense_3 (Dense)             (None, 12)                1548      \n",
      "                                                                 \n",
      " activation_9 (Activation)   (None, 12)                0         \n",
      "                                                                 \n",
      "=================================================================\n",
      "Total params: 13,016,300\n",
      "Trainable params: 13,015,468\n",
      "Non-trainable params: 832\n",
      "_________________________________________________________________\n"
     ]
    }
   ],
   "source": [
    "model.summary()"
   ]
  },
  {
   "cell_type": "code",
   "execution_count": 34,
   "metadata": {
    "executionInfo": {
     "elapsed": 565,
     "status": "ok",
     "timestamp": 1650130045471,
     "user": {
      "displayName": "Sanjay Arakkan",
      "userId": "14929584495435146374"
     },
     "user_tz": -330
    },
    "id": "U43C0LnzXcaH"
   },
   "outputs": [],
   "source": [
    "early_stopping = EarlyStopping(\n",
    "  monitor='val_accuracy',\n",
    "  patience=10,\n",
    "  verbose=1,\n",
    "  mode='auto'\n",
    ")"
   ]
  },
  {
   "cell_type": "code",
   "execution_count": 35,
   "metadata": {
    "executionInfo": {
     "elapsed": 1,
     "status": "ok",
     "timestamp": 1650130046084,
     "user": {
      "displayName": "Sanjay Arakkan",
      "userId": "14929584495435146374"
     },
     "user_tz": -330
    },
    "id": "PRX886B7XeHD"
   },
   "outputs": [],
   "source": [
    "callbacks = [early_stopping]  "
   ]
  },
  {
   "cell_type": "code",
   "execution_count": 36,
   "metadata": {
    "colab": {
     "base_uri": "https://localhost:8080/"
    },
    "executionInfo": {
     "elapsed": 4,
     "status": "ok",
     "timestamp": 1650130046552,
     "user": {
      "displayName": "Sanjay Arakkan",
      "userId": "14929584495435146374"
     },
     "user_tz": -330
    },
    "id": "FH2CL1-DZVEV",
    "outputId": "36a094cd-38c2-471a-8576-6775fc0e0752"
   },
   "outputs": [
    {
     "name": "stdout",
     "output_type": "stream",
     "text": [
      "(3182, 64, 64, 3)\n",
      "(1568, 64, 64, 3)\n",
      "(3182, 12)\n",
      "(1568, 12)\n"
     ]
    }
   ],
   "source": [
    "print(X_train.shape)\n",
    "print(X_test.shape)\n",
    "print(y_train.shape)\n",
    "print(y_test.shape)"
   ]
  },
  {
   "cell_type": "code",
   "execution_count": 37,
   "metadata": {
    "colab": {
     "base_uri": "https://localhost:8080/"
    },
    "executionInfo": {
     "elapsed": 392727,
     "status": "ok",
     "timestamp": 1650130446210,
     "user": {
      "displayName": "Sanjay Arakkan",
      "userId": "14929584495435146374"
     },
     "user_tz": -330
    },
    "id": "M2LjrgawXfRK",
    "outputId": "a3e30527-489a-42b1-e9c1-55ef384f9e65"
   },
   "outputs": [
    {
     "name": "stdout",
     "output_type": "stream",
     "text": [
      "Epoch 1/100\n",
      "100/100 [==============================] - 26s 103ms/step - loss: 1.6530 - accuracy: 0.5245 - val_loss: 5.4483 - val_accuracy: 0.1071\n",
      "Epoch 2/100\n",
      "100/100 [==============================] - 11s 107ms/step - loss: 0.8273 - accuracy: 0.7363 - val_loss: 7.7120 - val_accuracy: 0.0459\n",
      "Epoch 3/100\n",
      "100/100 [==============================] - 9s 95ms/step - loss: 0.6217 - accuracy: 0.8014 - val_loss: 7.2830 - val_accuracy: 0.0568\n",
      "Epoch 4/100\n",
      "100/100 [==============================] - 9s 95ms/step - loss: 0.3826 - accuracy: 0.8850 - val_loss: 6.9146 - val_accuracy: 0.1148\n",
      "Epoch 5/100\n",
      "100/100 [==============================] - 10s 98ms/step - loss: 0.1922 - accuracy: 0.9494 - val_loss: 3.7269 - val_accuracy: 0.2908\n",
      "Epoch 6/100\n",
      "100/100 [==============================] - 10s 95ms/step - loss: 0.1033 - accuracy: 0.9736 - val_loss: 2.6683 - val_accuracy: 0.3457\n",
      "Epoch 7/100\n",
      "100/100 [==============================] - 10s 95ms/step - loss: 0.0777 - accuracy: 0.9830 - val_loss: 3.2061 - val_accuracy: 0.3629\n",
      "Epoch 8/100\n",
      "100/100 [==============================] - 10s 96ms/step - loss: 0.0284 - accuracy: 0.9947 - val_loss: 1.1969 - val_accuracy: 0.6754\n",
      "Epoch 9/100\n",
      "100/100 [==============================] - 10s 100ms/step - loss: 0.0288 - accuracy: 0.9931 - val_loss: 2.6729 - val_accuracy: 0.5121\n",
      "Epoch 10/100\n",
      "100/100 [==============================] - 10s 96ms/step - loss: 0.0361 - accuracy: 0.9918 - val_loss: 1.5558 - val_accuracy: 0.6231\n",
      "Epoch 11/100\n",
      "100/100 [==============================] - 9s 95ms/step - loss: 0.0167 - accuracy: 0.9972 - val_loss: 1.5656 - val_accuracy: 0.6352\n",
      "Epoch 12/100\n",
      "100/100 [==============================] - 9s 95ms/step - loss: 0.0115 - accuracy: 0.9981 - val_loss: 1.8443 - val_accuracy: 0.5676\n",
      "Epoch 13/100\n",
      "100/100 [==============================] - 9s 95ms/step - loss: 0.0087 - accuracy: 0.9994 - val_loss: 1.6016 - val_accuracy: 0.6052\n",
      "Epoch 14/100\n",
      "100/100 [==============================] - 10s 95ms/step - loss: 0.0061 - accuracy: 0.9997 - val_loss: 1.2292 - val_accuracy: 0.6932\n",
      "Epoch 15/100\n",
      "100/100 [==============================] - 9s 94ms/step - loss: 0.0080 - accuracy: 0.9991 - val_loss: 1.2423 - val_accuracy: 0.6939\n",
      "Epoch 16/100\n",
      "100/100 [==============================] - 9s 95ms/step - loss: 0.0056 - accuracy: 0.9987 - val_loss: 2.2375 - val_accuracy: 0.5599\n",
      "Epoch 17/100\n",
      "100/100 [==============================] - 9s 95ms/step - loss: 0.0526 - accuracy: 0.9868 - val_loss: 14.3795 - val_accuracy: 0.1499\n",
      "Epoch 18/100\n",
      "100/100 [==============================] - 10s 95ms/step - loss: 0.1151 - accuracy: 0.9648 - val_loss: 2.1790 - val_accuracy: 0.5708\n",
      "Epoch 19/100\n",
      "100/100 [==============================] - 9s 95ms/step - loss: 0.0588 - accuracy: 0.9815 - val_loss: 3.9495 - val_accuracy: 0.4311\n",
      "Epoch 20/100\n",
      "100/100 [==============================] - 11s 108ms/step - loss: 0.0449 - accuracy: 0.9884 - val_loss: 2.0613 - val_accuracy: 0.5784\n",
      "Epoch 21/100\n",
      "100/100 [==============================] - 9s 95ms/step - loss: 0.0211 - accuracy: 0.9950 - val_loss: 1.7070 - val_accuracy: 0.6327\n",
      "Epoch 22/100\n",
      "100/100 [==============================] - 9s 95ms/step - loss: 0.0159 - accuracy: 0.9959 - val_loss: 1.8892 - val_accuracy: 0.6199\n",
      "Epoch 23/100\n",
      "100/100 [==============================] - 9s 95ms/step - loss: 0.0116 - accuracy: 0.9978 - val_loss: 1.5703 - val_accuracy: 0.6626\n",
      "Epoch 24/100\n",
      "100/100 [==============================] - 9s 95ms/step - loss: 0.0052 - accuracy: 0.9997 - val_loss: 1.3125 - val_accuracy: 0.7041\n",
      "Epoch 25/100\n",
      "100/100 [==============================] - 9s 95ms/step - loss: 0.0025 - accuracy: 1.0000 - val_loss: 1.3773 - val_accuracy: 0.6939\n",
      "Epoch 26/100\n",
      "100/100 [==============================] - 10s 95ms/step - loss: 0.0014 - accuracy: 1.0000 - val_loss: 1.3126 - val_accuracy: 0.7149\n",
      "Epoch 27/100\n",
      "100/100 [==============================] - 10s 97ms/step - loss: 0.0013 - accuracy: 1.0000 - val_loss: 1.3871 - val_accuracy: 0.7073\n",
      "Epoch 28/100\n",
      "100/100 [==============================] - 10s 95ms/step - loss: 9.9563e-04 - accuracy: 1.0000 - val_loss: 1.3796 - val_accuracy: 0.6939\n",
      "Epoch 29/100\n",
      "100/100 [==============================] - 10s 96ms/step - loss: 8.1949e-04 - accuracy: 1.0000 - val_loss: 1.3169 - val_accuracy: 0.7194\n",
      "Epoch 30/100\n",
      "100/100 [==============================] - 11s 109ms/step - loss: 9.5694e-04 - accuracy: 1.0000 - val_loss: 1.3251 - val_accuracy: 0.7111\n",
      "Epoch 31/100\n",
      "100/100 [==============================] - 10s 96ms/step - loss: 0.0012 - accuracy: 1.0000 - val_loss: 1.3962 - val_accuracy: 0.7060\n",
      "Epoch 32/100\n",
      "100/100 [==============================] - 10s 95ms/step - loss: 8.3151e-04 - accuracy: 1.0000 - val_loss: 1.3324 - val_accuracy: 0.7085\n",
      "Epoch 33/100\n",
      "100/100 [==============================] - 10s 96ms/step - loss: 8.2533e-04 - accuracy: 1.0000 - val_loss: 1.3595 - val_accuracy: 0.7105\n",
      "Epoch 34/100\n",
      "100/100 [==============================] - 9s 95ms/step - loss: 0.0124 - accuracy: 0.9959 - val_loss: 4.6734 - val_accuracy: 0.4853\n",
      "Epoch 35/100\n",
      "100/100 [==============================] - 9s 95ms/step - loss: 0.1284 - accuracy: 0.9607 - val_loss: 8.2510 - val_accuracy: 0.3431\n",
      "Epoch 36/100\n",
      "100/100 [==============================] - 9s 95ms/step - loss: 0.1753 - accuracy: 0.9450 - val_loss: 3.1923 - val_accuracy: 0.5599\n",
      "Epoch 37/100\n",
      "100/100 [==============================] - 10s 96ms/step - loss: 0.0759 - accuracy: 0.9752 - val_loss: 2.9468 - val_accuracy: 0.5791\n",
      "Epoch 38/100\n",
      "100/100 [==============================] - 10s 96ms/step - loss: 0.0286 - accuracy: 0.9912 - val_loss: 1.4592 - val_accuracy: 0.6741\n",
      "Epoch 39/100\n",
      "100/100 [==============================] - 10s 95ms/step - loss: 0.0148 - accuracy: 0.9956 - val_loss: 1.4282 - val_accuracy: 0.6830\n",
      "Epoch 39: early stopping\n"
     ]
    },
    {
     "data": {
      "text/plain": [
       "<keras.callbacks.History at 0x7f0a90346c90>"
      ]
     },
     "execution_count": 37,
     "metadata": {},
     "output_type": "execute_result"
    }
   ],
   "source": [
    "batch_size = 32\n",
    "epochs = 100\n",
    "\n",
    "model.fit(\n",
    "  X_train, y_train, \n",
    "  batch_size=batch_size, \n",
    "  epochs=epochs,\n",
    "  validation_data=(X_test, y_test),\n",
    "  callbacks=callbacks\n",
    ")"
   ]
  },
  {
   "cell_type": "markdown",
   "metadata": {
    "id": "OlyU0ku_cPTD"
   },
   "source": [
    "The model is highly overfit for the data that is available. To generalise the model more we need more data. This can be easily achieved through augmentation. But augmentation is not a part of this project. Hence it is not used."
   ]
  },
  {
   "cell_type": "code",
   "execution_count": 71,
   "metadata": {
    "executionInfo": {
     "elapsed": 336,
     "status": "ok",
     "timestamp": 1650131239168,
     "user": {
      "displayName": "Sanjay Arakkan",
      "userId": "14929584495435146374"
     },
     "user_tz": -330
    },
    "id": "h5IjM2_oXgjq"
   },
   "outputs": [],
   "source": [
    "pred = model.predict(X_test[9:10]) "
   ]
  },
  {
   "cell_type": "code",
   "execution_count": 72,
   "metadata": {
    "colab": {
     "base_uri": "https://localhost:8080/"
    },
    "executionInfo": {
     "elapsed": 427,
     "status": "ok",
     "timestamp": 1650131242124,
     "user": {
      "displayName": "Sanjay Arakkan",
      "userId": "14929584495435146374"
     },
     "user_tz": -330
    },
    "id": "1SbUNLA1dqzk",
    "outputId": "79e4e465-e67d-419f-d265-ea63f79571db"
   },
   "outputs": [
    {
     "data": {
      "text/plain": [
       "array([1.6721874e-03, 3.2256356e-08, 1.6461132e-06, 1.6649852e-03,\n",
       "       7.7531557e-05, 9.0594327e-01, 3.2114111e-02, 2.9227346e-07,\n",
       "       1.9135719e-04, 5.7616185e-02, 7.1680365e-04, 1.6115795e-06],\n",
       "      dtype=float32)"
      ]
     },
     "execution_count": 72,
     "metadata": {},
     "output_type": "execute_result"
    }
   ],
   "source": [
    "pred[0]"
   ]
  },
  {
   "cell_type": "code",
   "execution_count": 73,
   "metadata": {
    "colab": {
     "base_uri": "https://localhost:8080/"
    },
    "executionInfo": {
     "elapsed": 2,
     "status": "ok",
     "timestamp": 1650131243271,
     "user": {
      "displayName": "Sanjay Arakkan",
      "userId": "14929584495435146374"
     },
     "user_tz": -330
    },
    "id": "XQ7nMXk0eSxK",
    "outputId": "ae618c40-ef8f-4879-e877-b084fbf1fac8"
   },
   "outputs": [
    {
     "data": {
      "text/plain": [
       "5"
      ]
     },
     "execution_count": 73,
     "metadata": {},
     "output_type": "execute_result"
    }
   ],
   "source": [
    "pred[0].argmax()"
   ]
  },
  {
   "cell_type": "code",
   "execution_count": 80,
   "metadata": {
    "colab": {
     "base_uri": "https://localhost:8080/",
     "height": 35
    },
    "executionInfo": {
     "elapsed": 550,
     "status": "ok",
     "timestamp": 1650131336668,
     "user": {
      "displayName": "Sanjay Arakkan",
      "userId": "14929584495435146374"
     },
     "user_tz": -330
    },
    "id": "ZtT91BFhepCv",
    "outputId": "b11d2f2d-930f-42d0-c9f1-30c17744ee1e"
   },
   "outputs": [
    {
     "data": {
      "application/vnd.google.colaboratory.intrinsic+json": {
       "type": "string"
      },
      "text/plain": [
       "'Fat Hen'"
      ]
     },
     "execution_count": 80,
     "metadata": {},
     "output_type": "execute_result"
    }
   ],
   "source": [
    "classes[5]"
   ]
  },
  {
   "cell_type": "code",
   "execution_count": 81,
   "metadata": {
    "colab": {
     "base_uri": "https://localhost:8080/"
    },
    "executionInfo": {
     "elapsed": 317,
     "status": "ok",
     "timestamp": 1650131362249,
     "user": {
      "displayName": "Sanjay Arakkan",
      "userId": "14929584495435146374"
     },
     "user_tz": -330
    },
    "id": "DFcFl2I-etIO",
    "outputId": "607c4044-89f3-4320-f5b0-c538c036104e"
   },
   "outputs": [
    {
     "data": {
      "text/plain": [
       "5"
      ]
     },
     "execution_count": 81,
     "metadata": {},
     "output_type": "execute_result"
    }
   ],
   "source": [
    "y_test[9:10].argmax()"
   ]
  }
 ],
 "metadata": {
  "accelerator": "GPU",
  "colab": {
   "authorship_tag": "ABX9TyPNXiGGs+xlX2VyddP9fe+a",
   "collapsed_sections": [],
   "mount_file_id": "1sLIKptKVCBMy9aXPx1WWbHU0hrv_vRtf",
   "name": "CNN Project.ipynb",
   "provenance": []
  },
  "kernelspec": {
   "display_name": "Python 3 (ipykernel)",
   "language": "python",
   "name": "python3"
  },
  "language_info": {
   "codemirror_mode": {
    "name": "ipython",
    "version": 3
   },
   "file_extension": ".py",
   "mimetype": "text/x-python",
   "name": "python",
   "nbconvert_exporter": "python",
   "pygments_lexer": "ipython3",
   "version": "3.7.13"
  }
 },
 "nbformat": 4,
 "nbformat_minor": 1
}
